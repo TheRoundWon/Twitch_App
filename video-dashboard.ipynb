{
 "cells": [
  {
   "cell_type": "code",
   "execution_count": 29,
   "metadata": {},
   "outputs": [
    {
     "ename": "ModuleNotFoundError",
     "evalue": "No module named 'matplotlib'",
     "output_type": "error",
     "traceback": [
      "\u001b[0;31m---------------------------------------------------------------------------\u001b[0m",
      "\u001b[0;31mModuleNotFoundError\u001b[0m                       Traceback (most recent call last)",
      "\u001b[1;32m/Users/abhirathchowdhury1/Programs/Twitch App/video-dashboard.ipynb Cell 1'\u001b[0m in \u001b[0;36m<cell line: 16>\u001b[0;34m()\u001b[0m\n\u001b[1;32m     <a href='vscode-notebook-cell:/Users/abhirathchowdhury1/Programs/Twitch%20App/video-dashboard.ipynb#ch0000000?line=13'>14</a>\u001b[0m \u001b[39mfrom\u001b[39;00m \u001b[39mgoogleapiclient\u001b[39;00m\u001b[39m.\u001b[39;00m\u001b[39mhttp\u001b[39;00m \u001b[39mimport\u001b[39;00m MediaFileUpload, MediaIoBaseDownload\n\u001b[1;32m     <a href='vscode-notebook-cell:/Users/abhirathchowdhury1/Programs/Twitch%20App/video-dashboard.ipynb#ch0000000?line=14'>15</a>\u001b[0m \u001b[39mfrom\u001b[39;00m \u001b[39mgoogle\u001b[39;00m\u001b[39m.\u001b[39;00m\u001b[39mauth\u001b[39;00m\u001b[39m.\u001b[39;00m\u001b[39mtransport\u001b[39;00m\u001b[39m.\u001b[39;00m\u001b[39mrequests\u001b[39;00m \u001b[39mimport\u001b[39;00m Request\n\u001b[0;32m---> <a href='vscode-notebook-cell:/Users/abhirathchowdhury1/Programs/Twitch%20App/video-dashboard.ipynb#ch0000000?line=15'>16</a>\u001b[0m \u001b[39mfrom\u001b[39;00m \u001b[39mDashboardFunctions\u001b[39;00m \u001b[39mimport\u001b[39;00m \u001b[39m*\u001b[39m\n\u001b[1;32m     <a href='vscode-notebook-cell:/Users/abhirathchowdhury1/Programs/Twitch%20App/video-dashboard.ipynb#ch0000000?line=16'>17</a>\u001b[0m \u001b[39mimport\u001b[39;00m \u001b[39mos\u001b[39;00m\n\u001b[1;32m     <a href='vscode-notebook-cell:/Users/abhirathchowdhury1/Programs/Twitch%20App/video-dashboard.ipynb#ch0000000?line=17'>18</a>\u001b[0m \u001b[39mfrom\u001b[39;00m \u001b[39mdotenv\u001b[39;00m \u001b[39mimport\u001b[39;00m load_dotenv\n",
      "File \u001b[0;32m~/Programs/Twitch App/DashboardFunctions.py:1\u001b[0m, in \u001b[0;36m<module>\u001b[0;34m\u001b[0m\n\u001b[0;32m----> <a href='file:///Users/abhirathchowdhury1/Programs/Twitch%20App/DashboardFunctions.py?line=0'>1</a>\u001b[0m \u001b[39mfrom\u001b[39;00m \u001b[39mDashboardInputs\u001b[39;00m \u001b[39mimport\u001b[39;00m \u001b[39m*\u001b[39m\n\u001b[1;32m      <a href='file:///Users/abhirathchowdhury1/Programs/Twitch%20App/DashboardFunctions.py?line=1'>2</a>\u001b[0m \u001b[39mdef\u001b[39;00m \u001b[39mrender_overview\u001b[39m():\n\u001b[1;32m      <a href='file:///Users/abhirathchowdhury1/Programs/Twitch%20App/DashboardFunctions.py?line=2'>3</a>\u001b[0m     data_seed \u001b[39m=\u001b[39m {}\n",
      "File \u001b[0;32m~/Programs/Twitch App/DashboardInputs.py:27\u001b[0m, in \u001b[0;36m<module>\u001b[0;34m\u001b[0m\n\u001b[1;32m     <a href='file:///Users/abhirathchowdhury1/Programs/Twitch%20App/DashboardInputs.py?line=24'>25</a>\u001b[0m \u001b[39mfrom\u001b[39;00m \u001b[39mtwitchAPI\u001b[39;00m\u001b[39m.\u001b[39;00m\u001b[39mtwitch\u001b[39;00m \u001b[39mimport\u001b[39;00m Twitch\n\u001b[1;32m     <a href='file:///Users/abhirathchowdhury1/Programs/Twitch%20App/DashboardInputs.py?line=25'>26</a>\u001b[0m \u001b[39mfrom\u001b[39;00m \u001b[39mcopy\u001b[39;00m \u001b[39mimport\u001b[39;00m copy, deepcopy\n\u001b[0;32m---> <a href='file:///Users/abhirathchowdhury1/Programs/Twitch%20App/DashboardInputs.py?line=26'>27</a>\u001b[0m \u001b[39mfrom\u001b[39;00m \u001b[39mmatplotlib\u001b[39;00m\u001b[39m.\u001b[39;00m\u001b[39mcolors\u001b[39;00m \u001b[39mimport\u001b[39;00m \u001b[39m*\u001b[39m\n\u001b[1;32m     <a href='file:///Users/abhirathchowdhury1/Programs/Twitch%20App/DashboardInputs.py?line=27'>28</a>\u001b[0m \u001b[39mimport\u001b[39;00m \u001b[39mrandom\u001b[39;00m\n\u001b[1;32m     <a href='file:///Users/abhirathchowdhury1/Programs/Twitch%20App/DashboardInputs.py?line=29'>30</a>\u001b[0m \u001b[39mfrom\u001b[39;00m \u001b[39mdash\u001b[39;00m \u001b[39mimport\u001b[39;00m Dash, dcc, html\n",
      "\u001b[0;31mModuleNotFoundError\u001b[0m: No module named 'matplotlib'"
     ]
    }
   ],
   "source": [
    "\n",
    "import argparse\n",
    "import http.client\n",
    "import httplib2\n",
    "import os\n",
    "import random\n",
    "import time\n",
    "import datetime\n",
    "from datetime import datetime, timedelta\n",
    "import google.oauth2.credentials\n",
    "import google_auth_oauthlib.flow\n",
    "from googleapiclient.discovery import build\n",
    "from googleapiclient.errors import HttpError\n",
    "from google_auth_oauthlib.flow import Flow, InstalledAppFlow\n",
    "from googleapiclient.http import MediaFileUpload, MediaIoBaseDownload\n",
    "from google.auth.transport.requests import Request\n",
    "from DashboardFunctions import *\n",
    "import os\n",
    "from dotenv import load_dotenv\n",
    "from sqlalchemy import *\n",
    "import datetime\n",
    "from Google import Create_Service\n",
    "import re\n",
    "from IPython.display import Image\n",
    "load_dotenv()\n",
    "from StreamMaster import *\n",
    "import pandas as pd\n",
    "import plotly.graph_objects as go\n",
    "from plotly.subplots import make_subplots\n",
    "import plotly.express as px\n",
    "from twitchAPI.twitch import Twitch\n",
    "from copy import copy, deepcopy\n",
    "from jupyter_dash import JupyterDash\n",
    "import dash\n",
    "from dash import dcc, Dash\n",
    "from dash import html\n",
    "from matplotlib.colors import *\n",
    "import random"
   ]
  },
  {
   "cell_type": "code",
   "execution_count": 69,
   "metadata": {},
   "outputs": [
    {
     "name": "stdout",
     "output_type": "stream",
     "text": [
      "[]\n"
     ]
    }
   ],
   "source": [
    "with Session(mysql_engine) as session:\n",
    "    # session.query(Clip_Tracker).where(Clip_Tracker.title.ilike('%Meow%pt%')).delete(synchronize_session='fetch')\n",
    "    print(session.query(Clip_Tracker).where(Clip_Tracker.title.ilike('%Meow%pt%')).all())\n",
    "    # session.commit()"
   ]
  },
  {
   "cell_type": "code",
   "execution_count": 34,
   "metadata": {},
   "outputs": [
    {
     "name": "stdout",
     "output_type": "stream",
     "text": [
      "[('Work smart and not hard?', False), ('Just in Time Revive', True), ('Speak sense soldier', False), ('This Thing has no Range!!', False), ('You blind!', False), ('How do you run?', False), ('SquareWon is a Multitasker', False), ('Who is controlling the Signs', False), ('Meow Full Gameplay pt2', False), ('How to survive the Sewers', False), ('Killing our nemesis (Harrow)', False), ('Just chaos', False), ('Mini Boss battle progress!', True), ('SquareWon takeover: dropping the racoon', True), ('phrasing', True), ('The next 4 don’t need chocolate', True), ('Set on fire', True), ('The Mortar is not a defense tool', True), ('Is she hiding?', True), ('The best weapons for Raze (star boss)', True), ('Always save the Princess', True), ('Remember to kill all the skulls when fighting Raze!', True), ('Fireball magic', True), ('Co-Op: We can do it', True), ('Tough boss', True), ('Why we love Remnant Survivor', True), ('I don’t wanna die', True), ('Elixir management', True), ('Did we win there?', True), ('The counter deck', True), ('Boss fight: Járn Fótr', True), ('Son I love you', True), ('Never drop your guard', True), ('Spam & spacing', True), ('I poop them', True), ('Moment of zen', True), ('Horizon camp raid', True), ('The Triangle intervenes', True), ('No evidence', True), ('That works fine too', True), ('Space units and baiting', True), ('Rice not cooking', True), (\"Why I am back on Demon's Souls\", True), ('You die', False), ('Garbage raspberries', True), ('Can we beat round 10?', False), ('SquareWon takeover: the lost goat', True), ('Sorry clash fans, Overcook pivot', True), ('She needs a jacket bro', True), ('Choosing our setups for Wrangler (the rolling guy)', True), ('You sold the blasting?!? Part 2', True), ('Prepare to be impressed!', True), ('Not the ideal outcome', True), ('If you hit x enough times', True), ('Damn x3', True), ('One-shotting our Teammates', True), ('Cheating', False), ('Good and bad', True), ('Give a guy a break', True), ('Good Boy is basically Hax', False), ('Legends play', False), ('Remember to Hotkey Oilskin Tonic for the World Boss: The Ent', True), ('Have fun', True), ('2nd boss and no potions', True), ('He needs to walk into traps!', True), ('That hurt', True), ('Beetle Find in Survivor', True), ('Boop boop boop', True), ('Oops', True), ('Behold my fury', True), ('SquareWon takeover: Magic', True), ('I want the pig', True), ('I mean...unimaginable skill', True), ('Now you know. Oh wait.', True), ('Sorry clash fans, Overcook pivot', True), ('A demonstration of quality teamwork', True), ('114', True), ('Tips on fighting Dream Eater (but we still failed)', True), ('Fukitty Fuk Fuk', True), (\"It's a Specter?!?\", True), ('Only in her dreams', True), ('Double e Golem counter, pointers welcome', True), ('Summon Cheesing the Storm Caller', True), ('Never underestimate', True), ('Special event !!!', True), ('Horizon boss fight?', True), ('I will teach it a lesson', True), ('Horizon camp raid', True), ('Oh, I just killed the horse', True), ('Death by fireball', True), ('Not a trained actor', True), ('Hello big man', True), ('How to override a Tallneck', True), ('We smashed it!……?', True), ('Just a little bit more', True), ('That was stupid', True), ('Caution! Corrosive waterfalls can kill!', True), ('I need to farm', True), ('Side quest shenanigans', True), ('I should get survivor', True), ('Apparently I was using Beam Rifle?', False), ('How we try to Learn and Improve', True), ('Hello...', True), ('No ammo', True), ('I’ll keep you in my RAM', False), ('Surprise success', True), ('Retribution', True), (\"Don't die\", True), ('I ruined your fancy pancy', True), ('Nightclub Gilets', False), ('How to do better', True), ('Last stand of the night (Round 7 it was!)', True), ('We all got problems', True), ('Surviving false advertising', True), ('And they said chivalry was dead?', True), ('It was fun while it lasted', True), ('I surprise myself sometimes', True), ('New plan', True), ('Co-Op: Wohoo', True), ('Light at the end of the tunnel', True), ('Not as planned', True), ('Piggy here we come', True), ('Endless supply of eggs', False), ('Optimism vs Realism (or Pessimism)?', True), ('No comprendo', True), ('TheSquareWon strikes again', True), ('10 seconds chip away', True), ('The worst', True), ('We all can spam', True), ('Same idea', True), ('I am technically the fixer', True), ('Useless Poison', True), ('Just unsafe', True), ('Gotta pay attention', True), ('Took forever to go', True), ('Predicting the Pekka', True), ('I am doing chicken!', True), ('The most disturbing scene in the game', True), ('Perhaps some day Triangle', True), ('Let me save!', True), ('No we cannot do this', True), ('If I lose this, it will be a disgrace', True), ('Aaand lightning', True), ('Less talking, more winning', True), ('Clash Royale Quick Stream', True), ('They call me The Navigator', True), ('Unwritten rules', True), ('Priorities', True), ('Clean victory', True), ('Demon souls first play through', True), ('Disastrous', True), ('It was a little cheese, but it worked?', True), ('back from break! can we get master?!', True), ('Game developers care about partners', True), ('Valor surge fail', True), ('Deck investment', True), ('Workbench expert', False), ('Need to finish before starting Elden Ring Quick stream: GoW', False), ('back from break! can we get master?!', False), ('Useless Pekka & Boom', False), ('We got this!', False), ('The most disturbing scene in the game', False), ('That poison is weak!', False), ('Boss fight: Hræzlyr', False), ('Horizon boss fight?', False), ('Contracting the teachings', False), ('Horizon boss fight?', False), ('Horizon boss fight?', False), ('back from break! can we get master?!', False), ('Atreus skills walkthrough', False), ('Boss fight: Svartáljǫfurr', False), ('Horizon boss fight?', False), ('Kratos is more the knowing type', False), (\"It's probably a trap...\", False), ('Misplaced hope', False), ('Got your tail', False), ('How to not use the Zappies', False), ('Simple f ups cost you the game', False), ('Cheers to competitive free upgrades', False), ('Horizon boss fight?', False), ('Poop Canisters', False), ('Losing the pan', False), ('Exhibiting rage', False), ('Evaluating our options', False), ('Wonderbar', False), ('Sacrifice for the win', False), ('Feel the desperation', False), ('Dumb move recovery', False), ('One bad move can lose the match', False), ('The waiting tactic', False), ('Defense strategy', False), ('Special event !!!', False), ('Pure luck', False), ('30 minutes with Triangle - can we get new challenger 3 today!?', False), ('Distracting the enemy', False), ('Horizon camp raid', False), ('Bull fight', False), ('Destroying the battle', False), ('Unless I miss on purpose', False), ('Go go go', False), ('Gotta pay attention', False), ('This is gonna hurt', False), ('Doing it for the stream', False), ('Good freezing', False), ('Die evil doers', False), ('Oi nooo', False), ('Thank you Grandma', False), ('Don’t panic', False), ('Clash Royale Evening, can we get to New Challenger 3?!', False), ('Waking up B-12', False), ('Got this!', False), ('back from break! can we get master?!', False), ('Getting used to the charging Vest', False), ('Meeting the Guardian', False), ('Before he Pekka’d me', False), ('Predicting the Pekka', False), ('Stealing rats', False), ('Feedback', False), ('Nope to the Red Crystal', False), ('I did not expect that', False), ('These casuals…', False), ('One last dish', False), ('Prince Healer Spam Fun', False), ('No solo survivor games', False), ('Disgraceful', False), ('Not perfect enough', False), ('Clash Royale Quick Stream', False), ('Strategising ', False), ('Dude is leaving my behind', False), ('We are so good', False), ('Writing on the wall', False), ('Spicy little Square person', False), ('Clash Royale Quick Stream', False), ('Quick stream: Overcooked before Remnant survivor', False), ('Clash Royale Quick Stream', False), ('Sorry clash fans, Overcook pivot', False), ('Clash Royale Quick Stream', False), ('Not an Oxen', False), ('Finding the first Code', False), ('Clash Royale Evening, can we get to New Challenger 3?!', False), ('No dog no faith', False), ('Parallels of the hunting Rifle, Shotgun, sniper Rifle and Coach gun', False), ('Wildfire Riphide', False), ('back from break! can we get master?!', False), ('Entering Super Spirit Laundromat', False), ('Follow the signs', False), ('Clash Royale Evening, can we get to New Challenger 3?!', False), ('Pretty Impressive level design', False), ('Passed into the afterlife', False), ('Way too graphic', False), ('some Clash?', False), ('Accidental Success', False), ('Dead City', False), ('Going going going', False), ('back from break! can we get master?!', False), ('PSA: watch out for the Mantis swarms and corrosion waterfalls!', False), ('Clash Royale Evening, can we get to New Challenger 3?!', False), ('How to die', False), ('Fixing the Tracker with Elliot', False), ('On a Mission', False), ('A little revivalist never hurts', False), ('Finding Doc’s Notebook', False), ('Log action', False), ('Finding Blazer', False), ('Futuristic Gilets', False), ('Fireball magic', False), ('Horizon mystery mission?!', False), ('More Remnant survivor with the A Team', False), ('Took that loss for the Team', False), ('Honeycomb!', False), ('Meow Full Gameplay pt1', False), ('Lost dish', False), ('Clash Royale Quick Stream', False), ('And the downsides of Good Boy', False), ('Breaking the mood', False), ('Clash With Triangle', False), ('Clash With Triangle', False), ('Hurray for Zappies ', False), ('Simple Code', False), ('Legends play', False), ('Meow Full Gameplay pt1', False), ('Slowly murdered Chicken', False), ('Little mistake', False), ('Need to finish before starting Elden Ring Quick stream: GoW', False), ('Tactics, all about tactics!', False), ('So close yet so far', False), ('Not bad', False), ('Strange Drink talk', False), ('The irony of the Game', False), ('Clash Royale Evening, can we get to New Challenger 3?!', False), ('She’s got edges', False), ('Tough cat', False)]\n"
     ]
    }
   ],
   "source": [
    "with Session(mysql_engine) as session:\n",
    "        print(session.query(Clip_Tracker.title, Clip_Tracker.mobiles_videos_processed).where(Clip_Tracker.published == None).order_by(Clip_Tracker.view_count.desc()).all())"
   ]
  },
  {
   "cell_type": "code",
   "execution_count": null,
   "metadata": {},
   "outputs": [],
   "source": [
    "with Session(mysql_engine) as session:\n",
    "    # session.execute(delete(Clip_Tracker ).where(Clip_Tracker.title.ilike('%RoundWon rating%')), execution_options={\"synchronize_session\": 'fetch'})\n",
    "    # print(session.query(Clip_Tracker).where(Clip_Tracker.title.ilike('%RoundWon rating%')).all())\n",
    "    print(session.query(Game_Meta.game_name).where(Game_Meta.game_name.ilike(\"%Call of %\")).all())\n",
    "    # session.commit()"
   ]
  },
  {
   "cell_type": "code",
   "execution_count": null,
   "metadata": {},
   "outputs": [],
   "source": [
    "mysql_engine = create_engine(f\"mysql+mysqlconnector://{os.environ['USER_NAME']}:{os.environ['PASSWORD']}@{os.environ['PI']}/{os.environ['MAIN_DB']}\" )\n",
    "\n",
    "\n",
    "clips_folder = os.environ['CLIPS_FOLDER']\n",
    "mobile_folder = os.environ['MOBILE_FOLDER']\n",
    "fullscreen_folder = os.environ['FULLSCREEN_FOLDER']\n",
    "ml_folder = os.environ['ML_FOLDER']\n",
    "assets = os.environ['ASSETS']\n",
    "\n",
    "CLIENT_SECRET_FILE = 'client_secrets.json'\n",
    "# YT_SECRET_FILE = 'client_secrets_yt.json'\n",
    "API_NAME = 'youtube'\n",
    "API_VERSION = 'v3'\n",
    "# recommend pulling as much access as possible since the Create_Service function will create a pickle token of your authentication allow single authentication for extended period.\n",
    "SCOPES = [\"https://www.googleapis.com/auth/youtube.upload\", 'https://www.googleapis.com/auth/youtube']\n",
    "\n",
    "# Code that initiates connection to the Google API - pulled from Google.py. Difference from using Google's built-in service is the following script creates convenience of storing pickle with necessary authentication\n",
    "service = Create_Service(CLIENT_SECRET_FILE, API_NAME, API_VERSION, SCOPES)"
   ]
  },
  {
   "cell_type": "code",
   "execution_count": null,
   "metadata": {},
   "outputs": [],
   "source": [
    "os.environ['OAUTHLIB_INSECURE_TRANSPORT'] = '1'"
   ]
  },
  {
   "cell_type": "code",
   "execution_count": null,
   "metadata": {},
   "outputs": [],
   "source": [
    "twitch = Twitch(os.environ['TWITCH_APP_ID'], os.environ['TWITCH_APP_SECRET'])"
   ]
  },
  {
   "cell_type": "code",
   "execution_count": null,
   "metadata": {},
   "outputs": [],
   "source": [
    "color_sample = px.colors.sequential.YlOrBr + px.colors.sequential.ice\n",
    "random.seed(333)\n",
    "random.shuffle(color_sample)\n",
    "game_colors = {}\n",
    "games = {}\n",
    "cnt = 0\n",
    "with Session(mysql_engine) as session:\n",
    "    for game_id, game_name in session.query(Game_Meta.game_id,func.max(Game_Meta.game_name)).select_from(join(Game_Meta,Clip_Tracker)).group_by(Game_Meta.game_id).all():\n",
    "        games[game_id] = game_name \n",
    "        game_colors[game_name] = color_sample[cnt]\n",
    "        cnt += 1"
   ]
  },
  {
   "cell_type": "code",
   "execution_count": null,
   "metadata": {},
   "outputs": [],
   "source": [
    "color_sample = px.colors.sequential.Viridis\n",
    "\n",
    "with Session(mysql_engine) as session:\n",
    "    creators = {creator[0]: color_sample[i] for i, creator in enumerate(session.query(distinct(Clip_Tracker.creator_name)).all())}"
   ]
  },
  {
   "cell_type": "code",
   "execution_count": null,
   "metadata": {},
   "outputs": [],
   "source": [
    "# Build sa visual for un-published clips\n",
    "data_seed = {}\n",
    "with Session(mysql_engine) as session:\n",
    "    # for url in session.query(Clip_Tracker.url).where(Clip_Tracker.published == None).order_by(Clip_Tracker.view_count.desc()).all()[:2]:\n",
    "    for title, game_name, created_date, view_count in session.query(Clip_Tracker.title,Game_Meta.game_name, Clip_Tracker.created_at,  Clip_Tracker.view_count).select_from(join(Clip_Tracker, Game_Meta)).where(Clip_Tracker.published == None).order_by(Clip_Tracker.view_count.desc()).all():\n",
    "        if bool(data_seed.get(game_name)):\n",
    "            try:\n",
    "                data_seed[game_name]['x'].append(date(created_date.year, created_date.month, created_date.day))\n",
    "                data_seed[game_name]['y'].append(view_count)\n",
    "                data_seed[game_name]['text'].append(title)\n",
    "            except:\n",
    "                data_seed[game_name]['x'] = [created_date]\n",
    "                data_seed[game_name]['y'] = [view_count]\n",
    "                data_seed[game_name]['color'] = game_colors[game_name]\n",
    "        else:\n",
    "            data_seed[game_name] = {'x': [], 'y': [], 'text': [] }\n",
    "            data_seed[game_name]['x'].append(date(created_date.year, created_date.month, created_date.day))\n",
    "            data_seed[game_name]['y'].append(view_count)\n",
    "            data_seed[game_name]['text'].append(title)\n",
    "            data_seed[game_name]['color'] = game_colors[game_name]\n",
    "    # print(session.query(distinct(Clip_Tracker.game_id), Game_Meta.game_name).select_from(join(Clip_Tracker, Game_Meta)).where(Clip_Tracker.published == None).order_by(Clip_Tracker.view_count.desc()).all())\n",
    "        # print(url[0])\n",
    "\n",
    "data = []\n",
    "for key, value in data_seed.items():\n",
    "    data.append(go.Bar(x=value['x'], y = value['y'], text = value['text'], name=key, marker={'color': value['color']}))\n",
    "go.Figure(data, go.Layout(barmode='stack', title={'text': \"Performance of Unpublished Clips\"}))"
   ]
  },
  {
   "cell_type": "code",
   "execution_count": null,
   "metadata": {},
   "outputs": [],
   "source": [
    "# Build sa visual for Published clips\n",
    "data_seed = {}\n",
    "with Session(mysql_engine) as session:\n",
    "    # for url in session.query(Clip_Tracker.url).where(Clip_Tracker.published == None).order_by(Clip_Tracker.view_count.desc()).all()[:2]:\n",
    "    for title, game_name, created_date, view_count in session.query(Clip_Tracker.title,Game_Meta.game_name, Clip_Tracker.created_at,  Clip_Tracker.view_count).select_from(join(Clip_Tracker, Game_Meta)).where(Clip_Tracker.published != None).order_by(Clip_Tracker.view_count.desc()).all():\n",
    "        if bool(data_seed.get(game_name)):\n",
    "            try:\n",
    "                data_seed[game_name]['x'].append(date(created_date.year, created_date.month, created_date.day))\n",
    "                data_seed[game_name]['y'].append(view_count)\n",
    "                data_seed[game_name]['text'].append(title)\n",
    "            except:\n",
    "                data_seed[game_name]['x'] = [created_date]\n",
    "                data_seed[game_name]['y'] = [view_count]\n",
    "        else:\n",
    "            data_seed[game_name] = {'x': [], 'y': [], 'text': []}\n",
    "            data_seed[game_name]['x'].append(date(created_date.year, created_date.month, created_date.day))\n",
    "            data_seed[game_name]['y'].append(view_count)\n",
    "            data_seed[game_name]['text'].append(title)\n",
    "            data_seed[game_name]['color'] = game_colors[game_name]\n",
    "\n",
    "data = []\n",
    "for key, value in data_seed.items():\n",
    "    data.append(go.Bar(x=value['x'], y = value['y'], text = value['text'], name=key,  marker={'color': value['color']}))\n",
    "go.Figure(data, go.Layout(barmode='stack', title={'text': \"Performance of Published Clips\"}))\n",
    "    # print(session.query(distinct(Clip_Tracker.game_id), Game_Meta.game_name).select_from(join(Clip_Tracker, Game_Meta)).where(Clip_Tracker.published == None).order_by(Clip_Tracker.view_count.desc()).all())\n",
    "        # print(url[0])\n",
    "\n"
   ]
  },
  {
   "cell_type": "code",
   "execution_count": null,
   "metadata": {},
   "outputs": [],
   "source": [
    "# Build sa visual for un-published clips\n",
    "data_seed = {}\n",
    "category_mapper = {'m': \"Mobile Only\", 'f': \"Fully Published\", \"d\": 'Desktop Only'}\n",
    "with Session(mysql_engine) as session:\n",
    "    # for url in session.query(Clip_Tracker.url).where(Clip_Tracker.published == None).order_by(Clip_Tracker.view_count.desc()).all()[:2]:\n",
    "    for title, game_name, view_count, publishing_status, created_date in session.query(Clip_Tracker.title,Game_Meta.game_name, Clip_Tracker.view_count, Clip_Tracker.published, Clip_Tracker.created_at).select_from(join(Clip_Tracker, Game_Meta)).order_by(Clip_Tracker.view_count.desc()).all():\n",
    "        if isinstance(publishing_status, PublishingStatus):\n",
    "            publshing_status_name = category_mapper[publishing_status.name]\n",
    "        else:\n",
    "            if publishing_status != None:\n",
    "                print(publishing_status)\n",
    "            publshing_status_name = \"Not Published\"\n",
    "        if bool(data_seed.get(publshing_status_name)):\n",
    "            data_seed[publshing_status_name]['y'].append(game_name)\n",
    "            data_seed[publshing_status_name]['x'].append(view_count)\n",
    "            data_seed[publshing_status_name]['text'].append(title)\n",
    "        else:\n",
    "            data_seed[publshing_status_name] = {'x': [], 'y': [], 'text': []}\n",
    "            data_seed[publshing_status_name]['x'].append(view_count)\n",
    "            data_seed[publshing_status_name]['y'].append(game_name)\n",
    "            data_seed[publshing_status_name]['text'].append(title)\n",
    "\n",
    "\n",
    "    # print(session.query(distinct(Clip_Tracker.game_id), Game_Meta.game_name).select_from(join(Clip_Tracker, Game_Meta)).where(Clip_Tracker.published == None).order_by(Clip_Tracker.view_count.desc()).all())\n",
    "        # print(url[0])\n",
    "\n",
    "data = []\n",
    "\n",
    "odered_list = ['Fully Published', \"Mobile Only\", 'Desktop Only', \"Not Published\"]\n",
    "# for key, value in data_seed.items():\n",
    "for key in odered_list:\n",
    "    category_name = key\n",
    "    data.append(go.Bar(x=data_seed[key]['x'], y = data_seed[key]['y'], text = data_seed[key]['text'], name= category_name, orientation='h'))\n",
    "go.Figure(data, go.Layout(barmode='stack', title={'text': \"Performance By Game and Publishing Status\"}, xaxis = {'title': {'text': \"View Count\"}},yaxis={'categoryorder': 'total ascending', 'title': {'text': 'Game Title'}}))"
   ]
  },
  {
   "cell_type": "code",
   "execution_count": null,
   "metadata": {},
   "outputs": [],
   "source": [
    "data = []\n",
    "\n",
    "fig = make_subplots(rows=1, cols = 4, subplot_titles = (\"Average Views per Clip\", \"Max Views for Clip\", \"Total Views of Clips\", \"Number of Clips\"), shared_yaxes=True)\n",
    "with Session(mysql_engine) as session:\n",
    "    # for title, game_name, view_count, publishing_status in session.query(Clip_Tracker.title,Game_Meta.game_name, Clip_Tracker.view_count, Clip_Tracker.published).select_from(join(Clip_Tracker, Game_Meta)).order_by(Clip_Tracker.view_count.desc()).all():\n",
    "    cnt = 0\n",
    "    for game_name, avg_cnt, max_cnt, sum_cnt, video_cnt in session.query(Game_Meta.game_name, func.avg(Clip_Tracker.view_count), func.max(Clip_Tracker.view_count), func.sum(Clip_Tracker.view_count), func.count(Clip_Tracker.title)).select_from(join(Game_Meta, Clip_Tracker)).group_by(Clip_Tracker.game_id).order_by(func.sum(Clip_Tracker.view_count).desc()).all():\n",
    "        fig.add_trace(go.Bar(x=[avg_cnt], y = [game_name], orientation='h', showlegend=False, marker= dict(color = [game_colors[game_name]], coloraxis='coloraxis')),row=1, col=1)\n",
    "        fig.add_trace(go.Bar(x=[max_cnt], y = [game_name], orientation='h', showlegend=False, marker= dict(color = [game_colors[game_name]], coloraxis='coloraxis')),row = 1, col=2)\n",
    "        fig.add_trace(go.Bar(x=[sum_cnt], y = [game_name], orientation='h', showlegend=False, marker= dict(color = [game_colors[game_name]], coloraxis='coloraxis')), row = 1, col=3)\n",
    "        fig.add_trace(go.Bar(x=[video_cnt], y = [game_name], orientation='h', showlegend=False, marker= dict(color = [game_colors[game_name]], coloraxis='coloraxis')), row=1,  col=4)\n",
    "        # # data.append(go.Bar(x=[avg_cnt], y = [game_name]))\n",
    "        cnt +=1\n",
    "fig.update_yaxes(type='category')\n",
    "fig.update_layout(barmode='group', yaxis={'categoryorder': 'category descending'}, title={'text': \"Breaking each game by different statistics\"})\n",
    "fig.show()\n",
    "        "
   ]
  },
  {
   "cell_type": "code",
   "execution_count": null,
   "metadata": {},
   "outputs": [],
   "source": [
    "playlists = service.playlists().list(part='id,snippet,status', channelId=os.environ['YT_CHANNEL_ID']).execute()\n",
    "nextPage = playlists['nextPageToken']\n",
    "while nextPage != None:\n",
    "    seedPlaylist = service.playlists().list(part='id,snippet,status', channelId=os.environ['YT_CHANNEL_ID'], pageToken = nextPage).execute()\n",
    "    playlists['items'] = playlists['items'] + seedPlaylist['items']\n",
    "    if bool(seedPlaylist.get('nextPageToken')):\n",
    "        nextPage = seedPlaylist['nextPageToken']\n",
    "    else:\n",
    "        nextPage = None"
   ]
  },
  {
   "cell_type": "code",
   "execution_count": 19,
   "metadata": {},
   "outputs": [
    {
     "name": "stdout",
     "output_type": "stream",
     "text": [
      "client_secrets_desktop.json-youtubeAnalytics-v2-(['https://www.googleapis.com/auth/yt-analytics.readonly'],)\n",
      "['https://www.googleapis.com/auth/yt-analytics.readonly']\n",
      "youtubeAnalytics service created successfully\n"
     ]
    }
   ],
   "source": [
    "SCOPES = ['https://www.googleapis.com/auth/yt-analytics.readonly']\n",
    "\n",
    "API_SERVICE_NAME = 'youtubeAnalytics'\n",
    "API_VERSION = 'v2'\n",
    "CLIENT_SECRETS_FILE = 'client_secrets_desktop.json'\n",
    "\n",
    "def get_service():\n",
    "    flow = InstalledAppFlow.from_client_secrets_file(CLIENT_SECRETS_FILE, SCOPES)\n",
    "    credentials = flow.run_console()\n",
    "    return build(API_SERVICE_NAME, API_VERSION, credentials = credentials)\n",
    "\n",
    "\n",
    "def execute_api_request(client_library_function, **kwargs):\n",
    "  response = client_library_function(\n",
    "    **kwargs\n",
    "  ).execute()\n",
    "\n",
    "  return response\n",
    "youtubeAnalytics = Create_Service(CLIENT_SECRETS_FILE, API_SERVICE_NAME, API_VERSION, SCOPES)\n",
    "# if __name__ == '__main__':\n",
    "#   # Disable OAuthlib's HTTPs verification when running locally.\n",
    "#   # *DO NOT* leave this option enabled when running in production.\n",
    "#   os.environ['OAUTHLIB_INSECURE_TRANSPORT'] = '1'\n",
    "\n",
    "# youtubeAnalytics = get_service()"
   ]
  },
  {
   "cell_type": "code",
   "execution_count": 21,
   "metadata": {},
   "outputs": [
    {
     "data": {
      "text/plain": [
       "{'kind': 'youtubeAnalytics#resultTable',\n",
       " 'columnHeaders': [{'name': 'video',\n",
       "   'columnType': 'DIMENSION',\n",
       "   'dataType': 'STRING'},\n",
       "  {'name': 'estimatedMinutesWatched',\n",
       "   'columnType': 'METRIC',\n",
       "   'dataType': 'INTEGER'},\n",
       "  {'name': 'views', 'columnType': 'METRIC', 'dataType': 'INTEGER'},\n",
       "  {'name': 'likes', 'columnType': 'METRIC', 'dataType': 'INTEGER'},\n",
       "  {'name': 'dislikes', 'columnType': 'METRIC', 'dataType': 'INTEGER'},\n",
       "  {'name': 'subscribersGained', 'columnType': 'METRIC', 'dataType': 'INTEGER'},\n",
       "  {'name': 'subscribersLost', 'columnType': 'METRIC', 'dataType': 'INTEGER'}],\n",
       " 'rows': [['f0E8gLxw-II', 306, 511, 6, 1, 0, 0],\n",
       "  ['fuIgHicjm0k', 233, 871, 34, 2, 3, 0],\n",
       "  ['1dSor9KrL34', 229, 927, 8, 2, 0, 0],\n",
       "  ['hFgJfliPTpA', 175, 596, 17, -1, 0, 0],\n",
       "  ['NFDigvjBh2A', 165, 782, 16, 5, 0, 0],\n",
       "  ['Q9ipoByqDHk', 137, 474, 12, 3, 4, 0],\n",
       "  ['zhHWS92VrYY', 124, 260, 9, 1, 0, 0],\n",
       "  ['xKtv8kaYyXI', 74, 331, 9, 1, 0, 0],\n",
       "  ['FvT6puEvVKw', 73, 222, 1, 0, 0, 0],\n",
       "  ['6ZcTqh_6TLk', 62, 250, 3, 2, 0, 0],\n",
       "  ['t9ATj-GOmlE', 51, 231, 3, 1, 1, 0],\n",
       "  ['GoalsdzIu4I', 51, 206, 6, 0, 0, 0],\n",
       "  ['yZZzufr9DzM', 48, 152, 6, 3, 0, 0],\n",
       "  ['cp-QP9TEOQo', 36, 155, 3, 0, 0, 0],\n",
       "  ['SuqHL-plWJI', 35, 84, 2, 0, 0, 0],\n",
       "  ['NDgBaV-oLYg', 35, 88, 2, 0, 0, 0],\n",
       "  ['tayFrCRcLWs', 35, 151, 2, 1, 0, 0],\n",
       "  ['wIl1UMjjTKY', 32, 64, 0, 0, 0, 0],\n",
       "  ['ETGa0_QRhdk', 25, 93, 0, 0, 0, 0],\n",
       "  ['ZNWBm-rVMuA', 25, 93, 3, 0, 0, 0],\n",
       "  ['czXTKQx4YNg', 23, 48, 0, 0, 0, 0],\n",
       "  ['b6ppHfA0bbg', 21, 52, 1, 0, 0, 0],\n",
       "  ['wYXqGOskv4o', 21, 111, 2, 0, 0, 0],\n",
       "  ['TXeqSVdF0bU', 20, 65, 4, 0, 0, 0],\n",
       "  ['cPpUvvstXl0', 20, 95, 4, 1, 0, 0],\n",
       "  ['HdXbbc9_Pm8', 18, 82, 3, 0, 0, 0],\n",
       "  ['x1LqF9Kcgi8', 17, 99, 4, 1, 1, 0],\n",
       "  ['AUL83jm-iM0', 16, 90, 0, 2, 0, 0],\n",
       "  ['j-msaCMBNOk', 16, 83, 2, 1, 0, 0],\n",
       "  ['fuUuUHOxabg', 15, 55, 0, 0, 0, 0],\n",
       "  ['tGtZEQ_FcSE', 14, 37, 1, 0, 0, 0],\n",
       "  ['tMXWFgmXpsI', 14, 24, 0, 0, 0, 0],\n",
       "  ['its2_YT_aNY', 14, 31, 0, 0, 0, 0],\n",
       "  ['0-LTNMa0iNA', 13, 77, 3, 1, 0, 0],\n",
       "  ['oFVlX2LceIw', 10, 63, 3, 1, 0, 0],\n",
       "  ['vxq6Y9F88dY', 10, 40, 1, 0, 0, 0],\n",
       "  ['J94JNxnN1Ic', 9, 48, 2, 0, 0, 0],\n",
       "  ['CHrjflVZydE', 9, 47, 0, 0, 0, 0],\n",
       "  ['TkUuBAmV0z0', 9, 27, 1, 0, 0, 0],\n",
       "  ['RWKu5YqErLA', 9, 44, 0, 1, 0, 0],\n",
       "  ['1azgu7cftWs', 8, 31, 2, 0, 0, 0],\n",
       "  ['A3IPKxpQ0rg', 6, 17, 0, 0, 0, 0],\n",
       "  ['Us3KSnvAeDg', 6, 25, 2, 0, 0, 0],\n",
       "  ['HArfSIvYDH8', 6, 27, 0, 0, 0, 0],\n",
       "  ['0OeKagNWGiY', 6, 30, 0, 0, 0, 0],\n",
       "  ['sZah0v155W0', 5, 23, 2, 0, 0, 0],\n",
       "  ['4DwmuuOMsL4', 5, 9, 0, 0, 0, 0],\n",
       "  ['iTh1R1kZhOA', 5, 11, 0, 0, 0, 0],\n",
       "  ['F9ggILWeed8', 5, 16, 0, 0, 0, 0],\n",
       "  ['PX2w5v4sFok', 5, 10, 0, 0, 0, 0],\n",
       "  ['3KDKIVjj-7Q', 4, 21, 2, 0, 1, 0],\n",
       "  ['Mci805nPzSU', 4, 10, 0, 0, 0, 0],\n",
       "  ['aytSkilvGIw', 4, 25, -1, 0, 0, 0],\n",
       "  ['ri4IFf5Ftx0', 4, 7, 0, 0, 0, 0],\n",
       "  ['cb-qkCtBO24', 4, 11, 0, 0, 0, 0],\n",
       "  ['c8JbBzjG__s', 4, 15, 3, 0, 1, 0],\n",
       "  ['ycX8ps5Fuds', 4, 8, 1, 0, 0, 0],\n",
       "  ['Ene3KibtrVo', 3, 20, 1, 0, 0, 0],\n",
       "  ['GqlU2JNWtWI', 3, 10, 0, 0, 0, 0],\n",
       "  ['7jSzA6fo1YE', 3, 5, 0, 0, 0, 0],\n",
       "  ['Xn9Ho7uncho', 3, 5, 0, 0, 0, 0],\n",
       "  ['fu4JKw_ACtI', 2, 8, 0, 0, 0, 0],\n",
       "  ['1nTBRSRFWk4', 2, 10, 0, 0, 0, 0],\n",
       "  ['f8VN7cpVp18', 2, 3, 0, 0, 0, 0],\n",
       "  ['VPFqyvdZ67I', 2, 3, 0, 0, 0, 0],\n",
       "  ['5mFujIWhKg4', 2, 9, 0, 0, 0, 0],\n",
       "  ['IitYwLvBAXs', 2, 6, 0, 0, 0, 0],\n",
       "  ['N90dFFaf1as', 2, 18, 2, 0, 0, 0],\n",
       "  ['vChBkDRq3Yw', 2, 8, 0, 1, 0, 0],\n",
       "  ['SWSMDms9eR0', 2, 7, 0, 0, 0, 0],\n",
       "  ['87KugyYlCkE', 2, 6, 0, 0, 0, 0],\n",
       "  ['F8-Lh-73yrU', 2, 5, 0, 0, 0, 0],\n",
       "  ['XybYQ-DeQWg', 2, 13, 0, 0, 0, 0],\n",
       "  ['b6wR4L6mPU0', 2, 6, 0, 0, 0, 0],\n",
       "  ['wvah9pbFVuU', 2, 8, 0, 0, 0, 0],\n",
       "  ['LItg-TUUJoo', 2, 4, 0, 0, 0, 0],\n",
       "  ['3ogUiEW2FyQ', 2, 6, 0, 0, 0, 0],\n",
       "  ['kuU-aJ0keQc', 2, 2, 0, 0, 0, 0],\n",
       "  ['eLGqT7NycQs', 2, 5, 0, 0, 0, 0],\n",
       "  ['NtE-DhEw0b0', 1, 4, 0, 0, 0, 0],\n",
       "  ['HFzB1NjWbGI', 1, 4, 0, 0, 0, 0],\n",
       "  ['kznP6MMWLtM', 1, 7, 0, 0, 0, 0],\n",
       "  ['EbE9sPpUI3U', 1, 6, 0, 0, 0, 0],\n",
       "  ['SGItGM-YB-U', 1, 3, 0, 0, 0, 0],\n",
       "  ['x9l4ZwO3eYg', 1, 5, 0, 0, 0, 0],\n",
       "  ['ZjV4Kpc7x5Q', 1, 2, 0, 0, 0, 0],\n",
       "  ['cnPvTuUuRzQ', 1, 3, 0, 0, 0, 0],\n",
       "  ['WgdEuwKqscU', 1, 8, 0, 0, 0, 0],\n",
       "  ['PLmTYN4q_uw', 1, 5, 0, 0, 0, 0],\n",
       "  ['7wLUdjVVfes', 1, 10, 0, 0, 0, 0],\n",
       "  ['I1Q6dmkACpE', 1, 4, 0, 0, 0, 0],\n",
       "  ['VpIRW-eiBrQ', 1, 5, 0, 0, 0, 0],\n",
       "  ['kAODPya1ZbE', 1, 3, 0, 0, 0, 0],\n",
       "  ['ifJvYv1fNJs', 1, 2, 0, 0, 0, 0],\n",
       "  ['wQL-xGaeFMA', 1, 5, 0, 0, 0, 0],\n",
       "  ['uKTQhu3E4PY', 1, 6, 0, 0, 0, 0],\n",
       "  ['SU-b2F8rSfQ', 1, 2, 0, 0, 0, 0],\n",
       "  ['np79opSQ4mo', 1, 4, 0, 0, 0, 0],\n",
       "  ['giUFF6fYIhY', 1, 7, 0, 0, 0, 0],\n",
       "  ['CR45FzIjzR0', 1, 3, 0, 0, 0, 0],\n",
       "  ['yEwc5DsIOoI', 1, 6, 0, 0, 0, 0],\n",
       "  ['Z5KR99Pclsw', 1, 1, 0, 0, 0, 0],\n",
       "  ['BjgS7TNSKBM', 1, 1, 0, 0, 0, 0],\n",
       "  ['nYnza9lRX-0', 0, 1, 0, 0, 0, 0],\n",
       "  ['6NA11rUPx8M', 0, 3, 0, 0, 0, 0],\n",
       "  ['acq3gRP4RLg', 0, 6, 0, 0, 0, 0],\n",
       "  ['dLukdrDraKM', 0, 2, 0, 0, 0, 0],\n",
       "  ['uvl-NHMWFAY', 0, 1, 0, 0, 0, 0],\n",
       "  ['egfjSh7MfH4', 0, 1, 0, 0, 0, 0],\n",
       "  ['G8oVJL6wz7k', 0, 4, 0, 0, 0, 0],\n",
       "  ['8fs-GUySSts', 0, 1, 0, 0, 0, 0],\n",
       "  ['fFLk8tEJE5Y', 0, 6, 0, 0, 0, 0],\n",
       "  ['ajtmZ2drKJM', 0, 3, 0, 0, 0, 0],\n",
       "  ['z0AQK_nUuic', 0, 1, 0, 0, 0, 0],\n",
       "  ['Ewcuq0WJqiE', 0, 4, 0, 0, 0, 0],\n",
       "  ['rLWPFBiTwd8', 0, 1, 0, 0, 0, 0],\n",
       "  ['4owtbEze5L0', 0, 1, 0, 0, 0, 0],\n",
       "  ['hJLnZJ4TPPM', 0, 1, 0, 0, 0, 0],\n",
       "  ['lEQQh53WYwE', 0, 3, 0, 0, 0, 0],\n",
       "  ['NlGDDQWTqs4', 0, 1, 0, 0, 0, 0],\n",
       "  ['ZcFn-oInvdI', 0, 1, 0, 0, 0, 0],\n",
       "  ['AcEOh-az9lk', 0, 2, 0, 0, 0, 0],\n",
       "  ['EJEn9KmOzcw', 0, 1, 0, 0, 0, 0],\n",
       "  ['kFfPV49l1oc', 0, 2, 0, 0, 0, 0],\n",
       "  ['49WSCEmA7X4', 0, 1, 0, 0, 0, 0],\n",
       "  ['cXdbITNtwPw', 0, 2, 0, 0, 0, 0],\n",
       "  ['V1FdmoOpP3Q', 0, 1, 0, 0, 0, 0],\n",
       "  ['Yl5SwAfvqwU', 0, 1, 0, 0, 0, 0],\n",
       "  ['yAjOlVmOEnc', 0, 0, 0, 0, 0, 0]]}"
      ]
     },
     "execution_count": 21,
     "metadata": {},
     "output_type": "execute_result"
    }
   ],
   "source": [
    "video_metrics"
   ]
  },
  {
   "cell_type": "code",
   "execution_count": 20,
   "metadata": {},
   "outputs": [],
   "source": [
    "video_metrics = execute_api_request(\n",
    "      youtubeAnalytics.reports().query,\n",
    "      ids='channel==MINE',\n",
    "      startDate='2022-03-01',\n",
    "      endDate='2022-07-12',\n",
    "      maxResults = 140,\n",
    "      metrics='estimatedMinutesWatched,views,likes,dislikes,subscribersGained,subscribersLost',\n",
    "      dimensions='video',\n",
    "      sort='-estimatedMinutesWatched'\n",
    "  )"
   ]
  },
  {
   "cell_type": "code",
   "execution_count": null,
   "metadata": {},
   "outputs": [],
   "source": [
    "video_seed = {'video_id': [], 'style': [],'game_name': [], 'title': [], 'creator': [], 'view_count': []}\n",
    "with Session(mysql_engine) as session:\n",
    "    for video_id, style, game_name,  title, creator,  view_count in session.query(Video_yt.id, Video_yt.style, Game_Meta.game_name, Clip_Tracker.title, Clip_Tracker.creator_name, Clip_Tracker.view_count ).select_from(join(join(Clip_Tracker, Game_Meta), Video_yt)).where(Clip_Tracker.published != None).all():\n",
    "        video_seed['video_id'].append(video_id)\n",
    "        video_seed['style'].append(style.name)\n",
    "        video_seed['game_name'].append(game_name)\n",
    "        video_seed['title'].append(title)\n",
    "        video_seed['creator'].append(creator)\n",
    "        video_seed['view_count'].append(view_count)\n"
   ]
  },
  {
   "cell_type": "code",
   "execution_count": null,
   "metadata": {},
   "outputs": [],
   "source": [
    "clip_metrics_df = pd.DataFrame(video_metrics['rows'], columns=['video_id', 'estimatedMinutesWatched', 'views', 'likes', 'dislikes', 'subscribersGained', 'subscribersLost']).set_index('video_id').join(pd.DataFrame(video_seed).set_index('video_id'))"
   ]
  },
  {
   "cell_type": "code",
   "execution_count": 23,
   "metadata": {},
   "outputs": [
    {
     "data": {
      "text/plain": [
       "'2022-07-27'"
      ]
     },
     "execution_count": 23,
     "metadata": {},
     "output_type": "execute_result"
    }
   ],
   "source": []
  },
  {
   "cell_type": "code",
   "execution_count": 48,
   "metadata": {},
   "outputs": [],
   "source": [
    "video_metrics = execute_api_request(\n",
    "        youtubeAnalytics.reports().query,\n",
    "        ids='channel==MINE',\n",
    "        startDate='2022-04-01',\n",
    "        endDate='2022-07-27',\n",
    "        maxResults = 140,\n",
    "        metrics='estimatedMinutesWatched,views,likes,dislikes,subscribersGained,subscribersLost',\n",
    "        dimensions='video',\n",
    "        sort='-estimatedMinutesWatched'\n",
    "    )\n",
    "\n",
    "video_seed = {'video_id': [], 'style': [],'game_name': [], 'title': [], 'creator': [], 'view_count': []}\n",
    "with Session(mysql_engine) as session:\n",
    "    for video_id, style, game_name,  title, creator,  view_count in session.query(Video_yt.id, Video_yt.style, Game_Meta.game_name, Clip_Tracker.title, Clip_Tracker.creator_name, Clip_Tracker.view_count ).select_from(join(join(Clip_Tracker, Game_Meta), Video_yt)).where(Clip_Tracker.published != None).all():\n",
    "        video_seed['video_id'].append(video_id)\n",
    "        video_seed['style'].append(style.name)\n",
    "        video_seed['game_name'].append(game_name)\n",
    "        video_seed['title'].append(title)\n",
    "        video_seed['creator'].append(creator)\n",
    "        video_seed['view_count'].append(view_count)"
   ]
  },
  {
   "cell_type": "code",
   "execution_count": 49,
   "metadata": {},
   "outputs": [
    {
     "data": {
      "text/plain": [
       "{'kind': 'youtubeAnalytics#resultTable',\n",
       " 'columnHeaders': [{'name': 'video',\n",
       "   'columnType': 'DIMENSION',\n",
       "   'dataType': 'STRING'},\n",
       "  {'name': 'estimatedMinutesWatched',\n",
       "   'columnType': 'METRIC',\n",
       "   'dataType': 'INTEGER'},\n",
       "  {'name': 'views', 'columnType': 'METRIC', 'dataType': 'INTEGER'},\n",
       "  {'name': 'likes', 'columnType': 'METRIC', 'dataType': 'INTEGER'},\n",
       "  {'name': 'dislikes', 'columnType': 'METRIC', 'dataType': 'INTEGER'},\n",
       "  {'name': 'subscribersGained', 'columnType': 'METRIC', 'dataType': 'INTEGER'},\n",
       "  {'name': 'subscribersLost', 'columnType': 'METRIC', 'dataType': 'INTEGER'}],\n",
       " 'rows': [['f0E8gLxw-II', 308, 517, 6, 1, 0, 0],\n",
       "  ['XaHu2ApQ1kM', 242, 1286, 30, 2, 1, 0],\n",
       "  ['fuIgHicjm0k', 235, 881, 34, 2, 3, 0],\n",
       "  ['1dSor9KrL34', 231, 938, 8, 2, 0, 0],\n",
       "  ['hFgJfliPTpA', 178, 604, 17, -1, 0, 0],\n",
       "  ['NFDigvjBh2A', 166, 786, 16, 5, 0, 0],\n",
       "  ['Q9ipoByqDHk', 137, 476, 12, 3, 4, 0],\n",
       "  ['shYDWo24xSQ', 136, 362, 11, 1, 0, 0],\n",
       "  ['zhHWS92VrYY', 125, 264, 10, 1, 0, 0],\n",
       "  ['4Ys54dc1ZeA', 95, 437, 13, 2, 2, 0],\n",
       "  ['ON6aAU4mCDE', 91, 310, 7, 5, 0, 0],\n",
       "  ['nbJU9txZRJ8', 84, 240, 5, 2, 0, 0],\n",
       "  ['xKtv8kaYyXI', 78, 342, 9, 1, 0, 0],\n",
       "  ['zGADJ0y_vx4', 76, 122, 4, 2, 1, 0],\n",
       "  ['FvT6puEvVKw', 73, 222, 1, 0, 0, 0],\n",
       "  ['1Jogomr5T38', 70, 277, 3, 3, 0, 0],\n",
       "  ['6ZcTqh_6TLk', 62, 251, 3, 2, 0, 0],\n",
       "  ['srNPixx2N_c', 60, 192, 5, 3, 0, 0],\n",
       "  ['GoalsdzIu4I', 55, 227, 6, 0, 0, 0],\n",
       "  ['t9ATj-GOmlE', 52, 234, 3, 1, 1, 0],\n",
       "  ['UQJ2gPWt1LY', 49, 25, 0, 0, 0, 0],\n",
       "  ['yZZzufr9DzM', 48, 152, 6, 3, 0, 0],\n",
       "  ['TE1p34Lto6I', 48, 166, 3, 4, 0, 0],\n",
       "  ['ETGa0_QRhdk', 39, 168, 3, 0, 0, 0],\n",
       "  ['tayFrCRcLWs', 38, 159, 3, 1, 0, 0],\n",
       "  ['cp-QP9TEOQo', 36, 155, 3, 0, 0, 0],\n",
       "  ['SuqHL-plWJI', 35, 84, 2, 0, 0, 0],\n",
       "  ['NDgBaV-oLYg', 35, 88, 2, 0, 0, 0],\n",
       "  ['_RjfhIldYX0', 34, 96, 3, 2, 0, 0],\n",
       "  ['wIl1UMjjTKY', 32, 64, 0, 0, 0, 0],\n",
       "  ['tYTNa504Q5U', 30, 129, 5, 1, 0, 0],\n",
       "  ['ZNWBm-rVMuA', 28, 105, 4, 0, 0, 0],\n",
       "  ['wazAWt3Dsp0', 26, 86, 0, 1, 0, 0],\n",
       "  ['j5HsN_4SJh0', 25, 107, 1, 0, 0, 0],\n",
       "  ['IXrii-Dm1Zs', 25, 79, 3, 0, 0, 0],\n",
       "  ['wYXqGOskv4o', 23, 119, 2, 0, 0, 0],\n",
       "  ['wgqhlF4YwJ0', 22, 82, 3, 5, 0, 0],\n",
       "  ['cPpUvvstXl0', 21, 97, 4, 1, 0, 0],\n",
       "  ['TXeqSVdF0bU', 20, 65, 4, 0, 0, 0],\n",
       "  ['x1LqF9Kcgi8', 20, 108, 3, 1, 1, 0],\n",
       "  ['qbFqE8QxN9Y', 20, 91, 1, 0, 0, 0],\n",
       "  ['j-msaCMBNOk', 19, 96, 2, 1, 0, 0],\n",
       "  ['405UVrmHtJA', 18, 97, 2, 5, 0, 0],\n",
       "  ['HdXbbc9_Pm8', 18, 82, 3, 0, 0, 0],\n",
       "  ['AUL83jm-iM0', 17, 92, 0, 2, 0, 0],\n",
       "  ['fuUuUHOxabg', 15, 55, 0, 0, 0, 0],\n",
       "  ['tGtZEQ_FcSE', 14, 37, 1, 0, 0, 0],\n",
       "  ['oFVlX2LceIw', 14, 72, 3, 1, 0, 0],\n",
       "  ['tMXWFgmXpsI', 14, 24, 0, 0, 0, 0],\n",
       "  ['its2_YT_aNY', 14, 31, 0, 0, 0, 0],\n",
       "  ['0-LTNMa0iNA', 13, 77, 3, 1, 0, 0],\n",
       "  ['czXTKQx4YNg', 12, 23, 0, 0, 0, 0],\n",
       "  ['rizkpxhG6FE', 10, 56, 0, 1, 0, 0],\n",
       "  ['vxq6Y9F88dY', 10, 40, 1, 0, 0, 0],\n",
       "  ['TkUuBAmV0z0', 10, 28, 1, 0, 0, 0],\n",
       "  ['J94JNxnN1Ic', 9, 48, 2, 0, 0, 0],\n",
       "  ['CHrjflVZydE', 9, 47, 0, 0, 0, 0],\n",
       "  ['RWKu5YqErLA', 9, 46, 0, 1, 0, 0],\n",
       "  ['UHpLjLS51JQ', 9, 41, 0, 1, 0, 0],\n",
       "  ['1azgu7cftWs', 8, 31, 2, 0, 0, 0],\n",
       "  ['b6ppHfA0bbg', 7, 14, 0, 0, 0, 0],\n",
       "  ['A3IPKxpQ0rg', 7, 18, 0, 0, 0, 0],\n",
       "  ['RnJHy7zwgm4', 7, 19, 2, 0, 0, 0],\n",
       "  ['Us3KSnvAeDg', 6, 25, 2, 0, 0, 0],\n",
       "  ['HArfSIvYDH8', 6, 27, 0, 0, 0, 0],\n",
       "  ['0OeKagNWGiY', 6, 30, 0, 0, 0, 0],\n",
       "  ['PX2w5v4sFok', 5, 11, 0, 0, 0, 0],\n",
       "  ['sZah0v155W0', 5, 23, 2, 0, 0, 0],\n",
       "  ['4DwmuuOMsL4', 5, 9, 0, 0, 0, 0],\n",
       "  ['aytSkilvGIw', 5, 31, 0, 0, 0, 0],\n",
       "  ['iTh1R1kZhOA', 5, 11, 0, 0, 0, 0],\n",
       "  ['F9ggILWeed8', 5, 16, 0, 0, 0, 0],\n",
       "  ['3KDKIVjj-7Q', 4, 21, 2, 0, 1, 0],\n",
       "  ['cb-qkCtBO24', 4, 12, 0, 0, 0, 0],\n",
       "  ['Mci805nPzSU', 4, 10, 0, 0, 0, 0],\n",
       "  ['c8JbBzjG__s', 4, 16, 3, 0, 1, 0],\n",
       "  ['ri4IFf5Ftx0', 4, 7, 0, 0, 0, 0],\n",
       "  ['ycX8ps5Fuds', 4, 8, 1, 0, 0, 0],\n",
       "  ['GqlU2JNWtWI', 4, 11, 0, 0, 0, 0],\n",
       "  ['Ene3KibtrVo', 3, 20, 1, 0, 0, 0],\n",
       "  ['7jSzA6fo1YE', 3, 5, 0, 0, 0, 0],\n",
       "  ['fu4JKw_ACtI', 3, 9, 0, 0, 0, 0],\n",
       "  ['3sT7FTyZcLQ', 3, 1, 0, 0, 0, 0],\n",
       "  ['Xn9Ho7uncho', 3, 5, 0, 0, 0, 0],\n",
       "  ['1nTBRSRFWk4', 2, 10, 0, 0, 0, 0],\n",
       "  ['f8VN7cpVp18', 2, 3, 0, 0, 0, 0],\n",
       "  ['eLGqT7NycQs', 2, 6, 0, 0, 0, 0],\n",
       "  ['5mFujIWhKg4', 2, 10, 0, 0, 0, 0],\n",
       "  ['wvah9pbFVuU', 2, 9, 0, 0, 0, 0],\n",
       "  ['VPFqyvdZ67I', 2, 3, 0, 0, 0, 0],\n",
       "  ['IitYwLvBAXs', 2, 6, 0, 0, 0, 0],\n",
       "  ['N90dFFaf1as', 2, 18, 2, 0, 0, 0],\n",
       "  ['vChBkDRq3Yw', 2, 8, 0, 1, 0, 0],\n",
       "  ['SWSMDms9eR0', 2, 7, 0, 0, 0, 0],\n",
       "  ['87KugyYlCkE', 2, 6, 0, 0, 0, 0],\n",
       "  ['x9SvAjkxIMU', 2, 10, 0, 0, 0, 0],\n",
       "  ['F8-Lh-73yrU', 2, 5, 0, 0, 0, 0],\n",
       "  ['XybYQ-DeQWg', 2, 13, 0, 0, 0, 0],\n",
       "  ['b6wR4L6mPU0', 2, 6, 0, 0, 0, 0],\n",
       "  ['kznP6MMWLtM', 2, 8, 0, 0, 0, 0],\n",
       "  ['LItg-TUUJoo', 2, 4, 0, 0, 0, 0],\n",
       "  ['3ogUiEW2FyQ', 2, 6, 0, 0, 0, 0],\n",
       "  ['EbE9sPpUI3U', 2, 7, 0, 0, 0, 0],\n",
       "  ['kuU-aJ0keQc', 2, 2, 0, 0, 0, 0],\n",
       "  ['NtE-DhEw0b0', 1, 4, 0, 0, 0, 0],\n",
       "  ['HFzB1NjWbGI', 1, 4, 0, 0, 0, 0],\n",
       "  ['nYnza9lRX-0', 1, 2, 0, 0, 0, 0],\n",
       "  ['SGItGM-YB-U', 1, 3, 0, 0, 0, 0],\n",
       "  ['x9l4ZwO3eYg', 1, 5, 0, 0, 0, 0],\n",
       "  ['ZjV4Kpc7x5Q', 1, 2, 0, 0, 0, 0],\n",
       "  ['cnPvTuUuRzQ', 1, 3, 0, 0, 0, 0],\n",
       "  ['slEjNJxBEwo', 1, 3, 0, 0, 0, 0],\n",
       "  ['WgdEuwKqscU', 1, 8, 0, 0, 0, 0],\n",
       "  ['PLmTYN4q_uw', 1, 5, 0, 0, 0, 0],\n",
       "  ['7wLUdjVVfes', 1, 10, 0, 0, 0, 0],\n",
       "  ['I1Q6dmkACpE', 1, 4, 0, 0, 0, 0],\n",
       "  ['VpIRW-eiBrQ', 1, 5, 0, 0, 0, 0],\n",
       "  ['wQL-xGaeFMA', 1, 6, 0, 0, 0, 0],\n",
       "  ['ifJvYv1fNJs', 1, 3, 0, 0, 0, 0],\n",
       "  ['kAODPya1ZbE', 1, 3, 0, 0, 0, 0],\n",
       "  ['uKTQhu3E4PY', 1, 6, 0, 0, 0, 0],\n",
       "  ['SU-b2F8rSfQ', 1, 2, 0, 0, 0, 0],\n",
       "  ['np79opSQ4mo', 1, 4, 0, 0, 0, 0],\n",
       "  ['DGuXJ74KNiE', 1, 4, 0, 0, 0, 0],\n",
       "  ['giUFF6fYIhY', 1, 7, 0, 0, 0, 0],\n",
       "  ['CR45FzIjzR0', 1, 3, 0, 0, 0, 0],\n",
       "  ['9aQtqLtb_NY', 1, 3, 0, 0, 0, 0],\n",
       "  ['yEwc5DsIOoI', 1, 6, 0, 0, 0, 0],\n",
       "  ['Z5KR99Pclsw', 1, 1, 0, 0, 0, 0],\n",
       "  ['BjgS7TNSKBM', 1, 1, 0, 0, 0, 0],\n",
       "  ['6NA11rUPx8M', 0, 3, 0, 0, 0, 0],\n",
       "  ['acq3gRP4RLg', 0, 6, 0, 0, 0, 0],\n",
       "  ['dLukdrDraKM', 0, 2, 0, 0, 0, 0],\n",
       "  ['uvl-NHMWFAY', 0, 1, 0, 0, 0, 0],\n",
       "  ['egfjSh7MfH4', 0, 1, 0, 0, 0, 0],\n",
       "  ['G8oVJL6wz7k', 0, 4, 0, 0, 0, 0],\n",
       "  ['8fs-GUySSts', 0, 1, 0, 0, 0, 0],\n",
       "  ['5o4hMPHgIaE', 0, 1, 0, 0, 0, 0],\n",
       "  ['fFLk8tEJE5Y', 0, 6, 0, 0, 0, 0],\n",
       "  ['Lv2z0mTc1C0', 0, 1, 0, 0, 0, 0]]}"
      ]
     },
     "execution_count": 49,
     "metadata": {},
     "output_type": "execute_result"
    }
   ],
   "source": [
    "video_metrics"
   ]
  },
  {
   "cell_type": "code",
   "execution_count": 50,
   "metadata": {},
   "outputs": [],
   "source": [
    "# video_seed, video_metrics = build_video_seed(youtubeAnalytics)\n",
    "clip_metrics_df = pd.DataFrame(video_metrics['rows'], columns=['video_id', 'estimatedMinutesWatched', 'views', 'likes', 'dislikes', 'subscribersGained', 'subscribersLost']).set_index('video_id').join(pd.DataFrame(video_seed).set_index('video_id'))\n",
    "clip_metrics_df['likes_ratio'] = (clip_metrics_df['likes']/(clip_metrics_df['likes'] + clip_metrics_df['dislikes'])).fillna(0)"
   ]
  },
  {
   "cell_type": "code",
   "execution_count": 3,
   "metadata": {},
   "outputs": [],
   "source": [
    "sub_group = clip_metrics_df.groupby('title').min()\n",
    "game_sub = sub_group.loc[sub_group['game_name'] == \"God of War\"]"
   ]
  },
  {
   "cell_type": "code",
   "execution_count": 51,
   "metadata": {},
   "outputs": [
    {
     "data": {
      "text/html": [
       "<div>\n",
       "<style scoped>\n",
       "    .dataframe tbody tr th:only-of-type {\n",
       "        vertical-align: middle;\n",
       "    }\n",
       "\n",
       "    .dataframe tbody tr th {\n",
       "        vertical-align: top;\n",
       "    }\n",
       "\n",
       "    .dataframe thead th {\n",
       "        text-align: right;\n",
       "    }\n",
       "</style>\n",
       "<table border=\"1\" class=\"dataframe\">\n",
       "  <thead>\n",
       "    <tr style=\"text-align: right;\">\n",
       "      <th></th>\n",
       "      <th>estimatedMinutesWatched</th>\n",
       "      <th>views</th>\n",
       "      <th>likes</th>\n",
       "      <th>dislikes</th>\n",
       "      <th>subscribersGained</th>\n",
       "      <th>subscribersLost</th>\n",
       "      <th>style</th>\n",
       "      <th>game_name</th>\n",
       "      <th>title</th>\n",
       "      <th>creator</th>\n",
       "      <th>view_count</th>\n",
       "      <th>likes_ratio</th>\n",
       "    </tr>\n",
       "    <tr>\n",
       "      <th>video_id</th>\n",
       "      <th></th>\n",
       "      <th></th>\n",
       "      <th></th>\n",
       "      <th></th>\n",
       "      <th></th>\n",
       "      <th></th>\n",
       "      <th></th>\n",
       "      <th></th>\n",
       "      <th></th>\n",
       "      <th></th>\n",
       "      <th></th>\n",
       "      <th></th>\n",
       "    </tr>\n",
       "  </thead>\n",
       "  <tbody>\n",
       "    <tr>\n",
       "      <th>f0E8gLxw-II</th>\n",
       "      <td>308</td>\n",
       "      <td>517</td>\n",
       "      <td>6</td>\n",
       "      <td>1</td>\n",
       "      <td>0</td>\n",
       "      <td>0</td>\n",
       "      <td>m</td>\n",
       "      <td>Remnant: From the Ashes</td>\n",
       "      <td>His weakness is the Butt</td>\n",
       "      <td>TheRoundWon</td>\n",
       "      <td>51.0</td>\n",
       "      <td>0.857143</td>\n",
       "    </tr>\n",
       "    <tr>\n",
       "      <th>XaHu2ApQ1kM</th>\n",
       "      <td>242</td>\n",
       "      <td>1286</td>\n",
       "      <td>30</td>\n",
       "      <td>2</td>\n",
       "      <td>1</td>\n",
       "      <td>0</td>\n",
       "      <td>NaN</td>\n",
       "      <td>NaN</td>\n",
       "      <td>NaN</td>\n",
       "      <td>NaN</td>\n",
       "      <td>NaN</td>\n",
       "      <td>0.937500</td>\n",
       "    </tr>\n",
       "    <tr>\n",
       "      <th>fuIgHicjm0k</th>\n",
       "      <td>235</td>\n",
       "      <td>881</td>\n",
       "      <td>34</td>\n",
       "      <td>2</td>\n",
       "      <td>3</td>\n",
       "      <td>0</td>\n",
       "      <td>m</td>\n",
       "      <td>Demon's Souls</td>\n",
       "      <td>Iconic</td>\n",
       "      <td>FeedMeACat</td>\n",
       "      <td>53.0</td>\n",
       "      <td>0.944444</td>\n",
       "    </tr>\n",
       "    <tr>\n",
       "      <th>1dSor9KrL34</th>\n",
       "      <td>231</td>\n",
       "      <td>938</td>\n",
       "      <td>8</td>\n",
       "      <td>2</td>\n",
       "      <td>0</td>\n",
       "      <td>0</td>\n",
       "      <td>m</td>\n",
       "      <td>Horizon Forbidden West</td>\n",
       "      <td>Enemies can do this now</td>\n",
       "      <td>TheRoundWon</td>\n",
       "      <td>10.0</td>\n",
       "      <td>0.800000</td>\n",
       "    </tr>\n",
       "    <tr>\n",
       "      <th>hFgJfliPTpA</th>\n",
       "      <td>178</td>\n",
       "      <td>604</td>\n",
       "      <td>17</td>\n",
       "      <td>-1</td>\n",
       "      <td>0</td>\n",
       "      <td>0</td>\n",
       "      <td>m</td>\n",
       "      <td>Remnant: From the Ashes</td>\n",
       "      <td>Remember to roll forward</td>\n",
       "      <td>TheRoundWon</td>\n",
       "      <td>61.0</td>\n",
       "      <td>1.062500</td>\n",
       "    </tr>\n",
       "  </tbody>\n",
       "</table>\n",
       "</div>"
      ],
      "text/plain": [
       "             estimatedMinutesWatched  views  likes  dislikes  \\\n",
       "video_id                                                       \n",
       "f0E8gLxw-II                      308    517      6         1   \n",
       "XaHu2ApQ1kM                      242   1286     30         2   \n",
       "fuIgHicjm0k                      235    881     34         2   \n",
       "1dSor9KrL34                      231    938      8         2   \n",
       "hFgJfliPTpA                      178    604     17        -1   \n",
       "\n",
       "             subscribersGained  subscribersLost style  \\\n",
       "video_id                                                \n",
       "f0E8gLxw-II                  0                0     m   \n",
       "XaHu2ApQ1kM                  1                0   NaN   \n",
       "fuIgHicjm0k                  3                0     m   \n",
       "1dSor9KrL34                  0                0     m   \n",
       "hFgJfliPTpA                  0                0     m   \n",
       "\n",
       "                           game_name                      title      creator  \\\n",
       "video_id                                                                       \n",
       "f0E8gLxw-II  Remnant: From the Ashes   His weakness is the Butt  TheRoundWon   \n",
       "XaHu2ApQ1kM                      NaN                        NaN          NaN   \n",
       "fuIgHicjm0k            Demon's Souls                     Iconic   FeedMeACat   \n",
       "1dSor9KrL34   Horizon Forbidden West    Enemies can do this now  TheRoundWon   \n",
       "hFgJfliPTpA  Remnant: From the Ashes  Remember to roll forward   TheRoundWon   \n",
       "\n",
       "             view_count  likes_ratio  \n",
       "video_id                              \n",
       "f0E8gLxw-II        51.0     0.857143  \n",
       "XaHu2ApQ1kM         NaN     0.937500  \n",
       "fuIgHicjm0k        53.0     0.944444  \n",
       "1dSor9KrL34        10.0     0.800000  \n",
       "hFgJfliPTpA        61.0     1.062500  "
      ]
     },
     "execution_count": 51,
     "metadata": {},
     "output_type": "execute_result"
    }
   ],
   "source": [
    "clip_metrics_df.head()"
   ]
  },
  {
   "cell_type": "code",
   "execution_count": null,
   "metadata": {},
   "outputs": [],
   "source": []
  },
  {
   "cell_type": "code",
   "execution_count": 47,
   "metadata": {},
   "outputs": [
    {
     "data": {
      "text/html": [
       "<div>\n",
       "<style scoped>\n",
       "    .dataframe tbody tr th:only-of-type {\n",
       "        vertical-align: middle;\n",
       "    }\n",
       "\n",
       "    .dataframe tbody tr th {\n",
       "        vertical-align: top;\n",
       "    }\n",
       "\n",
       "    .dataframe thead th {\n",
       "        text-align: right;\n",
       "    }\n",
       "</style>\n",
       "<table border=\"1\" class=\"dataframe\">\n",
       "  <thead>\n",
       "    <tr style=\"text-align: right;\">\n",
       "      <th></th>\n",
       "      <th>estimatedMinutesWatched</th>\n",
       "      <th>views</th>\n",
       "      <th>likes</th>\n",
       "      <th>dislikes</th>\n",
       "      <th>subscribersGained</th>\n",
       "      <th>subscribersLost</th>\n",
       "      <th>style</th>\n",
       "      <th>game_name</th>\n",
       "      <th>title</th>\n",
       "      <th>creator</th>\n",
       "      <th>view_count</th>\n",
       "      <th>likes_ratio</th>\n",
       "    </tr>\n",
       "    <tr>\n",
       "      <th>video_id</th>\n",
       "      <th></th>\n",
       "      <th></th>\n",
       "      <th></th>\n",
       "      <th></th>\n",
       "      <th></th>\n",
       "      <th></th>\n",
       "      <th></th>\n",
       "      <th></th>\n",
       "      <th></th>\n",
       "      <th></th>\n",
       "      <th></th>\n",
       "      <th></th>\n",
       "    </tr>\n",
       "  </thead>\n",
       "  <tbody>\n",
       "    <tr>\n",
       "      <th>fu4JKw_ACtI</th>\n",
       "      <td>3</td>\n",
       "      <td>9</td>\n",
       "      <td>0</td>\n",
       "      <td>0</td>\n",
       "      <td>0</td>\n",
       "      <td>0</td>\n",
       "      <td>f</td>\n",
       "      <td>Horizon Forbidden West</td>\n",
       "      <td>Heroes Don't Die</td>\n",
       "      <td>PraetorJoe</td>\n",
       "      <td>19.0</td>\n",
       "      <td>0.0</td>\n",
       "    </tr>\n",
       "    <tr>\n",
       "      <th>giUFF6fYIhY</th>\n",
       "      <td>1</td>\n",
       "      <td>7</td>\n",
       "      <td>0</td>\n",
       "      <td>0</td>\n",
       "      <td>0</td>\n",
       "      <td>0</td>\n",
       "      <td>m</td>\n",
       "      <td>Horizon Forbidden West</td>\n",
       "      <td>Heroes Don't Die</td>\n",
       "      <td>PraetorJoe</td>\n",
       "      <td>19.0</td>\n",
       "      <td>0.0</td>\n",
       "    </tr>\n",
       "  </tbody>\n",
       "</table>\n",
       "</div>"
      ],
      "text/plain": [
       "             estimatedMinutesWatched  views  likes  dislikes  \\\n",
       "video_id                                                       \n",
       "fu4JKw_ACtI                        3      9      0         0   \n",
       "giUFF6fYIhY                        1      7      0         0   \n",
       "\n",
       "             subscribersGained  subscribersLost style               game_name  \\\n",
       "video_id                                                                        \n",
       "fu4JKw_ACtI                  0                0     f  Horizon Forbidden West   \n",
       "giUFF6fYIhY                  0                0     m  Horizon Forbidden West   \n",
       "\n",
       "                        title     creator  view_count  likes_ratio  \n",
       "video_id                                                            \n",
       "fu4JKw_ACtI  Heroes Don't Die  PraetorJoe        19.0          0.0  \n",
       "giUFF6fYIhY  Heroes Don't Die  PraetorJoe        19.0          0.0  "
      ]
     },
     "execution_count": 47,
     "metadata": {},
     "output_type": "execute_result"
    }
   ],
   "source": [
    "clip_metrics_df.dropna(axis=0, how= 'any', inplace=True)\n",
    "clip_metrics_df.loc[clip_metrics_df.title.str.contains('Heroes')]"
   ]
  },
  {
   "cell_type": "code",
   "execution_count": null,
   "metadata": {},
   "outputs": [],
   "source": []
  },
  {
   "cell_type": "code",
   "execution_count": 15,
   "metadata": {},
   "outputs": [],
   "source": [
    "video_metrics = execute_api_request(\n",
    "        youtubeAnalytics.reports().query,\n",
    "        ids='channel==MINE',\n",
    "        startDate='2022-03-01',\n",
    "        endDate='2022-07-12',\n",
    "        maxResults = 140,\n",
    "        metrics='estimatedMinutesWatched,views,likes,dislikes,subscribersGained,subscribersLost',\n",
    "        dimensions='video',\n",
    "        sort='-estimatedMinutesWatched'\n",
    "    )"
   ]
  },
  {
   "cell_type": "code",
   "execution_count": 18,
   "metadata": {},
   "outputs": [],
   "source": [
    "video_metrics"
   ]
  },
  {
   "cell_type": "code",
   "execution_count": 55,
   "metadata": {},
   "outputs": [
    {
     "data": {
      "application/vnd.plotly.v1+json": {
       "config": {
        "plotlyServerURL": "https://plot.ly"
       },
       "data": [
        {
         "marker": {
          "color": [
           51
          ],
          "coloraxis": "coloraxis"
         },
         "name": "His weakness is the Butt",
         "orientation": "h",
         "text": [
          "His weakness is the Butt"
         ],
         "type": "bar",
         "x": [
          51
         ],
         "xaxis": "x",
         "y": [
          "Remnant: From the Ashes"
         ],
         "yaxis": "y"
        },
        {
         "marker": {
          "color": [
           51
          ],
          "coloraxis": "coloraxis"
         },
         "name": "His weakness is the Butt",
         "orientation": "h",
         "text": [
          "His weakness is the Butt"
         ],
         "type": "bar",
         "x": [
          517
         ],
         "xaxis": "x2",
         "y": [
          "Remnant: From the Ashes"
         ],
         "yaxis": "y2"
        },
        {
         "marker": {
          "color": [
           53
          ],
          "coloraxis": "coloraxis"
         },
         "name": "Iconic",
         "orientation": "h",
         "text": [
          "Iconic"
         ],
         "type": "bar",
         "x": [
          53
         ],
         "xaxis": "x",
         "y": [
          "Demon's Souls"
         ],
         "yaxis": "y"
        },
        {
         "marker": {
          "color": [
           53
          ],
          "coloraxis": "coloraxis"
         },
         "name": "Iconic",
         "orientation": "h",
         "text": [
          "Iconic"
         ],
         "type": "bar",
         "x": [
          881
         ],
         "xaxis": "x2",
         "y": [
          "Demon's Souls"
         ],
         "yaxis": "y2"
        },
        {
         "marker": {
          "color": [
           10
          ],
          "coloraxis": "coloraxis"
         },
         "name": "Enemies can do this now",
         "orientation": "h",
         "text": [
          "Enemies can do this now"
         ],
         "type": "bar",
         "x": [
          10
         ],
         "xaxis": "x",
         "y": [
          "Horizon Forbidden West"
         ],
         "yaxis": "y"
        },
        {
         "marker": {
          "color": [
           10
          ],
          "coloraxis": "coloraxis"
         },
         "name": "Enemies can do this now",
         "orientation": "h",
         "text": [
          "Enemies can do this now"
         ],
         "type": "bar",
         "x": [
          938
         ],
         "xaxis": "x2",
         "y": [
          "Horizon Forbidden West"
         ],
         "yaxis": "y2"
        },
        {
         "marker": {
          "color": [
           61
          ],
          "coloraxis": "coloraxis"
         },
         "name": "Remember to roll forward ",
         "orientation": "h",
         "text": [
          "Remember to roll forward "
         ],
         "type": "bar",
         "x": [
          61
         ],
         "xaxis": "x",
         "y": [
          "Remnant: From the Ashes"
         ],
         "yaxis": "y"
        },
        {
         "marker": {
          "color": [
           61
          ],
          "coloraxis": "coloraxis"
         },
         "name": "Remember to roll forward ",
         "orientation": "h",
         "text": [
          "Remember to roll forward "
         ],
         "type": "bar",
         "x": [
          604
         ],
         "xaxis": "x2",
         "y": [
          "Remnant: From the Ashes"
         ],
         "yaxis": "y2"
        },
        {
         "marker": {
          "color": [
           10
          ],
          "coloraxis": "coloraxis"
         },
         "name": "Back to reality",
         "orientation": "h",
         "text": [
          "Back to reality"
         ],
         "type": "bar",
         "x": [
          10
         ],
         "xaxis": "x",
         "y": [
          "Demon's Souls"
         ],
         "yaxis": "y"
        },
        {
         "marker": {
          "color": [
           10
          ],
          "coloraxis": "coloraxis"
         },
         "name": "Back to reality",
         "orientation": "h",
         "text": [
          "Back to reality"
         ],
         "type": "bar",
         "x": [
          786
         ],
         "xaxis": "x2",
         "y": [
          "Demon's Souls"
         ],
         "yaxis": "y2"
        },
        {
         "marker": {
          "color": [
           17
          ],
          "coloraxis": "coloraxis"
         },
         "name": "PSA: Remember to heal yourself before reviving!",
         "orientation": "h",
         "text": [
          "PSA: Remember to heal yourself before reviving!"
         ],
         "type": "bar",
         "x": [
          17
         ],
         "xaxis": "x",
         "y": [
          "Remnant: From the Ashes"
         ],
         "yaxis": "y"
        },
        {
         "marker": {
          "color": [
           17
          ],
          "coloraxis": "coloraxis"
         },
         "name": "PSA: Remember to heal yourself before reviving!",
         "orientation": "h",
         "text": [
          "PSA: Remember to heal yourself before reviving!"
         ],
         "type": "bar",
         "x": [
          476
         ],
         "xaxis": "x2",
         "y": [
          "Remnant: From the Ashes"
         ],
         "yaxis": "y2"
        },
        {
         "marker": {
          "color": [
           11
          ],
          "coloraxis": "coloraxis"
         },
         "name": "A heroic Last Stand",
         "orientation": "h",
         "text": [
          "A heroic Last Stand"
         ],
         "type": "bar",
         "x": [
          11
         ],
         "xaxis": "x",
         "y": [
          "Remnant: From the Ashes"
         ],
         "yaxis": "y"
        },
        {
         "marker": {
          "color": [
           11
          ],
          "coloraxis": "coloraxis"
         },
         "name": "A heroic Last Stand",
         "orientation": "h",
         "text": [
          "A heroic Last Stand"
         ],
         "type": "bar",
         "x": [
          362
         ],
         "xaxis": "x2",
         "y": [
          "Remnant: From the Ashes"
         ],
         "yaxis": "y2"
        },
        {
         "marker": {
          "color": [
           6
          ],
          "coloraxis": "coloraxis"
         },
         "name": "Gotta love the warrior bow",
         "orientation": "h",
         "text": [
          "Gotta love the warrior bow"
         ],
         "type": "bar",
         "x": [
          6
         ],
         "xaxis": "x",
         "y": [
          "Horizon Forbidden West"
         ],
         "yaxis": "y"
        },
        {
         "marker": {
          "color": [
           6
          ],
          "coloraxis": "coloraxis"
         },
         "name": "Gotta love the warrior bow",
         "orientation": "h",
         "text": [
          "Gotta love the warrior bow"
         ],
         "type": "bar",
         "x": [
          264
         ],
         "xaxis": "x2",
         "y": [
          "Horizon Forbidden West"
         ],
         "yaxis": "y2"
        },
        {
         "marker": {
          "color": [
           21
          ],
          "coloraxis": "coloraxis"
         },
         "name": "Check your anger Bro",
         "orientation": "h",
         "text": [
          "Check your anger Bro"
         ],
         "type": "bar",
         "x": [
          21
         ],
         "xaxis": "x",
         "y": [
          "Remnant: From the Ashes"
         ],
         "yaxis": "y"
        },
        {
         "marker": {
          "color": [
           21
          ],
          "coloraxis": "coloraxis"
         },
         "name": "Check your anger Bro",
         "orientation": "h",
         "text": [
          "Check your anger Bro"
         ],
         "type": "bar",
         "x": [
          342
         ],
         "xaxis": "x2",
         "y": [
          "Remnant: From the Ashes"
         ],
         "yaxis": "y2"
        },
        {
         "marker": {
          "color": [
           13
          ],
          "coloraxis": "coloraxis"
         },
         "name": "First time using Storm Caller ability",
         "orientation": "h",
         "text": [
          "First time using Storm Caller ability"
         ],
         "type": "bar",
         "x": [
          13
         ],
         "xaxis": "x",
         "y": [
          "Remnant: From the Ashes"
         ],
         "yaxis": "y"
        },
        {
         "marker": {
          "color": [
           13
          ],
          "coloraxis": "coloraxis"
         },
         "name": "First time using Storm Caller ability",
         "orientation": "h",
         "text": [
          "First time using Storm Caller ability"
         ],
         "type": "bar",
         "x": [
          122
         ],
         "xaxis": "x2",
         "y": [
          "Remnant: From the Ashes"
         ],
         "yaxis": "y2"
        },
        {
         "marker": {
          "color": [
           5
          ],
          "coloraxis": "coloraxis"
         },
         "name": "Death and destruction",
         "orientation": "h",
         "text": [
          "Death and destruction"
         ],
         "type": "bar",
         "x": [
          5
         ],
         "xaxis": "x",
         "y": [
          "Horizon Forbidden West"
         ],
         "yaxis": "y"
        },
        {
         "marker": {
          "color": [
           5
          ],
          "coloraxis": "coloraxis"
         },
         "name": "Death and destruction",
         "orientation": "h",
         "text": [
          "Death and destruction"
         ],
         "type": "bar",
         "x": [
          222
         ],
         "xaxis": "x2",
         "y": [
          "Horizon Forbidden West"
         ],
         "yaxis": "y2"
        },
        {
         "marker": {
          "color": [
           9
          ],
          "coloraxis": "coloraxis"
         },
         "name": "Lessons in Melee needed",
         "orientation": "h",
         "text": [
          "Lessons in Melee needed"
         ],
         "type": "bar",
         "x": [
          9
         ],
         "xaxis": "x",
         "y": [
          "Remnant: From the Ashes"
         ],
         "yaxis": "y"
        },
        {
         "marker": {
          "color": [
           9
          ],
          "coloraxis": "coloraxis"
         },
         "name": "Lessons in Melee needed",
         "orientation": "h",
         "text": [
          "Lessons in Melee needed"
         ],
         "type": "bar",
         "x": [
          277
         ],
         "xaxis": "x2",
         "y": [
          "Remnant: From the Ashes"
         ],
         "yaxis": "y2"
        },
        {
         "marker": {
          "color": [
           25
          ],
          "coloraxis": "coloraxis"
         },
         "name": "Laggy Revives ",
         "orientation": "h",
         "text": [
          "Laggy Revives "
         ],
         "type": "bar",
         "x": [
          25
         ],
         "xaxis": "x",
         "y": [
          "Remnant: From the Ashes"
         ],
         "yaxis": "y"
        },
        {
         "marker": {
          "color": [
           25
          ],
          "coloraxis": "coloraxis"
         },
         "name": "Laggy Revives ",
         "orientation": "h",
         "text": [
          "Laggy Revives "
         ],
         "type": "bar",
         "x": [
          251
         ],
         "xaxis": "x2",
         "y": [
          "Remnant: From the Ashes"
         ],
         "yaxis": "y2"
        },
        {
         "marker": {
          "color": [
           10
          ],
          "coloraxis": "coloraxis"
         },
         "name": "Demon souls first play through",
         "orientation": "h",
         "text": [
          "Demon souls first play through"
         ],
         "type": "bar",
         "x": [
          10
         ],
         "xaxis": "x",
         "y": [
          "Demon's Souls"
         ],
         "yaxis": "y"
        },
        {
         "marker": {
          "color": [
           10
          ],
          "coloraxis": "coloraxis"
         },
         "name": "Demon souls first play through",
         "orientation": "h",
         "text": [
          "Demon souls first play through"
         ],
         "type": "bar",
         "x": [
          227
         ],
         "xaxis": "x2",
         "y": [
          "Demon's Souls"
         ],
         "yaxis": "y2"
        },
        {
         "marker": {
          "color": [
           279
          ],
          "coloraxis": "coloraxis"
         },
         "name": "I mean...",
         "orientation": "h",
         "text": [
          "I mean..."
         ],
         "type": "bar",
         "x": [
          279
         ],
         "xaxis": "x",
         "y": [
          "Demon's Souls"
         ],
         "yaxis": "y"
        },
        {
         "marker": {
          "color": [
           279
          ],
          "coloraxis": "coloraxis"
         },
         "name": "I mean...",
         "orientation": "h",
         "text": [
          "I mean..."
         ],
         "type": "bar",
         "x": [
          234
         ],
         "xaxis": "x2",
         "y": [
          "Demon's Souls"
         ],
         "yaxis": "y2"
        },
        {
         "marker": {
          "color": [
           11
          ],
          "coloraxis": "coloraxis"
         },
         "name": "So many things that can kill me",
         "orientation": "h",
         "text": [
          "So many things that can kill me"
         ],
         "type": "bar",
         "x": [
          11
         ],
         "xaxis": "x",
         "y": [
          "Demon's Souls"
         ],
         "yaxis": "y"
        },
        {
         "marker": {
          "color": [
           11
          ],
          "coloraxis": "coloraxis"
         },
         "name": "So many things that can kill me",
         "orientation": "h",
         "text": [
          "So many things that can kill me"
         ],
         "type": "bar",
         "x": [
          152
         ],
         "xaxis": "x2",
         "y": [
          "Demon's Souls"
         ],
         "yaxis": "y2"
        },
        {
         "marker": {
          "color": [
           19
          ],
          "coloraxis": "coloraxis"
         },
         "name": "A little Friendly Fire amongst Friends?",
         "orientation": "h",
         "text": [
          "A little Friendly Fire amongst Friends?"
         ],
         "type": "bar",
         "x": [
          19
         ],
         "xaxis": "x",
         "y": [
          "Remnant: From the Ashes"
         ],
         "yaxis": "y"
        },
        {
         "marker": {
          "color": [
           19
          ],
          "coloraxis": "coloraxis"
         },
         "name": "A little Friendly Fire amongst Friends?",
         "orientation": "h",
         "text": [
          "A little Friendly Fire amongst Friends?"
         ],
         "type": "bar",
         "x": [
          168
         ],
         "xaxis": "x2",
         "y": [
          "Remnant: From the Ashes"
         ],
         "yaxis": "y2"
        },
        {
         "marker": {
          "color": [
           10
          ],
          "coloraxis": "coloraxis"
         },
         "name": "Co-Op: Sufficient contributions",
         "orientation": "h",
         "text": [
          "Co-Op: Sufficient contributions"
         ],
         "type": "bar",
         "x": [
          10
         ],
         "xaxis": "x",
         "y": [
          "Ghost of Tsushima"
         ],
         "yaxis": "y"
        },
        {
         "marker": {
          "color": [
           10
          ],
          "coloraxis": "coloraxis"
         },
         "name": "Co-Op: Sufficient contributions",
         "orientation": "h",
         "text": [
          "Co-Op: Sufficient contributions"
         ],
         "type": "bar",
         "x": [
          159
         ],
         "xaxis": "x2",
         "y": [
          "Ghost of Tsushima"
         ],
         "yaxis": "y2"
        },
        {
         "marker": {
          "color": [
           6
          ],
          "coloraxis": "coloraxis"
         },
         "name": "I surprise myself sometimes...",
         "orientation": "h",
         "text": [
          "I surprise myself sometimes..."
         ],
         "type": "bar",
         "x": [
          6
         ],
         "xaxis": "x",
         "y": [
          "Horizon Forbidden West"
         ],
         "yaxis": "y"
        },
        {
         "marker": {
          "color": [
           6
          ],
          "coloraxis": "coloraxis"
         },
         "name": "I surprise myself sometimes...",
         "orientation": "h",
         "text": [
          "I surprise myself sometimes..."
         ],
         "type": "bar",
         "x": [
          155
         ],
         "xaxis": "x2",
         "y": [
          "Horizon Forbidden West"
         ],
         "yaxis": "y2"
        },
        {
         "marker": {
          "color": [
           11
          ],
          "coloraxis": "coloraxis"
         },
         "name": "So rude",
         "orientation": "h",
         "text": [
          "So rude"
         ],
         "type": "bar",
         "x": [
          11
         ],
         "xaxis": "x",
         "y": [
          "Horizon Forbidden West"
         ],
         "yaxis": "y"
        },
        {
         "marker": {
          "color": [
           11
          ],
          "coloraxis": "coloraxis"
         },
         "name": "So rude",
         "orientation": "h",
         "text": [
          "So rude"
         ],
         "type": "bar",
         "x": [
          84
         ],
         "xaxis": "x2",
         "y": [
          "Horizon Forbidden West"
         ],
         "yaxis": "y2"
        },
        {
         "marker": {
          "color": [
           12
          ],
          "coloraxis": "coloraxis"
         },
         "name": "Square assumes direct control",
         "orientation": "h",
         "text": [
          "Square assumes direct control"
         ],
         "type": "bar",
         "x": [
          12
         ],
         "xaxis": "x",
         "y": [
          "Demon's Souls"
         ],
         "yaxis": "y"
        },
        {
         "marker": {
          "color": [
           12
          ],
          "coloraxis": "coloraxis"
         },
         "name": "Square assumes direct control",
         "orientation": "h",
         "text": [
          "Square assumes direct control"
         ],
         "type": "bar",
         "x": [
          88
         ],
         "xaxis": "x2",
         "y": [
          "Demon's Souls"
         ],
         "yaxis": "y2"
        },
        {
         "marker": {
          "color": [
           28
          ],
          "coloraxis": "coloraxis"
         },
         "name": "S U F F E R",
         "orientation": "h",
         "text": [
          "S U F F E R"
         ],
         "type": "bar",
         "x": [
          28
         ],
         "xaxis": "x",
         "y": [
          "Demon's Souls"
         ],
         "yaxis": "y"
        },
        {
         "marker": {
          "color": [
           28
          ],
          "coloraxis": "coloraxis"
         },
         "name": "S U F F E R",
         "orientation": "h",
         "text": [
          "S U F F E R"
         ],
         "type": "bar",
         "x": [
          64
         ],
         "xaxis": "x2",
         "y": [
          "Demon's Souls"
         ],
         "yaxis": "y2"
        },
        {
         "marker": {
          "color": [
           7
          ],
          "coloraxis": "coloraxis"
         },
         "name": "You gotta blend s***",
         "orientation": "h",
         "text": [
          "You gotta blend s***"
         ],
         "type": "bar",
         "x": [
          7
         ],
         "xaxis": "x",
         "y": [
          "Overcooked! All You Can Eat"
         ],
         "yaxis": "y"
        },
        {
         "marker": {
          "color": [
           7
          ],
          "coloraxis": "coloraxis"
         },
         "name": "You gotta blend s***",
         "orientation": "h",
         "text": [
          "You gotta blend s***"
         ],
         "type": "bar",
         "x": [
          129
         ],
         "xaxis": "x2",
         "y": [
          "Overcooked! All You Can Eat"
         ],
         "yaxis": "y2"
        },
        {
         "marker": {
          "color": [
           8
          ],
          "coloraxis": "coloraxis"
         },
         "name": "Irony",
         "orientation": "h",
         "text": [
          "Irony"
         ],
         "type": "bar",
         "x": [
          8
         ],
         "xaxis": "x",
         "y": [
          "It Takes Two"
         ],
         "yaxis": "y"
        },
        {
         "marker": {
          "color": [
           8
          ],
          "coloraxis": "coloraxis"
         },
         "name": "Irony",
         "orientation": "h",
         "text": [
          "Irony"
         ],
         "type": "bar",
         "x": [
          105
         ],
         "xaxis": "x2",
         "y": [
          "It Takes Two"
         ],
         "yaxis": "y2"
        },
        {
         "marker": {
          "color": [
           11
          ],
          "coloraxis": "coloraxis"
         },
         "name": "Defending myself from my own Summons",
         "orientation": "h",
         "text": [
          "Defending myself from my own Summons"
         ],
         "type": "bar",
         "x": [
          11
         ],
         "xaxis": "x",
         "y": [
          "Remnant: From the Ashes"
         ],
         "yaxis": "y"
        },
        {
         "marker": {
          "color": [
           11
          ],
          "coloraxis": "coloraxis"
         },
         "name": "Defending myself from my own Summons",
         "orientation": "h",
         "text": [
          "Defending myself from my own Summons"
         ],
         "type": "bar",
         "x": [
          86
         ],
         "xaxis": "x2",
         "y": [
          "Remnant: From the Ashes"
         ],
         "yaxis": "y2"
        },
        {
         "marker": {
          "color": [
           7
          ],
          "coloraxis": "coloraxis"
         },
         "name": "Finally cleared Round 1 boss lol",
         "orientation": "h",
         "text": [
          "Finally cleared Round 1 boss lol"
         ],
         "type": "bar",
         "x": [
          7
         ],
         "xaxis": "x",
         "y": [
          "Remnant: From the Ashes"
         ],
         "yaxis": "y"
        },
        {
         "marker": {
          "color": [
           7
          ],
          "coloraxis": "coloraxis"
         },
         "name": "Finally cleared Round 1 boss lol",
         "orientation": "h",
         "text": [
          "Finally cleared Round 1 boss lol"
         ],
         "type": "bar",
         "x": [
          107
         ],
         "xaxis": "x2",
         "y": [
          "Remnant: From the Ashes"
         ],
         "yaxis": "y2"
        },
        {
         "marker": {
          "color": [
           15
          ],
          "coloraxis": "coloraxis"
         },
         "name": "Why you want the Devastator ",
         "orientation": "h",
         "text": [
          "Why you want the Devastator "
         ],
         "type": "bar",
         "x": [
          15
         ],
         "xaxis": "x",
         "y": [
          "Remnant: From the Ashes"
         ],
         "yaxis": "y"
        },
        {
         "marker": {
          "color": [
           15
          ],
          "coloraxis": "coloraxis"
         },
         "name": "Why you want the Devastator ",
         "orientation": "h",
         "text": [
          "Why you want the Devastator "
         ],
         "type": "bar",
         "x": [
          119
         ],
         "xaxis": "x2",
         "y": [
          "Remnant: From the Ashes"
         ],
         "yaxis": "y2"
        },
        {
         "marker": {
          "color": [
           73
          ],
          "coloraxis": "coloraxis"
         },
         "name": "Corrosive Damage Can Stack",
         "orientation": "h",
         "text": [
          "Corrosive Damage Can Stack"
         ],
         "type": "bar",
         "x": [
          73
         ],
         "xaxis": "x",
         "y": [
          "Remnant: From the Ashes"
         ],
         "yaxis": "y"
        },
        {
         "marker": {
          "color": [
           73
          ],
          "coloraxis": "coloraxis"
         },
         "name": "Corrosive Damage Can Stack",
         "orientation": "h",
         "text": [
          "Corrosive Damage Can Stack"
         ],
         "type": "bar",
         "x": [
          97
         ],
         "xaxis": "x2",
         "y": [
          "Remnant: From the Ashes"
         ],
         "yaxis": "y2"
        },
        {
         "marker": {
          "color": [
           9
          ],
          "coloraxis": "coloraxis"
         },
         "name": "Co-Op: Big ole ThickDSavy",
         "orientation": "h",
         "text": [
          "Co-Op: Big ole ThickDSavy"
         ],
         "type": "bar",
         "x": [
          9
         ],
         "xaxis": "x",
         "y": [
          "Ghost of Tsushima"
         ],
         "yaxis": "y"
        },
        {
         "marker": {
          "color": [
           9
          ],
          "coloraxis": "coloraxis"
         },
         "name": "Co-Op: Big ole ThickDSavy",
         "orientation": "h",
         "text": [
          "Co-Op: Big ole ThickDSavy"
         ],
         "type": "bar",
         "x": [
          65
         ],
         "xaxis": "x2",
         "y": [
          "Ghost of Tsushima"
         ],
         "yaxis": "y2"
        },
        {
         "marker": {
          "color": [
           5
          ],
          "coloraxis": "coloraxis"
         },
         "name": "All the marbles",
         "orientation": "h",
         "text": [
          "All the marbles"
         ],
         "type": "bar",
         "x": [
          5
         ],
         "xaxis": "x",
         "y": [
          "Overcooked! All You Can Eat"
         ],
         "yaxis": "y"
        },
        {
         "marker": {
          "color": [
           5
          ],
          "coloraxis": "coloraxis"
         },
         "name": "All the marbles",
         "orientation": "h",
         "text": [
          "All the marbles"
         ],
         "type": "bar",
         "x": [
          108
         ],
         "xaxis": "x2",
         "y": [
          "Overcooked! All You Can Eat"
         ],
         "yaxis": "y2"
        },
        {
         "marker": {
          "color": [
           46
          ],
          "coloraxis": "coloraxis"
         },
         "name": "The Round One is Brave!",
         "orientation": "h",
         "text": [
          "The Round One is Brave!"
         ],
         "type": "bar",
         "x": [
          46
         ],
         "xaxis": "x",
         "y": [
          "Demon's Souls"
         ],
         "yaxis": "y"
        },
        {
         "marker": {
          "color": [
           46
          ],
          "coloraxis": "coloraxis"
         },
         "name": "The Round One is Brave!",
         "orientation": "h",
         "text": [
          "The Round One is Brave!"
         ],
         "type": "bar",
         "x": [
          91
         ],
         "xaxis": "x2",
         "y": [
          "Demon's Souls"
         ],
         "yaxis": "y2"
        },
        {
         "marker": {
          "color": [
           13
          ],
          "coloraxis": "coloraxis"
         },
         "name": "The Emergence of the Sh!ttyWon",
         "orientation": "h",
         "text": [
          "The Emergence of the Sh!ttyWon"
         ],
         "type": "bar",
         "x": [
          13
         ],
         "xaxis": "x",
         "y": [
          "It Takes Two"
         ],
         "yaxis": "y"
        },
        {
         "marker": {
          "color": [
           13
          ],
          "coloraxis": "coloraxis"
         },
         "name": "The Emergence of the Sh!ttyWon",
         "orientation": "h",
         "text": [
          "The Emergence of the Sh!ttyWon"
         ],
         "type": "bar",
         "x": [
          96
         ],
         "xaxis": "x2",
         "y": [
          "It Takes Two"
         ],
         "yaxis": "y2"
        },
        {
         "marker": {
          "color": [
           28
          ],
          "coloraxis": "coloraxis"
         },
         "name": "DIARRHEA EVERYWHERE!",
         "orientation": "h",
         "text": [
          "DIARRHEA EVERYWHERE!"
         ],
         "type": "bar",
         "x": [
          28
         ],
         "xaxis": "x",
         "y": [
          "Demon's Souls"
         ],
         "yaxis": "y"
        },
        {
         "marker": {
          "color": [
           28
          ],
          "coloraxis": "coloraxis"
         },
         "name": "DIARRHEA EVERYWHERE!",
         "orientation": "h",
         "text": [
          "DIARRHEA EVERYWHERE!"
         ],
         "type": "bar",
         "x": [
          82
         ],
         "xaxis": "x2",
         "y": [
          "Demon's Souls"
         ],
         "yaxis": "y2"
        },
        {
         "marker": {
          "color": [
           19
          ],
          "coloraxis": "coloraxis"
         },
         "name": "Quick Mini Boss Takedown with the Sniper Rifle",
         "orientation": "h",
         "text": [
          "Quick Mini Boss Takedown with the Sniper Rifle"
         ],
         "type": "bar",
         "x": [
          19
         ],
         "xaxis": "x",
         "y": [
          "Remnant: From the Ashes"
         ],
         "yaxis": "y"
        },
        {
         "marker": {
          "color": [
           19
          ],
          "coloraxis": "coloraxis"
         },
         "name": "Quick Mini Boss Takedown with the Sniper Rifle",
         "orientation": "h",
         "text": [
          "Quick Mini Boss Takedown with the Sniper Rifle"
         ],
         "type": "bar",
         "x": [
          92
         ],
         "xaxis": "x2",
         "y": [
          "Remnant: From the Ashes"
         ],
         "yaxis": "y2"
        },
        {
         "marker": {
          "color": [
           15
          ],
          "coloraxis": "coloraxis"
         },
         "name": "Clipping G O L D",
         "orientation": "h",
         "text": [
          "Clipping G O L D"
         ],
         "type": "bar",
         "x": [
          15
         ],
         "xaxis": "x",
         "y": [
          "Demon's Souls"
         ],
         "yaxis": "y"
        },
        {
         "marker": {
          "color": [
           15
          ],
          "coloraxis": "coloraxis"
         },
         "name": "Clipping G O L D",
         "orientation": "h",
         "text": [
          "Clipping G O L D"
         ],
         "type": "bar",
         "x": [
          55
         ],
         "xaxis": "x2",
         "y": [
          "Demon's Souls"
         ],
         "yaxis": "y2"
        },
        {
         "marker": {
          "color": [
           41
          ],
          "coloraxis": "coloraxis"
         },
         "name": "Coach gun turned out to be pretty good",
         "orientation": "h",
         "text": [
          "Coach gun turned out to be pretty good"
         ],
         "type": "bar",
         "x": [
          41
         ],
         "xaxis": "x",
         "y": [
          "Remnant: From the Ashes"
         ],
         "yaxis": "y"
        },
        {
         "marker": {
          "color": [
           41
          ],
          "coloraxis": "coloraxis"
         },
         "name": "Coach gun turned out to be pretty good",
         "orientation": "h",
         "text": [
          "Coach gun turned out to be pretty good"
         ],
         "type": "bar",
         "x": [
          72
         ],
         "xaxis": "x2",
         "y": [
          "Remnant: From the Ashes"
         ],
         "yaxis": "y2"
        },
        {
         "marker": {
          "color": [
           7
          ],
          "coloraxis": "coloraxis"
         },
         "name": "At your doorstep",
         "orientation": "h",
         "text": [
          "At your doorstep"
         ],
         "type": "bar",
         "x": [
          7
         ],
         "xaxis": "x",
         "y": [
          "Horizon Forbidden West"
         ],
         "yaxis": "y"
        },
        {
         "marker": {
          "color": [
           7
          ],
          "coloraxis": "coloraxis"
         },
         "name": "At your doorstep",
         "orientation": "h",
         "text": [
          "At your doorstep"
         ],
         "type": "bar",
         "x": [
          77
         ],
         "xaxis": "x2",
         "y": [
          "Horizon Forbidden West"
         ],
         "yaxis": "y2"
        },
        {
         "marker": {
          "color": [
           10
          ],
          "coloraxis": "coloraxis"
         },
         "name": "Barrel talk",
         "orientation": "h",
         "text": [
          "Barrel talk"
         ],
         "type": "bar",
         "x": [
          10
         ],
         "xaxis": "x",
         "y": [
          "Clash Royale"
         ],
         "yaxis": "y"
        },
        {
         "marker": {
          "color": [
           10
          ],
          "coloraxis": "coloraxis"
         },
         "name": "Barrel talk",
         "orientation": "h",
         "text": [
          "Barrel talk"
         ],
         "type": "bar",
         "x": [
          40
         ],
         "xaxis": "x2",
         "y": [
          "Clash Royale"
         ],
         "yaxis": "y2"
        },
        {
         "marker": {
          "color": [
           14
          ],
          "coloraxis": "coloraxis"
         },
         "name": "making good choices",
         "orientation": "h",
         "text": [
          "making good choices"
         ],
         "type": "bar",
         "x": [
          14
         ],
         "xaxis": "x",
         "y": [
          "Demon's Souls"
         ],
         "yaxis": "y"
        },
        {
         "marker": {
          "color": [
           14
          ],
          "coloraxis": "coloraxis"
         },
         "name": "making good choices",
         "orientation": "h",
         "text": [
          "making good choices"
         ],
         "type": "bar",
         "x": [
          48
         ],
         "xaxis": "x2",
         "y": [
          "Demon's Souls"
         ],
         "yaxis": "y2"
        },
        {
         "marker": {
          "color": [
           8
          ],
          "coloraxis": "coloraxis"
         },
         "name": "THE RED DIARRHEA!!!!",
         "orientation": "h",
         "text": [
          "THE RED DIARRHEA!!!!"
         ],
         "type": "bar",
         "x": [
          8
         ],
         "xaxis": "x",
         "y": [
          "Demon's Souls"
         ],
         "yaxis": "y"
        },
        {
         "marker": {
          "color": [
           8
          ],
          "coloraxis": "coloraxis"
         },
         "name": "THE RED DIARRHEA!!!!",
         "orientation": "h",
         "text": [
          "THE RED DIARRHEA!!!!"
         ],
         "type": "bar",
         "x": [
          47
         ],
         "xaxis": "x2",
         "y": [
          "Demon's Souls"
         ],
         "yaxis": "y2"
        },
        {
         "marker": {
          "color": [
           23
          ],
          "coloraxis": "coloraxis"
         },
         "name": "Aaaand Goodnight!",
         "orientation": "h",
         "text": [
          "Aaaand Goodnight!"
         ],
         "type": "bar",
         "x": [
          23
         ],
         "xaxis": "x",
         "y": [
          "Remnant: From the Ashes"
         ],
         "yaxis": "y"
        },
        {
         "marker": {
          "color": [
           23
          ],
          "coloraxis": "coloraxis"
         },
         "name": "Aaaand Goodnight!",
         "orientation": "h",
         "text": [
          "Aaaand Goodnight!"
         ],
         "type": "bar",
         "x": [
          46
         ],
         "xaxis": "x2",
         "y": [
          "Remnant: From the Ashes"
         ],
         "yaxis": "y2"
        },
        {
         "marker": {
          "color": [
           7
          ],
          "coloraxis": "coloraxis"
         },
         "name": "Weird people on horses",
         "orientation": "h",
         "text": [
          "Weird people on horses"
         ],
         "type": "bar",
         "x": [
          7
         ],
         "xaxis": "x",
         "y": [
          "Horizon Forbidden West"
         ],
         "yaxis": "y"
        },
        {
         "marker": {
          "color": [
           7
          ],
          "coloraxis": "coloraxis"
         },
         "name": "Weird people on horses",
         "orientation": "h",
         "text": [
          "Weird people on horses"
         ],
         "type": "bar",
         "x": [
          31
         ],
         "xaxis": "x2",
         "y": [
          "Horizon Forbidden West"
         ],
         "yaxis": "y2"
        },
        {
         "marker": {
          "color": [
           13
          ],
          "coloraxis": "coloraxis"
         },
         "name": "Poking and running away",
         "orientation": "h",
         "text": [
          "Poking and running away"
         ],
         "type": "bar",
         "x": [
          13
         ],
         "xaxis": "x",
         "y": [
          "Horizon Forbidden West"
         ],
         "yaxis": "y"
        },
        {
         "marker": {
          "color": [
           13
          ],
          "coloraxis": "coloraxis"
         },
         "name": "Poking and running away",
         "orientation": "h",
         "text": [
          "Poking and running away"
         ],
         "type": "bar",
         "x": [
          14
         ],
         "xaxis": "x2",
         "y": [
          "Horizon Forbidden West"
         ],
         "yaxis": "y2"
        },
        {
         "marker": {
          "color": [
           10
          ],
          "coloraxis": "coloraxis"
         },
         "name": "magic man",
         "orientation": "h",
         "text": [
          "magic man"
         ],
         "type": "bar",
         "x": [
          10
         ],
         "xaxis": "x",
         "y": [
          "Demon's Souls"
         ],
         "yaxis": "y"
        },
        {
         "marker": {
          "color": [
           10
          ],
          "coloraxis": "coloraxis"
         },
         "name": "magic man",
         "orientation": "h",
         "text": [
          "magic man"
         ],
         "type": "bar",
         "x": [
          18
         ],
         "xaxis": "x2",
         "y": [
          "Demon's Souls"
         ],
         "yaxis": "y2"
        },
        {
         "marker": {
          "color": [
           13
          ],
          "coloraxis": "coloraxis"
         },
         "name": "Sage Advise on Armor Investment from lmperialEmpire",
         "orientation": "h",
         "text": [
          "Sage Advise on Armor Investment from lmperialEmpire"
         ],
         "type": "bar",
         "x": [
          13
         ],
         "xaxis": "x",
         "y": [
          "Remnant: From the Ashes"
         ],
         "yaxis": "y"
        },
        {
         "marker": {
          "color": [
           13
          ],
          "coloraxis": "coloraxis"
         },
         "name": "Sage Advise on Armor Investment from lmperialEmpire",
         "orientation": "h",
         "text": [
          "Sage Advise on Armor Investment from lmperialEmpire"
         ],
         "type": "bar",
         "x": [
          19
         ],
         "xaxis": "x2",
         "y": [
          "Remnant: From the Ashes"
         ],
         "yaxis": "y2"
        },
        {
         "marker": {
          "color": [
           12
          ],
          "coloraxis": "coloraxis"
         },
         "name": "2000 Souls Gone",
         "orientation": "h",
         "text": [
          "2000 Souls Gone"
         ],
         "type": "bar",
         "x": [
          12
         ],
         "xaxis": "x",
         "y": [
          "Demon's Souls"
         ],
         "yaxis": "y"
        },
        {
         "marker": {
          "color": [
           12
          ],
          "coloraxis": "coloraxis"
         },
         "name": "2000 Souls Gone",
         "orientation": "h",
         "text": [
          "2000 Souls Gone"
         ],
         "type": "bar",
         "x": [
          25
         ],
         "xaxis": "x2",
         "y": [
          "Demon's Souls"
         ],
         "yaxis": "y2"
        },
        {
         "marker": {
          "color": [
           10
          ],
          "coloraxis": "coloraxis"
         },
         "name": "Demon souls first play through",
         "orientation": "h",
         "text": [
          "Demon souls first play through"
         ],
         "type": "bar",
         "x": [
          10
         ],
         "xaxis": "x",
         "y": [
          "Demon's Souls"
         ],
         "yaxis": "y"
        },
        {
         "marker": {
          "color": [
           10
          ],
          "coloraxis": "coloraxis"
         },
         "name": "Demon souls first play through",
         "orientation": "h",
         "text": [
          "Demon souls first play through"
         ],
         "type": "bar",
         "x": [
          27
         ],
         "xaxis": "x2",
         "y": [
          "Demon's Souls"
         ],
         "yaxis": "y2"
        },
        {
         "marker": {
          "color": [
           10
          ],
          "coloraxis": "coloraxis"
         },
         "name": "For the SquareOne",
         "orientation": "h",
         "text": [
          "For the SquareOne"
         ],
         "type": "bar",
         "x": [
          10
         ],
         "xaxis": "x",
         "y": [
          "Demon's Souls"
         ],
         "yaxis": "y"
        },
        {
         "marker": {
          "color": [
           10
          ],
          "coloraxis": "coloraxis"
         },
         "name": "For the SquareOne",
         "orientation": "h",
         "text": [
          "For the SquareOne"
         ],
         "type": "bar",
         "x": [
          30
         ],
         "xaxis": "x2",
         "y": [
          "Demon's Souls"
         ],
         "yaxis": "y2"
        },
        {
         "marker": {
          "color": [
           15
          ],
          "coloraxis": "coloraxis"
         },
         "name": "Evening Clash with Triangle before we try PS5 game",
         "orientation": "h",
         "text": [
          "Evening Clash with Triangle before we try PS5 game"
         ],
         "type": "bar",
         "x": [
          15
         ],
         "xaxis": "x",
         "y": [
          "Clash Royale"
         ],
         "yaxis": "y"
        },
        {
         "marker": {
          "color": [
           15
          ],
          "coloraxis": "coloraxis"
         },
         "name": "Evening Clash with Triangle before we try PS5 game",
         "orientation": "h",
         "text": [
          "Evening Clash with Triangle before we try PS5 game"
         ],
         "type": "bar",
         "x": [
          23
         ],
         "xaxis": "x2",
         "y": [
          "Clash Royale"
         ],
         "yaxis": "y2"
        },
        {
         "marker": {
          "color": [
           1
          ],
          "coloraxis": "coloraxis"
         },
         "name": "Quick stream: Overcooked before Remnant survivor",
         "orientation": "h",
         "text": [
          "Quick stream: Overcooked before Remnant survivor"
         ],
         "type": "bar",
         "x": [
          1
         ],
         "xaxis": "x",
         "y": [
          "Overcooked! All You Can Eat"
         ],
         "yaxis": "y"
        },
        {
         "marker": {
          "color": [
           1
          ],
          "coloraxis": "coloraxis"
         },
         "name": "Quick stream: Overcooked before Remnant survivor",
         "orientation": "h",
         "text": [
          "Quick stream: Overcooked before Remnant survivor"
         ],
         "type": "bar",
         "x": [
          31
         ],
         "xaxis": "x2",
         "y": [
          "Overcooked! All You Can Eat"
         ],
         "yaxis": "y2"
        },
        {
         "marker": {
          "color": [
           17
          ],
          "coloraxis": "coloraxis"
         },
         "name": "I got a tree b, can't fight the tree!",
         "orientation": "h",
         "text": [
          "I got a tree b, can't fight the tree!"
         ],
         "type": "bar",
         "x": [
          17
         ],
         "xaxis": "x",
         "y": [
          "Horizon Forbidden West"
         ],
         "yaxis": "y"
        },
        {
         "marker": {
          "color": [
           17
          ],
          "coloraxis": "coloraxis"
         },
         "name": "I got a tree b, can't fight the tree!",
         "orientation": "h",
         "text": [
          "I got a tree b, can't fight the tree!"
         ],
         "type": "bar",
         "x": [
          16
         ],
         "xaxis": "x2",
         "y": [
          "Horizon Forbidden West"
         ],
         "yaxis": "y2"
        },
        {
         "marker": {
          "color": [
           8
          ],
          "coloraxis": "coloraxis"
         },
         "name": "Irony",
         "orientation": "h",
         "text": [
          "Irony"
         ],
         "type": "bar",
         "x": [
          8
         ],
         "xaxis": "x",
         "y": [
          "It Takes Two"
         ],
         "yaxis": "y"
        },
        {
         "marker": {
          "color": [
           8
          ],
          "coloraxis": "coloraxis"
         },
         "name": "Irony",
         "orientation": "h",
         "text": [
          "Irony"
         ],
         "type": "bar",
         "x": [
          21
         ],
         "xaxis": "x2",
         "y": [
          "It Takes Two"
         ],
         "yaxis": "y2"
        },
        {
         "marker": {
          "color": [
           10
          ],
          "coloraxis": "coloraxis"
         },
         "name": "Rolling's Supposed to Save You!!!",
         "orientation": "h",
         "text": [
          "Rolling's Supposed to Save You!!!"
         ],
         "type": "bar",
         "x": [
          10
         ],
         "xaxis": "x",
         "y": [
          "Demon's Souls"
         ],
         "yaxis": "y"
        },
        {
         "marker": {
          "color": [
           10
          ],
          "coloraxis": "coloraxis"
         },
         "name": "Rolling's Supposed to Save You!!!",
         "orientation": "h",
         "text": [
          "Rolling's Supposed to Save You!!!"
         ],
         "type": "bar",
         "x": [
          8
         ],
         "xaxis": "x2",
         "y": [
          "Demon's Souls"
         ],
         "yaxis": "y2"
        },
        {
         "marker": {
          "color": [
           2
          ],
          "coloraxis": "coloraxis"
         },
         "name": "Horizon mystery mission?!",
         "orientation": "h",
         "text": [
          "Horizon mystery mission?!"
         ],
         "type": "bar",
         "x": [
          2
         ],
         "xaxis": "x",
         "y": [
          "Horizon Forbidden West"
         ],
         "yaxis": "y"
        },
        {
         "marker": {
          "color": [
           2
          ],
          "coloraxis": "coloraxis"
         },
         "name": "Horizon mystery mission?!",
         "orientation": "h",
         "text": [
          "Horizon mystery mission?!"
         ],
         "type": "bar",
         "x": [
          10
         ],
         "xaxis": "x2",
         "y": [
          "Horizon Forbidden West"
         ],
         "yaxis": "y2"
        },
        {
         "marker": {
          "color": [
           5
          ],
          "coloraxis": "coloraxis"
         },
         "name": "Co-Op: Did you not see my greatness?",
         "orientation": "h",
         "text": [
          "Co-Op: Did you not see my greatness?"
         ],
         "type": "bar",
         "x": [
          5
         ],
         "xaxis": "x",
         "y": [
          "Ghost of Tsushima"
         ],
         "yaxis": "y"
        },
        {
         "marker": {
          "color": [
           5
          ],
          "coloraxis": "coloraxis"
         },
         "name": "Co-Op: Did you not see my greatness?",
         "orientation": "h",
         "text": [
          "Co-Op: Did you not see my greatness?"
         ],
         "type": "bar",
         "x": [
          10
         ],
         "xaxis": "x2",
         "y": [
          "Ghost of Tsushima"
         ],
         "yaxis": "y2"
        },
        {
         "marker": {
          "color": [
           8
          ],
          "coloraxis": "coloraxis"
         },
         "name": "Clash Royale Evenings with The Triangle - TheRoundWonBot upgrade!",
         "orientation": "h",
         "text": [
          "Clash Royale Evenings with The Triangle - TheRoundWonBot upgrade!"
         ],
         "type": "bar",
         "x": [
          8
         ],
         "xaxis": "x",
         "y": [
          "Clash Royale"
         ],
         "yaxis": "y"
        },
        {
         "marker": {
          "color": [
           8
          ],
          "coloraxis": "coloraxis"
         },
         "name": "Clash Royale Evenings with The Triangle - TheRoundWonBot upgrade!",
         "orientation": "h",
         "text": [
          "Clash Royale Evenings with The Triangle - TheRoundWonBot upgrade!"
         ],
         "type": "bar",
         "x": [
          3
         ],
         "xaxis": "x2",
         "y": [
          "Clash Royale"
         ],
         "yaxis": "y2"
        },
        {
         "marker": {
          "color": [
           10
          ],
          "coloraxis": "coloraxis"
         },
         "name": "There you go...oh sh**",
         "orientation": "h",
         "text": [
          "There you go...oh sh**"
         ],
         "type": "bar",
         "x": [
          10
         ],
         "xaxis": "x",
         "y": [
          "Clash Royale"
         ],
         "yaxis": "y"
        },
        {
         "marker": {
          "color": [
           10
          ],
          "coloraxis": "coloraxis"
         },
         "name": "There you go...oh sh**",
         "orientation": "h",
         "text": [
          "There you go...oh sh**"
         ],
         "type": "bar",
         "x": [
          18
         ],
         "xaxis": "x2",
         "y": [
          "Clash Royale"
         ],
         "yaxis": "y2"
        },
        {
         "marker": {
          "color": [
           8
          ],
          "coloraxis": "coloraxis"
         },
         "name": "SquareWon takeover: You know who I am",
         "orientation": "h",
         "text": [
          "SquareWon takeover: You know who I am"
         ],
         "type": "bar",
         "x": [
          8
         ],
         "xaxis": "x",
         "y": [
          "Horizon Forbidden West"
         ],
         "yaxis": "y"
        },
        {
         "marker": {
          "color": [
           8
          ],
          "coloraxis": "coloraxis"
         },
         "name": "SquareWon takeover: You know who I am",
         "orientation": "h",
         "text": [
          "SquareWon takeover: You know who I am"
         ],
         "type": "bar",
         "x": [
          8
         ],
         "xaxis": "x2",
         "y": [
          "Horizon Forbidden West"
         ],
         "yaxis": "y2"
        },
        {
         "marker": {
          "color": [
           1
          ],
          "coloraxis": "coloraxis"
         },
         "name": "Sorry clash fans, Overcook pivot",
         "orientation": "h",
         "text": [
          "Sorry clash fans, Overcook pivot"
         ],
         "type": "bar",
         "x": [
          1
         ],
         "xaxis": "x",
         "y": [
          "Overcooked! All You Can Eat"
         ],
         "yaxis": "y"
        },
        {
         "marker": {
          "color": [
           1
          ],
          "coloraxis": "coloraxis"
         },
         "name": "Sorry clash fans, Overcook pivot",
         "orientation": "h",
         "text": [
          "Sorry clash fans, Overcook pivot"
         ],
         "type": "bar",
         "x": [
          13
         ],
         "xaxis": "x2",
         "y": [
          "Overcooked! All You Can Eat"
         ],
         "yaxis": "y2"
        },
        {
         "marker": {
          "color": [
           19
          ],
          "coloraxis": "coloraxis"
         },
         "name": "The SaltWon",
         "orientation": "h",
         "text": [
          "The SaltWon"
         ],
         "type": "bar",
         "x": [
          19
         ],
         "xaxis": "x",
         "y": [
          "Horizon Forbidden West"
         ],
         "yaxis": "y"
        },
        {
         "marker": {
          "color": [
           19
          ],
          "coloraxis": "coloraxis"
         },
         "name": "The SaltWon",
         "orientation": "h",
         "text": [
          "The SaltWon"
         ],
         "type": "bar",
         "x": [
          4
         ],
         "xaxis": "x2",
         "y": [
          "Horizon Forbidden West"
         ],
         "yaxis": "y2"
        },
        {
         "marker": {
          "color": [
           33
          ],
          "coloraxis": "coloraxis"
         },
         "name": "When You're The Last One Left",
         "orientation": "h",
         "text": [
          "When You're The Last One Left"
         ],
         "type": "bar",
         "x": [
          33
         ],
         "xaxis": "x",
         "y": [
          "Remnant: From the Ashes"
         ],
         "yaxis": "y"
        },
        {
         "marker": {
          "color": [
           33
          ],
          "coloraxis": "coloraxis"
         },
         "name": "When You're The Last One Left",
         "orientation": "h",
         "text": [
          "When You're The Last One Left"
         ],
         "type": "bar",
         "x": [
          2
         ],
         "xaxis": "x2",
         "y": [
          "Remnant: From the Ashes"
         ],
         "yaxis": "y2"
        },
        {
         "marker": {
          "color": [
           12
          ],
          "coloraxis": "coloraxis"
         },
         "name": "Square doing square things",
         "orientation": "h",
         "text": [
          "Square doing square things"
         ],
         "type": "bar",
         "x": [
          12
         ],
         "xaxis": "x",
         "y": [
          "Demon's Souls"
         ],
         "yaxis": "y"
        },
        {
         "marker": {
          "color": [
           12
          ],
          "coloraxis": "coloraxis"
         },
         "name": "Square doing square things",
         "orientation": "h",
         "text": [
          "Square doing square things"
         ],
         "type": "bar",
         "x": [
          3
         ],
         "xaxis": "x2",
         "y": [
          "Demon's Souls"
         ],
         "yaxis": "y2"
        },
        {
         "marker": {
          "color": [
           6
          ],
          "coloraxis": "coloraxis"
         },
         "name": "Spicy Square People",
         "orientation": "h",
         "text": [
          "Spicy Square People"
         ],
         "type": "bar",
         "x": [
          6
         ],
         "xaxis": "x",
         "y": [
          "Overcooked! All You Can Eat"
         ],
         "yaxis": "y"
        },
        {
         "marker": {
          "color": [
           6
          ],
          "coloraxis": "coloraxis"
         },
         "name": "Spicy Square People",
         "orientation": "h",
         "text": [
          "Spicy Square People"
         ],
         "type": "bar",
         "x": [
          5
         ],
         "xaxis": "x2",
         "y": [
          "Overcooked! All You Can Eat"
         ],
         "yaxis": "y2"
        },
        {
         "marker": {
          "color": [
           16
          ],
          "coloraxis": "coloraxis"
         },
         "name": "I am like a ninja",
         "orientation": "h",
         "text": [
          "I am like a ninja"
         ],
         "type": "bar",
         "x": [
          16
         ],
         "xaxis": "x",
         "y": [
          "Horizon Forbidden West"
         ],
         "yaxis": "y"
        },
        {
         "marker": {
          "color": [
           16
          ],
          "coloraxis": "coloraxis"
         },
         "name": "I am like a ninja",
         "orientation": "h",
         "text": [
          "I am like a ninja"
         ],
         "type": "bar",
         "x": [
          10
         ],
         "xaxis": "x2",
         "y": [
          "Horizon Forbidden West"
         ],
         "yaxis": "y2"
        },
        {
         "marker": {
          "color": [
           6
          ],
          "coloraxis": "coloraxis"
         },
         "name": "Hard work",
         "orientation": "h",
         "text": [
          "Hard work"
         ],
         "type": "bar",
         "x": [
          6
         ],
         "xaxis": "x",
         "y": [
          "Horizon Forbidden West"
         ],
         "yaxis": "y"
        },
        {
         "marker": {
          "color": [
           6
          ],
          "coloraxis": "coloraxis"
         },
         "name": "Hard work",
         "orientation": "h",
         "text": [
          "Hard work"
         ],
         "type": "bar",
         "x": [
          4
         ],
         "xaxis": "x2",
         "y": [
          "Horizon Forbidden West"
         ],
         "yaxis": "y2"
        },
        {
         "marker": {
          "color": [
           15
          ],
          "coloraxis": "coloraxis"
         },
         "name": "For all the Marbles!",
         "orientation": "h",
         "text": [
          "For all the Marbles!"
         ],
         "type": "bar",
         "x": [
          15
         ],
         "xaxis": "x",
         "y": [
          "Overcooked! All You Can Eat"
         ],
         "yaxis": "y"
        },
        {
         "marker": {
          "color": [
           15
          ],
          "coloraxis": "coloraxis"
         },
         "name": "For all the Marbles!",
         "orientation": "h",
         "text": [
          "For all the Marbles!"
         ],
         "type": "bar",
         "x": [
          6
         ],
         "xaxis": "x2",
         "y": [
          "Overcooked! All You Can Eat"
         ],
         "yaxis": "y2"
        },
        {
         "marker": {
          "color": [
           11
          ],
          "coloraxis": "coloraxis"
         },
         "name": "Go away! So needy...",
         "orientation": "h",
         "text": [
          "Go away! So needy..."
         ],
         "type": "bar",
         "x": [
          11
         ],
         "xaxis": "x",
         "y": [
          "Horizon Forbidden West"
         ],
         "yaxis": "y"
        },
        {
         "marker": {
          "color": [
           11
          ],
          "coloraxis": "coloraxis"
         },
         "name": "Go away! So needy...",
         "orientation": "h",
         "text": [
          "Go away! So needy..."
         ],
         "type": "bar",
         "x": [
          6
         ],
         "xaxis": "x2",
         "y": [
          "Horizon Forbidden West"
         ],
         "yaxis": "y2"
        },
        {
         "marker": {
          "color": [
           13
          ],
          "coloraxis": "coloraxis"
         },
         "name": "We are definitely not Daredevils ",
         "orientation": "h",
         "text": [
          "We are definitely not Daredevils "
         ],
         "type": "bar",
         "x": [
          13
         ],
         "xaxis": "x",
         "y": [
          "Remnant: From the Ashes"
         ],
         "yaxis": "y"
        },
        {
         "marker": {
          "color": [
           13
          ],
          "coloraxis": "coloraxis"
         },
         "name": "We are definitely not Daredevils ",
         "orientation": "h",
         "text": [
          "We are definitely not Daredevils "
         ],
         "type": "bar",
         "x": [
          4
         ],
         "xaxis": "x2",
         "y": [
          "Remnant: From the Ashes"
         ],
         "yaxis": "y2"
        },
        {
         "marker": {
          "color": [
           19
          ],
          "coloraxis": "coloraxis"
         },
         "name": "Heroes Don't Die",
         "orientation": "h",
         "text": [
          "Heroes Don't Die"
         ],
         "type": "bar",
         "x": [
          19
         ],
         "xaxis": "x",
         "y": [
          "Horizon Forbidden West"
         ],
         "yaxis": "y"
        },
        {
         "marker": {
          "color": [
           19
          ],
          "coloraxis": "coloraxis"
         },
         "name": "Heroes Don't Die",
         "orientation": "h",
         "text": [
          "Heroes Don't Die"
         ],
         "type": "bar",
         "x": [
          7
         ],
         "xaxis": "x2",
         "y": [
          "Horizon Forbidden West"
         ],
         "yaxis": "y2"
        }
       ],
       "layout": {
        "annotations": [
         {
          "font": {
           "size": 16
          },
          "showarrow": false,
          "text": "Twitch Views",
          "x": 0.225,
          "xanchor": "center",
          "xref": "paper",
          "y": 1,
          "yanchor": "bottom",
          "yref": "paper"
         },
         {
          "font": {
           "size": 16
          },
          "showarrow": false,
          "text": "Youtube Shorts Views",
          "x": 0.775,
          "xanchor": "center",
          "xref": "paper",
          "y": 1,
          "yanchor": "bottom",
          "yref": "paper"
         }
        ],
        "barmode": "stack",
        "coloraxis": {
         "showscale": false
        },
        "height": 400,
        "template": {
         "data": {
          "bar": [
           {
            "error_x": {
             "color": "#2a3f5f"
            },
            "error_y": {
             "color": "#2a3f5f"
            },
            "marker": {
             "line": {
              "color": "#E5ECF6",
              "width": 0.5
             },
             "pattern": {
              "fillmode": "overlay",
              "size": 10,
              "solidity": 0.2
             }
            },
            "type": "bar"
           }
          ],
          "barpolar": [
           {
            "marker": {
             "line": {
              "color": "#E5ECF6",
              "width": 0.5
             },
             "pattern": {
              "fillmode": "overlay",
              "size": 10,
              "solidity": 0.2
             }
            },
            "type": "barpolar"
           }
          ],
          "carpet": [
           {
            "aaxis": {
             "endlinecolor": "#2a3f5f",
             "gridcolor": "white",
             "linecolor": "white",
             "minorgridcolor": "white",
             "startlinecolor": "#2a3f5f"
            },
            "baxis": {
             "endlinecolor": "#2a3f5f",
             "gridcolor": "white",
             "linecolor": "white",
             "minorgridcolor": "white",
             "startlinecolor": "#2a3f5f"
            },
            "type": "carpet"
           }
          ],
          "choropleth": [
           {
            "colorbar": {
             "outlinewidth": 0,
             "ticks": ""
            },
            "type": "choropleth"
           }
          ],
          "contour": [
           {
            "colorbar": {
             "outlinewidth": 0,
             "ticks": ""
            },
            "colorscale": [
             [
              0,
              "#0d0887"
             ],
             [
              0.1111111111111111,
              "#46039f"
             ],
             [
              0.2222222222222222,
              "#7201a8"
             ],
             [
              0.3333333333333333,
              "#9c179e"
             ],
             [
              0.4444444444444444,
              "#bd3786"
             ],
             [
              0.5555555555555556,
              "#d8576b"
             ],
             [
              0.6666666666666666,
              "#ed7953"
             ],
             [
              0.7777777777777778,
              "#fb9f3a"
             ],
             [
              0.8888888888888888,
              "#fdca26"
             ],
             [
              1,
              "#f0f921"
             ]
            ],
            "type": "contour"
           }
          ],
          "contourcarpet": [
           {
            "colorbar": {
             "outlinewidth": 0,
             "ticks": ""
            },
            "type": "contourcarpet"
           }
          ],
          "heatmap": [
           {
            "colorbar": {
             "outlinewidth": 0,
             "ticks": ""
            },
            "colorscale": [
             [
              0,
              "#0d0887"
             ],
             [
              0.1111111111111111,
              "#46039f"
             ],
             [
              0.2222222222222222,
              "#7201a8"
             ],
             [
              0.3333333333333333,
              "#9c179e"
             ],
             [
              0.4444444444444444,
              "#bd3786"
             ],
             [
              0.5555555555555556,
              "#d8576b"
             ],
             [
              0.6666666666666666,
              "#ed7953"
             ],
             [
              0.7777777777777778,
              "#fb9f3a"
             ],
             [
              0.8888888888888888,
              "#fdca26"
             ],
             [
              1,
              "#f0f921"
             ]
            ],
            "type": "heatmap"
           }
          ],
          "heatmapgl": [
           {
            "colorbar": {
             "outlinewidth": 0,
             "ticks": ""
            },
            "colorscale": [
             [
              0,
              "#0d0887"
             ],
             [
              0.1111111111111111,
              "#46039f"
             ],
             [
              0.2222222222222222,
              "#7201a8"
             ],
             [
              0.3333333333333333,
              "#9c179e"
             ],
             [
              0.4444444444444444,
              "#bd3786"
             ],
             [
              0.5555555555555556,
              "#d8576b"
             ],
             [
              0.6666666666666666,
              "#ed7953"
             ],
             [
              0.7777777777777778,
              "#fb9f3a"
             ],
             [
              0.8888888888888888,
              "#fdca26"
             ],
             [
              1,
              "#f0f921"
             ]
            ],
            "type": "heatmapgl"
           }
          ],
          "histogram": [
           {
            "marker": {
             "pattern": {
              "fillmode": "overlay",
              "size": 10,
              "solidity": 0.2
             }
            },
            "type": "histogram"
           }
          ],
          "histogram2d": [
           {
            "colorbar": {
             "outlinewidth": 0,
             "ticks": ""
            },
            "colorscale": [
             [
              0,
              "#0d0887"
             ],
             [
              0.1111111111111111,
              "#46039f"
             ],
             [
              0.2222222222222222,
              "#7201a8"
             ],
             [
              0.3333333333333333,
              "#9c179e"
             ],
             [
              0.4444444444444444,
              "#bd3786"
             ],
             [
              0.5555555555555556,
              "#d8576b"
             ],
             [
              0.6666666666666666,
              "#ed7953"
             ],
             [
              0.7777777777777778,
              "#fb9f3a"
             ],
             [
              0.8888888888888888,
              "#fdca26"
             ],
             [
              1,
              "#f0f921"
             ]
            ],
            "type": "histogram2d"
           }
          ],
          "histogram2dcontour": [
           {
            "colorbar": {
             "outlinewidth": 0,
             "ticks": ""
            },
            "colorscale": [
             [
              0,
              "#0d0887"
             ],
             [
              0.1111111111111111,
              "#46039f"
             ],
             [
              0.2222222222222222,
              "#7201a8"
             ],
             [
              0.3333333333333333,
              "#9c179e"
             ],
             [
              0.4444444444444444,
              "#bd3786"
             ],
             [
              0.5555555555555556,
              "#d8576b"
             ],
             [
              0.6666666666666666,
              "#ed7953"
             ],
             [
              0.7777777777777778,
              "#fb9f3a"
             ],
             [
              0.8888888888888888,
              "#fdca26"
             ],
             [
              1,
              "#f0f921"
             ]
            ],
            "type": "histogram2dcontour"
           }
          ],
          "mesh3d": [
           {
            "colorbar": {
             "outlinewidth": 0,
             "ticks": ""
            },
            "type": "mesh3d"
           }
          ],
          "parcoords": [
           {
            "line": {
             "colorbar": {
              "outlinewidth": 0,
              "ticks": ""
             }
            },
            "type": "parcoords"
           }
          ],
          "pie": [
           {
            "automargin": true,
            "type": "pie"
           }
          ],
          "scatter": [
           {
            "fillpattern": {
             "fillmode": "overlay",
             "size": 10,
             "solidity": 0.2
            },
            "type": "scatter"
           }
          ],
          "scatter3d": [
           {
            "line": {
             "colorbar": {
              "outlinewidth": 0,
              "ticks": ""
             }
            },
            "marker": {
             "colorbar": {
              "outlinewidth": 0,
              "ticks": ""
             }
            },
            "type": "scatter3d"
           }
          ],
          "scattercarpet": [
           {
            "marker": {
             "colorbar": {
              "outlinewidth": 0,
              "ticks": ""
             }
            },
            "type": "scattercarpet"
           }
          ],
          "scattergeo": [
           {
            "marker": {
             "colorbar": {
              "outlinewidth": 0,
              "ticks": ""
             }
            },
            "type": "scattergeo"
           }
          ],
          "scattergl": [
           {
            "marker": {
             "colorbar": {
              "outlinewidth": 0,
              "ticks": ""
             }
            },
            "type": "scattergl"
           }
          ],
          "scattermapbox": [
           {
            "marker": {
             "colorbar": {
              "outlinewidth": 0,
              "ticks": ""
             }
            },
            "type": "scattermapbox"
           }
          ],
          "scatterpolar": [
           {
            "marker": {
             "colorbar": {
              "outlinewidth": 0,
              "ticks": ""
             }
            },
            "type": "scatterpolar"
           }
          ],
          "scatterpolargl": [
           {
            "marker": {
             "colorbar": {
              "outlinewidth": 0,
              "ticks": ""
             }
            },
            "type": "scatterpolargl"
           }
          ],
          "scatterternary": [
           {
            "marker": {
             "colorbar": {
              "outlinewidth": 0,
              "ticks": ""
             }
            },
            "type": "scatterternary"
           }
          ],
          "surface": [
           {
            "colorbar": {
             "outlinewidth": 0,
             "ticks": ""
            },
            "colorscale": [
             [
              0,
              "#0d0887"
             ],
             [
              0.1111111111111111,
              "#46039f"
             ],
             [
              0.2222222222222222,
              "#7201a8"
             ],
             [
              0.3333333333333333,
              "#9c179e"
             ],
             [
              0.4444444444444444,
              "#bd3786"
             ],
             [
              0.5555555555555556,
              "#d8576b"
             ],
             [
              0.6666666666666666,
              "#ed7953"
             ],
             [
              0.7777777777777778,
              "#fb9f3a"
             ],
             [
              0.8888888888888888,
              "#fdca26"
             ],
             [
              1,
              "#f0f921"
             ]
            ],
            "type": "surface"
           }
          ],
          "table": [
           {
            "cells": {
             "fill": {
              "color": "#EBF0F8"
             },
             "line": {
              "color": "white"
             }
            },
            "header": {
             "fill": {
              "color": "#C8D4E3"
             },
             "line": {
              "color": "white"
             }
            },
            "type": "table"
           }
          ]
         },
         "layout": {
          "annotationdefaults": {
           "arrowcolor": "#2a3f5f",
           "arrowhead": 0,
           "arrowwidth": 1
          },
          "autotypenumbers": "strict",
          "coloraxis": {
           "colorbar": {
            "outlinewidth": 0,
            "ticks": ""
           }
          },
          "colorscale": {
           "diverging": [
            [
             0,
             "#8e0152"
            ],
            [
             0.1,
             "#c51b7d"
            ],
            [
             0.2,
             "#de77ae"
            ],
            [
             0.3,
             "#f1b6da"
            ],
            [
             0.4,
             "#fde0ef"
            ],
            [
             0.5,
             "#f7f7f7"
            ],
            [
             0.6,
             "#e6f5d0"
            ],
            [
             0.7,
             "#b8e186"
            ],
            [
             0.8,
             "#7fbc41"
            ],
            [
             0.9,
             "#4d9221"
            ],
            [
             1,
             "#276419"
            ]
           ],
           "sequential": [
            [
             0,
             "#0d0887"
            ],
            [
             0.1111111111111111,
             "#46039f"
            ],
            [
             0.2222222222222222,
             "#7201a8"
            ],
            [
             0.3333333333333333,
             "#9c179e"
            ],
            [
             0.4444444444444444,
             "#bd3786"
            ],
            [
             0.5555555555555556,
             "#d8576b"
            ],
            [
             0.6666666666666666,
             "#ed7953"
            ],
            [
             0.7777777777777778,
             "#fb9f3a"
            ],
            [
             0.8888888888888888,
             "#fdca26"
            ],
            [
             1,
             "#f0f921"
            ]
           ],
           "sequentialminus": [
            [
             0,
             "#0d0887"
            ],
            [
             0.1111111111111111,
             "#46039f"
            ],
            [
             0.2222222222222222,
             "#7201a8"
            ],
            [
             0.3333333333333333,
             "#9c179e"
            ],
            [
             0.4444444444444444,
             "#bd3786"
            ],
            [
             0.5555555555555556,
             "#d8576b"
            ],
            [
             0.6666666666666666,
             "#ed7953"
            ],
            [
             0.7777777777777778,
             "#fb9f3a"
            ],
            [
             0.8888888888888888,
             "#fdca26"
            ],
            [
             1,
             "#f0f921"
            ]
           ]
          },
          "colorway": [
           "#636efa",
           "#EF553B",
           "#00cc96",
           "#ab63fa",
           "#FFA15A",
           "#19d3f3",
           "#FF6692",
           "#B6E880",
           "#FF97FF",
           "#FECB52"
          ],
          "font": {
           "color": "#2a3f5f"
          },
          "geo": {
           "bgcolor": "white",
           "lakecolor": "white",
           "landcolor": "#E5ECF6",
           "showlakes": true,
           "showland": true,
           "subunitcolor": "white"
          },
          "hoverlabel": {
           "align": "left"
          },
          "hovermode": "closest",
          "mapbox": {
           "style": "light"
          },
          "paper_bgcolor": "white",
          "plot_bgcolor": "#E5ECF6",
          "polar": {
           "angularaxis": {
            "gridcolor": "white",
            "linecolor": "white",
            "ticks": ""
           },
           "bgcolor": "#E5ECF6",
           "radialaxis": {
            "gridcolor": "white",
            "linecolor": "white",
            "ticks": ""
           }
          },
          "scene": {
           "xaxis": {
            "backgroundcolor": "#E5ECF6",
            "gridcolor": "white",
            "gridwidth": 2,
            "linecolor": "white",
            "showbackground": true,
            "ticks": "",
            "zerolinecolor": "white"
           },
           "yaxis": {
            "backgroundcolor": "#E5ECF6",
            "gridcolor": "white",
            "gridwidth": 2,
            "linecolor": "white",
            "showbackground": true,
            "ticks": "",
            "zerolinecolor": "white"
           },
           "zaxis": {
            "backgroundcolor": "#E5ECF6",
            "gridcolor": "white",
            "gridwidth": 2,
            "linecolor": "white",
            "showbackground": true,
            "ticks": "",
            "zerolinecolor": "white"
           }
          },
          "shapedefaults": {
           "line": {
            "color": "#2a3f5f"
           }
          },
          "ternary": {
           "aaxis": {
            "gridcolor": "white",
            "linecolor": "white",
            "ticks": ""
           },
           "baxis": {
            "gridcolor": "white",
            "linecolor": "white",
            "ticks": ""
           },
           "bgcolor": "#E5ECF6",
           "caxis": {
            "gridcolor": "white",
            "linecolor": "white",
            "ticks": ""
           }
          },
          "title": {
           "x": 0.05
          },
          "xaxis": {
           "automargin": true,
           "gridcolor": "white",
           "linecolor": "white",
           "ticks": "",
           "title": {
            "standoff": 15
           },
           "zerolinecolor": "white",
           "zerolinewidth": 2
          },
          "yaxis": {
           "automargin": true,
           "gridcolor": "white",
           "linecolor": "white",
           "ticks": "",
           "title": {
            "standoff": 15
           },
           "zerolinecolor": "white",
           "zerolinewidth": 2
          }
         }
        },
        "title": {
         "text": "Published Shorts vs Clips "
        },
        "xaxis": {
         "anchor": "y",
         "domain": [
          0,
          0.45
         ]
        },
        "xaxis2": {
         "anchor": "y2",
         "domain": [
          0.55,
          1
         ]
        },
        "yaxis": {
         "anchor": "x",
         "domain": [
          0,
          1
         ]
        },
        "yaxis2": {
         "anchor": "x2",
         "categoryorder": "total ascending",
         "domain": [
          0,
          1
         ],
         "matches": "y",
         "showticklabels": false
        }
       }
      }
     },
     "metadata": {},
     "output_type": "display_data"
    }
   ],
   "source": [
    "fig = make_subplots(rows=1, cols=2, subplot_titles = (\"Twitch Views\", \"Youtube Shorts Views\"), shared_yaxes=True)\n",
    "\n",
    "for ix in clip_metrics_df.loc[(clip_metrics_df['game_name'].notnull()) & (clip_metrics_df['style'] == 'm'), :].index:\n",
    "    fig.add_trace(go.Bar(x=[clip_metrics_df.loc[ix, 'view_count']], y= [clip_metrics_df.loc[ix, 'game_name']], name=clip_metrics_df.loc[ix, 'title'], text=[clip_metrics_df.loc[ix, 'title']], orientation='h', marker={'color': [clip_metrics_df.loc[ix, 'view_count']], 'coloraxis': 'coloraxis'}), row=1, col=1)\n",
    "    fig.add_trace(go.Bar(x=[clip_metrics_df.loc[ix, 'views']], y= [clip_metrics_df.loc[ix, 'game_name']], name=clip_metrics_df.loc[ix, 'title'], text=[clip_metrics_df.loc[ix, 'title']], orientation='h', marker={'color': [clip_metrics_df.loc[ix, 'view_count']], 'coloraxis': 'coloraxis'}), row=1, col=2)\n",
    "\n",
    "fig.update_layout(height = 400, barmode='stack', title={'text': \"Published Shorts vs Clips \"}, yaxis2 = {'categoryorder': \"total ascending\"} )\n",
    "fig.update_coloraxes(showscale=False)\n",
    "fig.show()\n"
   ]
  },
  {
   "cell_type": "code",
   "execution_count": null,
   "metadata": {},
   "outputs": [],
   "source": []
  },
  {
   "cell_type": "code",
   "execution_count": 56,
   "metadata": {},
   "outputs": [
    {
     "data": {
      "text/plain": [
       "400"
      ]
     },
     "execution_count": 56,
     "metadata": {},
     "output_type": "execute_result"
    }
   ],
   "source": [
    "fig.layout.height"
   ]
  },
  {
   "cell_type": "code",
   "execution_count": null,
   "metadata": {},
   "outputs": [],
   "source": [
    "fig = make_subplots(rows=1, cols=2, subplot_titles = (\"Twitch Views\", \"Youtube Full Screen Views\"), shared_yaxes=True)\n",
    "\n",
    "for ix in clip_metrics_df.loc[(clip_metrics_df['game_name'].notnull()) & (clip_metrics_df['style'] == 'f'), :].index:\n",
    "    fig.add_trace(go.Bar(x=[clip_metrics_df.loc[ix, 'view_count']], y= [clip_metrics_df.loc[ix, 'game_name']], name=clip_metrics_df.loc[ix, 'title'], text=[clip_metrics_df.loc[ix, 'title']], orientation='h', marker={'color': [clip_metrics_df.loc[ix, 'view_count']], 'coloraxis': 'coloraxis'}), row=1, col=1)\n",
    "    fig.add_trace(go.Bar(x=[clip_metrics_df.loc[ix, 'views']], y= [clip_metrics_df.loc[ix, 'game_name']], name=clip_metrics_df.loc[ix, 'title'], text=[clip_metrics_df.loc[ix, 'title']], orientation='h', marker={'color': [clip_metrics_df.loc[ix, 'views']], 'coloraxis': 'coloraxis'}), row=1, col=2)\n",
    "\n",
    "fig.update_layout(barmode='stack', title={'text': \"Published Full Screens vs Clips \"})\n",
    "fig.update_coloraxes(showscale=False)\n",
    "fig.show()\n"
   ]
  },
  {
   "cell_type": "code",
   "execution_count": 56,
   "metadata": {},
   "outputs": [],
   "source": [
    "clip_metrics_df['likes_ratio'] = (clip_metrics_df['likes']/(clip_metrics_df['likes'] + clip_metrics_df['dislikes'])).fillna(0)"
   ]
  },
  {
   "cell_type": "code",
   "execution_count": null,
   "metadata": {},
   "outputs": [],
   "source": []
  },
  {
   "cell_type": "code",
   "execution_count": null,
   "metadata": {},
   "outputs": [],
   "source": [
    "game_sub = clip_metrics_df.loc[clip_metrics_df['game_name'] == \"Demon's Souls\"]"
   ]
  },
  {
   "cell_type": "code",
   "execution_count": 38,
   "metadata": {},
   "outputs": [
    {
     "data": {
      "text/html": [
       "<div>\n",
       "<style scoped>\n",
       "    .dataframe tbody tr th:only-of-type {\n",
       "        vertical-align: middle;\n",
       "    }\n",
       "\n",
       "    .dataframe tbody tr th {\n",
       "        vertical-align: top;\n",
       "    }\n",
       "\n",
       "    .dataframe thead th {\n",
       "        text-align: right;\n",
       "    }\n",
       "</style>\n",
       "<table border=\"1\" class=\"dataframe\">\n",
       "  <thead>\n",
       "    <tr style=\"text-align: right;\">\n",
       "      <th></th>\n",
       "      <th>estimatedMinutesWatched</th>\n",
       "      <th>views</th>\n",
       "      <th>likes</th>\n",
       "      <th>dislikes</th>\n",
       "      <th>subscribersGained</th>\n",
       "      <th>subscribersLost</th>\n",
       "      <th>style</th>\n",
       "      <th>game_name</th>\n",
       "      <th>title</th>\n",
       "      <th>creator</th>\n",
       "      <th>view_count</th>\n",
       "    </tr>\n",
       "    <tr>\n",
       "      <th>video_id</th>\n",
       "      <th></th>\n",
       "      <th></th>\n",
       "      <th></th>\n",
       "      <th></th>\n",
       "      <th></th>\n",
       "      <th></th>\n",
       "      <th></th>\n",
       "      <th></th>\n",
       "      <th></th>\n",
       "      <th></th>\n",
       "      <th></th>\n",
       "    </tr>\n",
       "  </thead>\n",
       "  <tbody>\n",
       "    <tr>\n",
       "      <th>f0E8gLxw-II</th>\n",
       "      <td>306</td>\n",
       "      <td>511</td>\n",
       "      <td>6</td>\n",
       "      <td>1</td>\n",
       "      <td>0</td>\n",
       "      <td>0</td>\n",
       "      <td>m</td>\n",
       "      <td>Remnant: From the Ashes</td>\n",
       "      <td>His weakness is the Butt</td>\n",
       "      <td>TheRoundWon</td>\n",
       "      <td>51.0</td>\n",
       "    </tr>\n",
       "    <tr>\n",
       "      <th>fuIgHicjm0k</th>\n",
       "      <td>233</td>\n",
       "      <td>871</td>\n",
       "      <td>34</td>\n",
       "      <td>2</td>\n",
       "      <td>3</td>\n",
       "      <td>0</td>\n",
       "      <td>m</td>\n",
       "      <td>Demon's Souls</td>\n",
       "      <td>Iconic</td>\n",
       "      <td>FeedMeACat</td>\n",
       "      <td>53.0</td>\n",
       "    </tr>\n",
       "    <tr>\n",
       "      <th>1dSor9KrL34</th>\n",
       "      <td>229</td>\n",
       "      <td>927</td>\n",
       "      <td>8</td>\n",
       "      <td>2</td>\n",
       "      <td>0</td>\n",
       "      <td>0</td>\n",
       "      <td>m</td>\n",
       "      <td>Horizon Forbidden West</td>\n",
       "      <td>Enemies can do this now</td>\n",
       "      <td>TheRoundWon</td>\n",
       "      <td>10.0</td>\n",
       "    </tr>\n",
       "    <tr>\n",
       "      <th>hFgJfliPTpA</th>\n",
       "      <td>175</td>\n",
       "      <td>596</td>\n",
       "      <td>17</td>\n",
       "      <td>-1</td>\n",
       "      <td>0</td>\n",
       "      <td>0</td>\n",
       "      <td>m</td>\n",
       "      <td>Remnant: From the Ashes</td>\n",
       "      <td>Remember to roll forward</td>\n",
       "      <td>TheRoundWon</td>\n",
       "      <td>61.0</td>\n",
       "    </tr>\n",
       "    <tr>\n",
       "      <th>NFDigvjBh2A</th>\n",
       "      <td>165</td>\n",
       "      <td>782</td>\n",
       "      <td>16</td>\n",
       "      <td>5</td>\n",
       "      <td>0</td>\n",
       "      <td>0</td>\n",
       "      <td>m</td>\n",
       "      <td>Demon's Souls</td>\n",
       "      <td>Back to reality</td>\n",
       "      <td>TheRoundWon</td>\n",
       "      <td>10.0</td>\n",
       "    </tr>\n",
       "    <tr>\n",
       "      <th>...</th>\n",
       "      <td>...</td>\n",
       "      <td>...</td>\n",
       "      <td>...</td>\n",
       "      <td>...</td>\n",
       "      <td>...</td>\n",
       "      <td>...</td>\n",
       "      <td>...</td>\n",
       "      <td>...</td>\n",
       "      <td>...</td>\n",
       "      <td>...</td>\n",
       "      <td>...</td>\n",
       "    </tr>\n",
       "    <tr>\n",
       "      <th>49WSCEmA7X4</th>\n",
       "      <td>0</td>\n",
       "      <td>1</td>\n",
       "      <td>0</td>\n",
       "      <td>0</td>\n",
       "      <td>0</td>\n",
       "      <td>0</td>\n",
       "      <td>m</td>\n",
       "      <td>Clash Royale</td>\n",
       "      <td>My must watch players</td>\n",
       "      <td>TheRoundWon</td>\n",
       "      <td>7.0</td>\n",
       "    </tr>\n",
       "    <tr>\n",
       "      <th>cXdbITNtwPw</th>\n",
       "      <td>0</td>\n",
       "      <td>2</td>\n",
       "      <td>0</td>\n",
       "      <td>0</td>\n",
       "      <td>0</td>\n",
       "      <td>0</td>\n",
       "      <td>f</td>\n",
       "      <td>Horizon Forbidden West</td>\n",
       "      <td>Weird people on horses</td>\n",
       "      <td>TheRoundWon</td>\n",
       "      <td>7.0</td>\n",
       "    </tr>\n",
       "    <tr>\n",
       "      <th>V1FdmoOpP3Q</th>\n",
       "      <td>0</td>\n",
       "      <td>1</td>\n",
       "      <td>0</td>\n",
       "      <td>0</td>\n",
       "      <td>0</td>\n",
       "      <td>0</td>\n",
       "      <td>m</td>\n",
       "      <td>Remnant: From the Ashes</td>\n",
       "      <td>Pessimism vs Realism? (or Optimism?)</td>\n",
       "      <td>TheRoundWon</td>\n",
       "      <td>39.0</td>\n",
       "    </tr>\n",
       "    <tr>\n",
       "      <th>Yl5SwAfvqwU</th>\n",
       "      <td>0</td>\n",
       "      <td>1</td>\n",
       "      <td>0</td>\n",
       "      <td>0</td>\n",
       "      <td>0</td>\n",
       "      <td>0</td>\n",
       "      <td>m</td>\n",
       "      <td>Clash Royale</td>\n",
       "      <td>Spell card strategy</td>\n",
       "      <td>TheRoundWon</td>\n",
       "      <td>7.0</td>\n",
       "    </tr>\n",
       "    <tr>\n",
       "      <th>yAjOlVmOEnc</th>\n",
       "      <td>0</td>\n",
       "      <td>0</td>\n",
       "      <td>0</td>\n",
       "      <td>0</td>\n",
       "      <td>0</td>\n",
       "      <td>0</td>\n",
       "      <td>f</td>\n",
       "      <td>Overcooked! All You Can Eat</td>\n",
       "      <td>Quick stream: Overcooked before Remnant survivor</td>\n",
       "      <td>thesquarewon</td>\n",
       "      <td>1.0</td>\n",
       "    </tr>\n",
       "  </tbody>\n",
       "</table>\n",
       "<p>129 rows × 11 columns</p>\n",
       "</div>"
      ],
      "text/plain": [
       "             estimatedMinutesWatched  views  likes  dislikes  \\\n",
       "video_id                                                       \n",
       "f0E8gLxw-II                      306    511      6         1   \n",
       "fuIgHicjm0k                      233    871     34         2   \n",
       "1dSor9KrL34                      229    927      8         2   \n",
       "hFgJfliPTpA                      175    596     17        -1   \n",
       "NFDigvjBh2A                      165    782     16         5   \n",
       "...                              ...    ...    ...       ...   \n",
       "49WSCEmA7X4                        0      1      0         0   \n",
       "cXdbITNtwPw                        0      2      0         0   \n",
       "V1FdmoOpP3Q                        0      1      0         0   \n",
       "Yl5SwAfvqwU                        0      1      0         0   \n",
       "yAjOlVmOEnc                        0      0      0         0   \n",
       "\n",
       "             subscribersGained  subscribersLost style  \\\n",
       "video_id                                                \n",
       "f0E8gLxw-II                  0                0     m   \n",
       "fuIgHicjm0k                  3                0     m   \n",
       "1dSor9KrL34                  0                0     m   \n",
       "hFgJfliPTpA                  0                0     m   \n",
       "NFDigvjBh2A                  0                0     m   \n",
       "...                        ...              ...   ...   \n",
       "49WSCEmA7X4                  0                0     m   \n",
       "cXdbITNtwPw                  0                0     f   \n",
       "V1FdmoOpP3Q                  0                0     m   \n",
       "Yl5SwAfvqwU                  0                0     m   \n",
       "yAjOlVmOEnc                  0                0     f   \n",
       "\n",
       "                               game_name  \\\n",
       "video_id                                   \n",
       "f0E8gLxw-II      Remnant: From the Ashes   \n",
       "fuIgHicjm0k                Demon's Souls   \n",
       "1dSor9KrL34       Horizon Forbidden West   \n",
       "hFgJfliPTpA      Remnant: From the Ashes   \n",
       "NFDigvjBh2A                Demon's Souls   \n",
       "...                                  ...   \n",
       "49WSCEmA7X4                 Clash Royale   \n",
       "cXdbITNtwPw       Horizon Forbidden West   \n",
       "V1FdmoOpP3Q      Remnant: From the Ashes   \n",
       "Yl5SwAfvqwU                 Clash Royale   \n",
       "yAjOlVmOEnc  Overcooked! All You Can Eat   \n",
       "\n",
       "                                                        title       creator  \\\n",
       "video_id                                                                      \n",
       "f0E8gLxw-II                          His weakness is the Butt   TheRoundWon   \n",
       "fuIgHicjm0k                                            Iconic    FeedMeACat   \n",
       "1dSor9KrL34                           Enemies can do this now   TheRoundWon   \n",
       "hFgJfliPTpA                         Remember to roll forward    TheRoundWon   \n",
       "NFDigvjBh2A                                   Back to reality   TheRoundWon   \n",
       "...                                                       ...           ...   \n",
       "49WSCEmA7X4                             My must watch players   TheRoundWon   \n",
       "cXdbITNtwPw                            Weird people on horses   TheRoundWon   \n",
       "V1FdmoOpP3Q              Pessimism vs Realism? (or Optimism?)   TheRoundWon   \n",
       "Yl5SwAfvqwU                               Spell card strategy   TheRoundWon   \n",
       "yAjOlVmOEnc  Quick stream: Overcooked before Remnant survivor  thesquarewon   \n",
       "\n",
       "             view_count  \n",
       "video_id                 \n",
       "f0E8gLxw-II        51.0  \n",
       "fuIgHicjm0k        53.0  \n",
       "1dSor9KrL34        10.0  \n",
       "hFgJfliPTpA        61.0  \n",
       "NFDigvjBh2A        10.0  \n",
       "...                 ...  \n",
       "49WSCEmA7X4         7.0  \n",
       "cXdbITNtwPw         7.0  \n",
       "V1FdmoOpP3Q        39.0  \n",
       "Yl5SwAfvqwU         7.0  \n",
       "yAjOlVmOEnc         1.0  \n",
       "\n",
       "[129 rows x 11 columns]"
      ]
     },
     "execution_count": 38,
     "metadata": {},
     "output_type": "execute_result"
    }
   ],
   "source": [
    "clip_metrics_df"
   ]
  },
  {
   "cell_type": "code",
   "execution_count": 40,
   "metadata": {},
   "outputs": [],
   "source": [
    "sub_group = clip_metrics_df.groupby('title').min()\n",
    "game_sub = sub_group.loc[sub_group['game_name'] == \"Demon's Souls\"]"
   ]
  },
  {
   "cell_type": "code",
   "execution_count": 68,
   "metadata": {},
   "outputs": [
    {
     "data": {
      "text/html": [
       "<div>\n",
       "<style scoped>\n",
       "    .dataframe tbody tr th:only-of-type {\n",
       "        vertical-align: middle;\n",
       "    }\n",
       "\n",
       "    .dataframe tbody tr th {\n",
       "        vertical-align: top;\n",
       "    }\n",
       "\n",
       "    .dataframe thead th {\n",
       "        text-align: right;\n",
       "    }\n",
       "</style>\n",
       "<table border=\"1\" class=\"dataframe\">\n",
       "  <thead>\n",
       "    <tr style=\"text-align: right;\">\n",
       "      <th></th>\n",
       "      <th>estimatedMinutesWatched</th>\n",
       "      <th>views</th>\n",
       "      <th>likes</th>\n",
       "      <th>dislikes</th>\n",
       "      <th>subscribersGained</th>\n",
       "      <th>subscribersLost</th>\n",
       "      <th>style</th>\n",
       "      <th>game_name</th>\n",
       "      <th>title</th>\n",
       "      <th>creator</th>\n",
       "      <th>view_count</th>\n",
       "      <th>likes_ratio</th>\n",
       "    </tr>\n",
       "    <tr>\n",
       "      <th>video_id</th>\n",
       "      <th></th>\n",
       "      <th></th>\n",
       "      <th></th>\n",
       "      <th></th>\n",
       "      <th></th>\n",
       "      <th></th>\n",
       "      <th></th>\n",
       "      <th></th>\n",
       "      <th></th>\n",
       "      <th></th>\n",
       "      <th></th>\n",
       "      <th></th>\n",
       "    </tr>\n",
       "  </thead>\n",
       "  <tbody>\n",
       "    <tr>\n",
       "      <th>f0E8gLxw-II</th>\n",
       "      <td>306</td>\n",
       "      <td>511</td>\n",
       "      <td>6</td>\n",
       "      <td>1</td>\n",
       "      <td>0</td>\n",
       "      <td>0</td>\n",
       "      <td>m</td>\n",
       "      <td>Remnant: From the Ashes</td>\n",
       "      <td>His weakness is the Butt</td>\n",
       "      <td>TheRoundWon</td>\n",
       "      <td>51.0</td>\n",
       "      <td>0.857143</td>\n",
       "    </tr>\n",
       "    <tr>\n",
       "      <th>fuIgHicjm0k</th>\n",
       "      <td>233</td>\n",
       "      <td>871</td>\n",
       "      <td>34</td>\n",
       "      <td>2</td>\n",
       "      <td>3</td>\n",
       "      <td>0</td>\n",
       "      <td>m</td>\n",
       "      <td>Demon's Souls</td>\n",
       "      <td>Iconic</td>\n",
       "      <td>FeedMeACat</td>\n",
       "      <td>53.0</td>\n",
       "      <td>0.944444</td>\n",
       "    </tr>\n",
       "    <tr>\n",
       "      <th>1dSor9KrL34</th>\n",
       "      <td>229</td>\n",
       "      <td>927</td>\n",
       "      <td>8</td>\n",
       "      <td>2</td>\n",
       "      <td>0</td>\n",
       "      <td>0</td>\n",
       "      <td>m</td>\n",
       "      <td>Horizon Forbidden West</td>\n",
       "      <td>Enemies can do this now</td>\n",
       "      <td>TheRoundWon</td>\n",
       "      <td>10.0</td>\n",
       "      <td>0.800000</td>\n",
       "    </tr>\n",
       "    <tr>\n",
       "      <th>hFgJfliPTpA</th>\n",
       "      <td>175</td>\n",
       "      <td>596</td>\n",
       "      <td>17</td>\n",
       "      <td>-1</td>\n",
       "      <td>0</td>\n",
       "      <td>0</td>\n",
       "      <td>m</td>\n",
       "      <td>Remnant: From the Ashes</td>\n",
       "      <td>Remember to roll forward</td>\n",
       "      <td>TheRoundWon</td>\n",
       "      <td>61.0</td>\n",
       "      <td>1.062500</td>\n",
       "    </tr>\n",
       "    <tr>\n",
       "      <th>NFDigvjBh2A</th>\n",
       "      <td>165</td>\n",
       "      <td>782</td>\n",
       "      <td>16</td>\n",
       "      <td>5</td>\n",
       "      <td>0</td>\n",
       "      <td>0</td>\n",
       "      <td>m</td>\n",
       "      <td>Demon's Souls</td>\n",
       "      <td>Back to reality</td>\n",
       "      <td>TheRoundWon</td>\n",
       "      <td>10.0</td>\n",
       "      <td>0.761905</td>\n",
       "    </tr>\n",
       "    <tr>\n",
       "      <th>...</th>\n",
       "      <td>...</td>\n",
       "      <td>...</td>\n",
       "      <td>...</td>\n",
       "      <td>...</td>\n",
       "      <td>...</td>\n",
       "      <td>...</td>\n",
       "      <td>...</td>\n",
       "      <td>...</td>\n",
       "      <td>...</td>\n",
       "      <td>...</td>\n",
       "      <td>...</td>\n",
       "      <td>...</td>\n",
       "    </tr>\n",
       "    <tr>\n",
       "      <th>49WSCEmA7X4</th>\n",
       "      <td>0</td>\n",
       "      <td>1</td>\n",
       "      <td>0</td>\n",
       "      <td>0</td>\n",
       "      <td>0</td>\n",
       "      <td>0</td>\n",
       "      <td>m</td>\n",
       "      <td>Clash Royale</td>\n",
       "      <td>My must watch players</td>\n",
       "      <td>TheRoundWon</td>\n",
       "      <td>7.0</td>\n",
       "      <td>0.000000</td>\n",
       "    </tr>\n",
       "    <tr>\n",
       "      <th>cXdbITNtwPw</th>\n",
       "      <td>0</td>\n",
       "      <td>2</td>\n",
       "      <td>0</td>\n",
       "      <td>0</td>\n",
       "      <td>0</td>\n",
       "      <td>0</td>\n",
       "      <td>f</td>\n",
       "      <td>Horizon Forbidden West</td>\n",
       "      <td>Weird people on horses</td>\n",
       "      <td>TheRoundWon</td>\n",
       "      <td>7.0</td>\n",
       "      <td>0.000000</td>\n",
       "    </tr>\n",
       "    <tr>\n",
       "      <th>V1FdmoOpP3Q</th>\n",
       "      <td>0</td>\n",
       "      <td>1</td>\n",
       "      <td>0</td>\n",
       "      <td>0</td>\n",
       "      <td>0</td>\n",
       "      <td>0</td>\n",
       "      <td>m</td>\n",
       "      <td>Remnant: From the Ashes</td>\n",
       "      <td>Pessimism vs Realism? (or Optimism?)</td>\n",
       "      <td>TheRoundWon</td>\n",
       "      <td>39.0</td>\n",
       "      <td>0.000000</td>\n",
       "    </tr>\n",
       "    <tr>\n",
       "      <th>Yl5SwAfvqwU</th>\n",
       "      <td>0</td>\n",
       "      <td>1</td>\n",
       "      <td>0</td>\n",
       "      <td>0</td>\n",
       "      <td>0</td>\n",
       "      <td>0</td>\n",
       "      <td>m</td>\n",
       "      <td>Clash Royale</td>\n",
       "      <td>Spell card strategy</td>\n",
       "      <td>TheRoundWon</td>\n",
       "      <td>7.0</td>\n",
       "      <td>0.000000</td>\n",
       "    </tr>\n",
       "    <tr>\n",
       "      <th>yAjOlVmOEnc</th>\n",
       "      <td>0</td>\n",
       "      <td>0</td>\n",
       "      <td>0</td>\n",
       "      <td>0</td>\n",
       "      <td>0</td>\n",
       "      <td>0</td>\n",
       "      <td>f</td>\n",
       "      <td>Overcooked! All You Can Eat</td>\n",
       "      <td>Quick stream: Overcooked before Remnant survivor</td>\n",
       "      <td>thesquarewon</td>\n",
       "      <td>1.0</td>\n",
       "      <td>0.000000</td>\n",
       "    </tr>\n",
       "  </tbody>\n",
       "</table>\n",
       "<p>129 rows × 12 columns</p>\n",
       "</div>"
      ],
      "text/plain": [
       "             estimatedMinutesWatched  views  likes  dislikes  \\\n",
       "video_id                                                       \n",
       "f0E8gLxw-II                      306    511      6         1   \n",
       "fuIgHicjm0k                      233    871     34         2   \n",
       "1dSor9KrL34                      229    927      8         2   \n",
       "hFgJfliPTpA                      175    596     17        -1   \n",
       "NFDigvjBh2A                      165    782     16         5   \n",
       "...                              ...    ...    ...       ...   \n",
       "49WSCEmA7X4                        0      1      0         0   \n",
       "cXdbITNtwPw                        0      2      0         0   \n",
       "V1FdmoOpP3Q                        0      1      0         0   \n",
       "Yl5SwAfvqwU                        0      1      0         0   \n",
       "yAjOlVmOEnc                        0      0      0         0   \n",
       "\n",
       "             subscribersGained  subscribersLost style  \\\n",
       "video_id                                                \n",
       "f0E8gLxw-II                  0                0     m   \n",
       "fuIgHicjm0k                  3                0     m   \n",
       "1dSor9KrL34                  0                0     m   \n",
       "hFgJfliPTpA                  0                0     m   \n",
       "NFDigvjBh2A                  0                0     m   \n",
       "...                        ...              ...   ...   \n",
       "49WSCEmA7X4                  0                0     m   \n",
       "cXdbITNtwPw                  0                0     f   \n",
       "V1FdmoOpP3Q                  0                0     m   \n",
       "Yl5SwAfvqwU                  0                0     m   \n",
       "yAjOlVmOEnc                  0                0     f   \n",
       "\n",
       "                               game_name  \\\n",
       "video_id                                   \n",
       "f0E8gLxw-II      Remnant: From the Ashes   \n",
       "fuIgHicjm0k                Demon's Souls   \n",
       "1dSor9KrL34       Horizon Forbidden West   \n",
       "hFgJfliPTpA      Remnant: From the Ashes   \n",
       "NFDigvjBh2A                Demon's Souls   \n",
       "...                                  ...   \n",
       "49WSCEmA7X4                 Clash Royale   \n",
       "cXdbITNtwPw       Horizon Forbidden West   \n",
       "V1FdmoOpP3Q      Remnant: From the Ashes   \n",
       "Yl5SwAfvqwU                 Clash Royale   \n",
       "yAjOlVmOEnc  Overcooked! All You Can Eat   \n",
       "\n",
       "                                                        title       creator  \\\n",
       "video_id                                                                      \n",
       "f0E8gLxw-II                          His weakness is the Butt   TheRoundWon   \n",
       "fuIgHicjm0k                                            Iconic    FeedMeACat   \n",
       "1dSor9KrL34                           Enemies can do this now   TheRoundWon   \n",
       "hFgJfliPTpA                         Remember to roll forward    TheRoundWon   \n",
       "NFDigvjBh2A                                   Back to reality   TheRoundWon   \n",
       "...                                                       ...           ...   \n",
       "49WSCEmA7X4                             My must watch players   TheRoundWon   \n",
       "cXdbITNtwPw                            Weird people on horses   TheRoundWon   \n",
       "V1FdmoOpP3Q              Pessimism vs Realism? (or Optimism?)   TheRoundWon   \n",
       "Yl5SwAfvqwU                               Spell card strategy   TheRoundWon   \n",
       "yAjOlVmOEnc  Quick stream: Overcooked before Remnant survivor  thesquarewon   \n",
       "\n",
       "             view_count  likes_ratio  \n",
       "video_id                              \n",
       "f0E8gLxw-II        51.0     0.857143  \n",
       "fuIgHicjm0k        53.0     0.944444  \n",
       "1dSor9KrL34        10.0     0.800000  \n",
       "hFgJfliPTpA        61.0     1.062500  \n",
       "NFDigvjBh2A        10.0     0.761905  \n",
       "...                 ...          ...  \n",
       "49WSCEmA7X4         7.0     0.000000  \n",
       "cXdbITNtwPw         7.0     0.000000  \n",
       "V1FdmoOpP3Q        39.0     0.000000  \n",
       "Yl5SwAfvqwU         7.0     0.000000  \n",
       "yAjOlVmOEnc         1.0     0.000000  \n",
       "\n",
       "[129 rows x 12 columns]"
      ]
     },
     "execution_count": 68,
     "metadata": {},
     "output_type": "execute_result"
    }
   ],
   "source": [
    "clip_metrics_df"
   ]
  },
  {
   "cell_type": "code",
   "execution_count": 4,
   "metadata": {},
   "outputs": [
    {
     "data": {
      "text/html": [
       "\n",
       "        <iframe\n",
       "            width=\"100%\"\n",
       "            height=\"650\"\n",
       "            src=\"http://127.0.0.1:8050/\"\n",
       "            frameborder=\"0\"\n",
       "            allowfullscreen\n",
       "            \n",
       "        ></iframe>\n",
       "        "
      ],
      "text/plain": [
       "<IPython.lib.display.IFrame at 0x7fdb900da2e0>"
      ]
     },
     "metadata": {},
     "output_type": "display_data"
    }
   ],
   "source": [
    "external_stylesheets = ['https://codepen.io/chriddyp/pen/bWLwgP.css']\n",
    "\n",
    "app = JupyterDash(__name__, external_stylesheets=external_stylesheets)\n",
    "\n",
    "# Create server variable with Flask server object for use with gunicorn\n",
    "server = app.server\n",
    "\n",
    "app.layout = html.Div([\n",
    "    html.Div([html.Label(\"Pick a Game to See Activity\"),\n",
    "    dcc.Dropdown(\n",
    "                id='crossfilter-xaxis-column',\n",
    "                options=[{'label': value, 'value': value} for key, value in games.items()],\n",
    "                value=\"Demon's Souls\"\n",
    "            ),\n",
    "\n",
    "    html.Div([dcc.Graph(id='graph')], style={'display': 'inline-block', 'padding': '0 20'})], \n",
    "    style = {'display': 'inline-block',  'margin': 'auto' }),\n",
    "    \n",
    "    \n",
    "\n",
    "\n",
    "]\n",
    ")\n",
    "\n",
    "@app.callback(\n",
    "    dash.dependencies.Output('graph', 'figure'),\n",
    "    [dash.dependencies.Input(\"crossfilter-xaxis-column\", \"value\")]\n",
    ")\n",
    "def update_figure(value):\n",
    "    fig = make_subplots(rows=1, cols=4, shared_yaxes=True, vertical_spacing=0.02)\n",
    "    sub_group = clip_metrics_df.groupby('title').min()\n",
    "    game_sub = sub_group.loc[sub_group['game_name'] == value]\n",
    "    sub_filter = clip_metrics_df.loc[clip_metrics_df['game_name'] == value]\n",
    "    mobile_sub = sub_filter.loc[sub_filter['style'] == 'm']\n",
    "    full_sub = sub_filter.loc[sub_filter['style'] == 'f']\n",
    "    # creators = mobile_sub['creator'].unique()\n",
    "    for creator, value in creators.items():\n",
    "        fig.add_trace(go.Bar(x=game_sub.loc[game_sub.creator == creator, 'view_count'].values, y=game_sub.loc[game_sub.creator == creator].index, orientation='h', name=creator, legendgroup=creator, marker={'color': value}), row=1, col=1)\n",
    "        fig.add_trace(go.Bar(x=mobile_sub.loc[mobile_sub.creator == creator, 'views'].values, y=mobile_sub.loc[mobile_sub.creator == creator, 'title'].values, orientation='h', name='Shorts', legendgroup = creator, showlegend=False, marker={'color': 'blue'} ), row=1, col=2)\n",
    "        fig.add_trace(go.Bar(x=full_sub.loc[full_sub.creator == creator, 'views'].values, y=full_sub.loc[full_sub.creator == creator, 'title'].values, orientation='h', name='Full Screen',  legendgroup = creator, showlegend=False, marker={'color': 'purple'} ), row=1, col=2)\n",
    "        fig.add_trace(go.Scatter(x=mobile_sub.loc[mobile_sub.creator == creator,'likes_ratio'].values, y=mobile_sub.loc[mobile_sub.creator == creator,'title'].values, mode='markers', name=\"Shorts\", legendgroup = creator, showlegend=False, marker={'color': 'blue', 'size': mobile_sub.loc[mobile_sub.creator == creator,'likes'].values}), row=1, col=3)\n",
    "        fig.add_trace(go.Scatter(x=full_sub.loc[full_sub.creator == creator,'likes_ratio'].values, y=full_sub.loc[full_sub.creator == creator,'title'].values, mode='markers', name=\"Full Screen\", legendgroup = creator, showlegend=False, marker={'color': 'purple', 'size': full_sub.loc[full_sub.creator == creator,'likes'].values}), row=1, col=3)\n",
    "        \n",
    "        fig.add_trace(go.Bar(x=sub_filter.loc[sub_filter.creator == creator, 'subscribersGained'].values, y=sub_filter.loc[sub_filter.creator == creator,'title'].values, orientation='h', name=creator, legendgroup = creator, showlegend=False, marker={'color': 'green'} ), row=1, col=4)\n",
    "        fig.add_trace(go.Bar(x=sub_filter.loc[sub_filter.creator == creator, 'subscribersLost'].values, y=sub_filter.loc[sub_filter.creator == creator,'title'].values, orientation='h', name=creator, legendgroup = creator, showlegend=False, marker={'color': 'red'} ), row=1, col=4)\n",
    "    fig.update_layout( width=1000, height=1000, barmode='stack', xaxis3 = {'range': [0,1], 'tickformat': \".0%\"}, xaxis4={'dtick': 1} )\n",
    "    return fig\n",
    "\n",
    "    # html.Div([html.Div([html.H1(\"Like Monitoring by Name\")],  {'width': '49%', 'display': 'inline-block', 'margin': '10px', 'float': 'right'}),\n",
    "        #     html.H1(\"Like Monitoring by Name\"),\n",
    "        #     dcc.Dropdown(\n",
    "        #         id='crossfilter-xaxis-column',\n",
    "        #         options=[{'label': value, 'value': value} for key, value in games.items()],\n",
    "        #         value=\"Demon's Souls\"\n",
    "        #     )\n",
    "        # ], style = {'width': '49%', 'display': 'inline-block', 'margin': '10px', 'float': 'right'})\n",
    "        # # ])\n",
    "        # # ])\n",
    "\n",
    "app.run_server(mode='inline')"
   ]
  },
  {
   "cell_type": "code",
   "execution_count": null,
   "metadata": {},
   "outputs": [],
   "source": []
  },
  {
   "cell_type": "code",
   "execution_count": null,
   "metadata": {},
   "outputs": [],
   "source": []
  },
  {
   "cell_type": "code",
   "execution_count": null,
   "metadata": {},
   "outputs": [],
   "source": []
  },
  {
   "cell_type": "code",
   "execution_count": null,
   "metadata": {},
   "outputs": [],
   "source": [
    "def completeThumbnails(playlist, default_mode = 'default'):\n",
    "    default = playlist['snippet']['thumbnails'][default_mode]\n",
    "    checks = ['default', 'medium', 'high', 'standard']\n",
    "    for chck in checks:\n",
    "        if not bool(playlist['snippet']['thumbnails'].get(chck)):\n",
    "            playlist['snippet']['thumbnails'][chck] = default\n",
    "    return playlist"
   ]
  },
  {
   "cell_type": "code",
   "execution_count": null,
   "metadata": {},
   "outputs": [],
   "source": [
    "playlists = service.playlists().list(part='id,snippet,status', channelId=os.environ['YT_CHANNEL_ID']).execute()\n",
    "nextPage = playlists['nextPageToken']\n",
    "while nextPage != None:\n",
    "    seedPlaylist = service.playlists().list(part='id,snippet,status', channelId=os.environ['YT_CHANNEL_ID'], pageToken = nextPage).execute()\n",
    "    playlists['items'] = playlists['items'] + seedPlaylist['items']\n",
    "    if bool(seedPlaylist.get('nextPageToken')):\n",
    "        nextPage = seedPlaylist['nextPageToken']\n",
    "    else:\n",
    "        nextPage = None\n",
    "\n",
    "mapped_as_full_counts = {}\n",
    "mapped_full_vids = {}\n",
    "with Session(engine) as session:\n",
    "    for title in session.query(Clip_Tracker.title).where(Clip_Tracker.published == PublishingStatus.f).order_by(Clip_Tracker.view_count.desc()).all():\n",
    "        mapped_full_vids[title[0]] = []\n",
    "        mapped_as_full_counts[title[0]] = 0\n",
    "shorts_pattern = f\"[sS]hort\" # check for YT short videos\n",
    "with Session(engine) as session: # initialize session to sql using context manager\n",
    "    for playlist in playlists['items']: # loop through the differen playlists\n",
    "        playlist = completeThumbnails(playlist)\n",
    "        for key, thumbnail in playlist['snippet']['thumbnails'].items(): # first ensure that thumbnails are mapped in thumbnail table\n",
    "            if not bool(session.query(Thumbnails.id).where(Thumbnails.asset == thumbnail['url']).first()):\n",
    "                session.add(Thumbnails(asset=thumbnail['url'], width = thumbnail['width'], height=thumbnail['height']))\n",
    "                session.commit()\n",
    "            # map the thumbnail table ids to the playlist dictionary\n",
    "            playlist['snippet']['thumbnails'][key]['id'] = session.query(Thumbnails.id).where(Thumbnails.asset == thumbnail['url']).first()[0]\n",
    "\n",
    "        # if the playlist id is not in the table, add it\n",
    "        if not bool(session.query(PlayList_yt).where(PlayList_yt.id == playlist['id']).first()):\n",
    "            session.add(PlayList_yt(id=playlist['id'], title=playlist['snippet']['title'], \n",
    "            tb_default = playlist['snippet']['thumbnails']['default']['id'], \n",
    "            tb_medium = playlist['snippet']['thumbnails']['medium']['id'],\n",
    "            tb_high = playlist['snippet']['thumbnails']['high']['id'], \n",
    "            tb_standard = playlist['snippet']['thumbnails']['standard']['id']\n",
    "            ))\n",
    "            session.commit()\n",
    "\n",
    "        # else, update the table with the current values if it's already in the table - this is to capture if thumbnails or titles have changed\n",
    "        else:\n",
    "            session.execute(\n",
    "                update(PlayList_yt).where(PlayList_yt.id == playlist['id']).values(dict(title=playlist['snippet']['title'], \n",
    "            tb_default = playlist['snippet']['thumbnails']['default']['id'], \n",
    "            tb_medium = playlist['snippet']['thumbnails']['medium']['id'],\n",
    "            tb_high = playlist['snippet']['thumbnails']['high']['id'], \n",
    "            tb_standard = playlist['snippet']['thumbnails']['standard']['id']))\n",
    "            )\n",
    "            session.commit()\n",
    "        if \"Shorts\" in playlist['snippet']['title']:\n",
    "            style = VideoStyle.m\n",
    "        else:\n",
    "            style = VideoStyle.f\n",
    "        # next find all the videos in each playlist\n",
    "        playlist_Items = service.playlistItems().list(part=\"id,snippet\", playlistId=playlist['id']).execute()\n",
    "            \n",
    "        nextPage = playlist_Items['nextPageToken']\n",
    "        while nextPage != None:\n",
    "            seed_list = service.playlistItems().list(part=\"id,snippet\", playlistId=playlist['id'], pageToken = nextPage).execute()\n",
    "            nextPage = seed_list['nextPageToken']\n",
    "            playlist_Items['items'] = playlist_Items['items'] + seed_list['items']\n",
    "        for video in playlist_Items['items']:\n",
    "            try:\n",
    "                video = completeThumbnails(video)\n",
    "                title = video['snippet']['title']\n",
    "                description = video['snippet']['description']\n",
    "                    # check whether the title or description have the word \"short\" in it\n",
    "                # combine the tags into a  single string due to datatype limitations in database - leave as array if your database can store arrays\n",
    "                tags = \" | \".join(service.videos().list(part='snippet,contentDetails', id=video['snippet']['resourceId']['videoId']).execute()['items'][0]['snippet']['tags'])\n",
    "                \n",
    "\n",
    "                # to capture titles with title conventon used in yt_videoupload.py\n",
    "                title_components = title.split(\"|\")\n",
    "                if len(title_components) > 1:\n",
    "                    titleName = title_components[-1].strip()\n",
    "                \n",
    "                else: # incase title does not follow current convention\n",
    "                    titleName = title\n",
    "                \n",
    "                try:\n",
    "                    mapped_as_full_counts[titleName] += 1\n",
    "                    mapped_full_vids[titleName].append(style)\n",
    "                except:\n",
    "                    pass\n",
    "\n",
    "            \n",
    "                # find clip and original filename in clips database\n",
    "                for clip_id, filename in session.query(Clip_Tracker.id, Clip_Tracker.video_name).where(Clip_Tracker.title == titleName).all():\n",
    "\n",
    "                    if not bool(clip_id):\n",
    "                        print(title)\n",
    "                    else:\n",
    "                        # loop through the thumbnail images to ensure they are in the thumbnail database\n",
    "                        for key, thumbnail in video['snippet']['thumbnails'].items():\n",
    "                            if not bool(session.query(Thumbnails.id).where(Thumbnails.asset == thumbnail['url']).first()):\n",
    "                                session.add(Thumbnails(asset=thumbnail['url'], width = thumbnail['width'], height=thumbnail['height']))\n",
    "                                session.commit()\n",
    "                            video['snippet']['thumbnails'][key]['id'] = session.query(Thumbnails.id).where(Thumbnails.asset == thumbnail['url']).first()[0]\n",
    "                        # VideoID is not in the Video_yt table - add it!    \n",
    "                        if not bool(session.query(Video_yt).where(Video_yt.id == video['snippet']['resourceId']['videoId']).first()):\n",
    "                            session.add( Video_yt(id = video['snippet']['resourceId']['videoId'], \n",
    "                            clip_id=clip_id, \n",
    "                            title = title,\n",
    "                            filename = filename,\n",
    "                            style = style,\n",
    "                            description = description,\n",
    "                            tb_default = video['snippet']['thumbnails']['default']['id'], \n",
    "                            tb_medium = video['snippet']['thumbnails']['medium']['id'],\n",
    "                            tb_high = video['snippet']['thumbnails']['high']['id'], \n",
    "                            tb_standard = video['snippet']['thumbnails']['standard']['id'],\n",
    "                            tags = tags\n",
    "                            \n",
    "                            )\n",
    "                            )\n",
    "                            session.commit()\n",
    "                        # If it's already in there, update our record of current descriptiption / thumbnails.\n",
    "                        else:\n",
    "                            if style == VideoStyle.m:\n",
    "                                print(video)\n",
    "                            session.execute(\n",
    "                                update(Video_yt).where(Video_yt.id == video['snippet']['resourceId']['videoId']).values(\n",
    "                                    dict(\n",
    "                                        clip_id=clip_id, \n",
    "                                        title = title,\n",
    "                                        filename = filename,\n",
    "                                        style = style,\n",
    "                                        description = description,\n",
    "                                        tb_default = video['snippet']['thumbnails']['default']['id'], \n",
    "                                        tb_medium = video['snippet']['thumbnails']['medium']['id'],\n",
    "                                        tb_high = video['snippet']['thumbnails']['high']['id'], \n",
    "                                        tb_standard = video['snippet']['thumbnails']['standard']['id'],\n",
    "                                        tags = tags\n",
    "                                    )\n",
    "                                )\n",
    "                                )\n",
    "                            session.commit()\n",
    "                        if not bool(session.query(yt_vid_pl_mapper).where(yt_vid_pl_mapper.c.yt_video_id == video['snippet']['resourceId']['videoId']).where(yt_vid_pl_mapper.c.yt_playlist_id ==playlist['id']).first()):\n",
    "                            session.execute(insert(yt_vid_pl_mapper).values({\"yt_playlist_id\": playlist['id'], 'yt_video_id': video['snippet']['resourceId']['videoId']}))\n",
    "            except Exception as e:\n",
    "                print(\"failed\", e)"
   ]
  },
  {
   "cell_type": "code",
   "execution_count": null,
   "metadata": {},
   "outputs": [],
   "source": [
    "playlist_Items['items'][0]['snippet']"
   ]
  },
  {
   "cell_type": "code",
   "execution_count": null,
   "metadata": {},
   "outputs": [],
   "source": [
    "with Session(engine)as session:\n",
    "    for clip_id, game_title, clip_creator, console, clip_title, video_name, clip_url, publishing_status in session.query(Clip_Tracker.id, Game_Meta.game_name, Clip_Tracker.creator_name, Game_Meta.platform, Clip_Tracker.title, Clip_Tracker.video_name, Clip_Tracker.url, Clip_Tracker.published).select_from(join(Game_Meta,Clip_Tracker)).where(and_(Clip_Tracker.published != PublishingStatus.f,  Clip_Tracker.published != None, Clip_Tracker.mobiles_videos_processed == True)).order_by(Clip_Tracker.view_count.desc()).all():\n",
    "        print(clip_id)"
   ]
  },
  {
   "cell_type": "code",
   "execution_count": null,
   "metadata": {},
   "outputs": [],
   "source": [
    "playlists = service.playlists().list(part='id,snippet,status', channelId=os.environ['YT_CHANNEL_ID']).execute()\n",
    "nextPage = playlists['nextPageToken']\n",
    "while nextPage != None:\n",
    "    seedPlaylist = service.playlists().list(part='id,snippet,status', channelId=os.environ['YT_CHANNEL_ID'], pageToken = nextPage).execute()\n",
    "    playlists['items'] = playlists['items'] + seedPlaylist['items']\n",
    "    if bool(seedPlaylist.get('nextPageToken')):\n",
    "        nextPage = seedPlaylist['nextPageToken']\n",
    "    else:\n",
    "        nextPage = None\n",
    "all_items = {}\n",
    "for playlist in playlists['items']: \n",
    "    playlist_Items = service.playlistItems().list(part=\"id,snippet\", playlistId=playlist['id']).execute()\n",
    "    all_items[playlist['id']] = {'playlist_items': None, \"videos\": []}\n",
    "    all_items[playlist['id']]['playlist_items'] = playlist_Items\n",
    "    if bool(playlist_Items.get('nextPageToken')):\n",
    "        nextPage = playlist_Items['nextPageToken']\n",
    "    else:\n",
    "        nextPage = None\n",
    "    while nextPage != None:\n",
    "        seed_list = service.playlistItems().list(part=\"id,snippet\", playlistId=playlist['id'], pageToken = nextPage).execute()\n",
    "        if bool(seed_list.get('nextPageToken')):\n",
    "            nextPage = seed_list['nextPageToken']\n",
    "        else:\n",
    "            nextPage = None\n",
    "        playlist_Items['items'] = playlist_Items['items'] + seed_list['items']\n",
    "        for video in playlist_Items['items']:\n",
    "            all_items[playlist['id']]['videos'].append(service.videos().list(part='snippet,contentDetails', id=video['snippet']['resourceId']['videoId']).execute())"
   ]
  },
  {
   "cell_type": "code",
   "execution_count": null,
   "metadata": {},
   "outputs": [],
   "source": [
    "for key, value in all_items.items():\n",
    "    for value2 in value['videos']:\n",
    "        if bool(value2['items']):\n",
    "            if value2['items'][0]['kind'] != 'youtube#video':\n",
    "                # if bool()\n",
    "                print(value2)"
   ]
  },
  {
   "cell_type": "code",
   "execution_count": null,
   "metadata": {},
   "outputs": [],
   "source": [
    "value2['items']"
   ]
  },
  {
   "cell_type": "code",
   "execution_count": null,
   "metadata": {},
   "outputs": [],
   "source": [
    "with Session(engine) as session:\n",
    "    print(session.query(Video_yt.title, Video_yt.))"
   ]
  },
  {
   "cell_type": "code",
   "execution_count": null,
   "metadata": {},
   "outputs": [],
   "source": [
    "playlist_Items['items']"
   ]
  },
  {
   "cell_type": "code",
   "execution_count": null,
   "metadata": {},
   "outputs": [],
   "source": [
    "with Session(engine) as session:\n",
    "    for clip_id in session.query(Clip_Tracker.id).where(Clip_Tracker.published == PublishingStatus.f).all():\n",
    "        rows = session.query(Video_yt.title, Video_yt.style).where(Video_yt.clip_id == clip_id[0]).all()\n",
    "        if len(rows) < 2 and bool(rows):\n",
    "            session.query(Clip_Tracker).where(Clip_Tracker.id == clip_id[0]).update(values = {'published': invers_mapper[rows[0][1]]})\n",
    "            session.commit()\n",
    "\n",
    "            print(rows[0])"
   ]
  },
  {
   "cell_type": "code",
   "execution_count": null,
   "metadata": {},
   "outputs": [],
   "source": [
    "rows[0]"
   ]
  }
 ],
 "metadata": {
  "kernelspec": {
   "display_name": "Python 3.8.8 ('twitch-youtube': venv)",
   "language": "python",
   "name": "python3"
  },
  "language_info": {
   "codemirror_mode": {
    "name": "ipython",
    "version": 3
   },
   "file_extension": ".py",
   "mimetype": "text/x-python",
   "name": "python",
   "nbconvert_exporter": "python",
   "pygments_lexer": "ipython3",
   "version": "3.8.8"
  },
  "orig_nbformat": 4,
  "vscode": {
   "interpreter": {
    "hash": "5bd830a4a01eed425dbc1d3357b25e6afb16c0ded1e32522946a1679eb0b6729"
   }
  }
 },
 "nbformat": 4,
 "nbformat_minor": 2
}
