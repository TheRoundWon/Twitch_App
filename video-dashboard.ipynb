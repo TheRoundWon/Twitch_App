{
 "cells": [
  {
   "cell_type": "code",
   "execution_count": 1,
   "metadata": {},
   "outputs": [],
   "source": [
    "\n",
    "import argparse\n",
    "import http.client\n",
    "import httplib2\n",
    "import os\n",
    "import random\n",
    "import time\n",
    "import datetime\n",
    "from datetime import datetime, timedelta\n",
    "import google.oauth2.credentials\n",
    "import google_auth_oauthlib.flow\n",
    "from googleapiclient.discovery import build\n",
    "from googleapiclient.errors import HttpError\n",
    "from google_auth_oauthlib.flow import Flow, InstalledAppFlow\n",
    "from googleapiclient.http import MediaFileUpload, MediaIoBaseDownload\n",
    "from google.auth.transport.requests import Request\n",
    "import os\n",
    "from dotenv import load_dotenv\n",
    "from sqlalchemy import *\n",
    "import datetime\n",
    "from Google import Create_Service\n",
    "import re\n",
    "from IPython.display import Image\n",
    "load_dotenv()\n",
    "from StreamMaster import *\n",
    "\n",
    "import plotly.graph_objects as go\n",
    "import plotly.express as px\n"
   ]
  },
  {
   "cell_type": "code",
   "execution_count": 2,
   "metadata": {},
   "outputs": [
    {
     "name": "stdout",
     "output_type": "stream",
     "text": [
      "client_secrets.json-youtube-v3-(['https://www.googleapis.com/auth/youtube.upload', 'https://www.googleapis.com/auth/youtube'],)\n",
      "['https://www.googleapis.com/auth/youtube.upload', 'https://www.googleapis.com/auth/youtube']\n",
      "youtube service created successfully\n"
     ]
    }
   ],
   "source": [
    "engine = create_engine(f\"mysql+mysqlconnector://{os.environ['USER_NAME']}:{os.environ['PASSWORD']}@{os.environ['PI']}/{os.environ['MAIN_DB']}\" )\n",
    "\n",
    "\n",
    "clips_folder = os.environ['CLIPS_FOLDER']\n",
    "mobile_folder = os.environ['MOBILE_FOLDER']\n",
    "fullscreen_folder = os.environ['FULLSCREEN_FOLDER']\n",
    "ml_folder = os.environ['ML_FOLDER']\n",
    "assets = os.environ['ASSETS']\n",
    "\n",
    "CLIENT_SECRET_FILE = 'client_secrets.json'\n",
    "YT_SECRET_FILE = 'client_secrets_yt.json'\n",
    "API_NAME = 'youtube'\n",
    "API_VERSION = 'v3'\n",
    "# recommend pulling as much access as possible since the Create_Service function will create a pickle token of your authentication allow single authentication for extended period.\n",
    "SCOPES = [\"https://www.googleapis.com/auth/youtube.upload\", 'https://www.googleapis.com/auth/youtube']\n",
    "\n",
    "# Code that initiates connection to the Google API - pulled from Google.py. Difference from using Google's built-in service is the following script creates convenience of storing pickle with necessary authentication\n",
    "service = Create_Service(CLIENT_SECRET_FILE, API_NAME, API_VERSION, SCOPES)"
   ]
  },
  {
   "cell_type": "code",
   "execution_count": 98,
   "metadata": {},
   "outputs": [],
   "source": [
    "os.environ['OAUTHLIB_INSECURE_TRANSPORT'] = '1'"
   ]
  },
  {
   "cell_type": "code",
   "execution_count": 96,
   "metadata": {},
   "outputs": [],
   "source": [
    "def get_service():\n",
    "    flow = InstalledAppFlow.from_client_secrets_file(CLIENT_SECRET_FILE, SCOPES)\n",
    "    credentials = flow.run_console()\n",
    "    return build(API_SERVICE_NAME, API_VERSION, credentials = credentials)\n",
    "\n",
    "def execute_api_request(client_library_function, **kwargs):\n",
    "    response = client_library_function(\n",
    "        **kwargs\n",
    "        ).execute()\n",
    "    print(response)"
   ]
  },
  {
   "cell_type": "code",
   "execution_count": 17,
   "metadata": {},
   "outputs": [
    {
     "data": {
      "text/plain": [
       "1"
      ]
     },
     "execution_count": 17,
     "metadata": {},
     "output_type": "execute_result"
    }
   ],
   "source": [
    "view_count"
   ]
  },
  {
   "cell_type": "code",
   "execution_count": 23,
   "metadata": {},
   "outputs": [
    {
     "data": {
      "application/vnd.plotly.v1+json": {
       "config": {
        "plotlyServerURL": "https://plot.ly"
       },
       "data": [
        {
         "name": "Remnant: From the Ashes",
         "text": [
          "Aaaand Goodnight!",
          "Pessimism vs Realism? (or Optimism?)",
          "When You're The Last One Left",
          "PSA: Remember to heal yourself before reviving!",
          "Why you want the Devastator ",
          "His weakness is the Butt",
          "We are definitely not Daredevils ",
          "A heroic Last Stand",
          "First time using Storm Caller ability",
          "Sage Advise on Armor Investment from lmperialEmpire",
          "A little Friendly Fire amongst Friends?",
          "Defending myself from my own Summons",
          "Lessons in Melee needed",
          "Finally cleared Round 1 boss lol",
          "Don't forget the basics",
          "The Ent Takedown Strategies & Rewards",
          "The best weapons for Raze (star boss)",
          "Remember to kill all the skulls when fighting Raze!",
          "Why we love Remnant Survivor",
          "Choosing our setups for Wrangler (the rolling guy)",
          "One-shotting our Teammates",
          "Remember to Hotkey Oilskin Tonic for the World Boss: The Ent",
          "Beetle Find in Survivor",
          "Tips on fighting Dream Eater (but we still failed)",
          "Summon Cheesing the Storm Caller",
          "Caution! Corrosive waterfalls can kill!",
          "How we try to Learn and Improve",
          "Surprise success",
          "Last stand of the night (Round 7 it was!)",
          "Optimism vs Realism (or Pessimism)?",
          "Good Boy is basically Hax",
          "Parallels of the hunting Rifle, Shotgun, sniper Rifle and Coach gun",
          "PSA: watch out for the Mantis swarms and corrosion waterfalls!",
          "More Remnant survivor with the A Team",
          "And the downsides of Good Boy"
         ],
         "type": "bar",
         "x": [
          "2022-07-05",
          "2022-07-06",
          "2022-07-06",
          "2022-07-05",
          "2022-07-06",
          "2022-07-06",
          "2022-07-06",
          "2022-07-06",
          "2022-07-06",
          "2022-07-06",
          "2022-07-06",
          "2022-07-06",
          "2022-07-06",
          "2022-07-05",
          "2022-07-06",
          "2022-07-06",
          "2022-07-06",
          "2022-07-06",
          "2022-07-06",
          "2022-07-06",
          "2022-07-06",
          "2022-07-06",
          "2022-07-06",
          "2022-07-06",
          "2022-07-06",
          "2022-07-06",
          "2022-07-06",
          "2022-07-06",
          "2022-07-06",
          "2022-07-06",
          "2022-07-06",
          "2022-07-06",
          "2022-07-06",
          "2022-07-06",
          "2022-07-06"
         ],
         "y": [
          17,
          16,
          16,
          13,
          13,
          11,
          11,
          11,
          11,
          11,
          11,
          9,
          7,
          7,
          5,
          5,
          5,
          5,
          5,
          3,
          3,
          3,
          3,
          3,
          3,
          3,
          3,
          3,
          3,
          3,
          1,
          1,
          1,
          1,
          1
         ]
        },
        {
         "name": "Overcooked! All You Can Eat",
         "text": [
          "Quick stream: Overcooked before Remnant survivor",
          "You gotta blend s***",
          "Sorry clash fans, Overcook pivot",
          "The next 4 don’t need chocolate",
          "Rice not cooking",
          "Garbage raspberries",
          "Sorry clash fans, Overcook pivot",
          "Prepare to be impressed!",
          "Sorry clash fans, Overcook pivot",
          "We smashed it!……?",
          "Retribution",
          "I am doing chicken!",
          "Unwritten rules",
          "Losing the pan",
          "Go go go",
          "Stealing rats",
          "Sorry clash fans, Overcook pivot",
          "Feedback",
          "These casuals…",
          "One last dish",
          "Not perfect enough",
          "Strategising ",
          "Quick stream: Overcooked before Remnant survivor",
          "We are so good",
          "Spicy little Square person",
          "Just chaos",
          "Quick stream: Overcooked before Remnant survivor",
          "Sorry clash fans, Overcook pivot",
          "Passed into the afterlife",
          "Going going going",
          "Took that loss for the Team",
          "Honeycomb!",
          "Lost dish",
          "Not bad",
          "Endless supply of eggs",
          "She’s got edges"
         ],
         "type": "bar",
         "x": [
          "2022-07-07",
          "2022-07-07",
          "2022-06-10",
          "2022-07-07",
          "2022-06-11",
          "2022-06-12",
          "2022-06-11",
          "2022-06-12",
          "2022-06-11",
          "2022-06-10",
          "2022-06-11",
          "2022-05-09",
          "2022-05-09",
          "2022-05-09",
          "2022-05-09",
          "2022-06-11",
          "2022-06-11",
          "2022-06-11",
          "2022-06-12",
          "2022-06-11",
          "2022-07-07",
          "2022-06-11",
          "2022-07-07",
          "2022-06-11",
          "2022-06-11",
          "2022-06-11",
          "2022-07-07",
          "2022-06-11",
          "2022-06-11",
          "2022-06-12",
          "2022-06-12",
          "2022-06-11",
          "2022-06-12",
          "2022-06-12",
          "2022-06-11",
          "2022-06-11"
         ],
         "y": [
          15,
          7,
          5,
          5,
          3,
          3,
          3,
          3,
          3,
          3,
          3,
          2,
          2,
          2,
          2,
          1,
          1,
          1,
          1,
          1,
          1,
          1,
          1,
          1,
          1,
          1,
          1,
          1,
          1,
          1,
          1,
          1,
          1,
          1,
          1,
          1
         ]
        },
        {
         "name": "It Takes Two",
         "text": [
          "The Emergence of the Sh!ttyWon",
          "Mini Boss battle progress!",
          "A demonstration of quality teamwork",
          "And they said chivalry was dead?",
          "The worst",
          "The most disturbing scene in the game",
          "The most disturbing scene in the game",
          "Exhibiting rage",
          "Evaluating our options",
          "Pure luck",
          "Bull fight",
          "Doing it for the stream",
          "Pretty Impressive level design",
          "Accidental Success"
         ],
         "type": "bar",
         "x": [
          "2022-06-16",
          "2022-06-16",
          "2022-06-16",
          "2022-06-16",
          "2022-05-09",
          "2022-05-09",
          "2022-05-09",
          "2022-05-09",
          "2022-05-09",
          "2022-05-09",
          "2022-05-09",
          "2022-05-09",
          "2022-06-16",
          "2022-06-16"
         ],
         "y": [
          13,
          5,
          3,
          3,
          2,
          2,
          2,
          2,
          2,
          2,
          2,
          2,
          1,
          1
         ]
        },
        {
         "name": "Call of Duty: Black Ops 3",
         "text": [
          "Dying is never convenient",
          "phrasing"
         ],
         "type": "bar",
         "x": [
          "2022-06-13",
          "2022-05-07"
         ],
         "y": [
          7,
          5
         ]
        },
        {
         "name": "Horizon Forbidden West",
         "text": [
          "Why are you so difficult?",
          "SquareWon takeover: dropping the racoon",
          "Set on fire",
          "Damn",
          "Boycott the traps!",
          "Is she hiding?",
          "Tough boss",
          "I don’t wanna die",
          "I poop them",
          "Horizon camp raid",
          "The Triangle intervenes",
          "SquareWon takeover: the lost goat",
          "She needs a jacket bro",
          "You sold the blasting?!? Part 2",
          "Not the ideal outcome",
          "If you hit x enough times",
          "2nd boss and no potions",
          "He needs to walk into traps!",
          "That hurt",
          "Oops",
          "Behold my fury",
          "SquareWon takeover: Magic",
          "Now you know. Oh wait.",
          "Fukitty Fuk Fuk",
          "It's a Specter?!?",
          "Only in her dreams",
          "Special event !!!",
          "Horizon boss fight?",
          "I will teach it a lesson",
          "Horizon camp raid",
          "Not a trained actor",
          "How to override a Tallneck",
          "Just a little bit more",
          "I need to farm",
          "Side quest shenanigans",
          "I should get survivor",
          "Hello...",
          "No ammo",
          "Don't die",
          "We all got problems",
          "Surviving false advertising",
          "It was fun while it lasted",
          "New plan",
          "Light at the end of the tunnel",
          "Not as planned",
          "Took forever to go",
          "Let me save!",
          "They call me The Navigator",
          "Valor surge fail",
          "Workbench expert",
          "Horizon boss fight?",
          "Horizon boss fight?",
          "Horizon boss fight?",
          "Horizon boss fight?",
          "Misplaced hope",
          "Horizon mystery mission?!",
          "Got your tail",
          "Horizon boss fight?",
          "Poop Canisters",
          "Special event !!!",
          "Horizon camp raid",
          "Unless I miss on purpose",
          "Horizon mystery mission?!"
         ],
         "type": "bar",
         "x": [
          "2022-04-16",
          "2022-03-19",
          "2022-05-08",
          "2022-03-19",
          "2022-03-19",
          "2022-03-19",
          "2022-03-20",
          "2022-03-19",
          "2022-04-16",
          "2022-03-19",
          "2022-03-19",
          "2022-03-19",
          "2022-03-24",
          "2022-03-24",
          "2022-04-16",
          "2022-04-16",
          "2022-03-24",
          "2022-03-20",
          "2022-03-20",
          "2022-03-24",
          "2022-03-24",
          "2022-03-19",
          "2022-04-16",
          "2022-05-08",
          "2022-03-24",
          "2022-03-20",
          "2022-02-19",
          "2022-03-19",
          "2022-03-20",
          "2022-03-19",
          "2022-03-20",
          "2022-05-08",
          "2022-03-20",
          "2022-04-16",
          "2022-04-16",
          "2022-03-24",
          "2022-03-19",
          "2022-03-24",
          "2022-03-24",
          "2022-03-20",
          "2022-03-20",
          "2022-03-24",
          "2022-03-24",
          "2022-03-24",
          "2022-03-20",
          "2022-05-08",
          "2022-05-08",
          "2022-05-08",
          "2022-05-08",
          "2022-04-16",
          "2022-03-24",
          "2022-03-24",
          "2022-03-24",
          "2022-03-24",
          "2022-04-16",
          "2022-03-27",
          "2022-05-08",
          "2022-03-24",
          "2022-03-27",
          "2022-02-19",
          "2022-03-19",
          "2022-04-16",
          "2022-03-27"
         ],
         "y": [
          5,
          5,
          5,
          5,
          5,
          5,
          5,
          5,
          4,
          4,
          4,
          3,
          3,
          3,
          3,
          3,
          3,
          3,
          3,
          3,
          3,
          3,
          3,
          3,
          3,
          3,
          3,
          3,
          3,
          3,
          3,
          3,
          3,
          3,
          3,
          3,
          3,
          3,
          3,
          3,
          3,
          3,
          3,
          3,
          3,
          2,
          2,
          2,
          2,
          2,
          2,
          2,
          2,
          2,
          2,
          2,
          2,
          2,
          2,
          2,
          2,
          2,
          1
         ]
        },
        {
         "name": "Ghost of Tsushima",
         "text": [
          "The weight of your sins",
          "That works fine too",
          "Have fun",
          "Oh, I just killed the horse",
          "That was stupid",
          "Co-Op: Wohoo",
          "It was a little cheese, but it worked?",
          "Legends play",
          "Legends play",
          "Tactics, all about tactics!"
         ],
         "type": "bar",
         "x": [
          "2022-04-16",
          "2022-04-16",
          "2022-04-16",
          "2022-04-16",
          "2022-04-16",
          "2022-03-20",
          "2022-04-08",
          "2022-03-31",
          "2022-03-31",
          "2022-04-08"
         ],
         "y": [
          5,
          4,
          3,
          3,
          3,
          3,
          2,
          1,
          1,
          1
         ]
        },
        {
         "name": "Clash Royale",
         "text": [
          "The Mortar is not a defense tool",
          "Always save the Princess",
          "Fireball magic",
          "Co-Op: We can do it",
          "Elixir management",
          "Did we win there?",
          "The counter deck",
          "Spam & spacing",
          "Space units and baiting",
          "Damn x3",
          "Good and bad",
          "Boop boop boop",
          "I want the pig",
          "I mean...unimaginable skill",
          "114",
          "Double e Golem counter, pointers welcome",
          "Death by fireball",
          "I ruined your fancy pancy",
          "How to do better",
          "I surprise myself sometimes",
          "Piggy here we come",
          "10 seconds chip away",
          "We all can spam",
          "Same idea",
          "Useless Poison",
          "Gotta pay attention",
          "Predicting the Pekka",
          "Perhaps some day Triangle",
          "No we cannot do this",
          "If I lose this, it will be a disgrace",
          "Aaand lightning",
          "Less talking, more winning",
          "Clash Royale Quick Stream",
          "Priorities",
          "Clean victory",
          "Disastrous",
          "back from break! can we get master?!",
          "Deck investment",
          "back from break! can we get master?!",
          "Useless Pekka & Boom",
          "We got this!",
          "That poison is weak!",
          "Contracting the teachings",
          "back from break! can we get master?!",
          "How to not use the Zappies",
          "Simple f ups cost you the game",
          "Wonderbar",
          "Sacrifice for the win",
          "Feel the desperation",
          "Dumb move recovery",
          "One bad move can lose the match",
          "The waiting tactic",
          "Defense strategy",
          "30 minutes with Triangle - can we get new challenger 3 today!?",
          "Distracting the enemy",
          "Destroying the battle",
          "Gotta pay attention",
          "This is gonna hurt",
          "Good freezing",
          "Don’t panic",
          "Clash Royale Evening, can we get to New Challenger 3?!",
          "back from break! can we get master?!",
          "Before he Pekka’d me",
          "Predicting the Pekka",
          "Prince Healer Spam Fun",
          "Disgraceful",
          "Clash Royale Quick Stream",
          "Writing on the wall",
          "Clash Royale Quick Stream",
          "Clash Royale Quick Stream",
          "Clash Royale Quick Stream",
          "Clash Royale Evening, can we get to New Challenger 3?!",
          "back from break! can we get master?!",
          "Clash Royale Evening, can we get to New Challenger 3?!",
          "some Clash?",
          "back from break! can we get master?!",
          "Clash Royale Evening, can we get to New Challenger 3?!",
          "Log action",
          "Fireball magic",
          "Clash Royale Quick Stream",
          "Clash With Triangle",
          "Clash With Triangle",
          "Hurray for Zappies ",
          "Clash Royale Evening, can we get to New Challenger 3?!"
         ],
         "type": "bar",
         "x": [
          "2022-05-08",
          "2022-06-02",
          "2022-06-14",
          "2022-05-08",
          "2022-05-08",
          "2022-05-08",
          "2022-05-09",
          "2022-06-02",
          "2022-05-09",
          "2022-05-08",
          "2022-05-08",
          "2022-05-09",
          "2022-05-09",
          "2022-06-02",
          "2022-07-08",
          "2022-05-08",
          "2022-05-08",
          "2022-05-08",
          "2022-05-09",
          "2022-04-27",
          "2022-05-09",
          "2022-05-08",
          "2022-06-02",
          "2022-06-02",
          "2022-06-02",
          "2022-05-08",
          "2022-06-02",
          "2022-05-09",
          "2022-05-09",
          "2022-05-08",
          "2022-06-02",
          "2022-05-08",
          "2022-05-08",
          "2022-06-02",
          "2022-05-08",
          "2022-05-08",
          "2022-06-02",
          "2022-06-02",
          "2022-06-02",
          "2022-06-02",
          "2022-06-02",
          "2022-06-02",
          "2022-06-02",
          "2022-06-02",
          "2022-05-09",
          "2022-05-08",
          "2022-06-02",
          "2022-06-02",
          "2022-05-09",
          "2022-05-08",
          "2022-05-08",
          "2022-06-02",
          "2022-05-08",
          "2022-06-02",
          "2022-06-02",
          "2022-06-02",
          "2022-06-02",
          "2022-05-09",
          "2022-05-09",
          "2022-06-28",
          "2022-05-09",
          "2022-06-02",
          "2022-06-28",
          "2022-06-28",
          "2022-07-08",
          "2022-06-28",
          "2022-05-08",
          "2022-06-28",
          "2022-05-08",
          "2022-05-08",
          "2022-05-08",
          "2022-05-09",
          "2022-06-02",
          "2022-05-09",
          "2022-07-08",
          "2022-06-02",
          "2022-05-09",
          "2022-06-28",
          "2022-06-14",
          "2022-05-08",
          "2022-06-23",
          "2022-06-28",
          "2022-06-28",
          "2022-05-09"
         ],
         "y": [
          5,
          5,
          5,
          5,
          4,
          4,
          4,
          4,
          3,
          3,
          3,
          3,
          3,
          3,
          3,
          3,
          3,
          3,
          3,
          3,
          3,
          2,
          2,
          2,
          2,
          2,
          2,
          2,
          2,
          2,
          2,
          2,
          2,
          2,
          2,
          2,
          2,
          2,
          2,
          2,
          2,
          2,
          2,
          2,
          2,
          2,
          2,
          2,
          2,
          2,
          2,
          2,
          2,
          2,
          2,
          2,
          2,
          2,
          2,
          1,
          1,
          1,
          1,
          1,
          1,
          1,
          1,
          1,
          1,
          1,
          1,
          1,
          1,
          1,
          1,
          1,
          1,
          1,
          1,
          1,
          1,
          1,
          1,
          1
         ]
        },
        {
         "name": "God of War",
         "text": [
          "Boss fight: Járn Fótr",
          "Son I love you",
          "Never underestimate",
          "No comprendo",
          "TheSquareWon strikes again",
          "I am technically the fixer",
          "Just unsafe",
          "Game developers care about partners",
          "Need to finish before starting Elden Ring Quick stream: GoW",
          "Boss fight: Hræzlyr",
          "Atreus skills walkthrough",
          "Boss fight: Svartáljǫfurr",
          "Kratos is more the knowing type",
          "Cheers to competitive free upgrades",
          "Need to finish before starting Elden Ring Quick stream: GoW"
         ],
         "type": "bar",
         "x": [
          "2022-05-09",
          "2022-05-08",
          "2022-05-08",
          "2022-05-08",
          "2022-05-08",
          "2022-05-09",
          "2022-05-08",
          "2022-05-08",
          "2022-05-08",
          "2022-05-09",
          "2022-05-08",
          "2022-05-08",
          "2022-05-08",
          "2022-05-08",
          "2022-05-08"
         ],
         "y": [
          4,
          4,
          3,
          2,
          2,
          2,
          2,
          2,
          2,
          2,
          2,
          2,
          2,
          2,
          1
         ]
        },
        {
         "name": "Demon's Souls",
         "text": [
          "Never drop your guard",
          "Moment of zen",
          "No evidence",
          "Why I am back on Demon's Souls",
          "Give a guy a break",
          "Hello big man",
          "Demon souls first play through",
          "It's probably a trap..."
         ],
         "type": "bar",
         "x": [
          "2022-05-08",
          "2022-01-20",
          "2022-05-08",
          "2022-05-08",
          "2022-05-08",
          "2022-05-08",
          "2022-01-20",
          "2022-05-08"
         ],
         "y": [
          4,
          4,
          4,
          3,
          3,
          3,
          2,
          2
         ]
        }
       ],
       "layout": {
        "barmode": "stack",
        "template": {
         "data": {
          "bar": [
           {
            "error_x": {
             "color": "#2a3f5f"
            },
            "error_y": {
             "color": "#2a3f5f"
            },
            "marker": {
             "line": {
              "color": "#E5ECF6",
              "width": 0.5
             },
             "pattern": {
              "fillmode": "overlay",
              "size": 10,
              "solidity": 0.2
             }
            },
            "type": "bar"
           }
          ],
          "barpolar": [
           {
            "marker": {
             "line": {
              "color": "#E5ECF6",
              "width": 0.5
             },
             "pattern": {
              "fillmode": "overlay",
              "size": 10,
              "solidity": 0.2
             }
            },
            "type": "barpolar"
           }
          ],
          "carpet": [
           {
            "aaxis": {
             "endlinecolor": "#2a3f5f",
             "gridcolor": "white",
             "linecolor": "white",
             "minorgridcolor": "white",
             "startlinecolor": "#2a3f5f"
            },
            "baxis": {
             "endlinecolor": "#2a3f5f",
             "gridcolor": "white",
             "linecolor": "white",
             "minorgridcolor": "white",
             "startlinecolor": "#2a3f5f"
            },
            "type": "carpet"
           }
          ],
          "choropleth": [
           {
            "colorbar": {
             "outlinewidth": 0,
             "ticks": ""
            },
            "type": "choropleth"
           }
          ],
          "contour": [
           {
            "colorbar": {
             "outlinewidth": 0,
             "ticks": ""
            },
            "colorscale": [
             [
              0,
              "#0d0887"
             ],
             [
              0.1111111111111111,
              "#46039f"
             ],
             [
              0.2222222222222222,
              "#7201a8"
             ],
             [
              0.3333333333333333,
              "#9c179e"
             ],
             [
              0.4444444444444444,
              "#bd3786"
             ],
             [
              0.5555555555555556,
              "#d8576b"
             ],
             [
              0.6666666666666666,
              "#ed7953"
             ],
             [
              0.7777777777777778,
              "#fb9f3a"
             ],
             [
              0.8888888888888888,
              "#fdca26"
             ],
             [
              1,
              "#f0f921"
             ]
            ],
            "type": "contour"
           }
          ],
          "contourcarpet": [
           {
            "colorbar": {
             "outlinewidth": 0,
             "ticks": ""
            },
            "type": "contourcarpet"
           }
          ],
          "heatmap": [
           {
            "colorbar": {
             "outlinewidth": 0,
             "ticks": ""
            },
            "colorscale": [
             [
              0,
              "#0d0887"
             ],
             [
              0.1111111111111111,
              "#46039f"
             ],
             [
              0.2222222222222222,
              "#7201a8"
             ],
             [
              0.3333333333333333,
              "#9c179e"
             ],
             [
              0.4444444444444444,
              "#bd3786"
             ],
             [
              0.5555555555555556,
              "#d8576b"
             ],
             [
              0.6666666666666666,
              "#ed7953"
             ],
             [
              0.7777777777777778,
              "#fb9f3a"
             ],
             [
              0.8888888888888888,
              "#fdca26"
             ],
             [
              1,
              "#f0f921"
             ]
            ],
            "type": "heatmap"
           }
          ],
          "heatmapgl": [
           {
            "colorbar": {
             "outlinewidth": 0,
             "ticks": ""
            },
            "colorscale": [
             [
              0,
              "#0d0887"
             ],
             [
              0.1111111111111111,
              "#46039f"
             ],
             [
              0.2222222222222222,
              "#7201a8"
             ],
             [
              0.3333333333333333,
              "#9c179e"
             ],
             [
              0.4444444444444444,
              "#bd3786"
             ],
             [
              0.5555555555555556,
              "#d8576b"
             ],
             [
              0.6666666666666666,
              "#ed7953"
             ],
             [
              0.7777777777777778,
              "#fb9f3a"
             ],
             [
              0.8888888888888888,
              "#fdca26"
             ],
             [
              1,
              "#f0f921"
             ]
            ],
            "type": "heatmapgl"
           }
          ],
          "histogram": [
           {
            "marker": {
             "pattern": {
              "fillmode": "overlay",
              "size": 10,
              "solidity": 0.2
             }
            },
            "type": "histogram"
           }
          ],
          "histogram2d": [
           {
            "colorbar": {
             "outlinewidth": 0,
             "ticks": ""
            },
            "colorscale": [
             [
              0,
              "#0d0887"
             ],
             [
              0.1111111111111111,
              "#46039f"
             ],
             [
              0.2222222222222222,
              "#7201a8"
             ],
             [
              0.3333333333333333,
              "#9c179e"
             ],
             [
              0.4444444444444444,
              "#bd3786"
             ],
             [
              0.5555555555555556,
              "#d8576b"
             ],
             [
              0.6666666666666666,
              "#ed7953"
             ],
             [
              0.7777777777777778,
              "#fb9f3a"
             ],
             [
              0.8888888888888888,
              "#fdca26"
             ],
             [
              1,
              "#f0f921"
             ]
            ],
            "type": "histogram2d"
           }
          ],
          "histogram2dcontour": [
           {
            "colorbar": {
             "outlinewidth": 0,
             "ticks": ""
            },
            "colorscale": [
             [
              0,
              "#0d0887"
             ],
             [
              0.1111111111111111,
              "#46039f"
             ],
             [
              0.2222222222222222,
              "#7201a8"
             ],
             [
              0.3333333333333333,
              "#9c179e"
             ],
             [
              0.4444444444444444,
              "#bd3786"
             ],
             [
              0.5555555555555556,
              "#d8576b"
             ],
             [
              0.6666666666666666,
              "#ed7953"
             ],
             [
              0.7777777777777778,
              "#fb9f3a"
             ],
             [
              0.8888888888888888,
              "#fdca26"
             ],
             [
              1,
              "#f0f921"
             ]
            ],
            "type": "histogram2dcontour"
           }
          ],
          "mesh3d": [
           {
            "colorbar": {
             "outlinewidth": 0,
             "ticks": ""
            },
            "type": "mesh3d"
           }
          ],
          "parcoords": [
           {
            "line": {
             "colorbar": {
              "outlinewidth": 0,
              "ticks": ""
             }
            },
            "type": "parcoords"
           }
          ],
          "pie": [
           {
            "automargin": true,
            "type": "pie"
           }
          ],
          "scatter": [
           {
            "fillpattern": {
             "fillmode": "overlay",
             "size": 10,
             "solidity": 0.2
            },
            "type": "scatter"
           }
          ],
          "scatter3d": [
           {
            "line": {
             "colorbar": {
              "outlinewidth": 0,
              "ticks": ""
             }
            },
            "marker": {
             "colorbar": {
              "outlinewidth": 0,
              "ticks": ""
             }
            },
            "type": "scatter3d"
           }
          ],
          "scattercarpet": [
           {
            "marker": {
             "colorbar": {
              "outlinewidth": 0,
              "ticks": ""
             }
            },
            "type": "scattercarpet"
           }
          ],
          "scattergeo": [
           {
            "marker": {
             "colorbar": {
              "outlinewidth": 0,
              "ticks": ""
             }
            },
            "type": "scattergeo"
           }
          ],
          "scattergl": [
           {
            "marker": {
             "colorbar": {
              "outlinewidth": 0,
              "ticks": ""
             }
            },
            "type": "scattergl"
           }
          ],
          "scattermapbox": [
           {
            "marker": {
             "colorbar": {
              "outlinewidth": 0,
              "ticks": ""
             }
            },
            "type": "scattermapbox"
           }
          ],
          "scatterpolar": [
           {
            "marker": {
             "colorbar": {
              "outlinewidth": 0,
              "ticks": ""
             }
            },
            "type": "scatterpolar"
           }
          ],
          "scatterpolargl": [
           {
            "marker": {
             "colorbar": {
              "outlinewidth": 0,
              "ticks": ""
             }
            },
            "type": "scatterpolargl"
           }
          ],
          "scatterternary": [
           {
            "marker": {
             "colorbar": {
              "outlinewidth": 0,
              "ticks": ""
             }
            },
            "type": "scatterternary"
           }
          ],
          "surface": [
           {
            "colorbar": {
             "outlinewidth": 0,
             "ticks": ""
            },
            "colorscale": [
             [
              0,
              "#0d0887"
             ],
             [
              0.1111111111111111,
              "#46039f"
             ],
             [
              0.2222222222222222,
              "#7201a8"
             ],
             [
              0.3333333333333333,
              "#9c179e"
             ],
             [
              0.4444444444444444,
              "#bd3786"
             ],
             [
              0.5555555555555556,
              "#d8576b"
             ],
             [
              0.6666666666666666,
              "#ed7953"
             ],
             [
              0.7777777777777778,
              "#fb9f3a"
             ],
             [
              0.8888888888888888,
              "#fdca26"
             ],
             [
              1,
              "#f0f921"
             ]
            ],
            "type": "surface"
           }
          ],
          "table": [
           {
            "cells": {
             "fill": {
              "color": "#EBF0F8"
             },
             "line": {
              "color": "white"
             }
            },
            "header": {
             "fill": {
              "color": "#C8D4E3"
             },
             "line": {
              "color": "white"
             }
            },
            "type": "table"
           }
          ]
         },
         "layout": {
          "annotationdefaults": {
           "arrowcolor": "#2a3f5f",
           "arrowhead": 0,
           "arrowwidth": 1
          },
          "autotypenumbers": "strict",
          "coloraxis": {
           "colorbar": {
            "outlinewidth": 0,
            "ticks": ""
           }
          },
          "colorscale": {
           "diverging": [
            [
             0,
             "#8e0152"
            ],
            [
             0.1,
             "#c51b7d"
            ],
            [
             0.2,
             "#de77ae"
            ],
            [
             0.3,
             "#f1b6da"
            ],
            [
             0.4,
             "#fde0ef"
            ],
            [
             0.5,
             "#f7f7f7"
            ],
            [
             0.6,
             "#e6f5d0"
            ],
            [
             0.7,
             "#b8e186"
            ],
            [
             0.8,
             "#7fbc41"
            ],
            [
             0.9,
             "#4d9221"
            ],
            [
             1,
             "#276419"
            ]
           ],
           "sequential": [
            [
             0,
             "#0d0887"
            ],
            [
             0.1111111111111111,
             "#46039f"
            ],
            [
             0.2222222222222222,
             "#7201a8"
            ],
            [
             0.3333333333333333,
             "#9c179e"
            ],
            [
             0.4444444444444444,
             "#bd3786"
            ],
            [
             0.5555555555555556,
             "#d8576b"
            ],
            [
             0.6666666666666666,
             "#ed7953"
            ],
            [
             0.7777777777777778,
             "#fb9f3a"
            ],
            [
             0.8888888888888888,
             "#fdca26"
            ],
            [
             1,
             "#f0f921"
            ]
           ],
           "sequentialminus": [
            [
             0,
             "#0d0887"
            ],
            [
             0.1111111111111111,
             "#46039f"
            ],
            [
             0.2222222222222222,
             "#7201a8"
            ],
            [
             0.3333333333333333,
             "#9c179e"
            ],
            [
             0.4444444444444444,
             "#bd3786"
            ],
            [
             0.5555555555555556,
             "#d8576b"
            ],
            [
             0.6666666666666666,
             "#ed7953"
            ],
            [
             0.7777777777777778,
             "#fb9f3a"
            ],
            [
             0.8888888888888888,
             "#fdca26"
            ],
            [
             1,
             "#f0f921"
            ]
           ]
          },
          "colorway": [
           "#636efa",
           "#EF553B",
           "#00cc96",
           "#ab63fa",
           "#FFA15A",
           "#19d3f3",
           "#FF6692",
           "#B6E880",
           "#FF97FF",
           "#FECB52"
          ],
          "font": {
           "color": "#2a3f5f"
          },
          "geo": {
           "bgcolor": "white",
           "lakecolor": "white",
           "landcolor": "#E5ECF6",
           "showlakes": true,
           "showland": true,
           "subunitcolor": "white"
          },
          "hoverlabel": {
           "align": "left"
          },
          "hovermode": "closest",
          "mapbox": {
           "style": "light"
          },
          "paper_bgcolor": "white",
          "plot_bgcolor": "#E5ECF6",
          "polar": {
           "angularaxis": {
            "gridcolor": "white",
            "linecolor": "white",
            "ticks": ""
           },
           "bgcolor": "#E5ECF6",
           "radialaxis": {
            "gridcolor": "white",
            "linecolor": "white",
            "ticks": ""
           }
          },
          "scene": {
           "xaxis": {
            "backgroundcolor": "#E5ECF6",
            "gridcolor": "white",
            "gridwidth": 2,
            "linecolor": "white",
            "showbackground": true,
            "ticks": "",
            "zerolinecolor": "white"
           },
           "yaxis": {
            "backgroundcolor": "#E5ECF6",
            "gridcolor": "white",
            "gridwidth": 2,
            "linecolor": "white",
            "showbackground": true,
            "ticks": "",
            "zerolinecolor": "white"
           },
           "zaxis": {
            "backgroundcolor": "#E5ECF6",
            "gridcolor": "white",
            "gridwidth": 2,
            "linecolor": "white",
            "showbackground": true,
            "ticks": "",
            "zerolinecolor": "white"
           }
          },
          "shapedefaults": {
           "line": {
            "color": "#2a3f5f"
           }
          },
          "ternary": {
           "aaxis": {
            "gridcolor": "white",
            "linecolor": "white",
            "ticks": ""
           },
           "baxis": {
            "gridcolor": "white",
            "linecolor": "white",
            "ticks": ""
           },
           "bgcolor": "#E5ECF6",
           "caxis": {
            "gridcolor": "white",
            "linecolor": "white",
            "ticks": ""
           }
          },
          "title": {
           "x": 0.05
          },
          "xaxis": {
           "automargin": true,
           "gridcolor": "white",
           "linecolor": "white",
           "ticks": "",
           "title": {
            "standoff": 15
           },
           "zerolinecolor": "white",
           "zerolinewidth": 2
          },
          "yaxis": {
           "automargin": true,
           "gridcolor": "white",
           "linecolor": "white",
           "ticks": "",
           "title": {
            "standoff": 15
           },
           "zerolinecolor": "white",
           "zerolinewidth": 2
          }
         }
        },
        "title": {
         "text": "Performance of Unpublished Clips"
        }
       }
      }
     },
     "metadata": {},
     "output_type": "display_data"
    }
   ],
   "source": [
    "# Build sa visual for un-published clips\n",
    "data_seed = {}\n",
    "with Session(engine) as session:\n",
    "    # for url in session.query(Clip_Tracker.url).where(Clip_Tracker.published == None).order_by(Clip_Tracker.view_count.desc()).all()[:2]:\n",
    "    for title, game_name, created_date, view_count in session.query(Clip_Tracker.title,Game_Meta.game_name, Clip_Tracker.created_at,  Clip_Tracker.view_count).select_from(join(Clip_Tracker, Game_Meta)).where(Clip_Tracker.published == None).order_by(Clip_Tracker.view_count.desc()).all():\n",
    "        if bool(data_seed.get(game_name)):\n",
    "            try:\n",
    "                data_seed[game_name]['x'].append(date(created_date.year, created_date.month, created_date.day))\n",
    "                data_seed[game_name]['y'].append(view_count)\n",
    "                data_seed[game_name]['text'].append(title)\n",
    "            except:\n",
    "                data_seed[game_name]['x'] = [created_date]\n",
    "                data_seed[game_name]['y'] = [view_count]\n",
    "        else:\n",
    "            data_seed[game_name] = {'x': [], 'y': [], 'text': []}\n",
    "            data_seed[game_name]['x'].append(date(created_date.year, created_date.month, created_date.day))\n",
    "            data_seed[game_name]['y'].append(view_count)\n",
    "            data_seed[game_name]['text'].append(title)\n",
    "    # print(session.query(distinct(Clip_Tracker.game_id), Game_Meta.game_name).select_from(join(Clip_Tracker, Game_Meta)).where(Clip_Tracker.published == None).order_by(Clip_Tracker.view_count.desc()).all())\n",
    "        # print(url[0])\n",
    "\n",
    "data = []\n",
    "for key, value in data_seed.items():\n",
    "    data.append(go.Bar(x=value['x'], y = value['y'], text = value['text'], name=key))\n",
    "go.Figure(data, go.Layout(barmode='stack', title={'text': \"Performance of Unpublished Clips\"}))"
   ]
  },
  {
   "cell_type": "code",
   "execution_count": 24,
   "metadata": {},
   "outputs": [
    {
     "data": {
      "application/vnd.plotly.v1+json": {
       "config": {
        "plotlyServerURL": "https://plot.ly"
       },
       "data": [
        {
         "name": "Demon's Souls",
         "text": [
          "I mean...",
          "Iconic",
          "The Round One is Brave!",
          "DIARRHEA EVERYWHERE!",
          "S U F F E R",
          "Clipping G O L D",
          "making good choices",
          "Demon souls first play through",
          "Square assumes direct control",
          "2000 Souls Gone",
          "Square doing square things",
          "So many things that can kill me",
          "magic man",
          "For the SquareOne",
          "Rolling's Supposed to Save You!!!",
          "Demon souls first play through",
          "Back to reality",
          "THE RED DIARRHEA!!!!",
          "Opportunity"
         ],
         "type": "bar",
         "x": [
          "2022-01-27",
          "2022-01-13",
          "2022-01-13",
          "2022-01-27",
          "2022-01-13",
          "2022-01-20",
          "2022-01-20",
          "2022-01-06",
          "2022-01-27",
          "2022-01-20",
          "2022-01-27",
          "2022-05-08",
          "2022-01-27",
          "2022-01-27",
          "2022-01-27",
          "2022-01-27",
          "2022-04-29",
          "2022-01-27",
          "2022-05-08"
         ],
         "y": [
          276,
          53,
          46,
          28,
          28,
          15,
          14,
          13,
          12,
          12,
          12,
          11,
          10,
          10,
          10,
          10,
          10,
          8,
          6
         ]
        },
        {
         "name": "Remnant: From the Ashes",
         "text": [
          "Remember to roll forward ",
          "Corrosive Damage Can Stack",
          "Coach gun turned out to be pretty good",
          "Check your anger Bro",
          "Laggy Revives ",
          "Quick Mini Boss Takedown with the Sniper Rifle"
         ],
         "type": "bar",
         "x": [
          "2022-07-05",
          "2022-07-06",
          "2022-07-05",
          "2022-07-05",
          "2022-07-05",
          "2022-07-05"
         ],
         "y": [
          50,
          32,
          31,
          17,
          17,
          17
         ]
        },
        {
         "name": "Horizon Forbidden West",
         "text": [
          "You sold the blastling?!?",
          "Heroes Don't Die",
          "I am like a ninja",
          "I got a tree b, can't fight the tree!",
          "The SaltWon",
          "Poking and running away",
          "Go away! So needy...",
          "So rude",
          "Enemies can do this now",
          "Horizon mystery mission?!",
          "SquareWon takeover: You know who I am",
          "At your doorstep",
          "Weird people on horses",
          "Hard work",
          "Gotta love the warrior bow",
          "I surprise myself sometimes...",
          "Death and destruction",
          "Hope dies last"
         ],
         "type": "bar",
         "x": [
          "2022-03-19",
          "2022-02-19",
          "2022-03-19",
          "2022-03-19",
          "2022-04-16",
          "2022-03-19",
          "2022-03-19",
          "2022-04-16",
          "2022-03-19",
          "2022-03-27",
          "2022-03-19",
          "2022-03-19",
          "2022-03-19",
          "2022-03-20",
          "2022-03-20",
          "2022-03-19",
          "2022-03-20",
          "2022-04-16"
         ],
         "y": [
          18,
          17,
          16,
          16,
          14,
          13,
          11,
          11,
          10,
          9,
          8,
          7,
          7,
          6,
          6,
          6,
          5,
          4
         ]
        },
        {
         "name": "Clash Royale",
         "text": [
          "Evening Clash with Triangle before we try PS5 game",
          "Barrel talk",
          "There you go...oh sh**",
          "Clash Royale Evenings with The Triangle - TheRoundWonBot upgrade!",
          "My must watch players",
          "Spell card strategy"
         ],
         "type": "bar",
         "x": [
          "2022-06-14",
          "2022-06-02",
          "2022-05-08",
          "2022-05-11",
          "2022-06-02",
          "2022-05-08"
         ],
         "y": [
          15,
          10,
          10,
          8,
          7,
          7
         ]
        },
        {
         "name": "Overcooked! All You Can Eat",
         "text": [
          "For all the Marbles!",
          "Sorry clash fans, Overcook pivot",
          "Spicy Square People",
          "All the marbles"
         ],
         "type": "bar",
         "x": [
          "2022-06-10",
          "2022-06-11",
          "2022-06-10",
          "2022-06-11"
         ],
         "y": [
          15,
          11,
          6,
          5
         ]
        },
        {
         "name": "It Takes Two",
         "text": [
          "Rrrrrrrrrespect",
          "Irony",
          "Metaphorical",
          "Irony",
          "Focus"
         ],
         "type": "bar",
         "x": [
          "2022-02-18",
          "2022-02-25",
          "2022-02-18",
          "2022-02-18",
          "2022-02-18"
         ],
         "y": [
          13,
          9,
          8,
          8,
          7
         ]
        },
        {
         "name": "Ghost of Tsushima",
         "text": [
          "Co-Op: Sufficient contributions",
          "Co-Op: Big ole ThickDSavy",
          "Triangle takeover: we are done for the day",
          "Co-Op: Did you not see my greatness?",
          "Co-Op: Winning by accident",
          "Homie's got some legs"
         ],
         "type": "bar",
         "x": [
          "2022-03-20",
          "2022-03-20",
          "2022-04-16",
          "2022-03-20",
          "2022-03-20",
          "2022-04-16"
         ],
         "y": [
          10,
          9,
          8,
          5,
          4,
          4
         ]
        }
       ],
       "layout": {
        "barmode": "stack",
        "template": {
         "data": {
          "bar": [
           {
            "error_x": {
             "color": "#2a3f5f"
            },
            "error_y": {
             "color": "#2a3f5f"
            },
            "marker": {
             "line": {
              "color": "#E5ECF6",
              "width": 0.5
             },
             "pattern": {
              "fillmode": "overlay",
              "size": 10,
              "solidity": 0.2
             }
            },
            "type": "bar"
           }
          ],
          "barpolar": [
           {
            "marker": {
             "line": {
              "color": "#E5ECF6",
              "width": 0.5
             },
             "pattern": {
              "fillmode": "overlay",
              "size": 10,
              "solidity": 0.2
             }
            },
            "type": "barpolar"
           }
          ],
          "carpet": [
           {
            "aaxis": {
             "endlinecolor": "#2a3f5f",
             "gridcolor": "white",
             "linecolor": "white",
             "minorgridcolor": "white",
             "startlinecolor": "#2a3f5f"
            },
            "baxis": {
             "endlinecolor": "#2a3f5f",
             "gridcolor": "white",
             "linecolor": "white",
             "minorgridcolor": "white",
             "startlinecolor": "#2a3f5f"
            },
            "type": "carpet"
           }
          ],
          "choropleth": [
           {
            "colorbar": {
             "outlinewidth": 0,
             "ticks": ""
            },
            "type": "choropleth"
           }
          ],
          "contour": [
           {
            "colorbar": {
             "outlinewidth": 0,
             "ticks": ""
            },
            "colorscale": [
             [
              0,
              "#0d0887"
             ],
             [
              0.1111111111111111,
              "#46039f"
             ],
             [
              0.2222222222222222,
              "#7201a8"
             ],
             [
              0.3333333333333333,
              "#9c179e"
             ],
             [
              0.4444444444444444,
              "#bd3786"
             ],
             [
              0.5555555555555556,
              "#d8576b"
             ],
             [
              0.6666666666666666,
              "#ed7953"
             ],
             [
              0.7777777777777778,
              "#fb9f3a"
             ],
             [
              0.8888888888888888,
              "#fdca26"
             ],
             [
              1,
              "#f0f921"
             ]
            ],
            "type": "contour"
           }
          ],
          "contourcarpet": [
           {
            "colorbar": {
             "outlinewidth": 0,
             "ticks": ""
            },
            "type": "contourcarpet"
           }
          ],
          "heatmap": [
           {
            "colorbar": {
             "outlinewidth": 0,
             "ticks": ""
            },
            "colorscale": [
             [
              0,
              "#0d0887"
             ],
             [
              0.1111111111111111,
              "#46039f"
             ],
             [
              0.2222222222222222,
              "#7201a8"
             ],
             [
              0.3333333333333333,
              "#9c179e"
             ],
             [
              0.4444444444444444,
              "#bd3786"
             ],
             [
              0.5555555555555556,
              "#d8576b"
             ],
             [
              0.6666666666666666,
              "#ed7953"
             ],
             [
              0.7777777777777778,
              "#fb9f3a"
             ],
             [
              0.8888888888888888,
              "#fdca26"
             ],
             [
              1,
              "#f0f921"
             ]
            ],
            "type": "heatmap"
           }
          ],
          "heatmapgl": [
           {
            "colorbar": {
             "outlinewidth": 0,
             "ticks": ""
            },
            "colorscale": [
             [
              0,
              "#0d0887"
             ],
             [
              0.1111111111111111,
              "#46039f"
             ],
             [
              0.2222222222222222,
              "#7201a8"
             ],
             [
              0.3333333333333333,
              "#9c179e"
             ],
             [
              0.4444444444444444,
              "#bd3786"
             ],
             [
              0.5555555555555556,
              "#d8576b"
             ],
             [
              0.6666666666666666,
              "#ed7953"
             ],
             [
              0.7777777777777778,
              "#fb9f3a"
             ],
             [
              0.8888888888888888,
              "#fdca26"
             ],
             [
              1,
              "#f0f921"
             ]
            ],
            "type": "heatmapgl"
           }
          ],
          "histogram": [
           {
            "marker": {
             "pattern": {
              "fillmode": "overlay",
              "size": 10,
              "solidity": 0.2
             }
            },
            "type": "histogram"
           }
          ],
          "histogram2d": [
           {
            "colorbar": {
             "outlinewidth": 0,
             "ticks": ""
            },
            "colorscale": [
             [
              0,
              "#0d0887"
             ],
             [
              0.1111111111111111,
              "#46039f"
             ],
             [
              0.2222222222222222,
              "#7201a8"
             ],
             [
              0.3333333333333333,
              "#9c179e"
             ],
             [
              0.4444444444444444,
              "#bd3786"
             ],
             [
              0.5555555555555556,
              "#d8576b"
             ],
             [
              0.6666666666666666,
              "#ed7953"
             ],
             [
              0.7777777777777778,
              "#fb9f3a"
             ],
             [
              0.8888888888888888,
              "#fdca26"
             ],
             [
              1,
              "#f0f921"
             ]
            ],
            "type": "histogram2d"
           }
          ],
          "histogram2dcontour": [
           {
            "colorbar": {
             "outlinewidth": 0,
             "ticks": ""
            },
            "colorscale": [
             [
              0,
              "#0d0887"
             ],
             [
              0.1111111111111111,
              "#46039f"
             ],
             [
              0.2222222222222222,
              "#7201a8"
             ],
             [
              0.3333333333333333,
              "#9c179e"
             ],
             [
              0.4444444444444444,
              "#bd3786"
             ],
             [
              0.5555555555555556,
              "#d8576b"
             ],
             [
              0.6666666666666666,
              "#ed7953"
             ],
             [
              0.7777777777777778,
              "#fb9f3a"
             ],
             [
              0.8888888888888888,
              "#fdca26"
             ],
             [
              1,
              "#f0f921"
             ]
            ],
            "type": "histogram2dcontour"
           }
          ],
          "mesh3d": [
           {
            "colorbar": {
             "outlinewidth": 0,
             "ticks": ""
            },
            "type": "mesh3d"
           }
          ],
          "parcoords": [
           {
            "line": {
             "colorbar": {
              "outlinewidth": 0,
              "ticks": ""
             }
            },
            "type": "parcoords"
           }
          ],
          "pie": [
           {
            "automargin": true,
            "type": "pie"
           }
          ],
          "scatter": [
           {
            "fillpattern": {
             "fillmode": "overlay",
             "size": 10,
             "solidity": 0.2
            },
            "type": "scatter"
           }
          ],
          "scatter3d": [
           {
            "line": {
             "colorbar": {
              "outlinewidth": 0,
              "ticks": ""
             }
            },
            "marker": {
             "colorbar": {
              "outlinewidth": 0,
              "ticks": ""
             }
            },
            "type": "scatter3d"
           }
          ],
          "scattercarpet": [
           {
            "marker": {
             "colorbar": {
              "outlinewidth": 0,
              "ticks": ""
             }
            },
            "type": "scattercarpet"
           }
          ],
          "scattergeo": [
           {
            "marker": {
             "colorbar": {
              "outlinewidth": 0,
              "ticks": ""
             }
            },
            "type": "scattergeo"
           }
          ],
          "scattergl": [
           {
            "marker": {
             "colorbar": {
              "outlinewidth": 0,
              "ticks": ""
             }
            },
            "type": "scattergl"
           }
          ],
          "scattermapbox": [
           {
            "marker": {
             "colorbar": {
              "outlinewidth": 0,
              "ticks": ""
             }
            },
            "type": "scattermapbox"
           }
          ],
          "scatterpolar": [
           {
            "marker": {
             "colorbar": {
              "outlinewidth": 0,
              "ticks": ""
             }
            },
            "type": "scatterpolar"
           }
          ],
          "scatterpolargl": [
           {
            "marker": {
             "colorbar": {
              "outlinewidth": 0,
              "ticks": ""
             }
            },
            "type": "scatterpolargl"
           }
          ],
          "scatterternary": [
           {
            "marker": {
             "colorbar": {
              "outlinewidth": 0,
              "ticks": ""
             }
            },
            "type": "scatterternary"
           }
          ],
          "surface": [
           {
            "colorbar": {
             "outlinewidth": 0,
             "ticks": ""
            },
            "colorscale": [
             [
              0,
              "#0d0887"
             ],
             [
              0.1111111111111111,
              "#46039f"
             ],
             [
              0.2222222222222222,
              "#7201a8"
             ],
             [
              0.3333333333333333,
              "#9c179e"
             ],
             [
              0.4444444444444444,
              "#bd3786"
             ],
             [
              0.5555555555555556,
              "#d8576b"
             ],
             [
              0.6666666666666666,
              "#ed7953"
             ],
             [
              0.7777777777777778,
              "#fb9f3a"
             ],
             [
              0.8888888888888888,
              "#fdca26"
             ],
             [
              1,
              "#f0f921"
             ]
            ],
            "type": "surface"
           }
          ],
          "table": [
           {
            "cells": {
             "fill": {
              "color": "#EBF0F8"
             },
             "line": {
              "color": "white"
             }
            },
            "header": {
             "fill": {
              "color": "#C8D4E3"
             },
             "line": {
              "color": "white"
             }
            },
            "type": "table"
           }
          ]
         },
         "layout": {
          "annotationdefaults": {
           "arrowcolor": "#2a3f5f",
           "arrowhead": 0,
           "arrowwidth": 1
          },
          "autotypenumbers": "strict",
          "coloraxis": {
           "colorbar": {
            "outlinewidth": 0,
            "ticks": ""
           }
          },
          "colorscale": {
           "diverging": [
            [
             0,
             "#8e0152"
            ],
            [
             0.1,
             "#c51b7d"
            ],
            [
             0.2,
             "#de77ae"
            ],
            [
             0.3,
             "#f1b6da"
            ],
            [
             0.4,
             "#fde0ef"
            ],
            [
             0.5,
             "#f7f7f7"
            ],
            [
             0.6,
             "#e6f5d0"
            ],
            [
             0.7,
             "#b8e186"
            ],
            [
             0.8,
             "#7fbc41"
            ],
            [
             0.9,
             "#4d9221"
            ],
            [
             1,
             "#276419"
            ]
           ],
           "sequential": [
            [
             0,
             "#0d0887"
            ],
            [
             0.1111111111111111,
             "#46039f"
            ],
            [
             0.2222222222222222,
             "#7201a8"
            ],
            [
             0.3333333333333333,
             "#9c179e"
            ],
            [
             0.4444444444444444,
             "#bd3786"
            ],
            [
             0.5555555555555556,
             "#d8576b"
            ],
            [
             0.6666666666666666,
             "#ed7953"
            ],
            [
             0.7777777777777778,
             "#fb9f3a"
            ],
            [
             0.8888888888888888,
             "#fdca26"
            ],
            [
             1,
             "#f0f921"
            ]
           ],
           "sequentialminus": [
            [
             0,
             "#0d0887"
            ],
            [
             0.1111111111111111,
             "#46039f"
            ],
            [
             0.2222222222222222,
             "#7201a8"
            ],
            [
             0.3333333333333333,
             "#9c179e"
            ],
            [
             0.4444444444444444,
             "#bd3786"
            ],
            [
             0.5555555555555556,
             "#d8576b"
            ],
            [
             0.6666666666666666,
             "#ed7953"
            ],
            [
             0.7777777777777778,
             "#fb9f3a"
            ],
            [
             0.8888888888888888,
             "#fdca26"
            ],
            [
             1,
             "#f0f921"
            ]
           ]
          },
          "colorway": [
           "#636efa",
           "#EF553B",
           "#00cc96",
           "#ab63fa",
           "#FFA15A",
           "#19d3f3",
           "#FF6692",
           "#B6E880",
           "#FF97FF",
           "#FECB52"
          ],
          "font": {
           "color": "#2a3f5f"
          },
          "geo": {
           "bgcolor": "white",
           "lakecolor": "white",
           "landcolor": "#E5ECF6",
           "showlakes": true,
           "showland": true,
           "subunitcolor": "white"
          },
          "hoverlabel": {
           "align": "left"
          },
          "hovermode": "closest",
          "mapbox": {
           "style": "light"
          },
          "paper_bgcolor": "white",
          "plot_bgcolor": "#E5ECF6",
          "polar": {
           "angularaxis": {
            "gridcolor": "white",
            "linecolor": "white",
            "ticks": ""
           },
           "bgcolor": "#E5ECF6",
           "radialaxis": {
            "gridcolor": "white",
            "linecolor": "white",
            "ticks": ""
           }
          },
          "scene": {
           "xaxis": {
            "backgroundcolor": "#E5ECF6",
            "gridcolor": "white",
            "gridwidth": 2,
            "linecolor": "white",
            "showbackground": true,
            "ticks": "",
            "zerolinecolor": "white"
           },
           "yaxis": {
            "backgroundcolor": "#E5ECF6",
            "gridcolor": "white",
            "gridwidth": 2,
            "linecolor": "white",
            "showbackground": true,
            "ticks": "",
            "zerolinecolor": "white"
           },
           "zaxis": {
            "backgroundcolor": "#E5ECF6",
            "gridcolor": "white",
            "gridwidth": 2,
            "linecolor": "white",
            "showbackground": true,
            "ticks": "",
            "zerolinecolor": "white"
           }
          },
          "shapedefaults": {
           "line": {
            "color": "#2a3f5f"
           }
          },
          "ternary": {
           "aaxis": {
            "gridcolor": "white",
            "linecolor": "white",
            "ticks": ""
           },
           "baxis": {
            "gridcolor": "white",
            "linecolor": "white",
            "ticks": ""
           },
           "bgcolor": "#E5ECF6",
           "caxis": {
            "gridcolor": "white",
            "linecolor": "white",
            "ticks": ""
           }
          },
          "title": {
           "x": 0.05
          },
          "xaxis": {
           "automargin": true,
           "gridcolor": "white",
           "linecolor": "white",
           "ticks": "",
           "title": {
            "standoff": 15
           },
           "zerolinecolor": "white",
           "zerolinewidth": 2
          },
          "yaxis": {
           "automargin": true,
           "gridcolor": "white",
           "linecolor": "white",
           "ticks": "",
           "title": {
            "standoff": 15
           },
           "zerolinecolor": "white",
           "zerolinewidth": 2
          }
         }
        },
        "title": {
         "text": "Performance of Published Clips"
        }
       }
      }
     },
     "metadata": {},
     "output_type": "display_data"
    }
   ],
   "source": [
    "# Build sa visual for Published clips\n",
    "data_seed = {}\n",
    "with Session(engine) as session:\n",
    "    # for url in session.query(Clip_Tracker.url).where(Clip_Tracker.published == None).order_by(Clip_Tracker.view_count.desc()).all()[:2]:\n",
    "    for title, game_name, created_date, view_count in session.query(Clip_Tracker.title,Game_Meta.game_name, Clip_Tracker.created_at,  Clip_Tracker.view_count).select_from(join(Clip_Tracker, Game_Meta)).where(Clip_Tracker.published != None).order_by(Clip_Tracker.view_count.desc()).all():\n",
    "        if bool(data_seed.get(game_name)):\n",
    "            try:\n",
    "                data_seed[game_name]['x'].append(date(created_date.year, created_date.month, created_date.day))\n",
    "                data_seed[game_name]['y'].append(view_count)\n",
    "                data_seed[game_name]['text'].append(title)\n",
    "            except:\n",
    "                data_seed[game_name]['x'] = [created_date]\n",
    "                data_seed[game_name]['y'] = [view_count]\n",
    "        else:\n",
    "            data_seed[game_name] = {'x': [], 'y': [], 'text': []}\n",
    "            data_seed[game_name]['x'].append(date(created_date.year, created_date.month, created_date.day))\n",
    "            data_seed[game_name]['y'].append(view_count)\n",
    "            data_seed[game_name]['text'].append(title)\n",
    "\n",
    "data = []\n",
    "for key, value in data_seed.items():\n",
    "    data.append(go.Bar(x=value['x'], y = value['y'], text = value['text'], name=key))\n",
    "go.Figure(data, go.Layout(barmode='stack', title={'text': \"Performance of Published Clips\"}))\n",
    "    # print(session.query(distinct(Clip_Tracker.game_id), Game_Meta.game_name).select_from(join(Clip_Tracker, Game_Meta)).where(Clip_Tracker.published == None).order_by(Clip_Tracker.view_count.desc()).all())\n",
    "        # print(url[0])\n",
    "\n"
   ]
  },
  {
   "cell_type": "code",
   "execution_count": null,
   "metadata": {},
   "outputs": [],
   "source": [
    "with Session(engine) as session:\n",
    "    session.query(Clip_Tracker)"
   ]
  },
  {
   "cell_type": "code",
   "execution_count": 80,
   "metadata": {},
   "outputs": [
    {
     "data": {
      "application/vnd.plotly.v1+json": {
       "config": {
        "plotlyServerURL": "https://plot.ly"
       },
       "data": [
        {
         "name": "Fully Published",
         "orientation": "h",
         "text": [
          "Remember to roll forward ",
          "Corrosive Damage Can Stack",
          "Coach gun turned out to be pretty good",
          "DIARRHEA EVERYWHERE!",
          "S U F F E R",
          "Check your anger Bro",
          "Laggy Revives ",
          "Quick Mini Boss Takedown with the Sniper Rifle",
          "I am like a ninja",
          "I got a tree b, can't fight the tree!",
          "Evening Clash with Triangle before we try PS5 game",
          "Clipping G O L D",
          "For all the Marbles!",
          "The SaltWon",
          "making good choices",
          "Demon souls first play through",
          "Poking and running away",
          "Square assumes direct control",
          "2000 Souls Gone",
          "Square doing square things",
          "Go away! So needy...",
          "Sorry clash fans, Overcook pivot",
          "So many things that can kill me",
          "So rude",
          "magic man",
          "For the SquareOne",
          "Rolling's Supposed to Save You!!!",
          "Enemies can do this now",
          "Demon souls first play through",
          "Barrel talk",
          "Co-Op: Sufficient contributions",
          "There you go...oh sh**",
          "Back to reality",
          "Horizon mystery mission?!",
          "Co-Op: Big ole ThickDSavy",
          "Irony",
          "SquareWon takeover: You know who I am",
          "Triangle takeover: we are done for the day",
          "THE RED DIARRHEA!!!!",
          "Clash Royale Evenings with The Triangle - TheRoundWonBot upgrade!",
          "Irony",
          "My must watch players",
          "Spell card strategy",
          "At your doorstep",
          "Weird people on horses",
          "Hard work",
          "Gotta love the warrior bow",
          "I surprise myself sometimes...",
          "Opportunity",
          "All the marbles",
          "Death and destruction",
          "Co-Op: Did you not see my greatness?",
          "Horizon mystery mission?!",
          "Sorry clash fans, Overcook pivot"
         ],
         "type": "bar",
         "x": [
          50,
          32,
          31,
          28,
          28,
          17,
          17,
          17,
          16,
          16,
          15,
          15,
          15,
          14,
          14,
          13,
          13,
          12,
          12,
          12,
          11,
          11,
          11,
          11,
          10,
          10,
          10,
          10,
          10,
          10,
          10,
          10,
          10,
          9,
          9,
          9,
          8,
          8,
          8,
          8,
          8,
          7,
          7,
          7,
          7,
          6,
          6,
          6,
          6,
          5,
          5,
          5,
          2,
          1
         ],
         "y": [
          "Remnant: From the Ashes",
          "Remnant: From the Ashes",
          "Remnant: From the Ashes",
          "Demon's Souls",
          "Demon's Souls",
          "Remnant: From the Ashes",
          "Remnant: From the Ashes",
          "Remnant: From the Ashes",
          "Horizon Forbidden West",
          "Horizon Forbidden West",
          "Clash Royale",
          "Demon's Souls",
          "Overcooked! All You Can Eat",
          "Horizon Forbidden West",
          "Demon's Souls",
          "Demon's Souls",
          "Horizon Forbidden West",
          "Demon's Souls",
          "Demon's Souls",
          "Demon's Souls",
          "Horizon Forbidden West",
          "Overcooked! All You Can Eat",
          "Demon's Souls",
          "Horizon Forbidden West",
          "Demon's Souls",
          "Demon's Souls",
          "Demon's Souls",
          "Horizon Forbidden West",
          "Demon's Souls",
          "Clash Royale",
          "Ghost of Tsushima",
          "Clash Royale",
          "Demon's Souls",
          "Horizon Forbidden West",
          "Ghost of Tsushima",
          "It Takes Two",
          "Horizon Forbidden West",
          "Ghost of Tsushima",
          "Demon's Souls",
          "Clash Royale",
          "It Takes Two",
          "Clash Royale",
          "Clash Royale",
          "Horizon Forbidden West",
          "Horizon Forbidden West",
          "Horizon Forbidden West",
          "Horizon Forbidden West",
          "Horizon Forbidden West",
          "Demon's Souls",
          "Overcooked! All You Can Eat",
          "Horizon Forbidden West",
          "Ghost of Tsushima",
          "Horizon Forbidden West",
          "Overcooked! All You Can Eat"
         ]
        },
        {
         "name": "Mobile Only",
         "orientation": "h",
         "text": [
          "Spicy Square People"
         ],
         "type": "bar",
         "x": [
          6
         ],
         "y": [
          "Overcooked! All You Can Eat"
         ]
        },
        {
         "name": "Desktop Only",
         "orientation": "h",
         "text": [
          "I mean...",
          "Iconic",
          "The Round One is Brave!",
          "You sold the blastling?!?",
          "Heroes Don't Die",
          "Rrrrrrrrrespect",
          "Metaphorical",
          "Focus",
          "Co-Op: Winning by accident",
          "Homie's got some legs",
          "Hope dies last"
         ],
         "type": "bar",
         "x": [
          276,
          53,
          46,
          18,
          17,
          13,
          8,
          7,
          4,
          4,
          4
         ],
         "y": [
          "Demon's Souls",
          "Demon's Souls",
          "Demon's Souls",
          "Horizon Forbidden West",
          "Horizon Forbidden West",
          "It Takes Two",
          "It Takes Two",
          "It Takes Two",
          "Ghost of Tsushima",
          "Ghost of Tsushima",
          "Horizon Forbidden West"
         ]
        },
        {
         "name": "Not Published",
         "orientation": "h",
         "text": [
          "Aaaand Goodnight!",
          "Pessimism vs Realism? (or Optimism?)",
          "When You're The Last One Left",
          "Quick stream: Overcooked before Remnant survivor",
          "PSA: Remember to heal yourself before reviving!",
          "The Emergence of the Sh!ttyWon",
          "Why you want the Devastator ",
          "His weakness is the Butt",
          "We are definitely not Daredevils ",
          "A heroic Last Stand",
          "First time using Storm Caller ability",
          "Sage Advise on Armor Investment from lmperialEmpire",
          "A little Friendly Fire amongst Friends?",
          "Defending myself from my own Summons",
          "You gotta blend s***",
          "Lessons in Melee needed",
          "Finally cleared Round 1 boss lol",
          "Dying is never convenient",
          "Don't forget the basics",
          "The Ent Takedown Strategies & Rewards",
          "Sorry clash fans, Overcook pivot",
          "Why are you so difficult?",
          "The weight of your sins",
          "Mini Boss battle progress!",
          "SquareWon takeover: dropping the racoon",
          "phrasing",
          "The next 4 don’t need chocolate",
          "Set on fire",
          "The Mortar is not a defense tool",
          "Damn",
          "Boycott the traps!",
          "Is she hiding?",
          "The best weapons for Raze (star boss)",
          "Always save the Princess",
          "Remember to kill all the skulls when fighting Raze!",
          "Fireball magic",
          "Co-Op: We can do it",
          "Tough boss",
          "Why we love Remnant Survivor",
          "I don’t wanna die",
          "Elixir management",
          "Did we win there?",
          "The counter deck",
          "Boss fight: Járn Fótr",
          "Son I love you",
          "Never drop your guard",
          "Spam & spacing",
          "I poop them",
          "Moment of zen",
          "Horizon camp raid",
          "The Triangle intervenes",
          "No evidence",
          "That works fine too",
          "Space units and baiting",
          "Rice not cooking",
          "Why I am back on Demon's Souls",
          "Garbage raspberries",
          "SquareWon takeover: the lost goat",
          "Sorry clash fans, Overcook pivot",
          "She needs a jacket bro",
          "Choosing our setups for Wrangler (the rolling guy)",
          "You sold the blasting?!? Part 2",
          "Prepare to be impressed!",
          "Not the ideal outcome",
          "If you hit x enough times",
          "Damn x3",
          "One-shotting our Teammates",
          "Good and bad",
          "Give a guy a break",
          "Remember to Hotkey Oilskin Tonic for the World Boss: The Ent",
          "Have fun",
          "2nd boss and no potions",
          "He needs to walk into traps!",
          "That hurt",
          "Beetle Find in Survivor",
          "Boop boop boop",
          "Oops",
          "Behold my fury",
          "SquareWon takeover: Magic",
          "I want the pig",
          "I mean...unimaginable skill",
          "Now you know. Oh wait.",
          "Sorry clash fans, Overcook pivot",
          "A demonstration of quality teamwork",
          "114",
          "Tips on fighting Dream Eater (but we still failed)",
          "Fukitty Fuk Fuk",
          "It's a Specter?!?",
          "Only in her dreams",
          "Double e Golem counter, pointers welcome",
          "Summon Cheesing the Storm Caller",
          "Never underestimate",
          "Special event !!!",
          "Horizon boss fight?",
          "I will teach it a lesson",
          "Horizon camp raid",
          "Oh, I just killed the horse",
          "Death by fireball",
          "Not a trained actor",
          "Hello big man",
          "How to override a Tallneck",
          "We smashed it!……?",
          "Just a little bit more",
          "That was stupid",
          "Caution! Corrosive waterfalls can kill!",
          "I need to farm",
          "Side quest shenanigans",
          "I should get survivor",
          "How we try to Learn and Improve",
          "Hello...",
          "No ammo",
          "Surprise success",
          "Retribution",
          "Don't die",
          "I ruined your fancy pancy",
          "How to do better",
          "Last stand of the night (Round 7 it was!)",
          "We all got problems",
          "Surviving false advertising",
          "And they said chivalry was dead?",
          "It was fun while it lasted",
          "I surprise myself sometimes",
          "New plan",
          "Co-Op: Wohoo",
          "Light at the end of the tunnel",
          "Not as planned",
          "Piggy here we come",
          "Optimism vs Realism (or Pessimism)?",
          "No comprendo",
          "TheSquareWon strikes again",
          "10 seconds chip away",
          "The worst",
          "We all can spam",
          "Same idea",
          "I am technically the fixer",
          "Useless Poison",
          "Just unsafe",
          "Gotta pay attention",
          "Took forever to go",
          "Predicting the Pekka",
          "I am doing chicken!",
          "The most disturbing scene in the game",
          "Perhaps some day Triangle",
          "Let me save!",
          "No we cannot do this",
          "If I lose this, it will be a disgrace",
          "Aaand lightning",
          "Less talking, more winning",
          "Clash Royale Quick Stream",
          "They call me The Navigator",
          "Unwritten rules",
          "Priorities",
          "Clean victory",
          "Demon souls first play through",
          "Disastrous",
          "It was a little cheese, but it worked?",
          "back from break! can we get master?!",
          "Game developers care about partners",
          "Valor surge fail",
          "Deck investment",
          "Workbench expert",
          "Need to finish before starting Elden Ring Quick stream: GoW",
          "back from break! can we get master?!",
          "Useless Pekka & Boom",
          "We got this!",
          "The most disturbing scene in the game",
          "That poison is weak!",
          "Boss fight: Hræzlyr",
          "Horizon boss fight?",
          "Contracting the teachings",
          "Horizon boss fight?",
          "Horizon boss fight?",
          "back from break! can we get master?!",
          "Atreus skills walkthrough",
          "Boss fight: Svartáljǫfurr",
          "Horizon boss fight?",
          "Kratos is more the knowing type",
          "It's probably a trap...",
          "Misplaced hope",
          "Got your tail",
          "How to not use the Zappies",
          "Simple f ups cost you the game",
          "Cheers to competitive free upgrades",
          "Horizon boss fight?",
          "Poop Canisters",
          "Losing the pan",
          "Exhibiting rage",
          "Evaluating our options",
          "Wonderbar",
          "Sacrifice for the win",
          "Feel the desperation",
          "Dumb move recovery",
          "One bad move can lose the match",
          "The waiting tactic",
          "Defense strategy",
          "Special event !!!",
          "Pure luck",
          "30 minutes with Triangle - can we get new challenger 3 today!?",
          "Distracting the enemy",
          "Horizon camp raid",
          "Bull fight",
          "Destroying the battle",
          "Unless I miss on purpose",
          "Go go go",
          "Gotta pay attention",
          "This is gonna hurt",
          "Doing it for the stream",
          "Good freezing",
          "Don’t panic",
          "Clash Royale Evening, can we get to New Challenger 3?!",
          "back from break! can we get master?!",
          "Before he Pekka’d me",
          "Predicting the Pekka",
          "Stealing rats",
          "Feedback",
          "Good Boy is basically Hax",
          "Legends play",
          "These casuals…",
          "One last dish",
          "Prince Healer Spam Fun",
          "Disgraceful",
          "Not perfect enough",
          "Clash Royale Quick Stream",
          "Strategising ",
          "Quick stream: Overcooked before Remnant survivor",
          "We are so good",
          "Writing on the wall",
          "Spicy little Square person",
          "Clash Royale Quick Stream",
          "Just chaos",
          "Quick stream: Overcooked before Remnant survivor",
          "Clash Royale Quick Stream",
          "Sorry clash fans, Overcook pivot",
          "Clash Royale Quick Stream",
          "Clash Royale Evening, can we get to New Challenger 3?!",
          "Parallels of the hunting Rifle, Shotgun, sniper Rifle and Coach gun",
          "back from break! can we get master?!",
          "Clash Royale Evening, can we get to New Challenger 3?!",
          "Pretty Impressive level design",
          "Passed into the afterlife",
          "some Clash?",
          "Accidental Success",
          "Going going going",
          "back from break! can we get master?!",
          "PSA: watch out for the Mantis swarms and corrosion waterfalls!",
          "Clash Royale Evening, can we get to New Challenger 3?!",
          "Log action",
          "Fireball magic",
          "Horizon mystery mission?!",
          "More Remnant survivor with the A Team",
          "Took that loss for the Team",
          "Honeycomb!",
          "Lost dish",
          "Clash Royale Quick Stream",
          "And the downsides of Good Boy",
          "Clash With Triangle",
          "Clash With Triangle",
          "Hurray for Zappies ",
          "Legends play",
          "Need to finish before starting Elden Ring Quick stream: GoW",
          "Tactics, all about tactics!",
          "Not bad",
          "Clash Royale Evening, can we get to New Challenger 3?!",
          "Endless supply of eggs",
          "She’s got edges"
         ],
         "type": "bar",
         "x": [
          17,
          16,
          16,
          15,
          13,
          13,
          13,
          11,
          11,
          11,
          11,
          11,
          11,
          9,
          7,
          7,
          7,
          7,
          5,
          5,
          5,
          5,
          5,
          5,
          5,
          5,
          5,
          5,
          5,
          5,
          5,
          5,
          5,
          5,
          5,
          5,
          5,
          5,
          5,
          5,
          4,
          4,
          4,
          4,
          4,
          4,
          4,
          4,
          4,
          4,
          4,
          4,
          4,
          3,
          3,
          3,
          3,
          3,
          3,
          3,
          3,
          3,
          3,
          3,
          3,
          3,
          3,
          3,
          3,
          3,
          3,
          3,
          3,
          3,
          3,
          3,
          3,
          3,
          3,
          3,
          3,
          3,
          3,
          3,
          3,
          3,
          3,
          3,
          3,
          3,
          3,
          3,
          3,
          3,
          3,
          3,
          3,
          3,
          3,
          3,
          3,
          3,
          3,
          3,
          3,
          3,
          3,
          3,
          3,
          3,
          3,
          3,
          3,
          3,
          3,
          3,
          3,
          3,
          3,
          3,
          3,
          3,
          3,
          3,
          3,
          3,
          3,
          3,
          2,
          2,
          2,
          2,
          2,
          2,
          2,
          2,
          2,
          2,
          2,
          2,
          2,
          2,
          2,
          2,
          2,
          2,
          2,
          2,
          2,
          2,
          2,
          2,
          2,
          2,
          2,
          2,
          2,
          2,
          2,
          2,
          2,
          2,
          2,
          2,
          2,
          2,
          2,
          2,
          2,
          2,
          2,
          2,
          2,
          2,
          2,
          2,
          2,
          2,
          2,
          2,
          2,
          2,
          2,
          2,
          2,
          2,
          2,
          2,
          2,
          2,
          2,
          2,
          2,
          2,
          2,
          2,
          2,
          2,
          2,
          2,
          2,
          2,
          2,
          2,
          2,
          2,
          2,
          2,
          1,
          1,
          1,
          1,
          1,
          1,
          1,
          1,
          1,
          1,
          1,
          1,
          1,
          1,
          1,
          1,
          1,
          1,
          1,
          1,
          1,
          1,
          1,
          1,
          1,
          1,
          1,
          1,
          1,
          1,
          1,
          1,
          1,
          1,
          1,
          1,
          1,
          1,
          1,
          1,
          1,
          1,
          1,
          1,
          1,
          1,
          1,
          1,
          1,
          1,
          1,
          1,
          1,
          1,
          1,
          1,
          1
         ],
         "y": [
          "Remnant: From the Ashes",
          "Remnant: From the Ashes",
          "Remnant: From the Ashes",
          "Overcooked! All You Can Eat",
          "Remnant: From the Ashes",
          "It Takes Two",
          "Remnant: From the Ashes",
          "Remnant: From the Ashes",
          "Remnant: From the Ashes",
          "Remnant: From the Ashes",
          "Remnant: From the Ashes",
          "Remnant: From the Ashes",
          "Remnant: From the Ashes",
          "Remnant: From the Ashes",
          "Overcooked! All You Can Eat",
          "Remnant: From the Ashes",
          "Remnant: From the Ashes",
          "Call of Duty: Black Ops 3",
          "Remnant: From the Ashes",
          "Remnant: From the Ashes",
          "Overcooked! All You Can Eat",
          "Horizon Forbidden West",
          "Ghost of Tsushima",
          "It Takes Two",
          "Horizon Forbidden West",
          "Call of Duty: Black Ops 3",
          "Overcooked! All You Can Eat",
          "Horizon Forbidden West",
          "Clash Royale",
          "Horizon Forbidden West",
          "Horizon Forbidden West",
          "Horizon Forbidden West",
          "Remnant: From the Ashes",
          "Clash Royale",
          "Remnant: From the Ashes",
          "Clash Royale",
          "Clash Royale",
          "Horizon Forbidden West",
          "Remnant: From the Ashes",
          "Horizon Forbidden West",
          "Clash Royale",
          "Clash Royale",
          "Clash Royale",
          "God of War",
          "God of War",
          "Demon's Souls",
          "Clash Royale",
          "Horizon Forbidden West",
          "Demon's Souls",
          "Horizon Forbidden West",
          "Horizon Forbidden West",
          "Demon's Souls",
          "Ghost of Tsushima",
          "Clash Royale",
          "Overcooked! All You Can Eat",
          "Demon's Souls",
          "Overcooked! All You Can Eat",
          "Horizon Forbidden West",
          "Overcooked! All You Can Eat",
          "Horizon Forbidden West",
          "Remnant: From the Ashes",
          "Horizon Forbidden West",
          "Overcooked! All You Can Eat",
          "Horizon Forbidden West",
          "Horizon Forbidden West",
          "Clash Royale",
          "Remnant: From the Ashes",
          "Clash Royale",
          "Demon's Souls",
          "Remnant: From the Ashes",
          "Ghost of Tsushima",
          "Horizon Forbidden West",
          "Horizon Forbidden West",
          "Horizon Forbidden West",
          "Remnant: From the Ashes",
          "Clash Royale",
          "Horizon Forbidden West",
          "Horizon Forbidden West",
          "Horizon Forbidden West",
          "Clash Royale",
          "Clash Royale",
          "Horizon Forbidden West",
          "Overcooked! All You Can Eat",
          "It Takes Two",
          "Clash Royale",
          "Remnant: From the Ashes",
          "Horizon Forbidden West",
          "Horizon Forbidden West",
          "Horizon Forbidden West",
          "Clash Royale",
          "Remnant: From the Ashes",
          "God of War",
          "Horizon Forbidden West",
          "Horizon Forbidden West",
          "Horizon Forbidden West",
          "Horizon Forbidden West",
          "Ghost of Tsushima",
          "Clash Royale",
          "Horizon Forbidden West",
          "Demon's Souls",
          "Horizon Forbidden West",
          "Overcooked! All You Can Eat",
          "Horizon Forbidden West",
          "Ghost of Tsushima",
          "Remnant: From the Ashes",
          "Horizon Forbidden West",
          "Horizon Forbidden West",
          "Horizon Forbidden West",
          "Remnant: From the Ashes",
          "Horizon Forbidden West",
          "Horizon Forbidden West",
          "Remnant: From the Ashes",
          "Overcooked! All You Can Eat",
          "Horizon Forbidden West",
          "Clash Royale",
          "Clash Royale",
          "Remnant: From the Ashes",
          "Horizon Forbidden West",
          "Horizon Forbidden West",
          "It Takes Two",
          "Horizon Forbidden West",
          "Clash Royale",
          "Horizon Forbidden West",
          "Ghost of Tsushima",
          "Horizon Forbidden West",
          "Horizon Forbidden West",
          "Clash Royale",
          "Remnant: From the Ashes",
          "God of War",
          "God of War",
          "Clash Royale",
          "It Takes Two",
          "Clash Royale",
          "Clash Royale",
          "God of War",
          "Clash Royale",
          "God of War",
          "Clash Royale",
          "Horizon Forbidden West",
          "Clash Royale",
          "Overcooked! All You Can Eat",
          "It Takes Two",
          "Clash Royale",
          "Horizon Forbidden West",
          "Clash Royale",
          "Clash Royale",
          "Clash Royale",
          "Clash Royale",
          "Clash Royale",
          "Horizon Forbidden West",
          "Overcooked! All You Can Eat",
          "Clash Royale",
          "Clash Royale",
          "Demon's Souls",
          "Clash Royale",
          "Ghost of Tsushima",
          "Clash Royale",
          "God of War",
          "Horizon Forbidden West",
          "Clash Royale",
          "Horizon Forbidden West",
          "God of War",
          "Clash Royale",
          "Clash Royale",
          "Clash Royale",
          "It Takes Two",
          "Clash Royale",
          "God of War",
          "Horizon Forbidden West",
          "Clash Royale",
          "Horizon Forbidden West",
          "Horizon Forbidden West",
          "Clash Royale",
          "God of War",
          "God of War",
          "Horizon Forbidden West",
          "God of War",
          "Demon's Souls",
          "Horizon Forbidden West",
          "Horizon Forbidden West",
          "Clash Royale",
          "Clash Royale",
          "God of War",
          "Horizon Forbidden West",
          "Horizon Forbidden West",
          "Overcooked! All You Can Eat",
          "It Takes Two",
          "It Takes Two",
          "Clash Royale",
          "Clash Royale",
          "Clash Royale",
          "Clash Royale",
          "Clash Royale",
          "Clash Royale",
          "Clash Royale",
          "Horizon Forbidden West",
          "It Takes Two",
          "Clash Royale",
          "Clash Royale",
          "Horizon Forbidden West",
          "It Takes Two",
          "Clash Royale",
          "Horizon Forbidden West",
          "Overcooked! All You Can Eat",
          "Clash Royale",
          "Clash Royale",
          "It Takes Two",
          "Clash Royale",
          "Clash Royale",
          "Clash Royale",
          "Clash Royale",
          "Clash Royale",
          "Clash Royale",
          "Overcooked! All You Can Eat",
          "Overcooked! All You Can Eat",
          "Remnant: From the Ashes",
          "Ghost of Tsushima",
          "Overcooked! All You Can Eat",
          "Overcooked! All You Can Eat",
          "Clash Royale",
          "Clash Royale",
          "Overcooked! All You Can Eat",
          "Clash Royale",
          "Overcooked! All You Can Eat",
          "Overcooked! All You Can Eat",
          "Overcooked! All You Can Eat",
          "Clash Royale",
          "Overcooked! All You Can Eat",
          "Clash Royale",
          "Overcooked! All You Can Eat",
          "Overcooked! All You Can Eat",
          "Clash Royale",
          "Overcooked! All You Can Eat",
          "Clash Royale",
          "Clash Royale",
          "Remnant: From the Ashes",
          "Clash Royale",
          "Clash Royale",
          "It Takes Two",
          "Overcooked! All You Can Eat",
          "Clash Royale",
          "It Takes Two",
          "Overcooked! All You Can Eat",
          "Clash Royale",
          "Remnant: From the Ashes",
          "Clash Royale",
          "Clash Royale",
          "Clash Royale",
          "Horizon Forbidden West",
          "Remnant: From the Ashes",
          "Overcooked! All You Can Eat",
          "Overcooked! All You Can Eat",
          "Overcooked! All You Can Eat",
          "Clash Royale",
          "Remnant: From the Ashes",
          "Clash Royale",
          "Clash Royale",
          "Clash Royale",
          "Ghost of Tsushima",
          "God of War",
          "Ghost of Tsushima",
          "Overcooked! All You Can Eat",
          "Clash Royale",
          "Overcooked! All You Can Eat",
          "Overcooked! All You Can Eat"
         ]
        }
       ],
       "layout": {
        "barmode": "stack",
        "template": {
         "data": {
          "bar": [
           {
            "error_x": {
             "color": "#2a3f5f"
            },
            "error_y": {
             "color": "#2a3f5f"
            },
            "marker": {
             "line": {
              "color": "#E5ECF6",
              "width": 0.5
             },
             "pattern": {
              "fillmode": "overlay",
              "size": 10,
              "solidity": 0.2
             }
            },
            "type": "bar"
           }
          ],
          "barpolar": [
           {
            "marker": {
             "line": {
              "color": "#E5ECF6",
              "width": 0.5
             },
             "pattern": {
              "fillmode": "overlay",
              "size": 10,
              "solidity": 0.2
             }
            },
            "type": "barpolar"
           }
          ],
          "carpet": [
           {
            "aaxis": {
             "endlinecolor": "#2a3f5f",
             "gridcolor": "white",
             "linecolor": "white",
             "minorgridcolor": "white",
             "startlinecolor": "#2a3f5f"
            },
            "baxis": {
             "endlinecolor": "#2a3f5f",
             "gridcolor": "white",
             "linecolor": "white",
             "minorgridcolor": "white",
             "startlinecolor": "#2a3f5f"
            },
            "type": "carpet"
           }
          ],
          "choropleth": [
           {
            "colorbar": {
             "outlinewidth": 0,
             "ticks": ""
            },
            "type": "choropleth"
           }
          ],
          "contour": [
           {
            "colorbar": {
             "outlinewidth": 0,
             "ticks": ""
            },
            "colorscale": [
             [
              0,
              "#0d0887"
             ],
             [
              0.1111111111111111,
              "#46039f"
             ],
             [
              0.2222222222222222,
              "#7201a8"
             ],
             [
              0.3333333333333333,
              "#9c179e"
             ],
             [
              0.4444444444444444,
              "#bd3786"
             ],
             [
              0.5555555555555556,
              "#d8576b"
             ],
             [
              0.6666666666666666,
              "#ed7953"
             ],
             [
              0.7777777777777778,
              "#fb9f3a"
             ],
             [
              0.8888888888888888,
              "#fdca26"
             ],
             [
              1,
              "#f0f921"
             ]
            ],
            "type": "contour"
           }
          ],
          "contourcarpet": [
           {
            "colorbar": {
             "outlinewidth": 0,
             "ticks": ""
            },
            "type": "contourcarpet"
           }
          ],
          "heatmap": [
           {
            "colorbar": {
             "outlinewidth": 0,
             "ticks": ""
            },
            "colorscale": [
             [
              0,
              "#0d0887"
             ],
             [
              0.1111111111111111,
              "#46039f"
             ],
             [
              0.2222222222222222,
              "#7201a8"
             ],
             [
              0.3333333333333333,
              "#9c179e"
             ],
             [
              0.4444444444444444,
              "#bd3786"
             ],
             [
              0.5555555555555556,
              "#d8576b"
             ],
             [
              0.6666666666666666,
              "#ed7953"
             ],
             [
              0.7777777777777778,
              "#fb9f3a"
             ],
             [
              0.8888888888888888,
              "#fdca26"
             ],
             [
              1,
              "#f0f921"
             ]
            ],
            "type": "heatmap"
           }
          ],
          "heatmapgl": [
           {
            "colorbar": {
             "outlinewidth": 0,
             "ticks": ""
            },
            "colorscale": [
             [
              0,
              "#0d0887"
             ],
             [
              0.1111111111111111,
              "#46039f"
             ],
             [
              0.2222222222222222,
              "#7201a8"
             ],
             [
              0.3333333333333333,
              "#9c179e"
             ],
             [
              0.4444444444444444,
              "#bd3786"
             ],
             [
              0.5555555555555556,
              "#d8576b"
             ],
             [
              0.6666666666666666,
              "#ed7953"
             ],
             [
              0.7777777777777778,
              "#fb9f3a"
             ],
             [
              0.8888888888888888,
              "#fdca26"
             ],
             [
              1,
              "#f0f921"
             ]
            ],
            "type": "heatmapgl"
           }
          ],
          "histogram": [
           {
            "marker": {
             "pattern": {
              "fillmode": "overlay",
              "size": 10,
              "solidity": 0.2
             }
            },
            "type": "histogram"
           }
          ],
          "histogram2d": [
           {
            "colorbar": {
             "outlinewidth": 0,
             "ticks": ""
            },
            "colorscale": [
             [
              0,
              "#0d0887"
             ],
             [
              0.1111111111111111,
              "#46039f"
             ],
             [
              0.2222222222222222,
              "#7201a8"
             ],
             [
              0.3333333333333333,
              "#9c179e"
             ],
             [
              0.4444444444444444,
              "#bd3786"
             ],
             [
              0.5555555555555556,
              "#d8576b"
             ],
             [
              0.6666666666666666,
              "#ed7953"
             ],
             [
              0.7777777777777778,
              "#fb9f3a"
             ],
             [
              0.8888888888888888,
              "#fdca26"
             ],
             [
              1,
              "#f0f921"
             ]
            ],
            "type": "histogram2d"
           }
          ],
          "histogram2dcontour": [
           {
            "colorbar": {
             "outlinewidth": 0,
             "ticks": ""
            },
            "colorscale": [
             [
              0,
              "#0d0887"
             ],
             [
              0.1111111111111111,
              "#46039f"
             ],
             [
              0.2222222222222222,
              "#7201a8"
             ],
             [
              0.3333333333333333,
              "#9c179e"
             ],
             [
              0.4444444444444444,
              "#bd3786"
             ],
             [
              0.5555555555555556,
              "#d8576b"
             ],
             [
              0.6666666666666666,
              "#ed7953"
             ],
             [
              0.7777777777777778,
              "#fb9f3a"
             ],
             [
              0.8888888888888888,
              "#fdca26"
             ],
             [
              1,
              "#f0f921"
             ]
            ],
            "type": "histogram2dcontour"
           }
          ],
          "mesh3d": [
           {
            "colorbar": {
             "outlinewidth": 0,
             "ticks": ""
            },
            "type": "mesh3d"
           }
          ],
          "parcoords": [
           {
            "line": {
             "colorbar": {
              "outlinewidth": 0,
              "ticks": ""
             }
            },
            "type": "parcoords"
           }
          ],
          "pie": [
           {
            "automargin": true,
            "type": "pie"
           }
          ],
          "scatter": [
           {
            "fillpattern": {
             "fillmode": "overlay",
             "size": 10,
             "solidity": 0.2
            },
            "type": "scatter"
           }
          ],
          "scatter3d": [
           {
            "line": {
             "colorbar": {
              "outlinewidth": 0,
              "ticks": ""
             }
            },
            "marker": {
             "colorbar": {
              "outlinewidth": 0,
              "ticks": ""
             }
            },
            "type": "scatter3d"
           }
          ],
          "scattercarpet": [
           {
            "marker": {
             "colorbar": {
              "outlinewidth": 0,
              "ticks": ""
             }
            },
            "type": "scattercarpet"
           }
          ],
          "scattergeo": [
           {
            "marker": {
             "colorbar": {
              "outlinewidth": 0,
              "ticks": ""
             }
            },
            "type": "scattergeo"
           }
          ],
          "scattergl": [
           {
            "marker": {
             "colorbar": {
              "outlinewidth": 0,
              "ticks": ""
             }
            },
            "type": "scattergl"
           }
          ],
          "scattermapbox": [
           {
            "marker": {
             "colorbar": {
              "outlinewidth": 0,
              "ticks": ""
             }
            },
            "type": "scattermapbox"
           }
          ],
          "scatterpolar": [
           {
            "marker": {
             "colorbar": {
              "outlinewidth": 0,
              "ticks": ""
             }
            },
            "type": "scatterpolar"
           }
          ],
          "scatterpolargl": [
           {
            "marker": {
             "colorbar": {
              "outlinewidth": 0,
              "ticks": ""
             }
            },
            "type": "scatterpolargl"
           }
          ],
          "scatterternary": [
           {
            "marker": {
             "colorbar": {
              "outlinewidth": 0,
              "ticks": ""
             }
            },
            "type": "scatterternary"
           }
          ],
          "surface": [
           {
            "colorbar": {
             "outlinewidth": 0,
             "ticks": ""
            },
            "colorscale": [
             [
              0,
              "#0d0887"
             ],
             [
              0.1111111111111111,
              "#46039f"
             ],
             [
              0.2222222222222222,
              "#7201a8"
             ],
             [
              0.3333333333333333,
              "#9c179e"
             ],
             [
              0.4444444444444444,
              "#bd3786"
             ],
             [
              0.5555555555555556,
              "#d8576b"
             ],
             [
              0.6666666666666666,
              "#ed7953"
             ],
             [
              0.7777777777777778,
              "#fb9f3a"
             ],
             [
              0.8888888888888888,
              "#fdca26"
             ],
             [
              1,
              "#f0f921"
             ]
            ],
            "type": "surface"
           }
          ],
          "table": [
           {
            "cells": {
             "fill": {
              "color": "#EBF0F8"
             },
             "line": {
              "color": "white"
             }
            },
            "header": {
             "fill": {
              "color": "#C8D4E3"
             },
             "line": {
              "color": "white"
             }
            },
            "type": "table"
           }
          ]
         },
         "layout": {
          "annotationdefaults": {
           "arrowcolor": "#2a3f5f",
           "arrowhead": 0,
           "arrowwidth": 1
          },
          "autotypenumbers": "strict",
          "coloraxis": {
           "colorbar": {
            "outlinewidth": 0,
            "ticks": ""
           }
          },
          "colorscale": {
           "diverging": [
            [
             0,
             "#8e0152"
            ],
            [
             0.1,
             "#c51b7d"
            ],
            [
             0.2,
             "#de77ae"
            ],
            [
             0.3,
             "#f1b6da"
            ],
            [
             0.4,
             "#fde0ef"
            ],
            [
             0.5,
             "#f7f7f7"
            ],
            [
             0.6,
             "#e6f5d0"
            ],
            [
             0.7,
             "#b8e186"
            ],
            [
             0.8,
             "#7fbc41"
            ],
            [
             0.9,
             "#4d9221"
            ],
            [
             1,
             "#276419"
            ]
           ],
           "sequential": [
            [
             0,
             "#0d0887"
            ],
            [
             0.1111111111111111,
             "#46039f"
            ],
            [
             0.2222222222222222,
             "#7201a8"
            ],
            [
             0.3333333333333333,
             "#9c179e"
            ],
            [
             0.4444444444444444,
             "#bd3786"
            ],
            [
             0.5555555555555556,
             "#d8576b"
            ],
            [
             0.6666666666666666,
             "#ed7953"
            ],
            [
             0.7777777777777778,
             "#fb9f3a"
            ],
            [
             0.8888888888888888,
             "#fdca26"
            ],
            [
             1,
             "#f0f921"
            ]
           ],
           "sequentialminus": [
            [
             0,
             "#0d0887"
            ],
            [
             0.1111111111111111,
             "#46039f"
            ],
            [
             0.2222222222222222,
             "#7201a8"
            ],
            [
             0.3333333333333333,
             "#9c179e"
            ],
            [
             0.4444444444444444,
             "#bd3786"
            ],
            [
             0.5555555555555556,
             "#d8576b"
            ],
            [
             0.6666666666666666,
             "#ed7953"
            ],
            [
             0.7777777777777778,
             "#fb9f3a"
            ],
            [
             0.8888888888888888,
             "#fdca26"
            ],
            [
             1,
             "#f0f921"
            ]
           ]
          },
          "colorway": [
           "#636efa",
           "#EF553B",
           "#00cc96",
           "#ab63fa",
           "#FFA15A",
           "#19d3f3",
           "#FF6692",
           "#B6E880",
           "#FF97FF",
           "#FECB52"
          ],
          "font": {
           "color": "#2a3f5f"
          },
          "geo": {
           "bgcolor": "white",
           "lakecolor": "white",
           "landcolor": "#E5ECF6",
           "showlakes": true,
           "showland": true,
           "subunitcolor": "white"
          },
          "hoverlabel": {
           "align": "left"
          },
          "hovermode": "closest",
          "mapbox": {
           "style": "light"
          },
          "paper_bgcolor": "white",
          "plot_bgcolor": "#E5ECF6",
          "polar": {
           "angularaxis": {
            "gridcolor": "white",
            "linecolor": "white",
            "ticks": ""
           },
           "bgcolor": "#E5ECF6",
           "radialaxis": {
            "gridcolor": "white",
            "linecolor": "white",
            "ticks": ""
           }
          },
          "scene": {
           "xaxis": {
            "backgroundcolor": "#E5ECF6",
            "gridcolor": "white",
            "gridwidth": 2,
            "linecolor": "white",
            "showbackground": true,
            "ticks": "",
            "zerolinecolor": "white"
           },
           "yaxis": {
            "backgroundcolor": "#E5ECF6",
            "gridcolor": "white",
            "gridwidth": 2,
            "linecolor": "white",
            "showbackground": true,
            "ticks": "",
            "zerolinecolor": "white"
           },
           "zaxis": {
            "backgroundcolor": "#E5ECF6",
            "gridcolor": "white",
            "gridwidth": 2,
            "linecolor": "white",
            "showbackground": true,
            "ticks": "",
            "zerolinecolor": "white"
           }
          },
          "shapedefaults": {
           "line": {
            "color": "#2a3f5f"
           }
          },
          "ternary": {
           "aaxis": {
            "gridcolor": "white",
            "linecolor": "white",
            "ticks": ""
           },
           "baxis": {
            "gridcolor": "white",
            "linecolor": "white",
            "ticks": ""
           },
           "bgcolor": "#E5ECF6",
           "caxis": {
            "gridcolor": "white",
            "linecolor": "white",
            "ticks": ""
           }
          },
          "title": {
           "x": 0.05
          },
          "xaxis": {
           "automargin": true,
           "gridcolor": "white",
           "linecolor": "white",
           "ticks": "",
           "title": {
            "standoff": 15
           },
           "zerolinecolor": "white",
           "zerolinewidth": 2
          },
          "yaxis": {
           "automargin": true,
           "gridcolor": "white",
           "linecolor": "white",
           "ticks": "",
           "title": {
            "standoff": 15
           },
           "zerolinecolor": "white",
           "zerolinewidth": 2
          }
         }
        },
        "title": {
         "text": "Performance of Published Clips by Game"
        },
        "xaxis": {
         "title": {
          "text": "View Count"
         }
        },
        "yaxis": {
         "categoryorder": "total ascending",
         "title": {
          "text": "Game Title"
         }
        }
       }
      }
     },
     "metadata": {},
     "output_type": "display_data"
    }
   ],
   "source": [
    "# Build sa visual for un-published clips\n",
    "data_seed = {}\n",
    "category_mapper = {'m': \"Mobile Only\", 'f': \"Fully Published\", \"d\": 'Desktop Only'}\n",
    "with Session(engine) as session:\n",
    "    # for url in session.query(Clip_Tracker.url).where(Clip_Tracker.published == None).order_by(Clip_Tracker.view_count.desc()).all()[:2]:\n",
    "    for title, game_name, view_count, publishing_status in session.query(Clip_Tracker.title,Game_Meta.game_name, Clip_Tracker.view_count, Clip_Tracker.published).select_from(join(Clip_Tracker, Game_Meta)).order_by(Clip_Tracker.view_count.desc()).all():\n",
    "        if isinstance(publishing_status, PublishingStatus):\n",
    "            publshing_status_name = category_mapper[publishing_status.name]\n",
    "        else:\n",
    "            if publishing_status != None:\n",
    "                print(publishing_status)\n",
    "            publshing_status_name = \"Not Published\"\n",
    "        if bool(data_seed.get(publshing_status_name)):\n",
    "            data_seed[publshing_status_name]['y'].append(game_name)\n",
    "            data_seed[publshing_status_name]['x'].append(view_count)\n",
    "            data_seed[publshing_status_name]['text'].append(title)\n",
    "        else:\n",
    "            data_seed[publshing_status_name] = {'x': [], 'y': [], 'text': []}\n",
    "            data_seed[publshing_status_name]['x'].append(view_count)\n",
    "            data_seed[publshing_status_name]['y'].append(game_name)\n",
    "            data_seed[publshing_status_name]['text'].append(title)\n",
    "\n",
    "\n",
    "    # print(session.query(distinct(Clip_Tracker.game_id), Game_Meta.game_name).select_from(join(Clip_Tracker, Game_Meta)).where(Clip_Tracker.published == None).order_by(Clip_Tracker.view_count.desc()).all())\n",
    "        # print(url[0])\n",
    "\n",
    "data = []\n",
    "\n",
    "odered_list = ['Fully Published', \"Mobile Only\", 'Desktop Only', \"Not Published\"]\n",
    "# for key, value in data_seed.items():\n",
    "for key in odered_list:\n",
    "    category_name = key\n",
    "    data.append(go.Bar(x=data_seed[key]['x'], y = data_seed[key]['y'], text = data_seed[key]['text'], name= category_name, orientation='h'))\n",
    "go.Figure(data, go.Layout(barmode='stack', title={'text': \"Performance of Published Clips by Game\"}, xaxis = {'title': {'text': \"View Count\"}},yaxis={'categoryorder': 'total ascending', 'title': {'text': 'Game Title'}}))"
   ]
  },
  {
   "cell_type": "code",
   "execution_count": 97,
   "metadata": {},
   "outputs": [
    {
     "data": {
      "application/vnd.plotly.v1+json": {
       "config": {
        "plotlyServerURL": "https://plot.ly"
       },
       "data": [
        {
         "name": "Average Views",
         "orientation": "h",
         "type": "bar",
         "x": [
          22.5556
         ],
         "y": [
          "Demon's Souls"
         ]
        },
        {
         "mode": "markers",
         "name": "Max Views",
         "type": "scatter",
         "x": [
          276
         ],
         "y": [
          "Demon's Souls"
         ]
        },
        {
         "name": "Total Views",
         "orientation": "h",
         "type": "bar",
         "x": [
          609
         ],
         "y": [
          "Demon's Souls"
         ]
        },
        {
         "mode": "markers",
         "name": "Number of Videos",
         "type": "scatter",
         "x": [
          27
         ],
         "y": [
          "Demon's Souls"
         ]
        },
        {
         "name": "Average Views",
         "orientation": "h",
         "type": "bar",
         "x": [
          9.5366
         ],
         "y": [
          "Remnant: From the Ashes"
         ]
        },
        {
         "mode": "markers",
         "name": "Max Views",
         "type": "scatter",
         "x": [
          50
         ],
         "y": [
          "Remnant: From the Ashes"
         ]
        },
        {
         "name": "Total Views",
         "orientation": "h",
         "type": "bar",
         "x": [
          391
         ],
         "y": [
          "Remnant: From the Ashes"
         ]
        },
        {
         "mode": "markers",
         "name": "Number of Videos",
         "type": "scatter",
         "x": [
          41
         ],
         "y": [
          "Remnant: From the Ashes"
         ]
        },
        {
         "name": "Average Views",
         "orientation": "h",
         "type": "bar",
         "x": [
          4.6049
         ],
         "y": [
          "Horizon Forbidden West"
         ]
        },
        {
         "mode": "markers",
         "name": "Max Views",
         "type": "scatter",
         "x": [
          18
         ],
         "y": [
          "Horizon Forbidden West"
         ]
        },
        {
         "name": "Total Views",
         "orientation": "h",
         "type": "bar",
         "x": [
          373
         ],
         "y": [
          "Horizon Forbidden West"
         ]
        },
        {
         "mode": "markers",
         "name": "Number of Videos",
         "type": "scatter",
         "x": [
          81
         ],
         "y": [
          "Horizon Forbidden West"
         ]
        },
        {
         "name": "Average Views",
         "orientation": "h",
         "type": "bar",
         "x": [
          2.5889
         ],
         "y": [
          "Clash Royale"
         ]
        },
        {
         "mode": "markers",
         "name": "Max Views",
         "type": "scatter",
         "x": [
          15
         ],
         "y": [
          "Clash Royale"
         ]
        },
        {
         "name": "Total Views",
         "orientation": "h",
         "type": "bar",
         "x": [
          233
         ],
         "y": [
          "Clash Royale"
         ]
        },
        {
         "mode": "markers",
         "name": "Number of Videos",
         "type": "scatter",
         "x": [
          90
         ],
         "y": [
          "Clash Royale"
         ]
        },
        {
         "name": "Average Views",
         "orientation": "h",
         "type": "bar",
         "x": [
          2.975
         ],
         "y": [
          "Overcooked! All You Can Eat"
         ]
        },
        {
         "mode": "markers",
         "name": "Max Views",
         "type": "scatter",
         "x": [
          15
         ],
         "y": [
          "Overcooked! All You Can Eat"
         ]
        },
        {
         "name": "Total Views",
         "orientation": "h",
         "type": "bar",
         "x": [
          119
         ],
         "y": [
          "Overcooked! All You Can Eat"
         ]
        },
        {
         "mode": "markers",
         "name": "Number of Videos",
         "type": "scatter",
         "x": [
          40
         ],
         "y": [
          "Overcooked! All You Can Eat"
         ]
        },
        {
         "name": "Average Views",
         "orientation": "h",
         "type": "bar",
         "x": [
          4.5789
         ],
         "y": [
          "It Takes Two"
         ]
        },
        {
         "mode": "markers",
         "name": "Max Views",
         "type": "scatter",
         "x": [
          13
         ],
         "y": [
          "It Takes Two"
         ]
        },
        {
         "name": "Total Views",
         "orientation": "h",
         "type": "bar",
         "x": [
          87
         ],
         "y": [
          "It Takes Two"
         ]
        },
        {
         "mode": "markers",
         "name": "Number of Videos",
         "type": "scatter",
         "x": [
          19
         ],
         "y": [
          "It Takes Two"
         ]
        },
        {
         "name": "Average Views",
         "orientation": "h",
         "type": "bar",
         "x": [
          4.125
         ],
         "y": [
          "Ghost of Tsushima"
         ]
        },
        {
         "mode": "markers",
         "name": "Max Views",
         "type": "scatter",
         "x": [
          10
         ],
         "y": [
          "Ghost of Tsushima"
         ]
        },
        {
         "name": "Total Views",
         "orientation": "h",
         "type": "bar",
         "x": [
          66
         ],
         "y": [
          "Ghost of Tsushima"
         ]
        },
        {
         "mode": "markers",
         "name": "Number of Videos",
         "type": "scatter",
         "x": [
          16
         ],
         "y": [
          "Ghost of Tsushima"
         ]
        },
        {
         "name": "Average Views",
         "orientation": "h",
         "type": "bar",
         "x": [
          2.2667
         ],
         "y": [
          "God of War"
         ]
        },
        {
         "mode": "markers",
         "name": "Max Views",
         "type": "scatter",
         "x": [
          4
         ],
         "y": [
          "God of War"
         ]
        },
        {
         "name": "Total Views",
         "orientation": "h",
         "type": "bar",
         "x": [
          34
         ],
         "y": [
          "God of War"
         ]
        },
        {
         "mode": "markers",
         "name": "Number of Videos",
         "type": "scatter",
         "x": [
          15
         ],
         "y": [
          "God of War"
         ]
        },
        {
         "name": "Average Views",
         "orientation": "h",
         "type": "bar",
         "x": [
          6
         ],
         "y": [
          "Call of Duty: Black Ops 3"
         ]
        },
        {
         "mode": "markers",
         "name": "Max Views",
         "type": "scatter",
         "x": [
          7
         ],
         "y": [
          "Call of Duty: Black Ops 3"
         ]
        },
        {
         "name": "Total Views",
         "orientation": "h",
         "type": "bar",
         "x": [
          12
         ],
         "y": [
          "Call of Duty: Black Ops 3"
         ]
        },
        {
         "mode": "markers",
         "name": "Number of Videos",
         "type": "scatter",
         "x": [
          2
         ],
         "y": [
          "Call of Duty: Black Ops 3"
         ]
        }
       ],
       "layout": {
        "barmode": "group",
        "template": {
         "data": {
          "bar": [
           {
            "error_x": {
             "color": "#2a3f5f"
            },
            "error_y": {
             "color": "#2a3f5f"
            },
            "marker": {
             "line": {
              "color": "#E5ECF6",
              "width": 0.5
             },
             "pattern": {
              "fillmode": "overlay",
              "size": 10,
              "solidity": 0.2
             }
            },
            "type": "bar"
           }
          ],
          "barpolar": [
           {
            "marker": {
             "line": {
              "color": "#E5ECF6",
              "width": 0.5
             },
             "pattern": {
              "fillmode": "overlay",
              "size": 10,
              "solidity": 0.2
             }
            },
            "type": "barpolar"
           }
          ],
          "carpet": [
           {
            "aaxis": {
             "endlinecolor": "#2a3f5f",
             "gridcolor": "white",
             "linecolor": "white",
             "minorgridcolor": "white",
             "startlinecolor": "#2a3f5f"
            },
            "baxis": {
             "endlinecolor": "#2a3f5f",
             "gridcolor": "white",
             "linecolor": "white",
             "minorgridcolor": "white",
             "startlinecolor": "#2a3f5f"
            },
            "type": "carpet"
           }
          ],
          "choropleth": [
           {
            "colorbar": {
             "outlinewidth": 0,
             "ticks": ""
            },
            "type": "choropleth"
           }
          ],
          "contour": [
           {
            "colorbar": {
             "outlinewidth": 0,
             "ticks": ""
            },
            "colorscale": [
             [
              0,
              "#0d0887"
             ],
             [
              0.1111111111111111,
              "#46039f"
             ],
             [
              0.2222222222222222,
              "#7201a8"
             ],
             [
              0.3333333333333333,
              "#9c179e"
             ],
             [
              0.4444444444444444,
              "#bd3786"
             ],
             [
              0.5555555555555556,
              "#d8576b"
             ],
             [
              0.6666666666666666,
              "#ed7953"
             ],
             [
              0.7777777777777778,
              "#fb9f3a"
             ],
             [
              0.8888888888888888,
              "#fdca26"
             ],
             [
              1,
              "#f0f921"
             ]
            ],
            "type": "contour"
           }
          ],
          "contourcarpet": [
           {
            "colorbar": {
             "outlinewidth": 0,
             "ticks": ""
            },
            "type": "contourcarpet"
           }
          ],
          "heatmap": [
           {
            "colorbar": {
             "outlinewidth": 0,
             "ticks": ""
            },
            "colorscale": [
             [
              0,
              "#0d0887"
             ],
             [
              0.1111111111111111,
              "#46039f"
             ],
             [
              0.2222222222222222,
              "#7201a8"
             ],
             [
              0.3333333333333333,
              "#9c179e"
             ],
             [
              0.4444444444444444,
              "#bd3786"
             ],
             [
              0.5555555555555556,
              "#d8576b"
             ],
             [
              0.6666666666666666,
              "#ed7953"
             ],
             [
              0.7777777777777778,
              "#fb9f3a"
             ],
             [
              0.8888888888888888,
              "#fdca26"
             ],
             [
              1,
              "#f0f921"
             ]
            ],
            "type": "heatmap"
           }
          ],
          "heatmapgl": [
           {
            "colorbar": {
             "outlinewidth": 0,
             "ticks": ""
            },
            "colorscale": [
             [
              0,
              "#0d0887"
             ],
             [
              0.1111111111111111,
              "#46039f"
             ],
             [
              0.2222222222222222,
              "#7201a8"
             ],
             [
              0.3333333333333333,
              "#9c179e"
             ],
             [
              0.4444444444444444,
              "#bd3786"
             ],
             [
              0.5555555555555556,
              "#d8576b"
             ],
             [
              0.6666666666666666,
              "#ed7953"
             ],
             [
              0.7777777777777778,
              "#fb9f3a"
             ],
             [
              0.8888888888888888,
              "#fdca26"
             ],
             [
              1,
              "#f0f921"
             ]
            ],
            "type": "heatmapgl"
           }
          ],
          "histogram": [
           {
            "marker": {
             "pattern": {
              "fillmode": "overlay",
              "size": 10,
              "solidity": 0.2
             }
            },
            "type": "histogram"
           }
          ],
          "histogram2d": [
           {
            "colorbar": {
             "outlinewidth": 0,
             "ticks": ""
            },
            "colorscale": [
             [
              0,
              "#0d0887"
             ],
             [
              0.1111111111111111,
              "#46039f"
             ],
             [
              0.2222222222222222,
              "#7201a8"
             ],
             [
              0.3333333333333333,
              "#9c179e"
             ],
             [
              0.4444444444444444,
              "#bd3786"
             ],
             [
              0.5555555555555556,
              "#d8576b"
             ],
             [
              0.6666666666666666,
              "#ed7953"
             ],
             [
              0.7777777777777778,
              "#fb9f3a"
             ],
             [
              0.8888888888888888,
              "#fdca26"
             ],
             [
              1,
              "#f0f921"
             ]
            ],
            "type": "histogram2d"
           }
          ],
          "histogram2dcontour": [
           {
            "colorbar": {
             "outlinewidth": 0,
             "ticks": ""
            },
            "colorscale": [
             [
              0,
              "#0d0887"
             ],
             [
              0.1111111111111111,
              "#46039f"
             ],
             [
              0.2222222222222222,
              "#7201a8"
             ],
             [
              0.3333333333333333,
              "#9c179e"
             ],
             [
              0.4444444444444444,
              "#bd3786"
             ],
             [
              0.5555555555555556,
              "#d8576b"
             ],
             [
              0.6666666666666666,
              "#ed7953"
             ],
             [
              0.7777777777777778,
              "#fb9f3a"
             ],
             [
              0.8888888888888888,
              "#fdca26"
             ],
             [
              1,
              "#f0f921"
             ]
            ],
            "type": "histogram2dcontour"
           }
          ],
          "mesh3d": [
           {
            "colorbar": {
             "outlinewidth": 0,
             "ticks": ""
            },
            "type": "mesh3d"
           }
          ],
          "parcoords": [
           {
            "line": {
             "colorbar": {
              "outlinewidth": 0,
              "ticks": ""
             }
            },
            "type": "parcoords"
           }
          ],
          "pie": [
           {
            "automargin": true,
            "type": "pie"
           }
          ],
          "scatter": [
           {
            "fillpattern": {
             "fillmode": "overlay",
             "size": 10,
             "solidity": 0.2
            },
            "type": "scatter"
           }
          ],
          "scatter3d": [
           {
            "line": {
             "colorbar": {
              "outlinewidth": 0,
              "ticks": ""
             }
            },
            "marker": {
             "colorbar": {
              "outlinewidth": 0,
              "ticks": ""
             }
            },
            "type": "scatter3d"
           }
          ],
          "scattercarpet": [
           {
            "marker": {
             "colorbar": {
              "outlinewidth": 0,
              "ticks": ""
             }
            },
            "type": "scattercarpet"
           }
          ],
          "scattergeo": [
           {
            "marker": {
             "colorbar": {
              "outlinewidth": 0,
              "ticks": ""
             }
            },
            "type": "scattergeo"
           }
          ],
          "scattergl": [
           {
            "marker": {
             "colorbar": {
              "outlinewidth": 0,
              "ticks": ""
             }
            },
            "type": "scattergl"
           }
          ],
          "scattermapbox": [
           {
            "marker": {
             "colorbar": {
              "outlinewidth": 0,
              "ticks": ""
             }
            },
            "type": "scattermapbox"
           }
          ],
          "scatterpolar": [
           {
            "marker": {
             "colorbar": {
              "outlinewidth": 0,
              "ticks": ""
             }
            },
            "type": "scatterpolar"
           }
          ],
          "scatterpolargl": [
           {
            "marker": {
             "colorbar": {
              "outlinewidth": 0,
              "ticks": ""
             }
            },
            "type": "scatterpolargl"
           }
          ],
          "scatterternary": [
           {
            "marker": {
             "colorbar": {
              "outlinewidth": 0,
              "ticks": ""
             }
            },
            "type": "scatterternary"
           }
          ],
          "surface": [
           {
            "colorbar": {
             "outlinewidth": 0,
             "ticks": ""
            },
            "colorscale": [
             [
              0,
              "#0d0887"
             ],
             [
              0.1111111111111111,
              "#46039f"
             ],
             [
              0.2222222222222222,
              "#7201a8"
             ],
             [
              0.3333333333333333,
              "#9c179e"
             ],
             [
              0.4444444444444444,
              "#bd3786"
             ],
             [
              0.5555555555555556,
              "#d8576b"
             ],
             [
              0.6666666666666666,
              "#ed7953"
             ],
             [
              0.7777777777777778,
              "#fb9f3a"
             ],
             [
              0.8888888888888888,
              "#fdca26"
             ],
             [
              1,
              "#f0f921"
             ]
            ],
            "type": "surface"
           }
          ],
          "table": [
           {
            "cells": {
             "fill": {
              "color": "#EBF0F8"
             },
             "line": {
              "color": "white"
             }
            },
            "header": {
             "fill": {
              "color": "#C8D4E3"
             },
             "line": {
              "color": "white"
             }
            },
            "type": "table"
           }
          ]
         },
         "layout": {
          "annotationdefaults": {
           "arrowcolor": "#2a3f5f",
           "arrowhead": 0,
           "arrowwidth": 1
          },
          "autotypenumbers": "strict",
          "coloraxis": {
           "colorbar": {
            "outlinewidth": 0,
            "ticks": ""
           }
          },
          "colorscale": {
           "diverging": [
            [
             0,
             "#8e0152"
            ],
            [
             0.1,
             "#c51b7d"
            ],
            [
             0.2,
             "#de77ae"
            ],
            [
             0.3,
             "#f1b6da"
            ],
            [
             0.4,
             "#fde0ef"
            ],
            [
             0.5,
             "#f7f7f7"
            ],
            [
             0.6,
             "#e6f5d0"
            ],
            [
             0.7,
             "#b8e186"
            ],
            [
             0.8,
             "#7fbc41"
            ],
            [
             0.9,
             "#4d9221"
            ],
            [
             1,
             "#276419"
            ]
           ],
           "sequential": [
            [
             0,
             "#0d0887"
            ],
            [
             0.1111111111111111,
             "#46039f"
            ],
            [
             0.2222222222222222,
             "#7201a8"
            ],
            [
             0.3333333333333333,
             "#9c179e"
            ],
            [
             0.4444444444444444,
             "#bd3786"
            ],
            [
             0.5555555555555556,
             "#d8576b"
            ],
            [
             0.6666666666666666,
             "#ed7953"
            ],
            [
             0.7777777777777778,
             "#fb9f3a"
            ],
            [
             0.8888888888888888,
             "#fdca26"
            ],
            [
             1,
             "#f0f921"
            ]
           ],
           "sequentialminus": [
            [
             0,
             "#0d0887"
            ],
            [
             0.1111111111111111,
             "#46039f"
            ],
            [
             0.2222222222222222,
             "#7201a8"
            ],
            [
             0.3333333333333333,
             "#9c179e"
            ],
            [
             0.4444444444444444,
             "#bd3786"
            ],
            [
             0.5555555555555556,
             "#d8576b"
            ],
            [
             0.6666666666666666,
             "#ed7953"
            ],
            [
             0.7777777777777778,
             "#fb9f3a"
            ],
            [
             0.8888888888888888,
             "#fdca26"
            ],
            [
             1,
             "#f0f921"
            ]
           ]
          },
          "colorway": [
           "#636efa",
           "#EF553B",
           "#00cc96",
           "#ab63fa",
           "#FFA15A",
           "#19d3f3",
           "#FF6692",
           "#B6E880",
           "#FF97FF",
           "#FECB52"
          ],
          "font": {
           "color": "#2a3f5f"
          },
          "geo": {
           "bgcolor": "white",
           "lakecolor": "white",
           "landcolor": "#E5ECF6",
           "showlakes": true,
           "showland": true,
           "subunitcolor": "white"
          },
          "hoverlabel": {
           "align": "left"
          },
          "hovermode": "closest",
          "mapbox": {
           "style": "light"
          },
          "paper_bgcolor": "white",
          "plot_bgcolor": "#E5ECF6",
          "polar": {
           "angularaxis": {
            "gridcolor": "white",
            "linecolor": "white",
            "ticks": ""
           },
           "bgcolor": "#E5ECF6",
           "radialaxis": {
            "gridcolor": "white",
            "linecolor": "white",
            "ticks": ""
           }
          },
          "scene": {
           "xaxis": {
            "backgroundcolor": "#E5ECF6",
            "gridcolor": "white",
            "gridwidth": 2,
            "linecolor": "white",
            "showbackground": true,
            "ticks": "",
            "zerolinecolor": "white"
           },
           "yaxis": {
            "backgroundcolor": "#E5ECF6",
            "gridcolor": "white",
            "gridwidth": 2,
            "linecolor": "white",
            "showbackground": true,
            "ticks": "",
            "zerolinecolor": "white"
           },
           "zaxis": {
            "backgroundcolor": "#E5ECF6",
            "gridcolor": "white",
            "gridwidth": 2,
            "linecolor": "white",
            "showbackground": true,
            "ticks": "",
            "zerolinecolor": "white"
           }
          },
          "shapedefaults": {
           "line": {
            "color": "#2a3f5f"
           }
          },
          "ternary": {
           "aaxis": {
            "gridcolor": "white",
            "linecolor": "white",
            "ticks": ""
           },
           "baxis": {
            "gridcolor": "white",
            "linecolor": "white",
            "ticks": ""
           },
           "bgcolor": "#E5ECF6",
           "caxis": {
            "gridcolor": "white",
            "linecolor": "white",
            "ticks": ""
           }
          },
          "title": {
           "x": 0.05
          },
          "xaxis": {
           "automargin": true,
           "gridcolor": "white",
           "linecolor": "white",
           "ticks": "",
           "title": {
            "standoff": 15
           },
           "zerolinecolor": "white",
           "zerolinewidth": 2
          },
          "yaxis": {
           "automargin": true,
           "gridcolor": "white",
           "linecolor": "white",
           "ticks": "",
           "title": {
            "standoff": 15
           },
           "zerolinecolor": "white",
           "zerolinewidth": 2
          }
         }
        },
        "yaxis": {
         "categoryorder": "total ascending"
        }
       }
      }
     },
     "metadata": {},
     "output_type": "display_data"
    }
   ],
   "source": [
    "data = []\n",
    "with Session(engine) as session:\n",
    "    # for title, game_name, view_count, publishing_status in session.query(Clip_Tracker.title,Game_Meta.game_name, Clip_Tracker.view_count, Clip_Tracker.published).select_from(join(Clip_Tracker, Game_Meta)).order_by(Clip_Tracker.view_count.desc()).all():\n",
    "    \n",
    "    for game_name, avg_cnt, max_cnt, sum_cnt, video_cnt in session.query(Game_Meta.game_name, func.avg(Clip_Tracker.view_count), func.max(Clip_Tracker.view_count), func.sum(Clip_Tracker.view_count), func.count(Clip_Tracker.title)).select_from(join(Game_Meta, Clip_Tracker)).group_by(Clip_Tracker.game_id).order_by(func.sum(Clip_Tracker.view_count).desc()).all():\n",
    "        data.append(go.Bar(x=[avg_cnt], y = [game_name], name=\"Average Views\", orientation='h'))\n",
    "        data.append(go.Scatter(x=[max_cnt], y = [game_name], name=\"Max Views\", mode='markers'))\n",
    "        data.append(go.Bar(x=[sum_cnt], y = [game_name], name=\"Total Views\", orientation='h'))\n",
    "        data.append(go.Scatter(x=[video_cnt], y = [game_name], name=\"Number of Videos\" , mode='markers'))\n",
    "        # data.append(go.Bar(x=[avg_cnt], y = [game_name]))\n",
    "\n",
    "go.Figure(data, go.Layout(barmode='group', yaxis={'categoryorder': 'total ascending'}))\n",
    "        "
   ]
  },
  {
   "cell_type": "code",
   "execution_count": 3,
   "metadata": {},
   "outputs": [],
   "source": [
    "playlists = service.playlists().list(part='id,snippet,status', channelId=os.environ['YT_CHANNEL_ID']).execute()\n",
    "nextPage = playlists['nextPageToken']\n",
    "while nextPage != None:\n",
    "    seedPlaylist = service.playlists().list(part='id,snippet,status', channelId=os.environ['YT_CHANNEL_ID'], pageToken = nextPage).execute()\n",
    "    playlists['items'] = playlists['items'] + seedPlaylist['items']\n",
    "    if bool(seedPlaylist.get('nextPageToken')):\n",
    "        nextPage = seedPlaylist['nextPageToken']\n",
    "    else:\n",
    "        nextPage = None"
   ]
  },
  {
   "cell_type": "code",
   "execution_count": 7,
   "metadata": {},
   "outputs": [
    {
     "name": "stdout",
     "output_type": "stream",
     "text": [
      "All Shorts\n"
     ]
    }
   ],
   "source": [
    "for playlist in playlists['items']:\n",
    "    if \"Shorts\" in playlist['snippet']['title']:\n",
    "        style = \"m\"\n",
    "        print(playlist['snippet']['title'])\n",
    "    else:\n",
    "        style = \"f\""
   ]
  },
  {
   "cell_type": "code",
   "execution_count": 10,
   "metadata": {},
   "outputs": [],
   "source": [
    "def completeThumbnails(playlist, default_mode = 'default'):\n",
    "    default = playlist['snippet']['thumbnails'][default_mode]\n",
    "    checks = ['default', 'medium', 'high', 'standard']\n",
    "    for chck in checks:\n",
    "        if not bool(playlist['snippet']['thumbnails'].get(chck)):\n",
    "            playlist['snippet']['thumbnails'][chck] = default\n",
    "    return playlist"
   ]
  },
  {
   "cell_type": "code",
   "execution_count": 17,
   "metadata": {},
   "outputs": [
    {
     "ename": "KeyError",
     "evalue": "'nextPageToken'",
     "output_type": "error",
     "traceback": [
      "\u001b[0;31m---------------------------------------------------------------------------\u001b[0m",
      "\u001b[0;31mKeyError\u001b[0m                                  Traceback (most recent call last)",
      "\u001b[1;32m/Users/abhirathchowdhury1/Programs/Twitch App/video-dashboard.ipynb Cell 6'\u001b[0m in \u001b[0;36m<cell line: 18>\u001b[0;34m()\u001b[0m\n\u001b[1;32m     <a href='vscode-notebook-cell:/Users/abhirathchowdhury1/Programs/Twitch%20App/video-dashboard.ipynb#ch0000004?line=55'>56</a>\u001b[0m \u001b[39mwhile\u001b[39;00m nextPage \u001b[39m!=\u001b[39m \u001b[39mNone\u001b[39;00m:\n\u001b[1;32m     <a href='vscode-notebook-cell:/Users/abhirathchowdhury1/Programs/Twitch%20App/video-dashboard.ipynb#ch0000004?line=56'>57</a>\u001b[0m     seed_list \u001b[39m=\u001b[39m service\u001b[39m.\u001b[39mplaylistItems()\u001b[39m.\u001b[39mlist(part\u001b[39m=\u001b[39m\u001b[39m\"\u001b[39m\u001b[39mid,snippet\u001b[39m\u001b[39m\"\u001b[39m, playlistId\u001b[39m=\u001b[39mplaylist[\u001b[39m'\u001b[39m\u001b[39mid\u001b[39m\u001b[39m'\u001b[39m], pageToken \u001b[39m=\u001b[39m nextPage)\u001b[39m.\u001b[39mexecute()\n\u001b[0;32m---> <a href='vscode-notebook-cell:/Users/abhirathchowdhury1/Programs/Twitch%20App/video-dashboard.ipynb#ch0000004?line=57'>58</a>\u001b[0m     nextPage \u001b[39m=\u001b[39m seed_list[\u001b[39m'\u001b[39;49m\u001b[39mnextPageToken\u001b[39;49m\u001b[39m'\u001b[39;49m]\n\u001b[1;32m     <a href='vscode-notebook-cell:/Users/abhirathchowdhury1/Programs/Twitch%20App/video-dashboard.ipynb#ch0000004?line=58'>59</a>\u001b[0m     playlist_Items[\u001b[39m'\u001b[39m\u001b[39mitems\u001b[39m\u001b[39m'\u001b[39m] \u001b[39m=\u001b[39m playlist_Items[\u001b[39m'\u001b[39m\u001b[39mitems\u001b[39m\u001b[39m'\u001b[39m] \u001b[39m+\u001b[39m seed_list[\u001b[39m'\u001b[39m\u001b[39mitems\u001b[39m\u001b[39m'\u001b[39m]\n\u001b[1;32m     <a href='vscode-notebook-cell:/Users/abhirathchowdhury1/Programs/Twitch%20App/video-dashboard.ipynb#ch0000004?line=59'>60</a>\u001b[0m \u001b[39mfor\u001b[39;00m video \u001b[39min\u001b[39;00m playlist_Items[\u001b[39m'\u001b[39m\u001b[39mitems\u001b[39m\u001b[39m'\u001b[39m]:\n",
      "\u001b[0;31mKeyError\u001b[0m: 'nextPageToken'"
     ]
    }
   ],
   "source": [
    "playlists = service.playlists().list(part='id,snippet,status', channelId=os.environ['YT_CHANNEL_ID']).execute()\n",
    "nextPage = playlists['nextPageToken']\n",
    "while nextPage != None:\n",
    "    seedPlaylist = service.playlists().list(part='id,snippet,status', channelId=os.environ['YT_CHANNEL_ID'], pageToken = nextPage).execute()\n",
    "    playlists['items'] = playlists['items'] + seedPlaylist['items']\n",
    "    if bool(seedPlaylist.get('nextPageToken')):\n",
    "        nextPage = seedPlaylist['nextPageToken']\n",
    "    else:\n",
    "        nextPage = None\n",
    "\n",
    "mapped_as_full_counts = {}\n",
    "mapped_full_vids = {}\n",
    "with Session(engine) as session:\n",
    "    for title in session.query(Clip_Tracker.title).where(Clip_Tracker.published == PublishingStatus.f).order_by(Clip_Tracker.view_count.desc()).all():\n",
    "        mapped_full_vids[title[0]] = []\n",
    "        mapped_as_full_counts[title[0]] = 0\n",
    "shorts_pattern = f\"[sS]hort\" # check for YT short videos\n",
    "with Session(engine) as session: # initialize session to sql using context manager\n",
    "    for playlist in playlists['items']: # loop through the differen playlists\n",
    "        playlist = completeThumbnails(playlist)\n",
    "        for key, thumbnail in playlist['snippet']['thumbnails'].items(): # first ensure that thumbnails are mapped in thumbnail table\n",
    "            if not bool(session.query(Thumbnails.id).where(Thumbnails.asset == thumbnail['url']).first()):\n",
    "                session.add(Thumbnails(asset=thumbnail['url'], width = thumbnail['width'], height=thumbnail['height']))\n",
    "                session.commit()\n",
    "            # map the thumbnail table ids to the playlist dictionary\n",
    "            playlist['snippet']['thumbnails'][key]['id'] = session.query(Thumbnails.id).where(Thumbnails.asset == thumbnail['url']).first()[0]\n",
    "\n",
    "        # if the playlist id is not in the table, add it\n",
    "        if not bool(session.query(PlayList_yt).where(PlayList_yt.id == playlist['id']).first()):\n",
    "            session.add(PlayList_yt(id=playlist['id'], title=playlist['snippet']['title'], \n",
    "            tb_default = playlist['snippet']['thumbnails']['default']['id'], \n",
    "            tb_medium = playlist['snippet']['thumbnails']['medium']['id'],\n",
    "            tb_high = playlist['snippet']['thumbnails']['high']['id'], \n",
    "            tb_standard = playlist['snippet']['thumbnails']['standard']['id']\n",
    "            ))\n",
    "            session.commit()\n",
    "\n",
    "        # else, update the table with the current values if it's already in the table - this is to capture if thumbnails or titles have changed\n",
    "        else:\n",
    "            session.execute(\n",
    "                update(PlayList_yt).where(PlayList_yt.id == playlist['id']).values(dict(title=playlist['snippet']['title'], \n",
    "            tb_default = playlist['snippet']['thumbnails']['default']['id'], \n",
    "            tb_medium = playlist['snippet']['thumbnails']['medium']['id'],\n",
    "            tb_high = playlist['snippet']['thumbnails']['high']['id'], \n",
    "            tb_standard = playlist['snippet']['thumbnails']['standard']['id']))\n",
    "            )\n",
    "            session.commit()\n",
    "        if \"Shorts\" in playlist['snippet']['title']:\n",
    "            style = VideoStyle.m\n",
    "        else:\n",
    "            style = VideoStyle.f\n",
    "        # next find all the videos in each playlist\n",
    "        playlist_Items = service.playlistItems().list(part=\"id,snippet\", playlistId=playlist['id']).execute()\n",
    "            \n",
    "        nextPage = playlist_Items['nextPageToken']\n",
    "        while nextPage != None:\n",
    "            seed_list = service.playlistItems().list(part=\"id,snippet\", playlistId=playlist['id'], pageToken = nextPage).execute()\n",
    "            nextPage = seed_list['nextPageToken']\n",
    "            playlist_Items['items'] = playlist_Items['items'] + seed_list['items']\n",
    "        for video in playlist_Items['items']:\n",
    "            try:\n",
    "                video = completeThumbnails(video)\n",
    "                title = video['snippet']['title']\n",
    "                description = video['snippet']['description']\n",
    "                    # check whether the title or description have the word \"short\" in it\n",
    "                # combine the tags into a  single string due to datatype limitations in database - leave as array if your database can store arrays\n",
    "                tags = \" | \".join(service.videos().list(part='snippet,contentDetails', id=video['snippet']['resourceId']['videoId']).execute()['items'][0]['snippet']['tags'])\n",
    "                \n",
    "\n",
    "                # to capture titles with title conventon used in yt_videoupload.py\n",
    "                title_components = title.split(\"|\")\n",
    "                if len(title_components) > 1:\n",
    "                    titleName = title_components[-1].strip()\n",
    "                \n",
    "                else: # incase title does not follow current convention\n",
    "                    titleName = title\n",
    "                \n",
    "                try:\n",
    "                    mapped_as_full_counts[titleName] += 1\n",
    "                    mapped_full_vids[titleName].append(style)\n",
    "                except:\n",
    "                    pass\n",
    "\n",
    "            \n",
    "                # find clip and original filename in clips database\n",
    "                for clip_id, filename in session.query(Clip_Tracker.id, Clip_Tracker.video_name).where(Clip_Tracker.title == titleName).all():\n",
    "\n",
    "                    if not bool(clip_id):\n",
    "                        print(title)\n",
    "                    else:\n",
    "                        # loop through the thumbnail images to ensure they are in the thumbnail database\n",
    "                        for key, thumbnail in video['snippet']['thumbnails'].items():\n",
    "                            if not bool(session.query(Thumbnails.id).where(Thumbnails.asset == thumbnail['url']).first()):\n",
    "                                session.add(Thumbnails(asset=thumbnail['url'], width = thumbnail['width'], height=thumbnail['height']))\n",
    "                                session.commit()\n",
    "                            video['snippet']['thumbnails'][key]['id'] = session.query(Thumbnails.id).where(Thumbnails.asset == thumbnail['url']).first()[0]\n",
    "                        # VideoID is not in the Video_yt table - add it!    \n",
    "                        if not bool(session.query(Video_yt).where(Video_yt.id == video['snippet']['resourceId']['videoId']).first()):\n",
    "                            session.add( Video_yt(id = video['snippet']['resourceId']['videoId'], \n",
    "                            clip_id=clip_id, \n",
    "                            title = title,\n",
    "                            filename = filename,\n",
    "                            style = style,\n",
    "                            description = description,\n",
    "                            tb_default = video['snippet']['thumbnails']['default']['id'], \n",
    "                            tb_medium = video['snippet']['thumbnails']['medium']['id'],\n",
    "                            tb_high = video['snippet']['thumbnails']['high']['id'], \n",
    "                            tb_standard = video['snippet']['thumbnails']['standard']['id'],\n",
    "                            tags = tags\n",
    "                            \n",
    "                            )\n",
    "                            )\n",
    "                            session.commit()\n",
    "                        # If it's already in there, update our record of current descriptiption / thumbnails.\n",
    "                        else:\n",
    "                            if style == VideoStyle.m:\n",
    "                                print(video)\n",
    "                            session.execute(\n",
    "                                update(Video_yt).where(Video_yt.id == video['snippet']['resourceId']['videoId']).values(\n",
    "                                    dict(\n",
    "                                        clip_id=clip_id, \n",
    "                                        title = title,\n",
    "                                        filename = filename,\n",
    "                                        style = style,\n",
    "                                        description = description,\n",
    "                                        tb_default = video['snippet']['thumbnails']['default']['id'], \n",
    "                                        tb_medium = video['snippet']['thumbnails']['medium']['id'],\n",
    "                                        tb_high = video['snippet']['thumbnails']['high']['id'], \n",
    "                                        tb_standard = video['snippet']['thumbnails']['standard']['id'],\n",
    "                                        tags = tags\n",
    "                                    )\n",
    "                                )\n",
    "                                )\n",
    "                            session.commit()\n",
    "                        if not bool(session.query(yt_vid_pl_mapper).where(yt_vid_pl_mapper.c.yt_video_id == video['snippet']['resourceId']['videoId']).where(yt_vid_pl_mapper.c.yt_playlist_id ==playlist['id']).first()):\n",
    "                            session.execute(insert(yt_vid_pl_mapper).values({\"yt_playlist_id\": playlist['id'], 'yt_video_id': video['snippet']['resourceId']['videoId']}))\n",
    "            except Exception as e:\n",
    "                print(\"failed\", e)"
   ]
  },
  {
   "cell_type": "code",
   "execution_count": 74,
   "metadata": {},
   "outputs": [
    {
     "data": {
      "text/plain": [
       "{'publishedAt': '2022-04-16T05:58:42Z',\n",
       " 'channelId': 'UCnazyWXANZqGB7Yj2slN8gg',\n",
       " 'title': \"PS5 | Demon's Souls Gameplay |  I mean...\",\n",
       " 'description': 'Follow me on Twitch for weekly live gameplay!\\nhttps://twitch.tv/theroundwon\\n\\nSubscribe to get notified of new videos: \\nhttps://www.youtube.com/channel/UCnazyWXANZqGB7Yj2slN8gg?sub_confirmation=1',\n",
       " 'thumbnails': {'default': {'url': 'https://i.ytimg.com/vi/Ene3KibtrVo/default.jpg',\n",
       "   'width': 120,\n",
       "   'height': 90},\n",
       "  'medium': {'url': 'https://i.ytimg.com/vi/Ene3KibtrVo/mqdefault.jpg',\n",
       "   'width': 320,\n",
       "   'height': 180},\n",
       "  'high': {'url': 'https://i.ytimg.com/vi/Ene3KibtrVo/hqdefault.jpg',\n",
       "   'width': 480,\n",
       "   'height': 360},\n",
       "  'standard': {'url': 'https://i.ytimg.com/vi/Ene3KibtrVo/sddefault.jpg',\n",
       "   'width': 640,\n",
       "   'height': 480},\n",
       "  'maxres': {'url': 'https://i.ytimg.com/vi/Ene3KibtrVo/maxresdefault.jpg',\n",
       "   'width': 1280,\n",
       "   'height': 720}},\n",
       " 'channelTitle': 'TheRoundWon',\n",
       " 'playlistId': 'PL3KuKEx0WXaaHu9tMszeGhrjEBH3dJaKe',\n",
       " 'position': 0,\n",
       " 'resourceId': {'kind': 'youtube#video', 'videoId': 'Ene3KibtrVo'},\n",
       " 'videoOwnerChannelTitle': 'TheRoundWon',\n",
       " 'videoOwnerChannelId': 'UCnazyWXANZqGB7Yj2slN8gg'}"
      ]
     },
     "execution_count": 74,
     "metadata": {},
     "output_type": "execute_result"
    }
   ],
   "source": [
    "playlist_Items['items'][0]['snippet']"
   ]
  },
  {
   "cell_type": "code",
   "execution_count": 77,
   "metadata": {},
   "outputs": [
    {
     "name": "stdout",
     "output_type": "stream",
     "text": [
      "[]\n"
     ]
    }
   ],
   "source": [
    "with Session(engine) as session:\n",
    "    print(session.query(yt_vid_pl_mapper).where(yt_vid_pl_mapper.c.yt_playlist_id == playlist['id']).filter(~yt_vid_pl_mapper.c.yt_video_id.in_([video['snippet']['resourceId']['videoId'] for video in playlist_Items['items']])).all())"
   ]
  },
  {
   "cell_type": "code",
   "execution_count": 35,
   "metadata": {},
   "outputs": [],
   "source": [
    "playlists = service.playlists().list(part='id,snippet,status', channelId=os.environ['YT_CHANNEL_ID']).execute()\n",
    "nextPage = playlists['nextPageToken']\n",
    "while nextPage != None:\n",
    "    seedPlaylist = service.playlists().list(part='id,snippet,status', channelId=os.environ['YT_CHANNEL_ID'], pageToken = nextPage).execute()\n",
    "    playlists['items'] = playlists['items'] + seedPlaylist['items']\n",
    "    if bool(seedPlaylist.get('nextPageToken')):\n",
    "        nextPage = seedPlaylist['nextPageToken']\n",
    "    else:\n",
    "        nextPage = None\n",
    "all_items = {}\n",
    "for playlist in playlists['items']: \n",
    "    playlist_Items = service.playlistItems().list(part=\"id,snippet\", playlistId=playlist['id']).execute()\n",
    "    all_items[playlist['id']] = {'playlist_items': None, \"videos\": []}\n",
    "    all_items[playlist['id']]['playlist_items'] = playlist_Items\n",
    "    if bool(playlist_Items.get('nextPageToken')):\n",
    "        nextPage = playlist_Items['nextPageToken']\n",
    "    else:\n",
    "        nextPage = None\n",
    "    while nextPage != None:\n",
    "        seed_list = service.playlistItems().list(part=\"id,snippet\", playlistId=playlist['id'], pageToken = nextPage).execute()\n",
    "        if bool(seed_list.get('nextPageToken')):\n",
    "            nextPage = seed_list['nextPageToken']\n",
    "        else:\n",
    "            nextPage = None\n",
    "        playlist_Items['items'] = playlist_Items['items'] + seed_list['items']\n",
    "        for video in playlist_Items['items']:\n",
    "            all_items[playlist['id']]['videos'].append(service.videos().list(part='snippet,contentDetails', id=video['snippet']['resourceId']['videoId']).execute())"
   ]
  },
  {
   "cell_type": "code",
   "execution_count": 63,
   "metadata": {},
   "outputs": [],
   "source": [
    "for key, value in all_items.items():\n",
    "    for value2 in value['videos']:\n",
    "        if bool(value2['items']):\n",
    "            if value2['items'][0]['kind'] != 'youtube#video':\n",
    "                # if bool()\n",
    "                print(value2)"
   ]
  },
  {
   "cell_type": "code",
   "execution_count": 59,
   "metadata": {},
   "outputs": [
    {
     "data": {
      "text/plain": [
       "[{'kind': 'youtube#video',\n",
       "  'etag': '7SPI_yqIPvcT_2GRQJrEy6Sv_xc',\n",
       "  'id': 'fFLk8tEJE5Y',\n",
       "  'snippet': {'publishedAt': '2022-06-13T03:44:09Z',\n",
       "   'channelId': 'UCnazyWXANZqGB7Yj2slN8gg',\n",
       "   'title': 'iOS | Clash Royale Gameplay | Barrel talk',\n",
       "   'description': 'Follow me on Twitch for weekly live gameplay\\nhttps://twitch.tv/theroundwon\\nCheck out the original clip on Twitch! https://clips.twitch.tv/FurtiveEntertainingRaisinVoteYea-Xsn8Z_uRRg3BS29l\\n\\n#ClashRoyale #videogames #followme #twitch #casualplay #TheRoundWon #iOS\\nGame play Footage from Clash Royale\\nBig Thanks to TheSquareWon for capturing the footage!\\n\\nSubscribe to get notified of new videos:\\nhttps://www.youtube.com/channel/UCnazyWXANZqGB7Yj2slN8gg?sub_confirmation=1',\n",
       "   'thumbnails': {'default': {'url': 'https://i.ytimg.com/vi/fFLk8tEJE5Y/default.jpg',\n",
       "     'width': 120,\n",
       "     'height': 90},\n",
       "    'medium': {'url': 'https://i.ytimg.com/vi/fFLk8tEJE5Y/mqdefault.jpg',\n",
       "     'width': 320,\n",
       "     'height': 180},\n",
       "    'high': {'url': 'https://i.ytimg.com/vi/fFLk8tEJE5Y/hqdefault.jpg',\n",
       "     'width': 480,\n",
       "     'height': 360},\n",
       "    'standard': {'url': 'https://i.ytimg.com/vi/fFLk8tEJE5Y/sddefault.jpg',\n",
       "     'width': 640,\n",
       "     'height': 480},\n",
       "    'maxres': {'url': 'https://i.ytimg.com/vi/fFLk8tEJE5Y/maxresdefault.jpg',\n",
       "     'width': 1280,\n",
       "     'height': 720}},\n",
       "   'channelTitle': 'TheRoundWon',\n",
       "   'tags': ['Clash Royale', 'Gaming', 'Video Games', 'iOS'],\n",
       "   'categoryId': '20',\n",
       "   'liveBroadcastContent': 'none',\n",
       "   'localized': {'title': 'iOS | Clash Royale Gameplay | Barrel talk',\n",
       "    'description': 'Follow me on Twitch for weekly live gameplay\\nhttps://twitch.tv/theroundwon\\nCheck out the original clip on Twitch! https://clips.twitch.tv/FurtiveEntertainingRaisinVoteYea-Xsn8Z_uRRg3BS29l\\n\\n#ClashRoyale #videogames #followme #twitch #casualplay #TheRoundWon #iOS\\nGame play Footage from Clash Royale\\nBig Thanks to TheSquareWon for capturing the footage!\\n\\nSubscribe to get notified of new videos:\\nhttps://www.youtube.com/channel/UCnazyWXANZqGB7Yj2slN8gg?sub_confirmation=1'},\n",
       "   'defaultAudioLanguage': 'zxx'},\n",
       "  'contentDetails': {'duration': 'PT53S',\n",
       "   'dimension': '2d',\n",
       "   'definition': 'hd',\n",
       "   'caption': 'false',\n",
       "   'licensedContent': False,\n",
       "   'contentRating': {'ytRating': 'ytAgeRestricted'},\n",
       "   'projection': 'rectangular',\n",
       "   'hasCustomThumbnail': True}}]"
      ]
     },
     "execution_count": 59,
     "metadata": {},
     "output_type": "execute_result"
    }
   ],
   "source": [
    "value2['items']"
   ]
  },
  {
   "cell_type": "code",
   "execution_count": 25,
   "metadata": {},
   "outputs": [
    {
     "data": {
      "text/plain": [
       "'AbstemiousWimpyRadicchioANELE-cK2OfUlqSllNC9sX'"
      ]
     },
     "execution_count": 25,
     "metadata": {},
     "output_type": "execute_result"
    }
   ],
   "source": [
    "with Session(engine) as session:\n",
    "    print(session.query(Video_yt.title, Video_yt.))"
   ]
  },
  {
   "cell_type": "code",
   "execution_count": 72,
   "metadata": {},
   "outputs": [
    {
     "data": {
      "text/plain": [
       "[{'kind': 'youtube#playlistItem',\n",
       "  'etag': 'Zl2bRDeSWpKDFSATxajNCJ9eo2I',\n",
       "  'id': 'UEwzS3VLRXgwV1hhYUh1OXRNc3plR2hyakVCSDNkSmFLZS41NkI0NEY2RDEwNTU3Q0M2',\n",
       "  'snippet': {'publishedAt': '2022-04-16T05:58:42Z',\n",
       "   'channelId': 'UCnazyWXANZqGB7Yj2slN8gg',\n",
       "   'title': \"PS5 | Demon's Souls Gameplay |  I mean...\",\n",
       "   'description': 'Follow me on Twitch for weekly live gameplay!\\nhttps://twitch.tv/theroundwon\\n\\nSubscribe to get notified of new videos: \\nhttps://www.youtube.com/channel/UCnazyWXANZqGB7Yj2slN8gg?sub_confirmation=1',\n",
       "   'thumbnails': {'default': {'url': 'https://i.ytimg.com/vi/Ene3KibtrVo/default.jpg',\n",
       "     'width': 120,\n",
       "     'height': 90},\n",
       "    'medium': {'url': 'https://i.ytimg.com/vi/Ene3KibtrVo/mqdefault.jpg',\n",
       "     'width': 320,\n",
       "     'height': 180},\n",
       "    'high': {'url': 'https://i.ytimg.com/vi/Ene3KibtrVo/hqdefault.jpg',\n",
       "     'width': 480,\n",
       "     'height': 360},\n",
       "    'standard': {'url': 'https://i.ytimg.com/vi/Ene3KibtrVo/sddefault.jpg',\n",
       "     'width': 640,\n",
       "     'height': 480},\n",
       "    'maxres': {'url': 'https://i.ytimg.com/vi/Ene3KibtrVo/maxresdefault.jpg',\n",
       "     'width': 1280,\n",
       "     'height': 720}},\n",
       "   'channelTitle': 'TheRoundWon',\n",
       "   'playlistId': 'PL3KuKEx0WXaaHu9tMszeGhrjEBH3dJaKe',\n",
       "   'position': 0,\n",
       "   'resourceId': {'kind': 'youtube#video', 'videoId': 'Ene3KibtrVo'},\n",
       "   'videoOwnerChannelTitle': 'TheRoundWon',\n",
       "   'videoOwnerChannelId': 'UCnazyWXANZqGB7Yj2slN8gg'}},\n",
       " {'kind': 'youtube#playlistItem',\n",
       "  'etag': 'GYfUVyJFsJRKCTwmwZitGEwN2QY',\n",
       "  'id': 'UEwzS3VLRXgwV1hhYUh1OXRNc3plR2hyakVCSDNkSmFLZS4yODlGNEE0NkRGMEEzMEQy',\n",
       "  'snippet': {'publishedAt': '2022-04-16T06:06:27Z',\n",
       "   'channelId': 'UCnazyWXANZqGB7Yj2slN8gg',\n",
       "   'title': \"PS5 | Demon's Souls Gameplay | Iconic\",\n",
       "   'description': 'Follow me on Twitch for weekly live gameplay!\\nhttps://twitch.tv/theroundwon\\n\\nSubscribe to get notified of new videos: \\nhttps://www.youtube.com/channel/UCnazyWXANZqGB7Yj2slN8gg?sub_confirmation=1',\n",
       "   'thumbnails': {'default': {'url': 'https://i.ytimg.com/vi/EbE9sPpUI3U/default.jpg',\n",
       "     'width': 120,\n",
       "     'height': 90},\n",
       "    'medium': {'url': 'https://i.ytimg.com/vi/EbE9sPpUI3U/mqdefault.jpg',\n",
       "     'width': 320,\n",
       "     'height': 180},\n",
       "    'high': {'url': 'https://i.ytimg.com/vi/EbE9sPpUI3U/hqdefault.jpg',\n",
       "     'width': 480,\n",
       "     'height': 360},\n",
       "    'standard': {'url': 'https://i.ytimg.com/vi/EbE9sPpUI3U/sddefault.jpg',\n",
       "     'width': 640,\n",
       "     'height': 480},\n",
       "    'maxres': {'url': 'https://i.ytimg.com/vi/EbE9sPpUI3U/maxresdefault.jpg',\n",
       "     'width': 1280,\n",
       "     'height': 720}},\n",
       "   'channelTitle': 'TheRoundWon',\n",
       "   'playlistId': 'PL3KuKEx0WXaaHu9tMszeGhrjEBH3dJaKe',\n",
       "   'position': 1,\n",
       "   'resourceId': {'kind': 'youtube#video', 'videoId': 'EbE9sPpUI3U'},\n",
       "   'videoOwnerChannelTitle': 'TheRoundWon',\n",
       "   'videoOwnerChannelId': 'UCnazyWXANZqGB7Yj2slN8gg'}},\n",
       " {'kind': 'youtube#playlistItem',\n",
       "  'etag': 'E51WmemxxBDo6QjW0UM-HLLCEV0',\n",
       "  'id': 'UEwzS3VLRXgwV1hhYUh1OXRNc3plR2hyakVCSDNkSmFLZS4wMTcyMDhGQUE4NTIzM0Y5',\n",
       "  'snippet': {'publishedAt': '2022-04-16T06:09:58Z',\n",
       "   'channelId': 'UCnazyWXANZqGB7Yj2slN8gg',\n",
       "   'title': \"PS5 | Demon's Souls Gameplay | The Round One is Brave!\",\n",
       "   'description': 'Follow me on Twitch for weekly live gameplay!\\nhttps://twitch.tv/theroundwon\\n\\nSubscribe to get notified of new videos: \\nhttps://www.youtube.com/channel/UCnazyWXANZqGB7Yj2slN8gg?sub_confirmation=1',\n",
       "   'thumbnails': {'default': {'url': 'https://i.ytimg.com/vi/Mci805nPzSU/default.jpg',\n",
       "     'width': 120,\n",
       "     'height': 90},\n",
       "    'medium': {'url': 'https://i.ytimg.com/vi/Mci805nPzSU/mqdefault.jpg',\n",
       "     'width': 320,\n",
       "     'height': 180},\n",
       "    'high': {'url': 'https://i.ytimg.com/vi/Mci805nPzSU/hqdefault.jpg',\n",
       "     'width': 480,\n",
       "     'height': 360},\n",
       "    'standard': {'url': 'https://i.ytimg.com/vi/Mci805nPzSU/sddefault.jpg',\n",
       "     'width': 640,\n",
       "     'height': 480},\n",
       "    'maxres': {'url': 'https://i.ytimg.com/vi/Mci805nPzSU/maxresdefault.jpg',\n",
       "     'width': 1280,\n",
       "     'height': 720}},\n",
       "   'channelTitle': 'TheRoundWon',\n",
       "   'playlistId': 'PL3KuKEx0WXaaHu9tMszeGhrjEBH3dJaKe',\n",
       "   'position': 2,\n",
       "   'resourceId': {'kind': 'youtube#video', 'videoId': 'Mci805nPzSU'},\n",
       "   'videoOwnerChannelTitle': 'TheRoundWon',\n",
       "   'videoOwnerChannelId': 'UCnazyWXANZqGB7Yj2slN8gg'}},\n",
       " {'kind': 'youtube#playlistItem',\n",
       "  'etag': 'QHJABvTp6mVDGV0iISrBR-yrPtM',\n",
       "  'id': 'UEwzS3VLRXgwV1hhYUh1OXRNc3plR2hyakVCSDNkSmFLZS41MjE1MkI0OTQ2QzJGNzNG',\n",
       "  'snippet': {'publishedAt': '2022-05-05T02:01:00Z',\n",
       "   'channelId': 'UCnazyWXANZqGB7Yj2slN8gg',\n",
       "   'title': \"PS5 | Demon's Souls Gameplay | DIARRHEA EVERYWHERE!\",\n",
       "   'description': \"Follow me on Twitch for weekly live gameplay\\nhttps://twitch.tv/theroundwon\\n\\n#DemonsSouls #videogames #followme #twitch #casualplay #PS5\\nGame play Footage from Demon's Souls\\nBig Thanks to the PraetorJoe for capturing the footage!\\n\\nSubscribe to get notified of new videos:\\nhttps://www.youtube.com/channel/UCnazyWXANZqGB7Yj2slN8gg?sub_confirmation=1\",\n",
       "   'thumbnails': {'default': {'url': 'https://i.ytimg.com/vi/TkUuBAmV0z0/default.jpg',\n",
       "     'width': 120,\n",
       "     'height': 90},\n",
       "    'medium': {'url': 'https://i.ytimg.com/vi/TkUuBAmV0z0/mqdefault.jpg',\n",
       "     'width': 320,\n",
       "     'height': 180},\n",
       "    'high': {'url': 'https://i.ytimg.com/vi/TkUuBAmV0z0/hqdefault.jpg',\n",
       "     'width': 480,\n",
       "     'height': 360},\n",
       "    'standard': {'url': 'https://i.ytimg.com/vi/TkUuBAmV0z0/sddefault.jpg',\n",
       "     'width': 640,\n",
       "     'height': 480},\n",
       "    'maxres': {'url': 'https://i.ytimg.com/vi/TkUuBAmV0z0/maxresdefault.jpg',\n",
       "     'width': 1280,\n",
       "     'height': 720}},\n",
       "   'channelTitle': 'TheRoundWon',\n",
       "   'playlistId': 'PL3KuKEx0WXaaHu9tMszeGhrjEBH3dJaKe',\n",
       "   'position': 3,\n",
       "   'resourceId': {'kind': 'youtube#video', 'videoId': 'TkUuBAmV0z0'},\n",
       "   'videoOwnerChannelTitle': 'TheRoundWon',\n",
       "   'videoOwnerChannelId': 'UCnazyWXANZqGB7Yj2slN8gg'}},\n",
       " {'kind': 'youtube#playlistItem',\n",
       "  'etag': 'Zu-KdBLfr8zDLu_N1EDwm73nCBc',\n",
       "  'id': 'UEwzS3VLRXgwV1hhYUh1OXRNc3plR2hyakVCSDNkSmFLZS4wOTA3OTZBNzVEMTUzOTMy',\n",
       "  'snippet': {'publishedAt': '2022-05-05T02:08:11Z',\n",
       "   'channelId': 'UCnazyWXANZqGB7Yj2slN8gg',\n",
       "   'title': \"PS5 | Demon's Souls Gameplay | S U F F E R\",\n",
       "   'description': \"Follow me on Twitch for weekly live gameplay\\nhttps://twitch.tv/theroundwon\\n\\n#DemonsSouls #videogames #followme #twitch #casualplay #PS5\\nGame play Footage from Demon's Souls\\nBig Thanks to the FeedMeACat for capturing the footage!\\n\\nSubscribe to get notified of new videos:\\nhttps://www.youtube.com/channel/UCnazyWXANZqGB7Yj2slN8gg?sub_confirmation=1\",\n",
       "   'thumbnails': {'default': {'url': 'https://i.ytimg.com/vi/GqlU2JNWtWI/default.jpg',\n",
       "     'width': 120,\n",
       "     'height': 90},\n",
       "    'medium': {'url': 'https://i.ytimg.com/vi/GqlU2JNWtWI/mqdefault.jpg',\n",
       "     'width': 320,\n",
       "     'height': 180},\n",
       "    'high': {'url': 'https://i.ytimg.com/vi/GqlU2JNWtWI/hqdefault.jpg',\n",
       "     'width': 480,\n",
       "     'height': 360},\n",
       "    'standard': {'url': 'https://i.ytimg.com/vi/GqlU2JNWtWI/sddefault.jpg',\n",
       "     'width': 640,\n",
       "     'height': 480},\n",
       "    'maxres': {'url': 'https://i.ytimg.com/vi/GqlU2JNWtWI/maxresdefault.jpg',\n",
       "     'width': 1280,\n",
       "     'height': 720}},\n",
       "   'channelTitle': 'TheRoundWon',\n",
       "   'playlistId': 'PL3KuKEx0WXaaHu9tMszeGhrjEBH3dJaKe',\n",
       "   'position': 4,\n",
       "   'resourceId': {'kind': 'youtube#video', 'videoId': 'GqlU2JNWtWI'},\n",
       "   'videoOwnerChannelTitle': 'TheRoundWon',\n",
       "   'videoOwnerChannelId': 'UCnazyWXANZqGB7Yj2slN8gg'}},\n",
       " {'kind': 'youtube#playlistItem',\n",
       "  'etag': 'paSheU-hGcYDRE_qs2zJb_Fcn9g',\n",
       "  'id': 'UEwzS3VLRXgwV1hhYUh1OXRNc3plR2hyakVCSDNkSmFLZS4xMkVGQjNCMUM1N0RFNEUx',\n",
       "  'snippet': {'publishedAt': '2022-05-09T01:34:07Z',\n",
       "   'channelId': 'UCnazyWXANZqGB7Yj2slN8gg',\n",
       "   'title': \"PS5 | Demon's Souls Gameplay | Clipping G O L D\",\n",
       "   'description': \"Follow me on Twitch for weekly live gameplay\\nhttps://twitch.tv/theroundwon\\nCheck out the original clip on Twitch! https://clips.twitch.tv/HonorableObeseGrassImGlitch-yOth6EAeIS1JZk3w\\n\\n#DemonsSouls #videogames #followme #twitch #casualplay #TheRoundWon #PS5\\nGame play Footage from Demon's Souls\\nBig Thanks to the PraetorJoe for capturing the footage!\\n\\nSubscribe to get notified of new videos:\\nhttps://www.youtube.com/channel/UCnazyWXANZqGB7Yj2slN8gg?sub_confirmation=1\",\n",
       "   'thumbnails': {'default': {'url': 'https://i.ytimg.com/vi/wvah9pbFVuU/default.jpg',\n",
       "     'width': 120,\n",
       "     'height': 90},\n",
       "    'medium': {'url': 'https://i.ytimg.com/vi/wvah9pbFVuU/mqdefault.jpg',\n",
       "     'width': 320,\n",
       "     'height': 180},\n",
       "    'high': {'url': 'https://i.ytimg.com/vi/wvah9pbFVuU/hqdefault.jpg',\n",
       "     'width': 480,\n",
       "     'height': 360},\n",
       "    'standard': {'url': 'https://i.ytimg.com/vi/wvah9pbFVuU/sddefault.jpg',\n",
       "     'width': 640,\n",
       "     'height': 480}},\n",
       "   'channelTitle': 'TheRoundWon',\n",
       "   'playlistId': 'PL3KuKEx0WXaaHu9tMszeGhrjEBH3dJaKe',\n",
       "   'position': 5,\n",
       "   'resourceId': {'kind': 'youtube#video', 'videoId': 'wvah9pbFVuU'},\n",
       "   'videoOwnerChannelTitle': 'TheRoundWon',\n",
       "   'videoOwnerChannelId': 'UCnazyWXANZqGB7Yj2slN8gg'}},\n",
       " {'kind': 'youtube#playlistItem',\n",
       "  'etag': '0J9DkCgDyS0S33hLDf3VH1B9Nzw',\n",
       "  'id': 'UEwzS3VLRXgwV1hhYUh1OXRNc3plR2hyakVCSDNkSmFLZS41MzJCQjBCNDIyRkJDN0VD',\n",
       "  'snippet': {'publishedAt': '2022-05-11T01:31:58Z',\n",
       "   'channelId': 'UCnazyWXANZqGB7Yj2slN8gg',\n",
       "   'title': \"PS5 | Demon's Souls Gameplay | Demon souls first play through\",\n",
       "   'description': \"Follow me on Twitch for weekly live gameplay\\nhttps://twitch.tv/theroundwon\\nCheck out the original clip on Twitch! https://clips.twitch.tv/ConcernedFunnyAlligatorFloof-Rv_ZMBZvJe6tGOur\\n\\n#DemonsSouls #videogames #followme #twitch #casualplay #TheRoundWon #PS5\\nGame play Footage from Demon's Souls\\nBig Thanks to the jino5071 for capturing the footage!\\n\\nSubscribe to get notified of new videos:\\nhttps://www.youtube.com/channel/UCnazyWXANZqGB7Yj2slN8gg?sub_confirmation=1\",\n",
       "   'thumbnails': {'default': {'url': 'https://i.ytimg.com/vi/4owtbEze5L0/default.jpg',\n",
       "     'width': 120,\n",
       "     'height': 90},\n",
       "    'medium': {'url': 'https://i.ytimg.com/vi/4owtbEze5L0/mqdefault.jpg',\n",
       "     'width': 320,\n",
       "     'height': 180},\n",
       "    'high': {'url': 'https://i.ytimg.com/vi/4owtbEze5L0/hqdefault.jpg',\n",
       "     'width': 480,\n",
       "     'height': 360},\n",
       "    'standard': {'url': 'https://i.ytimg.com/vi/4owtbEze5L0/sddefault.jpg',\n",
       "     'width': 640,\n",
       "     'height': 480}},\n",
       "   'channelTitle': 'TheRoundWon',\n",
       "   'playlistId': 'PL3KuKEx0WXaaHu9tMszeGhrjEBH3dJaKe',\n",
       "   'position': 6,\n",
       "   'resourceId': {'kind': 'youtube#video', 'videoId': '4owtbEze5L0'},\n",
       "   'videoOwnerChannelTitle': 'TheRoundWon',\n",
       "   'videoOwnerChannelId': 'UCnazyWXANZqGB7Yj2slN8gg'}},\n",
       " {'kind': 'youtube#playlistItem',\n",
       "  'etag': 'Ijwecg_1z4OBOM5JVdzcQjZtDYM',\n",
       "  'id': 'UEwzS3VLRXgwV1hhYUh1OXRNc3plR2hyakVCSDNkSmFLZS5DQUNERDQ2NkIzRUQxNTY1',\n",
       "  'snippet': {'publishedAt': '2022-05-12T01:46:39Z',\n",
       "   'channelId': 'UCnazyWXANZqGB7Yj2slN8gg',\n",
       "   'title': \"PS5 | Demon's Souls Gameplay | making good choices\",\n",
       "   'description': \"Follow me on Twitch for weekly live gameplay\\nhttps://twitch.tv/theroundwon\\nCheck out the original clip on Twitch! https://clips.twitch.tv/ObeseElegantPigDendiFace-tP213YmXTG8BTMuW\\n\\n#DemonsSouls #videogames #followme #twitch #casualplay #TheRoundWon #PS5\\nGame play Footage from Demon's Souls\\nBig Thanks to the FeedMeACat for capturing the footage!\\n\\nSubscribe to get notified of new videos:\\nhttps://www.youtube.com/channel/UCnazyWXANZqGB7Yj2slN8gg?sub_confirmation=1\",\n",
       "   'thumbnails': {'default': {'url': 'https://i.ytimg.com/vi/b6wR4L6mPU0/default.jpg',\n",
       "     'width': 120,\n",
       "     'height': 90},\n",
       "    'medium': {'url': 'https://i.ytimg.com/vi/b6wR4L6mPU0/mqdefault.jpg',\n",
       "     'width': 320,\n",
       "     'height': 180},\n",
       "    'high': {'url': 'https://i.ytimg.com/vi/b6wR4L6mPU0/hqdefault.jpg',\n",
       "     'width': 480,\n",
       "     'height': 360},\n",
       "    'standard': {'url': 'https://i.ytimg.com/vi/b6wR4L6mPU0/sddefault.jpg',\n",
       "     'width': 640,\n",
       "     'height': 480},\n",
       "    'maxres': {'url': 'https://i.ytimg.com/vi/b6wR4L6mPU0/maxresdefault.jpg',\n",
       "     'width': 1280,\n",
       "     'height': 720}},\n",
       "   'channelTitle': 'TheRoundWon',\n",
       "   'playlistId': 'PL3KuKEx0WXaaHu9tMszeGhrjEBH3dJaKe',\n",
       "   'position': 7,\n",
       "   'resourceId': {'kind': 'youtube#video', 'videoId': 'b6wR4L6mPU0'},\n",
       "   'videoOwnerChannelTitle': 'TheRoundWon',\n",
       "   'videoOwnerChannelId': 'UCnazyWXANZqGB7Yj2slN8gg'}},\n",
       " {'kind': 'youtube#playlistItem',\n",
       "  'etag': 'MJL0D65ckGxsR6cdcSTIu8dme_o',\n",
       "  'id': 'UEwzS3VLRXgwV1hhYUh1OXRNc3plR2hyakVCSDNkSmFLZS45NDk1REZENzhEMzU5MDQz',\n",
       "  'snippet': {'publishedAt': '2022-05-13T17:44:45Z',\n",
       "   'channelId': 'UCnazyWXANZqGB7Yj2slN8gg',\n",
       "   'title': \"PS5 | Demon's Souls Gameplay | Square assumes direct control\",\n",
       "   'description': \"Follow me on Twitch for weekly live gameplay\\nhttps://twitch.tv/theroundwon\\nCheck out the original clip on Twitch! https://clips.twitch.tv/BlightedDifficultFinchPMSTwin-qNAvDUffB3JsqkNG\\n\\n#DemonsSouls #videogames #followme #twitch #casualplay #TheRoundWon #PS5\\nGame play Footage from Demon's Souls\\nBig Thanks to the FeedMeACat for capturing the footage!\\n\\nSubscribe to get notified of new videos:\\nhttps://www.youtube.com/channel/UCnazyWXANZqGB7Yj2slN8gg?sub_confirmation=1\",\n",
       "   'thumbnails': {'default': {'url': 'https://i.ytimg.com/vi/cb-qkCtBO24/default.jpg',\n",
       "     'width': 120,\n",
       "     'height': 90},\n",
       "    'medium': {'url': 'https://i.ytimg.com/vi/cb-qkCtBO24/mqdefault.jpg',\n",
       "     'width': 320,\n",
       "     'height': 180},\n",
       "    'high': {'url': 'https://i.ytimg.com/vi/cb-qkCtBO24/hqdefault.jpg',\n",
       "     'width': 480,\n",
       "     'height': 360},\n",
       "    'standard': {'url': 'https://i.ytimg.com/vi/cb-qkCtBO24/sddefault.jpg',\n",
       "     'width': 640,\n",
       "     'height': 480},\n",
       "    'maxres': {'url': 'https://i.ytimg.com/vi/cb-qkCtBO24/maxresdefault.jpg',\n",
       "     'width': 1280,\n",
       "     'height': 720}},\n",
       "   'channelTitle': 'TheRoundWon',\n",
       "   'playlistId': 'PL3KuKEx0WXaaHu9tMszeGhrjEBH3dJaKe',\n",
       "   'position': 8,\n",
       "   'resourceId': {'kind': 'youtube#video', 'videoId': 'cb-qkCtBO24'},\n",
       "   'videoOwnerChannelTitle': 'TheRoundWon',\n",
       "   'videoOwnerChannelId': 'UCnazyWXANZqGB7Yj2slN8gg'}},\n",
       " {'kind': 'youtube#playlistItem',\n",
       "  'etag': 'b4E5De2hemMnObee-HBwp7-iFkY',\n",
       "  'id': 'UEwzS3VLRXgwV1hhYUh1OXRNc3plR2hyakVCSDNkSmFLZS5GNjNDRDREMDQxOThCMDQ2',\n",
       "  'snippet': {'publishedAt': '2022-05-14T22:31:31Z',\n",
       "   'channelId': 'UCnazyWXANZqGB7Yj2slN8gg',\n",
       "   'title': \"PS5 | Demon's Souls Gameplay | Square doing square things\",\n",
       "   'description': \"Follow me on Twitch for weekly live gameplay\\nhttps://twitch.tv/theroundwon\\nCheck out the original clip on Twitch! https://clips.twitch.tv/SneakyPowerfulMouseAMPEnergyCherry-ur6GPkxL2foETIdS\\n\\n#DemonsSouls #videogames #followme #twitch #casualplay #TheRoundWon #PS5\\nGame play Footage from Demon's Souls\\nBig Thanks to the FeedMeACat for capturing the footage!\\n\\nSubscribe to get notified of new videos:\\nhttps://www.youtube.com/channel/UCnazyWXANZqGB7Yj2slN8gg?sub_confirmation=1\",\n",
       "   'thumbnails': {'default': {'url': 'https://i.ytimg.com/vi/HFzB1NjWbGI/default.jpg',\n",
       "     'width': 120,\n",
       "     'height': 90},\n",
       "    'medium': {'url': 'https://i.ytimg.com/vi/HFzB1NjWbGI/mqdefault.jpg',\n",
       "     'width': 320,\n",
       "     'height': 180},\n",
       "    'high': {'url': 'https://i.ytimg.com/vi/HFzB1NjWbGI/hqdefault.jpg',\n",
       "     'width': 480,\n",
       "     'height': 360},\n",
       "    'standard': {'url': 'https://i.ytimg.com/vi/HFzB1NjWbGI/sddefault.jpg',\n",
       "     'width': 640,\n",
       "     'height': 480}},\n",
       "   'channelTitle': 'TheRoundWon',\n",
       "   'playlistId': 'PL3KuKEx0WXaaHu9tMszeGhrjEBH3dJaKe',\n",
       "   'position': 9,\n",
       "   'resourceId': {'kind': 'youtube#video', 'videoId': 'HFzB1NjWbGI'},\n",
       "   'videoOwnerChannelTitle': 'TheRoundWon',\n",
       "   'videoOwnerChannelId': 'UCnazyWXANZqGB7Yj2slN8gg'}},\n",
       " {'kind': 'youtube#playlistItem',\n",
       "  'etag': 'nLRFrlWXa4kez6001Xu9s42lWPs',\n",
       "  'id': 'UEwzS3VLRXgwV1hhYUh1OXRNc3plR2hyakVCSDNkSmFLZS40NzZCMERDMjVEN0RFRThB',\n",
       "  'snippet': {'publishedAt': '2022-05-15T22:57:08Z',\n",
       "   'channelId': 'UCnazyWXANZqGB7Yj2slN8gg',\n",
       "   'title': \"PS5 | Demon's Souls Gameplay | 2000 Souls Gone\",\n",
       "   'description': \"Follow me on Twitch for weekly live gameplay\\nhttps://twitch.tv/theroundwon\\nCheck out the original clip on Twitch! https://clips.twitch.tv/JoyousBigPeafowlFreakinStinkin-YEzftVJHIbY38oeD\\n\\n#DemonsSouls #videogames #followme #twitch #casualplay #TheRoundWon #PS5\\nGame play Footage from Demon's Souls\\nBig Thanks to the PraetorJoe for capturing the footage!\\n\\nSubscribe to get notified of new videos:\\nhttps://www.youtube.com/channel/UCnazyWXANZqGB7Yj2slN8gg?sub_confirmation=1\",\n",
       "   'thumbnails': {'default': {'url': 'https://i.ytimg.com/vi/Xn9Ho7uncho/default.jpg',\n",
       "     'width': 120,\n",
       "     'height': 90},\n",
       "    'medium': {'url': 'https://i.ytimg.com/vi/Xn9Ho7uncho/mqdefault.jpg',\n",
       "     'width': 320,\n",
       "     'height': 180},\n",
       "    'high': {'url': 'https://i.ytimg.com/vi/Xn9Ho7uncho/hqdefault.jpg',\n",
       "     'width': 480,\n",
       "     'height': 360},\n",
       "    'standard': {'url': 'https://i.ytimg.com/vi/Xn9Ho7uncho/sddefault.jpg',\n",
       "     'width': 640,\n",
       "     'height': 480},\n",
       "    'maxres': {'url': 'https://i.ytimg.com/vi/Xn9Ho7uncho/maxresdefault.jpg',\n",
       "     'width': 1280,\n",
       "     'height': 720}},\n",
       "   'channelTitle': 'TheRoundWon',\n",
       "   'playlistId': 'PL3KuKEx0WXaaHu9tMszeGhrjEBH3dJaKe',\n",
       "   'position': 10,\n",
       "   'resourceId': {'kind': 'youtube#video', 'videoId': 'Xn9Ho7uncho'},\n",
       "   'videoOwnerChannelTitle': 'TheRoundWon',\n",
       "   'videoOwnerChannelId': 'UCnazyWXANZqGB7Yj2slN8gg'}},\n",
       " {'kind': 'youtube#playlistItem',\n",
       "  'etag': '8aWRZjkCsbda73stS5rhP8gXC4o',\n",
       "  'id': 'UEwzS3VLRXgwV1hhYUh1OXRNc3plR2hyakVCSDNkSmFLZS5EMEEwRUY5M0RDRTU3NDJC',\n",
       "  'snippet': {'publishedAt': '2022-05-16T16:35:18Z',\n",
       "   'channelId': 'UCnazyWXANZqGB7Yj2slN8gg',\n",
       "   'title': \"PS5 | Demon's Souls Gameplay | magic man\",\n",
       "   'description': \"Follow me on Twitch for weekly live gameplay\\nhttps://twitch.tv/theroundwon\\nCheck out the original clip on Twitch! https://clips.twitch.tv/TameNurturingMomDansGame-lDdruf7tv7AjTSZH\\n\\n#DemonsSouls #videogames #followme #twitch #casualplay #TheRoundWon #PS5\\nGame play Footage from Demon's Souls\\nBig Thanks to FeedMeACat for capturing the footage!\\n\\nSubscribe to get notified of new videos:\\nhttps://www.youtube.com/channel/UCnazyWXANZqGB7Yj2slN8gg?sub_confirmation=1\",\n",
       "   'thumbnails': {'default': {'url': 'https://i.ytimg.com/vi/87KugyYlCkE/default.jpg',\n",
       "     'width': 120,\n",
       "     'height': 90},\n",
       "    'medium': {'url': 'https://i.ytimg.com/vi/87KugyYlCkE/mqdefault.jpg',\n",
       "     'width': 320,\n",
       "     'height': 180},\n",
       "    'high': {'url': 'https://i.ytimg.com/vi/87KugyYlCkE/hqdefault.jpg',\n",
       "     'width': 480,\n",
       "     'height': 360},\n",
       "    'standard': {'url': 'https://i.ytimg.com/vi/87KugyYlCkE/sddefault.jpg',\n",
       "     'width': 640,\n",
       "     'height': 480},\n",
       "    'maxres': {'url': 'https://i.ytimg.com/vi/87KugyYlCkE/maxresdefault.jpg',\n",
       "     'width': 1280,\n",
       "     'height': 720}},\n",
       "   'channelTitle': 'TheRoundWon',\n",
       "   'playlistId': 'PL3KuKEx0WXaaHu9tMszeGhrjEBH3dJaKe',\n",
       "   'position': 11,\n",
       "   'resourceId': {'kind': 'youtube#video', 'videoId': '87KugyYlCkE'},\n",
       "   'videoOwnerChannelTitle': 'TheRoundWon',\n",
       "   'videoOwnerChannelId': 'UCnazyWXANZqGB7Yj2slN8gg'}},\n",
       " {'kind': 'youtube#playlistItem',\n",
       "  'etag': 'SRk4KhiJOJYG5sjBZXgdsEC6zaY',\n",
       "  'id': 'UEwzS3VLRXgwV1hhYUh1OXRNc3plR2hyakVCSDNkSmFLZS45ODRDNTg0QjA4NkFBNkQy',\n",
       "  'snippet': {'publishedAt': '2022-05-17T16:31:34Z',\n",
       "   'channelId': 'UCnazyWXANZqGB7Yj2slN8gg',\n",
       "   'title': \"PS5 | Demon's Souls Gameplay | For the SquareOne\",\n",
       "   'description': \"Follow me on Twitch for weekly live gameplay\\nhttps://twitch.tv/theroundwon\\nCheck out the original clip on Twitch! https://clips.twitch.tv/AggressiveJazzyClamWoofer-jXu6yXEiKmzB8Xd2\\n\\n#DemonsSouls #videogames #followme #twitch #casualplay #TheRoundWon #PS5\\nGame play Footage from Demon's Souls\\nBig Thanks to PraetorJoe for capturing the footage!\\n\\nSubscribe to get notified of new videos:\\nhttps://www.youtube.com/channel/UCnazyWXANZqGB7Yj2slN8gg?sub_confirmation=1\",\n",
       "   'thumbnails': {'default': {'url': 'https://i.ytimg.com/vi/np79opSQ4mo/default.jpg',\n",
       "     'width': 120,\n",
       "     'height': 90},\n",
       "    'medium': {'url': 'https://i.ytimg.com/vi/np79opSQ4mo/mqdefault.jpg',\n",
       "     'width': 320,\n",
       "     'height': 180},\n",
       "    'high': {'url': 'https://i.ytimg.com/vi/np79opSQ4mo/hqdefault.jpg',\n",
       "     'width': 480,\n",
       "     'height': 360},\n",
       "    'standard': {'url': 'https://i.ytimg.com/vi/np79opSQ4mo/sddefault.jpg',\n",
       "     'width': 640,\n",
       "     'height': 480},\n",
       "    'maxres': {'url': 'https://i.ytimg.com/vi/np79opSQ4mo/maxresdefault.jpg',\n",
       "     'width': 1280,\n",
       "     'height': 720}},\n",
       "   'channelTitle': 'TheRoundWon',\n",
       "   'playlistId': 'PL3KuKEx0WXaaHu9tMszeGhrjEBH3dJaKe',\n",
       "   'position': 12,\n",
       "   'resourceId': {'kind': 'youtube#video', 'videoId': 'np79opSQ4mo'},\n",
       "   'videoOwnerChannelTitle': 'TheRoundWon',\n",
       "   'videoOwnerChannelId': 'UCnazyWXANZqGB7Yj2slN8gg'}},\n",
       " {'kind': 'youtube#playlistItem',\n",
       "  'etag': 'FaSLVJGW4F42mgR9kWHjWHgrgJA',\n",
       "  'id': 'UEwzS3VLRXgwV1hhYUh1OXRNc3plR2hyakVCSDNkSmFLZS4zMDg5MkQ5MEVDMEM1NTg2',\n",
       "  'snippet': {'publishedAt': '2022-05-19T17:35:33Z',\n",
       "   'channelId': 'UCnazyWXANZqGB7Yj2slN8gg',\n",
       "   'title': \"PS5 | Demon's Souls Gameplay | Rolling's Supposed to Save You!!!\",\n",
       "   'description': \"Follow me on Twitch for weekly live gameplay\\nhttps://twitch.tv/theroundwon\\nCheck out the original clip on Twitch! https://clips.twitch.tv/SingleSingleOrcaArsonNoSexy-z8sh9WVNULfWPH_c\\n\\n#DemonsSouls #videogames #followme #twitch #casualplay #TheRoundWon #PS5\\nGame play Footage from Demon's Souls\\nBig Thanks to PraetorJoe for capturing the footage!\\n\\nSubscribe to get notified of new videos:\\nhttps://www.youtube.com/channel/UCnazyWXANZqGB7Yj2slN8gg?sub_confirmation=1\",\n",
       "   'thumbnails': {'default': {'url': 'https://i.ytimg.com/vi/SU-b2F8rSfQ/default.jpg',\n",
       "     'width': 120,\n",
       "     'height': 90},\n",
       "    'medium': {'url': 'https://i.ytimg.com/vi/SU-b2F8rSfQ/mqdefault.jpg',\n",
       "     'width': 320,\n",
       "     'height': 180},\n",
       "    'high': {'url': 'https://i.ytimg.com/vi/SU-b2F8rSfQ/hqdefault.jpg',\n",
       "     'width': 480,\n",
       "     'height': 360},\n",
       "    'standard': {'url': 'https://i.ytimg.com/vi/SU-b2F8rSfQ/sddefault.jpg',\n",
       "     'width': 640,\n",
       "     'height': 480},\n",
       "    'maxres': {'url': 'https://i.ytimg.com/vi/SU-b2F8rSfQ/maxresdefault.jpg',\n",
       "     'width': 1280,\n",
       "     'height': 720}},\n",
       "   'channelTitle': 'TheRoundWon',\n",
       "   'playlistId': 'PL3KuKEx0WXaaHu9tMszeGhrjEBH3dJaKe',\n",
       "   'position': 13,\n",
       "   'resourceId': {'kind': 'youtube#video', 'videoId': 'SU-b2F8rSfQ'},\n",
       "   'videoOwnerChannelTitle': 'TheRoundWon',\n",
       "   'videoOwnerChannelId': 'UCnazyWXANZqGB7Yj2slN8gg'}},\n",
       " {'kind': 'youtube#playlistItem',\n",
       "  'etag': 'HZKIzhkfG4Z1b4lKQzNHyJ2YDE0',\n",
       "  'id': 'UEwzS3VLRXgwV1hhYUh1OXRNc3plR2hyakVCSDNkSmFLZS41Mzk2QTAxMTkzNDk4MDhF',\n",
       "  'snippet': {'publishedAt': '2022-06-02T17:08:22Z',\n",
       "   'channelId': 'UCnazyWXANZqGB7Yj2slN8gg',\n",
       "   'title': \"PS5 | Demon's Souls Gameplay | So many things that can kill me\",\n",
       "   'description': \"Follow me on Twitch for weekly live gameplay\\nhttps://twitch.tv/theroundwon\\nCheck out the original clip on Twitch! https://clips.twitch.tv/AbrasivePlayfulBaboonCoolStoryBob-MCkOaVwDZibMCSJC\\n\\n#DemonsSouls #videogames #followme #twitch #casualplay #TheRoundWon #PS5\\nGame play Footage from Demon's Souls\\nBig Thanks to TheSquareWon for capturing the footage!\\n\\nSubscribe to get notified of new videos:\\nhttps://www.youtube.com/channel/UCnazyWXANZqGB7Yj2slN8gg?sub_confirmation=1\",\n",
       "   'thumbnails': {'default': {'url': 'https://i.ytimg.com/vi/PX2w5v4sFok/default.jpg',\n",
       "     'width': 120,\n",
       "     'height': 90},\n",
       "    'medium': {'url': 'https://i.ytimg.com/vi/PX2w5v4sFok/mqdefault.jpg',\n",
       "     'width': 320,\n",
       "     'height': 180},\n",
       "    'high': {'url': 'https://i.ytimg.com/vi/PX2w5v4sFok/hqdefault.jpg',\n",
       "     'width': 480,\n",
       "     'height': 360},\n",
       "    'standard': {'url': 'https://i.ytimg.com/vi/PX2w5v4sFok/sddefault.jpg',\n",
       "     'width': 640,\n",
       "     'height': 480},\n",
       "    'maxres': {'url': 'https://i.ytimg.com/vi/PX2w5v4sFok/maxresdefault.jpg',\n",
       "     'width': 1280,\n",
       "     'height': 720}},\n",
       "   'channelTitle': 'TheRoundWon',\n",
       "   'playlistId': 'PL3KuKEx0WXaaHu9tMszeGhrjEBH3dJaKe',\n",
       "   'position': 14,\n",
       "   'resourceId': {'kind': 'youtube#video', 'videoId': 'PX2w5v4sFok'},\n",
       "   'videoOwnerChannelTitle': 'TheRoundWon',\n",
       "   'videoOwnerChannelId': 'UCnazyWXANZqGB7Yj2slN8gg'}},\n",
       " {'kind': 'youtube#playlistItem',\n",
       "  'etag': 'O3mFzITB0QOvmfIYBVcJoYpph1w',\n",
       "  'id': 'UEwzS3VLRXgwV1hhYUh1OXRNc3plR2hyakVCSDNkSmFLZS5EQUE1NTFDRjcwMDg0NEMz',\n",
       "  'snippet': {'publishedAt': '2022-06-06T06:01:22Z',\n",
       "   'channelId': 'UCnazyWXANZqGB7Yj2slN8gg',\n",
       "   'title': \"PS5 | Demon's Souls Gameplay | THE RED DIARRHEA!!!!\",\n",
       "   'description': \"Follow me on Twitch for weekly live gameplay\\nhttps://twitch.tv/theroundwon\\nCheck out the original clip on Twitch! https://clips.twitch.tv/EnjoyableAliveSpiderFUNgineer-3fA9YKo6--c1Mfa7\\n\\n#DemonsSouls #videogames #followme #twitch #casualplay #TheRoundWon #PS5\\nGame play Footage from Demon's Souls\\nBig Thanks to PraetorJoe for capturing the footage!\\n\\nSubscribe to get notified of new videos:\\nhttps://www.youtube.com/channel/UCnazyWXANZqGB7Yj2slN8gg?sub_confirmation=1\",\n",
       "   'thumbnails': {'default': {'url': 'https://i.ytimg.com/vi/G8oVJL6wz7k/default.jpg',\n",
       "     'width': 120,\n",
       "     'height': 90},\n",
       "    'medium': {'url': 'https://i.ytimg.com/vi/G8oVJL6wz7k/mqdefault.jpg',\n",
       "     'width': 320,\n",
       "     'height': 180},\n",
       "    'high': {'url': 'https://i.ytimg.com/vi/G8oVJL6wz7k/hqdefault.jpg',\n",
       "     'width': 480,\n",
       "     'height': 360},\n",
       "    'standard': {'url': 'https://i.ytimg.com/vi/G8oVJL6wz7k/sddefault.jpg',\n",
       "     'width': 640,\n",
       "     'height': 480},\n",
       "    'maxres': {'url': 'https://i.ytimg.com/vi/G8oVJL6wz7k/maxresdefault.jpg',\n",
       "     'width': 1280,\n",
       "     'height': 720}},\n",
       "   'channelTitle': 'TheRoundWon',\n",
       "   'playlistId': 'PL3KuKEx0WXaaHu9tMszeGhrjEBH3dJaKe',\n",
       "   'position': 15,\n",
       "   'resourceId': {'kind': 'youtube#video', 'videoId': 'G8oVJL6wz7k'},\n",
       "   'videoOwnerChannelTitle': 'TheRoundWon',\n",
       "   'videoOwnerChannelId': 'UCnazyWXANZqGB7Yj2slN8gg'}},\n",
       " {'kind': 'youtube#playlistItem',\n",
       "  'etag': 'CeM6kRbmrggGnyiNQGIDUuabKwk',\n",
       "  'id': 'UEwzS3VLRXgwV1hhYUh1OXRNc3plR2hyakVCSDNkSmFLZS41QTY1Q0UxMTVCODczNThE',\n",
       "  'snippet': {'publishedAt': '2022-06-07T06:25:42Z',\n",
       "   'channelId': 'UCnazyWXANZqGB7Yj2slN8gg',\n",
       "   'title': \"PS5 | Demon's Souls Gameplay | Back to reality\",\n",
       "   'description': \"Follow me on Twitch for weekly live gameplay\\nhttps://twitch.tv/theroundwon\\nCheck out the original clip on Twitch! https://clips.twitch.tv/ElegantSpikyStinkbugResidentSleeper-xw76yyRFrQ86gwxa\\n\\n#DemonsSouls #videogames #followme #twitch #casualplay #TheRoundWon #PS5\\nGame play Footage from Demon's Souls\\nBig Thanks to TheSquareWon for capturing the footage!\\n\\nSubscribe to get notified of new videos:\\nhttps://www.youtube.com/channel/UCnazyWXANZqGB7Yj2slN8gg?sub_confirmation=1\",\n",
       "   'thumbnails': {'default': {'url': 'https://i.ytimg.com/vi/c8JbBzjG__s/default.jpg',\n",
       "     'width': 120,\n",
       "     'height': 90},\n",
       "    'medium': {'url': 'https://i.ytimg.com/vi/c8JbBzjG__s/mqdefault.jpg',\n",
       "     'width': 320,\n",
       "     'height': 180},\n",
       "    'high': {'url': 'https://i.ytimg.com/vi/c8JbBzjG__s/hqdefault.jpg',\n",
       "     'width': 480,\n",
       "     'height': 360},\n",
       "    'standard': {'url': 'https://i.ytimg.com/vi/c8JbBzjG__s/sddefault.jpg',\n",
       "     'width': 640,\n",
       "     'height': 480}},\n",
       "   'channelTitle': 'TheRoundWon',\n",
       "   'playlistId': 'PL3KuKEx0WXaaHu9tMszeGhrjEBH3dJaKe',\n",
       "   'position': 16,\n",
       "   'resourceId': {'kind': 'youtube#video', 'videoId': 'c8JbBzjG__s'},\n",
       "   'videoOwnerChannelTitle': 'TheRoundWon',\n",
       "   'videoOwnerChannelId': 'UCnazyWXANZqGB7Yj2slN8gg'}},\n",
       " {'kind': 'youtube#playlistItem',\n",
       "  'etag': 'DvHV_VEUA4A_nlFanNokDnMiP3Y',\n",
       "  'id': 'UEwzS3VLRXgwV1hhYUh1OXRNc3plR2hyakVCSDNkSmFLZS4yMUQyQTQzMjRDNzMyQTMy',\n",
       "  'snippet': {'publishedAt': '2022-06-27T15:51:05Z',\n",
       "   'channelId': 'UCnazyWXANZqGB7Yj2slN8gg',\n",
       "   'title': \"PS5 | Demon's Souls Gameplay | Demon souls first play through\",\n",
       "   'description': \"Follow me on Twitch for weekly live gameplay\\nhttps://twitch.tv/theroundwon\\nCheck out the original clip on Twitch! https://clips.twitch.tv/ObedientLitigiousBeaverSMOrc-cYcoUuLUUfNlPVMk\\n\\n#DemonsSouls #videogames #followme #twitch #casualplay #TheRoundWon #PS5\\nGame play Footage from Demon's Souls\\nBig Thanks to FeedMeACat for capturing the footage!\\n\\nSubscribe to get notified of new videos:\\nhttps://www.youtube.com/channel/UCnazyWXANZqGB7Yj2slN8gg?sub_confirmation=1\",\n",
       "   'thumbnails': {'default': {'url': 'https://i.ytimg.com/vi/N6N9gFplmoA/default.jpg',\n",
       "     'width': 120,\n",
       "     'height': 90},\n",
       "    'medium': {'url': 'https://i.ytimg.com/vi/N6N9gFplmoA/mqdefault.jpg',\n",
       "     'width': 320,\n",
       "     'height': 180},\n",
       "    'high': {'url': 'https://i.ytimg.com/vi/N6N9gFplmoA/hqdefault.jpg',\n",
       "     'width': 480,\n",
       "     'height': 360},\n",
       "    'standard': {'url': 'https://i.ytimg.com/vi/N6N9gFplmoA/sddefault.jpg',\n",
       "     'width': 640,\n",
       "     'height': 480},\n",
       "    'maxres': {'url': 'https://i.ytimg.com/vi/N6N9gFplmoA/maxresdefault.jpg',\n",
       "     'width': 1280,\n",
       "     'height': 720}},\n",
       "   'channelTitle': 'TheRoundWon',\n",
       "   'playlistId': 'PL3KuKEx0WXaaHu9tMszeGhrjEBH3dJaKe',\n",
       "   'position': 17,\n",
       "   'resourceId': {'kind': 'youtube#video', 'videoId': 'N6N9gFplmoA'},\n",
       "   'videoOwnerChannelTitle': 'TheRoundWon',\n",
       "   'videoOwnerChannelId': 'UCnazyWXANZqGB7Yj2slN8gg'}}]"
      ]
     },
     "execution_count": 72,
     "metadata": {},
     "output_type": "execute_result"
    }
   ],
   "source": [
    "playlist_Items['items']"
   ]
  },
  {
   "cell_type": "code",
   "execution_count": 70,
   "metadata": {},
   "outputs": [
    {
     "name": "stdout",
     "output_type": "stream",
     "text": [
      "('PS5 | Overcooked! All You Can Eat Gameplay | Spicy Square People', <VideoStyle.m: 1>)\n"
     ]
    }
   ],
   "source": [
    "with Session(engine) as session:\n",
    "    for clip_id in session.query(Clip_Tracker.id).where(Clip_Tracker.published == PublishingStatus.f).all():\n",
    "        rows = session.query(Video_yt.title, Video_yt.style).where(Video_yt.clip_id == clip_id[0]).all()\n",
    "        if len(rows) < 2 and bool(rows):\n",
    "            session.query(Clip_Tracker).where(Clip_Tracker.id == clip_id[0]).update(values = {'published': invers_mapper[rows[0][1]]})\n",
    "            session.commit()\n",
    "\n",
    "            print(rows[0])"
   ]
  },
  {
   "cell_type": "code",
   "execution_count": 68,
   "metadata": {},
   "outputs": [
    {
     "data": {
      "text/plain": [
       "('PS5 | Overcooked! All You Can Eat Gameplay | Spicy Square People', <VideoStyle.m: 1>)"
      ]
     },
     "execution_count": 68,
     "metadata": {},
     "output_type": "execute_result"
    }
   ],
   "source": [
    "rows[0]"
   ]
  }
 ],
 "metadata": {
  "interpreter": {
   "hash": "5bd830a4a01eed425dbc1d3357b25e6afb16c0ded1e32522946a1679eb0b6729"
  },
  "kernelspec": {
   "display_name": "Python 3.8.8 ('twitch-youtube': venv)",
   "language": "python",
   "name": "python3"
  },
  "language_info": {
   "codemirror_mode": {
    "name": "ipython",
    "version": 3
   },
   "file_extension": ".py",
   "mimetype": "text/x-python",
   "name": "python",
   "nbconvert_exporter": "python",
   "pygments_lexer": "ipython3",
   "version": "3.8.8"
  },
  "orig_nbformat": 4
 },
 "nbformat": 4,
 "nbformat_minor": 2
}
