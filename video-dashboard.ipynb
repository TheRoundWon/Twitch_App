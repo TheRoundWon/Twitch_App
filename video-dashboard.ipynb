{
 "cells": [
  {
   "cell_type": "code",
   "execution_count": 1,
   "metadata": {},
   "outputs": [],
   "source": [
    "\n",
    "import argparse\n",
    "import http.client\n",
    "import httplib2\n",
    "import os\n",
    "import random\n",
    "import time\n",
    "import datetime\n",
    "from datetime import datetime, timedelta\n",
    "import google.oauth2.credentials\n",
    "import google_auth_oauthlib.flow\n",
    "from googleapiclient.discovery import build\n",
    "from googleapiclient.errors import HttpError\n",
    "from google_auth_oauthlib.flow import Flow, InstalledAppFlow\n",
    "from googleapiclient.http import MediaFileUpload, MediaIoBaseDownload\n",
    "from google.auth.transport.requests import Request\n",
    "import os\n",
    "from dotenv import load_dotenv\n",
    "from sqlalchemy import *\n",
    "import datetime\n",
    "from Google import Create_Service\n",
    "import re\n",
    "from IPython.display import Image\n",
    "load_dotenv()\n",
    "from StreamMaster import *\n",
    "import pandas as pd\n",
    "import plotly.graph_objects as go\n",
    "from plotly.subplots import make_subplots\n",
    "import plotly.express as px\n",
    "from twitchAPI.twitch import Twitch\n",
    "\n",
    "from jupyter_dash import JupyterDash\n",
    "import dash\n",
    "from dash import dcc\n",
    "from dash import html\n"
   ]
  },
  {
   "cell_type": "code",
   "execution_count": null,
   "metadata": {},
   "outputs": [],
   "source": [
    "with Session(engine) as session:\n",
    "    # session.execute(delete(Clip_Tracker ).where(Clip_Tracker.title.ilike('%RoundWon rating%')), execution_options={\"synchronize_session\": 'fetch'})\n",
    "    # print(session.query(Clip_Tracker).where(Clip_Tracker.title.ilike('%RoundWon rating%')).all())\n",
    "    print(session.query(Game_Meta.game_name).where(Game_Meta.game_name.ilike(\"%Call of %\")).all())\n",
    "    # session.commit()"
   ]
  },
  {
   "cell_type": "code",
   "execution_count": 2,
   "metadata": {},
   "outputs": [
    {
     "name": "stdout",
     "output_type": "stream",
     "text": [
      "client_secrets.json-youtube-v3-(['https://www.googleapis.com/auth/youtube.upload', 'https://www.googleapis.com/auth/youtube'],)\n",
      "['https://www.googleapis.com/auth/youtube.upload', 'https://www.googleapis.com/auth/youtube']\n",
      "youtube service created successfully\n"
     ]
    }
   ],
   "source": [
    "mysql_engine = create_engine(f\"mysql+mysqlconnector://{os.environ['USER_NAME']}:{os.environ['PASSWORD']}@{os.environ['PI']}/{os.environ['MAIN_DB']}\" )\n",
    "\n",
    "\n",
    "clips_folder = os.environ['CLIPS_FOLDER']\n",
    "mobile_folder = os.environ['MOBILE_FOLDER']\n",
    "fullscreen_folder = os.environ['FULLSCREEN_FOLDER']\n",
    "ml_folder = os.environ['ML_FOLDER']\n",
    "assets = os.environ['ASSETS']\n",
    "\n",
    "CLIENT_SECRET_FILE = 'client_secrets.json'\n",
    "YT_SECRET_FILE = 'client_secrets_yt.json'\n",
    "API_NAME = 'youtube'\n",
    "API_VERSION = 'v3'\n",
    "# recommend pulling as much access as possible since the Create_Service function will create a pickle token of your authentication allow single authentication for extended period.\n",
    "SCOPES = [\"https://www.googleapis.com/auth/youtube.upload\", 'https://www.googleapis.com/auth/youtube']\n",
    "\n",
    "# Code that initiates connection to the Google API - pulled from Google.py. Difference from using Google's built-in service is the following script creates convenience of storing pickle with necessary authentication\n",
    "service = Create_Service(CLIENT_SECRET_FILE, API_NAME, API_VERSION, SCOPES)"
   ]
  },
  {
   "cell_type": "code",
   "execution_count": 2,
   "metadata": {},
   "outputs": [],
   "source": [
    "os.environ['OAUTHLIB_INSECURE_TRANSPORT'] = '1'"
   ]
  },
  {
   "cell_type": "code",
   "execution_count": null,
   "metadata": {},
   "outputs": [],
   "source": [
    "def get_service():\n",
    "    flow = InstalledAppFlow.from_client_secrets_file(CLIENT_SECRET_FILE, SCOPES)\n",
    "    credentials = flow.run_console()\n",
    "    return build(API_SERVICE_NAME, API_VERSION, credentials = credentials)\n",
    "\n",
    "def execute_api_request(client_library_function, **kwargs):\n",
    "    response = client_library_function(\n",
    "        **kwargs\n",
    "        ).execute()\n",
    "    print(response)"
   ]
  },
  {
   "cell_type": "code",
   "execution_count": 3,
   "metadata": {},
   "outputs": [],
   "source": [
    "twitch = Twitch(os.environ['TWITCH_APP_ID'], os.environ['TWITCH_APP_SECRET'])"
   ]
  },
  {
   "cell_type": "code",
   "execution_count": null,
   "metadata": {},
   "outputs": [],
   "source": [
    "twitch.get_clips(os.environ['TWITCH_CHANNEL_ID'])"
   ]
  },
  {
   "cell_type": "code",
   "execution_count": 4,
   "metadata": {},
   "outputs": [
    {
     "data": {
      "application/vnd.plotly.v1+json": {
       "config": {
        "plotlyServerURL": "https://plot.ly"
       },
       "data": [
        {
         "name": "Remnant: From the Ashes",
         "text": [
          "The Ent Takedown Strategies & Rewards",
          "The best weapons for Raze (star boss)",
          "Remember to kill all the skulls when fighting Raze!",
          "Why we love Remnant Survivor",
          "Can we beat round 10?",
          "Choosing our setups for Wrangler (the rolling guy)",
          "One-shotting our Teammates",
          "Good Boy is basically Hax",
          "Remember to Hotkey Oilskin Tonic for the World Boss: The Ent",
          "Beetle Find in Survivor",
          "Tips on fighting Dream Eater (but we still failed)",
          "Summon Cheesing the Storm Caller",
          "Caution! Corrosive waterfalls can kill!",
          "Apparently I was using Beam Rifle?",
          "How we try to Learn and Improve",
          "Surprise success",
          "Last stand of the night (Round 7 it was!)",
          "Optimism vs Realism (or Pessimism)?",
          "Parallels of the hunting Rifle, Shotgun, sniper Rifle and Coach gun",
          "PSA: watch out for the Mantis swarms and corrosion waterfalls!",
          "More Remnant survivor with the A Team",
          "And the downsides of Good Boy"
         ],
         "type": "bar",
         "x": [
          "2022-07-06",
          "2022-07-06",
          "2022-07-06",
          "2022-07-06",
          "2022-07-16",
          "2022-07-06",
          "2022-07-06",
          "2022-07-06",
          "2022-07-06",
          "2022-07-06",
          "2022-07-06",
          "2022-07-06",
          "2022-07-06",
          "2022-07-15",
          "2022-07-06",
          "2022-07-06",
          "2022-07-06",
          "2022-07-06",
          "2022-07-06",
          "2022-07-06",
          "2022-07-06",
          "2022-07-06"
         ],
         "y": [
          5,
          5,
          5,
          5,
          3,
          3,
          3,
          3,
          3,
          3,
          3,
          3,
          3,
          3,
          3,
          3,
          3,
          3,
          1,
          1,
          1,
          1
         ]
        },
        {
         "name": "Overcooked! All You Can Eat",
         "text": [
          "Sorry clash fans, Overcook pivot",
          "Just chaos",
          "The next 4 don’t need chocolate",
          "Rice not cooking",
          "Garbage raspberries",
          "Sorry clash fans, Overcook pivot",
          "Prepare to be impressed!",
          "Sorry clash fans, Overcook pivot",
          "We smashed it!……?",
          "Retribution",
          "Endless supply of eggs",
          "I am doing chicken!",
          "Unwritten rules",
          "Losing the pan",
          "Go go go",
          "Stealing rats",
          "Feedback",
          "These casuals…",
          "One last dish",
          "Not perfect enough",
          "Strategising ",
          "We are so good",
          "Spicy little Square person",
          "Quick stream: Overcooked before Remnant survivor",
          "Sorry clash fans, Overcook pivot",
          "Passed into the afterlife",
          "Going going going",
          "Took that loss for the Team",
          "Honeycomb!",
          "Lost dish",
          "Not bad",
          "She’s got edges"
         ],
         "type": "bar",
         "x": [
          "2022-06-10",
          "2022-06-11",
          "2022-07-07",
          "2022-06-11",
          "2022-06-12",
          "2022-06-11",
          "2022-06-12",
          "2022-06-11",
          "2022-06-10",
          "2022-06-11",
          "2022-06-11",
          "2022-05-09",
          "2022-05-09",
          "2022-05-09",
          "2022-05-09",
          "2022-06-11",
          "2022-06-11",
          "2022-06-12",
          "2022-06-11",
          "2022-07-07",
          "2022-06-11",
          "2022-06-11",
          "2022-06-11",
          "2022-07-07",
          "2022-06-11",
          "2022-06-11",
          "2022-06-12",
          "2022-06-12",
          "2022-06-11",
          "2022-06-12",
          "2022-06-12",
          "2022-06-11"
         ],
         "y": [
          5,
          5,
          5,
          3,
          3,
          3,
          3,
          3,
          3,
          3,
          3,
          2,
          2,
          2,
          2,
          1,
          1,
          1,
          1,
          1,
          1,
          1,
          1,
          1,
          1,
          1,
          1,
          1,
          1,
          1,
          1,
          1
         ]
        },
        {
         "name": "Horizon Forbidden West",
         "text": [
          "Why are you so difficult?",
          "SquareWon takeover: dropping the racoon",
          "Set on fire",
          "Boycott the traps!",
          "Is she hiding?",
          "Tough boss",
          "I don’t wanna die",
          "I poop them",
          "Horizon camp raid",
          "The Triangle intervenes",
          "SquareWon takeover: the lost goat",
          "She needs a jacket bro",
          "You sold the blasting?!? Part 2",
          "Not the ideal outcome",
          "If you hit x enough times",
          "2nd boss and no potions",
          "He needs to walk into traps!",
          "That hurt",
          "Oops",
          "Behold my fury",
          "SquareWon takeover: Magic",
          "Now you know. Oh wait.",
          "Fukitty Fuk Fuk",
          "It's a Specter?!?",
          "Only in her dreams",
          "Special event !!!",
          "Horizon boss fight?",
          "I will teach it a lesson",
          "Horizon camp raid",
          "Not a trained actor",
          "How to override a Tallneck",
          "Just a little bit more",
          "I need to farm",
          "Side quest shenanigans",
          "I should get survivor",
          "Hello...",
          "No ammo",
          "Don't die",
          "We all got problems",
          "Surviving false advertising",
          "It was fun while it lasted",
          "New plan",
          "Light at the end of the tunnel",
          "Not as planned",
          "Took forever to go",
          "Let me save!",
          "They call me The Navigator",
          "Valor surge fail",
          "Workbench expert",
          "Horizon boss fight?",
          "Horizon boss fight?",
          "Horizon boss fight?",
          "Horizon boss fight?",
          "Misplaced hope",
          "Got your tail",
          "Horizon boss fight?",
          "Poop Canisters",
          "Special event !!!",
          "Horizon camp raid",
          "Unless I miss on purpose",
          "Horizon mystery mission?!"
         ],
         "type": "bar",
         "x": [
          "2022-04-16",
          "2022-03-19",
          "2022-05-08",
          "2022-03-19",
          "2022-03-19",
          "2022-03-20",
          "2022-03-19",
          "2022-04-16",
          "2022-03-19",
          "2022-03-19",
          "2022-03-19",
          "2022-03-24",
          "2022-03-24",
          "2022-04-16",
          "2022-04-16",
          "2022-03-24",
          "2022-03-20",
          "2022-03-20",
          "2022-03-24",
          "2022-03-24",
          "2022-03-19",
          "2022-04-16",
          "2022-05-08",
          "2022-03-24",
          "2022-03-20",
          "2022-02-19",
          "2022-03-19",
          "2022-03-20",
          "2022-03-19",
          "2022-03-20",
          "2022-05-08",
          "2022-03-20",
          "2022-04-16",
          "2022-04-16",
          "2022-03-24",
          "2022-03-19",
          "2022-03-24",
          "2022-03-24",
          "2022-03-20",
          "2022-03-20",
          "2022-03-24",
          "2022-03-24",
          "2022-03-24",
          "2022-03-20",
          "2022-05-08",
          "2022-05-08",
          "2022-05-08",
          "2022-05-08",
          "2022-04-16",
          "2022-03-24",
          "2022-03-24",
          "2022-03-24",
          "2022-03-24",
          "2022-04-16",
          "2022-05-08",
          "2022-03-24",
          "2022-03-27",
          "2022-02-19",
          "2022-03-19",
          "2022-04-16",
          "2022-03-27"
         ],
         "y": [
          5,
          5,
          5,
          5,
          5,
          5,
          5,
          4,
          4,
          4,
          3,
          3,
          3,
          3,
          3,
          3,
          3,
          3,
          3,
          3,
          3,
          3,
          3,
          3,
          3,
          3,
          3,
          3,
          3,
          3,
          3,
          3,
          3,
          3,
          3,
          3,
          3,
          3,
          3,
          3,
          3,
          3,
          3,
          3,
          2,
          2,
          2,
          2,
          2,
          2,
          2,
          2,
          2,
          2,
          2,
          2,
          2,
          2,
          2,
          2,
          1
         ]
        },
        {
         "name": "Ghost of Tsushima",
         "text": [
          "The weight of your sins",
          "That works fine too",
          "Legends play",
          "Have fun",
          "Oh, I just killed the horse",
          "That was stupid",
          "Co-Op: Wohoo",
          "It was a little cheese, but it worked?",
          "Legends play",
          "Tactics, all about tactics!"
         ],
         "type": "bar",
         "x": [
          "2022-04-16",
          "2022-04-16",
          "2022-03-31",
          "2022-04-16",
          "2022-04-16",
          "2022-04-16",
          "2022-03-20",
          "2022-04-08",
          "2022-03-31",
          "2022-04-08"
         ],
         "y": [
          5,
          4,
          3,
          3,
          3,
          3,
          3,
          2,
          1,
          1
         ]
        },
        {
         "name": "It Takes Two",
         "text": [
          "Mini Boss battle progress!",
          "A demonstration of quality teamwork",
          "And they said chivalry was dead?",
          "The worst",
          "The most disturbing scene in the game",
          "The most disturbing scene in the game",
          "Exhibiting rage",
          "Evaluating our options",
          "Pure luck",
          "Bull fight",
          "Doing it for the stream",
          "Pretty Impressive level design",
          "Accidental Success"
         ],
         "type": "bar",
         "x": [
          "2022-06-16",
          "2022-06-16",
          "2022-06-16",
          "2022-05-09",
          "2022-05-09",
          "2022-05-09",
          "2022-05-09",
          "2022-05-09",
          "2022-05-09",
          "2022-05-09",
          "2022-05-09",
          "2022-06-16",
          "2022-06-16"
         ],
         "y": [
          5,
          3,
          3,
          2,
          2,
          2,
          2,
          2,
          2,
          2,
          2,
          1,
          1
         ]
        },
        {
         "name": "Call of Duty: Black Ops 3",
         "text": [
          "phrasing"
         ],
         "type": "bar",
         "x": [
          "2022-05-07"
         ],
         "y": [
          5
         ]
        },
        {
         "name": "Clash Royale",
         "text": [
          "The Mortar is not a defense tool",
          "Always save the Princess",
          "Fireball magic",
          "Co-Op: We can do it",
          "Elixir management",
          "Did we win there?",
          "The counter deck",
          "Spam & spacing",
          "Space units and baiting",
          "Damn x3",
          "Good and bad",
          "Boop boop boop",
          "I want the pig",
          "I mean...unimaginable skill",
          "114",
          "Double e Golem counter, pointers welcome",
          "Death by fireball",
          "I ruined your fancy pancy",
          "How to do better",
          "I surprise myself sometimes",
          "Piggy here we come",
          "10 seconds chip away",
          "We all can spam",
          "Same idea",
          "Useless Poison",
          "Gotta pay attention",
          "Predicting the Pekka",
          "Perhaps some day Triangle",
          "No we cannot do this",
          "If I lose this, it will be a disgrace",
          "Aaand lightning",
          "Less talking, more winning",
          "Clash Royale Quick Stream",
          "Priorities",
          "Clean victory",
          "Disastrous",
          "back from break! can we get master?!",
          "Deck investment",
          "back from break! can we get master?!",
          "Useless Pekka & Boom",
          "We got this!",
          "That poison is weak!",
          "Contracting the teachings",
          "back from break! can we get master?!",
          "How to not use the Zappies",
          "Simple f ups cost you the game",
          "Wonderbar",
          "Sacrifice for the win",
          "Feel the desperation",
          "Dumb move recovery",
          "One bad move can lose the match",
          "The waiting tactic",
          "Defense strategy",
          "30 minutes with Triangle - can we get new challenger 3 today!?",
          "Distracting the enemy",
          "Destroying the battle",
          "Gotta pay attention",
          "This is gonna hurt",
          "Good freezing",
          "Don’t panic",
          "Clash Royale Evening, can we get to New Challenger 3?!",
          "back from break! can we get master?!",
          "Before he Pekka’d me",
          "Predicting the Pekka",
          "Prince Healer Spam Fun",
          "Disgraceful",
          "Clash Royale Quick Stream",
          "Writing on the wall",
          "Clash Royale Quick Stream",
          "Clash Royale Quick Stream",
          "Clash Royale Quick Stream",
          "Clash Royale Evening, can we get to New Challenger 3?!",
          "back from break! can we get master?!",
          "Clash Royale Evening, can we get to New Challenger 3?!",
          "some Clash?",
          "back from break! can we get master?!",
          "Clash Royale Evening, can we get to New Challenger 3?!",
          "Log action",
          "Fireball magic",
          "Clash Royale Quick Stream",
          "Clash With Triangle",
          "Clash With Triangle",
          "Hurray for Zappies ",
          "Clash Royale Evening, can we get to New Challenger 3?!"
         ],
         "type": "bar",
         "x": [
          "2022-05-08",
          "2022-06-02",
          "2022-06-14",
          "2022-05-08",
          "2022-05-08",
          "2022-05-08",
          "2022-05-09",
          "2022-06-02",
          "2022-05-09",
          "2022-05-08",
          "2022-05-08",
          "2022-05-09",
          "2022-05-09",
          "2022-06-02",
          "2022-07-08",
          "2022-05-08",
          "2022-05-08",
          "2022-05-08",
          "2022-05-09",
          "2022-04-27",
          "2022-05-09",
          "2022-05-08",
          "2022-06-02",
          "2022-06-02",
          "2022-06-02",
          "2022-05-08",
          "2022-06-02",
          "2022-05-09",
          "2022-05-09",
          "2022-05-08",
          "2022-06-02",
          "2022-05-08",
          "2022-05-08",
          "2022-06-02",
          "2022-05-08",
          "2022-05-08",
          "2022-06-02",
          "2022-06-02",
          "2022-06-02",
          "2022-06-02",
          "2022-06-02",
          "2022-06-02",
          "2022-06-02",
          "2022-06-02",
          "2022-05-09",
          "2022-05-08",
          "2022-06-02",
          "2022-06-02",
          "2022-05-09",
          "2022-05-08",
          "2022-05-08",
          "2022-06-02",
          "2022-05-08",
          "2022-06-02",
          "2022-06-02",
          "2022-06-02",
          "2022-06-02",
          "2022-05-09",
          "2022-05-09",
          "2022-06-28",
          "2022-05-09",
          "2022-06-02",
          "2022-06-28",
          "2022-06-28",
          "2022-07-08",
          "2022-06-28",
          "2022-05-08",
          "2022-06-28",
          "2022-05-08",
          "2022-05-08",
          "2022-05-08",
          "2022-05-09",
          "2022-06-02",
          "2022-05-09",
          "2022-07-08",
          "2022-06-02",
          "2022-05-09",
          "2022-06-28",
          "2022-06-14",
          "2022-05-08",
          "2022-06-23",
          "2022-06-28",
          "2022-06-28",
          "2022-05-09"
         ],
         "y": [
          5,
          5,
          5,
          5,
          4,
          4,
          4,
          4,
          3,
          3,
          3,
          3,
          3,
          3,
          3,
          3,
          3,
          3,
          3,
          3,
          3,
          2,
          2,
          2,
          2,
          2,
          2,
          2,
          2,
          2,
          2,
          2,
          2,
          2,
          2,
          2,
          2,
          2,
          2,
          2,
          2,
          2,
          2,
          2,
          2,
          2,
          2,
          2,
          2,
          2,
          2,
          2,
          2,
          2,
          2,
          2,
          2,
          2,
          2,
          1,
          1,
          1,
          1,
          1,
          1,
          1,
          1,
          1,
          1,
          1,
          1,
          1,
          1,
          1,
          1,
          1,
          1,
          1,
          1,
          1,
          1,
          1,
          1,
          1
         ]
        },
        {
         "name": "God of War",
         "text": [
          "Boss fight: Járn Fótr",
          "Son I love you",
          "Never underestimate",
          "No comprendo",
          "TheSquareWon strikes again",
          "I am technically the fixer",
          "Just unsafe",
          "Game developers care about partners",
          "Need to finish before starting Elden Ring Quick stream: GoW",
          "Boss fight: Hræzlyr",
          "Atreus skills walkthrough",
          "Boss fight: Svartáljǫfurr",
          "Kratos is more the knowing type",
          "Cheers to competitive free upgrades",
          "Need to finish before starting Elden Ring Quick stream: GoW"
         ],
         "type": "bar",
         "x": [
          "2022-05-09",
          "2022-05-08",
          "2022-05-08",
          "2022-05-08",
          "2022-05-08",
          "2022-05-09",
          "2022-05-08",
          "2022-05-08",
          "2022-05-08",
          "2022-05-09",
          "2022-05-08",
          "2022-05-08",
          "2022-05-08",
          "2022-05-08",
          "2022-05-08"
         ],
         "y": [
          4,
          4,
          3,
          2,
          2,
          2,
          2,
          2,
          2,
          2,
          2,
          2,
          2,
          2,
          1
         ]
        },
        {
         "name": "Demon's Souls",
         "text": [
          "Never drop your guard",
          "Moment of zen",
          "No evidence",
          "Why I am back on Demon's Souls",
          "Give a guy a break",
          "Hello big man",
          "Demon souls first play through",
          "It's probably a trap..."
         ],
         "type": "bar",
         "x": [
          "2022-05-08",
          "2022-01-20",
          "2022-05-08",
          "2022-05-08",
          "2022-05-08",
          "2022-05-08",
          "2022-01-20",
          "2022-05-08"
         ],
         "y": [
          4,
          4,
          4,
          3,
          3,
          3,
          2,
          2
         ]
        }
       ],
       "layout": {
        "barmode": "stack",
        "template": {
         "data": {
          "bar": [
           {
            "error_x": {
             "color": "#2a3f5f"
            },
            "error_y": {
             "color": "#2a3f5f"
            },
            "marker": {
             "line": {
              "color": "#E5ECF6",
              "width": 0.5
             },
             "pattern": {
              "fillmode": "overlay",
              "size": 10,
              "solidity": 0.2
             }
            },
            "type": "bar"
           }
          ],
          "barpolar": [
           {
            "marker": {
             "line": {
              "color": "#E5ECF6",
              "width": 0.5
             },
             "pattern": {
              "fillmode": "overlay",
              "size": 10,
              "solidity": 0.2
             }
            },
            "type": "barpolar"
           }
          ],
          "carpet": [
           {
            "aaxis": {
             "endlinecolor": "#2a3f5f",
             "gridcolor": "white",
             "linecolor": "white",
             "minorgridcolor": "white",
             "startlinecolor": "#2a3f5f"
            },
            "baxis": {
             "endlinecolor": "#2a3f5f",
             "gridcolor": "white",
             "linecolor": "white",
             "minorgridcolor": "white",
             "startlinecolor": "#2a3f5f"
            },
            "type": "carpet"
           }
          ],
          "choropleth": [
           {
            "colorbar": {
             "outlinewidth": 0,
             "ticks": ""
            },
            "type": "choropleth"
           }
          ],
          "contour": [
           {
            "colorbar": {
             "outlinewidth": 0,
             "ticks": ""
            },
            "colorscale": [
             [
              0,
              "#0d0887"
             ],
             [
              0.1111111111111111,
              "#46039f"
             ],
             [
              0.2222222222222222,
              "#7201a8"
             ],
             [
              0.3333333333333333,
              "#9c179e"
             ],
             [
              0.4444444444444444,
              "#bd3786"
             ],
             [
              0.5555555555555556,
              "#d8576b"
             ],
             [
              0.6666666666666666,
              "#ed7953"
             ],
             [
              0.7777777777777778,
              "#fb9f3a"
             ],
             [
              0.8888888888888888,
              "#fdca26"
             ],
             [
              1,
              "#f0f921"
             ]
            ],
            "type": "contour"
           }
          ],
          "contourcarpet": [
           {
            "colorbar": {
             "outlinewidth": 0,
             "ticks": ""
            },
            "type": "contourcarpet"
           }
          ],
          "heatmap": [
           {
            "colorbar": {
             "outlinewidth": 0,
             "ticks": ""
            },
            "colorscale": [
             [
              0,
              "#0d0887"
             ],
             [
              0.1111111111111111,
              "#46039f"
             ],
             [
              0.2222222222222222,
              "#7201a8"
             ],
             [
              0.3333333333333333,
              "#9c179e"
             ],
             [
              0.4444444444444444,
              "#bd3786"
             ],
             [
              0.5555555555555556,
              "#d8576b"
             ],
             [
              0.6666666666666666,
              "#ed7953"
             ],
             [
              0.7777777777777778,
              "#fb9f3a"
             ],
             [
              0.8888888888888888,
              "#fdca26"
             ],
             [
              1,
              "#f0f921"
             ]
            ],
            "type": "heatmap"
           }
          ],
          "heatmapgl": [
           {
            "colorbar": {
             "outlinewidth": 0,
             "ticks": ""
            },
            "colorscale": [
             [
              0,
              "#0d0887"
             ],
             [
              0.1111111111111111,
              "#46039f"
             ],
             [
              0.2222222222222222,
              "#7201a8"
             ],
             [
              0.3333333333333333,
              "#9c179e"
             ],
             [
              0.4444444444444444,
              "#bd3786"
             ],
             [
              0.5555555555555556,
              "#d8576b"
             ],
             [
              0.6666666666666666,
              "#ed7953"
             ],
             [
              0.7777777777777778,
              "#fb9f3a"
             ],
             [
              0.8888888888888888,
              "#fdca26"
             ],
             [
              1,
              "#f0f921"
             ]
            ],
            "type": "heatmapgl"
           }
          ],
          "histogram": [
           {
            "marker": {
             "pattern": {
              "fillmode": "overlay",
              "size": 10,
              "solidity": 0.2
             }
            },
            "type": "histogram"
           }
          ],
          "histogram2d": [
           {
            "colorbar": {
             "outlinewidth": 0,
             "ticks": ""
            },
            "colorscale": [
             [
              0,
              "#0d0887"
             ],
             [
              0.1111111111111111,
              "#46039f"
             ],
             [
              0.2222222222222222,
              "#7201a8"
             ],
             [
              0.3333333333333333,
              "#9c179e"
             ],
             [
              0.4444444444444444,
              "#bd3786"
             ],
             [
              0.5555555555555556,
              "#d8576b"
             ],
             [
              0.6666666666666666,
              "#ed7953"
             ],
             [
              0.7777777777777778,
              "#fb9f3a"
             ],
             [
              0.8888888888888888,
              "#fdca26"
             ],
             [
              1,
              "#f0f921"
             ]
            ],
            "type": "histogram2d"
           }
          ],
          "histogram2dcontour": [
           {
            "colorbar": {
             "outlinewidth": 0,
             "ticks": ""
            },
            "colorscale": [
             [
              0,
              "#0d0887"
             ],
             [
              0.1111111111111111,
              "#46039f"
             ],
             [
              0.2222222222222222,
              "#7201a8"
             ],
             [
              0.3333333333333333,
              "#9c179e"
             ],
             [
              0.4444444444444444,
              "#bd3786"
             ],
             [
              0.5555555555555556,
              "#d8576b"
             ],
             [
              0.6666666666666666,
              "#ed7953"
             ],
             [
              0.7777777777777778,
              "#fb9f3a"
             ],
             [
              0.8888888888888888,
              "#fdca26"
             ],
             [
              1,
              "#f0f921"
             ]
            ],
            "type": "histogram2dcontour"
           }
          ],
          "mesh3d": [
           {
            "colorbar": {
             "outlinewidth": 0,
             "ticks": ""
            },
            "type": "mesh3d"
           }
          ],
          "parcoords": [
           {
            "line": {
             "colorbar": {
              "outlinewidth": 0,
              "ticks": ""
             }
            },
            "type": "parcoords"
           }
          ],
          "pie": [
           {
            "automargin": true,
            "type": "pie"
           }
          ],
          "scatter": [
           {
            "fillpattern": {
             "fillmode": "overlay",
             "size": 10,
             "solidity": 0.2
            },
            "type": "scatter"
           }
          ],
          "scatter3d": [
           {
            "line": {
             "colorbar": {
              "outlinewidth": 0,
              "ticks": ""
             }
            },
            "marker": {
             "colorbar": {
              "outlinewidth": 0,
              "ticks": ""
             }
            },
            "type": "scatter3d"
           }
          ],
          "scattercarpet": [
           {
            "marker": {
             "colorbar": {
              "outlinewidth": 0,
              "ticks": ""
             }
            },
            "type": "scattercarpet"
           }
          ],
          "scattergeo": [
           {
            "marker": {
             "colorbar": {
              "outlinewidth": 0,
              "ticks": ""
             }
            },
            "type": "scattergeo"
           }
          ],
          "scattergl": [
           {
            "marker": {
             "colorbar": {
              "outlinewidth": 0,
              "ticks": ""
             }
            },
            "type": "scattergl"
           }
          ],
          "scattermapbox": [
           {
            "marker": {
             "colorbar": {
              "outlinewidth": 0,
              "ticks": ""
             }
            },
            "type": "scattermapbox"
           }
          ],
          "scatterpolar": [
           {
            "marker": {
             "colorbar": {
              "outlinewidth": 0,
              "ticks": ""
             }
            },
            "type": "scatterpolar"
           }
          ],
          "scatterpolargl": [
           {
            "marker": {
             "colorbar": {
              "outlinewidth": 0,
              "ticks": ""
             }
            },
            "type": "scatterpolargl"
           }
          ],
          "scatterternary": [
           {
            "marker": {
             "colorbar": {
              "outlinewidth": 0,
              "ticks": ""
             }
            },
            "type": "scatterternary"
           }
          ],
          "surface": [
           {
            "colorbar": {
             "outlinewidth": 0,
             "ticks": ""
            },
            "colorscale": [
             [
              0,
              "#0d0887"
             ],
             [
              0.1111111111111111,
              "#46039f"
             ],
             [
              0.2222222222222222,
              "#7201a8"
             ],
             [
              0.3333333333333333,
              "#9c179e"
             ],
             [
              0.4444444444444444,
              "#bd3786"
             ],
             [
              0.5555555555555556,
              "#d8576b"
             ],
             [
              0.6666666666666666,
              "#ed7953"
             ],
             [
              0.7777777777777778,
              "#fb9f3a"
             ],
             [
              0.8888888888888888,
              "#fdca26"
             ],
             [
              1,
              "#f0f921"
             ]
            ],
            "type": "surface"
           }
          ],
          "table": [
           {
            "cells": {
             "fill": {
              "color": "#EBF0F8"
             },
             "line": {
              "color": "white"
             }
            },
            "header": {
             "fill": {
              "color": "#C8D4E3"
             },
             "line": {
              "color": "white"
             }
            },
            "type": "table"
           }
          ]
         },
         "layout": {
          "annotationdefaults": {
           "arrowcolor": "#2a3f5f",
           "arrowhead": 0,
           "arrowwidth": 1
          },
          "autotypenumbers": "strict",
          "coloraxis": {
           "colorbar": {
            "outlinewidth": 0,
            "ticks": ""
           }
          },
          "colorscale": {
           "diverging": [
            [
             0,
             "#8e0152"
            ],
            [
             0.1,
             "#c51b7d"
            ],
            [
             0.2,
             "#de77ae"
            ],
            [
             0.3,
             "#f1b6da"
            ],
            [
             0.4,
             "#fde0ef"
            ],
            [
             0.5,
             "#f7f7f7"
            ],
            [
             0.6,
             "#e6f5d0"
            ],
            [
             0.7,
             "#b8e186"
            ],
            [
             0.8,
             "#7fbc41"
            ],
            [
             0.9,
             "#4d9221"
            ],
            [
             1,
             "#276419"
            ]
           ],
           "sequential": [
            [
             0,
             "#0d0887"
            ],
            [
             0.1111111111111111,
             "#46039f"
            ],
            [
             0.2222222222222222,
             "#7201a8"
            ],
            [
             0.3333333333333333,
             "#9c179e"
            ],
            [
             0.4444444444444444,
             "#bd3786"
            ],
            [
             0.5555555555555556,
             "#d8576b"
            ],
            [
             0.6666666666666666,
             "#ed7953"
            ],
            [
             0.7777777777777778,
             "#fb9f3a"
            ],
            [
             0.8888888888888888,
             "#fdca26"
            ],
            [
             1,
             "#f0f921"
            ]
           ],
           "sequentialminus": [
            [
             0,
             "#0d0887"
            ],
            [
             0.1111111111111111,
             "#46039f"
            ],
            [
             0.2222222222222222,
             "#7201a8"
            ],
            [
             0.3333333333333333,
             "#9c179e"
            ],
            [
             0.4444444444444444,
             "#bd3786"
            ],
            [
             0.5555555555555556,
             "#d8576b"
            ],
            [
             0.6666666666666666,
             "#ed7953"
            ],
            [
             0.7777777777777778,
             "#fb9f3a"
            ],
            [
             0.8888888888888888,
             "#fdca26"
            ],
            [
             1,
             "#f0f921"
            ]
           ]
          },
          "colorway": [
           "#636efa",
           "#EF553B",
           "#00cc96",
           "#ab63fa",
           "#FFA15A",
           "#19d3f3",
           "#FF6692",
           "#B6E880",
           "#FF97FF",
           "#FECB52"
          ],
          "font": {
           "color": "#2a3f5f"
          },
          "geo": {
           "bgcolor": "white",
           "lakecolor": "white",
           "landcolor": "#E5ECF6",
           "showlakes": true,
           "showland": true,
           "subunitcolor": "white"
          },
          "hoverlabel": {
           "align": "left"
          },
          "hovermode": "closest",
          "mapbox": {
           "style": "light"
          },
          "paper_bgcolor": "white",
          "plot_bgcolor": "#E5ECF6",
          "polar": {
           "angularaxis": {
            "gridcolor": "white",
            "linecolor": "white",
            "ticks": ""
           },
           "bgcolor": "#E5ECF6",
           "radialaxis": {
            "gridcolor": "white",
            "linecolor": "white",
            "ticks": ""
           }
          },
          "scene": {
           "xaxis": {
            "backgroundcolor": "#E5ECF6",
            "gridcolor": "white",
            "gridwidth": 2,
            "linecolor": "white",
            "showbackground": true,
            "ticks": "",
            "zerolinecolor": "white"
           },
           "yaxis": {
            "backgroundcolor": "#E5ECF6",
            "gridcolor": "white",
            "gridwidth": 2,
            "linecolor": "white",
            "showbackground": true,
            "ticks": "",
            "zerolinecolor": "white"
           },
           "zaxis": {
            "backgroundcolor": "#E5ECF6",
            "gridcolor": "white",
            "gridwidth": 2,
            "linecolor": "white",
            "showbackground": true,
            "ticks": "",
            "zerolinecolor": "white"
           }
          },
          "shapedefaults": {
           "line": {
            "color": "#2a3f5f"
           }
          },
          "ternary": {
           "aaxis": {
            "gridcolor": "white",
            "linecolor": "white",
            "ticks": ""
           },
           "baxis": {
            "gridcolor": "white",
            "linecolor": "white",
            "ticks": ""
           },
           "bgcolor": "#E5ECF6",
           "caxis": {
            "gridcolor": "white",
            "linecolor": "white",
            "ticks": ""
           }
          },
          "title": {
           "x": 0.05
          },
          "xaxis": {
           "automargin": true,
           "gridcolor": "white",
           "linecolor": "white",
           "ticks": "",
           "title": {
            "standoff": 15
           },
           "zerolinecolor": "white",
           "zerolinewidth": 2
          },
          "yaxis": {
           "automargin": true,
           "gridcolor": "white",
           "linecolor": "white",
           "ticks": "",
           "title": {
            "standoff": 15
           },
           "zerolinecolor": "white",
           "zerolinewidth": 2
          }
         }
        },
        "title": {
         "text": "Performance of Unpublished Clips"
        }
       }
      }
     },
     "metadata": {},
     "output_type": "display_data"
    }
   ],
   "source": [
    "# Build sa visual for un-published clips\n",
    "data_seed = {}\n",
    "with Session(mysql_engine) as session:\n",
    "    # for url in session.query(Clip_Tracker.url).where(Clip_Tracker.published == None).order_by(Clip_Tracker.view_count.desc()).all()[:2]:\n",
    "    for title, game_name, created_date, view_count in session.query(Clip_Tracker.title,Game_Meta.game_name, Clip_Tracker.created_at,  Clip_Tracker.view_count).select_from(join(Clip_Tracker, Game_Meta)).where(Clip_Tracker.published == None).order_by(Clip_Tracker.view_count.desc()).all():\n",
    "        if bool(data_seed.get(game_name)):\n",
    "            try:\n",
    "                data_seed[game_name]['x'].append(date(created_date.year, created_date.month, created_date.day))\n",
    "                data_seed[game_name]['y'].append(view_count)\n",
    "                data_seed[game_name]['text'].append(title)\n",
    "            except:\n",
    "                data_seed[game_name]['x'] = [created_date]\n",
    "                data_seed[game_name]['y'] = [view_count]\n",
    "        else:\n",
    "            data_seed[game_name] = {'x': [], 'y': [], 'text': []}\n",
    "            data_seed[game_name]['x'].append(date(created_date.year, created_date.month, created_date.day))\n",
    "            data_seed[game_name]['y'].append(view_count)\n",
    "            data_seed[game_name]['text'].append(title)\n",
    "    # print(session.query(distinct(Clip_Tracker.game_id), Game_Meta.game_name).select_from(join(Clip_Tracker, Game_Meta)).where(Clip_Tracker.published == None).order_by(Clip_Tracker.view_count.desc()).all())\n",
    "        # print(url[0])\n",
    "\n",
    "data = []\n",
    "for key, value in data_seed.items():\n",
    "    data.append(go.Bar(x=value['x'], y = value['y'], text = value['text'], name=key))\n",
    "go.Figure(data, go.Layout(barmode='stack', title={'text': \"Performance of Unpublished Clips\"}))"
   ]
  },
  {
   "cell_type": "code",
   "execution_count": 5,
   "metadata": {},
   "outputs": [
    {
     "data": {
      "application/vnd.plotly.v1+json": {
       "config": {
        "plotlyServerURL": "https://plot.ly"
       },
       "data": [
        {
         "name": "Demon's Souls",
         "text": [
          "I mean...",
          "Iconic",
          "The Round One is Brave!",
          "DIARRHEA EVERYWHERE!",
          "S U F F E R",
          "Clipping G O L D",
          "making good choices",
          "Demon souls first play through",
          "Square assumes direct control",
          "2000 Souls Gone",
          "Square doing square things",
          "So many things that can kill me",
          "magic man",
          "For the SquareOne",
          "Rolling's Supposed to Save You!!!",
          "Demon souls first play through",
          "Back to reality",
          "THE RED DIARRHEA!!!!",
          "Opportunity"
         ],
         "type": "bar",
         "x": [
          "2022-01-27",
          "2022-01-13",
          "2022-01-13",
          "2022-01-27",
          "2022-01-13",
          "2022-01-20",
          "2022-01-20",
          "2022-01-06",
          "2022-01-27",
          "2022-01-20",
          "2022-01-27",
          "2022-05-08",
          "2022-01-27",
          "2022-01-27",
          "2022-01-27",
          "2022-01-27",
          "2022-04-29",
          "2022-01-27",
          "2022-05-08"
         ],
         "y": [
          279,
          53,
          46,
          28,
          28,
          15,
          14,
          13,
          12,
          12,
          12,
          11,
          10,
          10,
          10,
          10,
          10,
          8,
          6
         ]
        },
        {
         "name": "Remnant: From the Ashes",
         "text": [
          "Corrosive Damage Can Stack",
          "Remember to roll forward ",
          "His weakness is the Butt",
          "He got scrrred",
          "Coach gun turned out to be pretty good",
          "Pessimism vs Realism? (or Optimism?)",
          "When You're The Last One Left",
          "Laggy Revives ",
          "Good thing we have 5 Dragon Hearts",
          "Aaaand Goodnight!",
          "Check your anger Bro",
          "Quick Mini Boss Takedown with the Sniper Rifle",
          "A little Friendly Fire amongst Friends?",
          "PSA: Remember to heal yourself before reviving!",
          "The guys are never gonna believe this",
          "Why you want the Devastator ",
          "We are definitely not Daredevils ",
          "First time using Storm Caller ability",
          "Sage Advise on Armor Investment from lmperialEmpire",
          "A heroic Last Stand",
          "Defending myself from my own Summons",
          "Gunslinger build in Survivor",
          "TheRoundWon Rating: 11 out of 10",
          "Lessons in Melee needed",
          "Finally cleared Round 1 boss lol",
          "Punched it to death",
          "Don't forget the basics"
         ],
         "type": "bar",
         "x": [
          "2022-07-06",
          "2022-07-05",
          "2022-07-06",
          "2022-07-18",
          "2022-07-05",
          "2022-07-06",
          "2022-07-06",
          "2022-07-05",
          "2022-07-18",
          "2022-07-05",
          "2022-07-05",
          "2022-07-05",
          "2022-07-06",
          "2022-07-05",
          "2022-07-18",
          "2022-07-06",
          "2022-07-06",
          "2022-07-06",
          "2022-07-06",
          "2022-07-06",
          "2022-07-06",
          "2022-07-18",
          "2022-07-15",
          "2022-07-06",
          "2022-07-05",
          "2022-07-18",
          "2022-07-06"
         ],
         "y": [
          73,
          61,
          51,
          45,
          41,
          39,
          33,
          25,
          25,
          23,
          21,
          19,
          19,
          17,
          15,
          15,
          13,
          13,
          13,
          11,
          11,
          11,
          9,
          9,
          7,
          5,
          5
         ]
        },
        {
         "name": "Horizon Forbidden West",
         "text": [
          "The SaltWon",
          "Heroes Don't Die",
          "You sold the blastling?!?",
          "I got a tree b, can't fight the tree!",
          "I am like a ninja",
          "Poking and running away",
          "Go away! So needy...",
          "So rude",
          "Enemies can do this now",
          "Horizon mystery mission?!",
          "SquareWon takeover: You know who I am",
          "At your doorstep",
          "Weird people on horses",
          "Damn",
          "Hard work",
          "Gotta love the warrior bow",
          "I surprise myself sometimes...",
          "Death and destruction",
          "Hope dies last",
          "Horizon mystery mission?!"
         ],
         "type": "bar",
         "x": [
          "2022-04-16",
          "2022-02-19",
          "2022-03-19",
          "2022-03-19",
          "2022-03-19",
          "2022-03-19",
          "2022-03-19",
          "2022-04-16",
          "2022-03-19",
          "2022-03-27",
          "2022-03-19",
          "2022-03-19",
          "2022-03-19",
          "2022-03-19",
          "2022-03-20",
          "2022-03-20",
          "2022-03-19",
          "2022-03-20",
          "2022-04-16",
          "2022-03-27"
         ],
         "y": [
          19,
          19,
          18,
          17,
          16,
          13,
          11,
          11,
          10,
          9,
          8,
          7,
          7,
          7,
          6,
          6,
          6,
          5,
          4,
          2
         ]
        },
        {
         "name": "Clash Royale",
         "text": [
          "Evening Clash with Triangle before we try PS5 game",
          "Barrel talk",
          "There you go...oh sh**",
          "Clash Royale Evenings with The Triangle - TheRoundWonBot upgrade!",
          "My must watch players",
          "Spell card strategy"
         ],
         "type": "bar",
         "x": [
          "2022-06-14",
          "2022-06-02",
          "2022-05-08",
          "2022-05-11",
          "2022-06-02",
          "2022-05-08"
         ],
         "y": [
          15,
          10,
          10,
          8,
          7,
          7
         ]
        },
        {
         "name": "It Takes Two",
         "text": [
          "Rrrrrrrrrespect",
          "The Emergence of the Sh!ttyWon",
          "Irony",
          "Metaphorical",
          "Irony",
          "Focus"
         ],
         "type": "bar",
         "x": [
          "2022-02-18",
          "2022-06-16",
          "2022-02-25",
          "2022-02-18",
          "2022-02-18",
          "2022-02-18"
         ],
         "y": [
          15,
          13,
          9,
          8,
          8,
          7
         ]
        },
        {
         "name": "Overcooked! All You Can Eat",
         "text": [
          "Quick stream: Overcooked before Remnant survivor",
          "For all the Marbles!",
          "Sorry clash fans, Overcook pivot",
          "You gotta blend s***",
          "Spicy Square People",
          "All the marbles",
          "Sorry clash fans, Overcook pivot",
          "Quick stream: Overcooked before Remnant survivor"
         ],
         "type": "bar",
         "x": [
          "2022-07-07",
          "2022-06-10",
          "2022-06-11",
          "2022-07-07",
          "2022-06-10",
          "2022-06-11",
          "2022-06-11",
          "2022-07-07"
         ],
         "y": [
          15,
          15,
          11,
          7,
          6,
          5,
          1,
          1
         ]
        },
        {
         "name": "Ghost of Tsushima",
         "text": [
          "Co-Op: Sufficient contributions",
          "Co-Op: Big ole ThickDSavy",
          "Triangle takeover: we are done for the day",
          "Co-Op: Did you not see my greatness?",
          "Co-Op: Winning by accident",
          "Homie's got some legs"
         ],
         "type": "bar",
         "x": [
          "2022-03-20",
          "2022-03-20",
          "2022-04-16",
          "2022-03-20",
          "2022-03-20",
          "2022-04-16"
         ],
         "y": [
          10,
          9,
          8,
          5,
          4,
          4
         ]
        },
        {
         "name": "Call of Duty: Black Ops 3",
         "text": [
          "Dying is never convenient"
         ],
         "type": "bar",
         "x": [
          "2022-06-13"
         ],
         "y": [
          9
         ]
        }
       ],
       "layout": {
        "barmode": "stack",
        "template": {
         "data": {
          "bar": [
           {
            "error_x": {
             "color": "#2a3f5f"
            },
            "error_y": {
             "color": "#2a3f5f"
            },
            "marker": {
             "line": {
              "color": "#E5ECF6",
              "width": 0.5
             },
             "pattern": {
              "fillmode": "overlay",
              "size": 10,
              "solidity": 0.2
             }
            },
            "type": "bar"
           }
          ],
          "barpolar": [
           {
            "marker": {
             "line": {
              "color": "#E5ECF6",
              "width": 0.5
             },
             "pattern": {
              "fillmode": "overlay",
              "size": 10,
              "solidity": 0.2
             }
            },
            "type": "barpolar"
           }
          ],
          "carpet": [
           {
            "aaxis": {
             "endlinecolor": "#2a3f5f",
             "gridcolor": "white",
             "linecolor": "white",
             "minorgridcolor": "white",
             "startlinecolor": "#2a3f5f"
            },
            "baxis": {
             "endlinecolor": "#2a3f5f",
             "gridcolor": "white",
             "linecolor": "white",
             "minorgridcolor": "white",
             "startlinecolor": "#2a3f5f"
            },
            "type": "carpet"
           }
          ],
          "choropleth": [
           {
            "colorbar": {
             "outlinewidth": 0,
             "ticks": ""
            },
            "type": "choropleth"
           }
          ],
          "contour": [
           {
            "colorbar": {
             "outlinewidth": 0,
             "ticks": ""
            },
            "colorscale": [
             [
              0,
              "#0d0887"
             ],
             [
              0.1111111111111111,
              "#46039f"
             ],
             [
              0.2222222222222222,
              "#7201a8"
             ],
             [
              0.3333333333333333,
              "#9c179e"
             ],
             [
              0.4444444444444444,
              "#bd3786"
             ],
             [
              0.5555555555555556,
              "#d8576b"
             ],
             [
              0.6666666666666666,
              "#ed7953"
             ],
             [
              0.7777777777777778,
              "#fb9f3a"
             ],
             [
              0.8888888888888888,
              "#fdca26"
             ],
             [
              1,
              "#f0f921"
             ]
            ],
            "type": "contour"
           }
          ],
          "contourcarpet": [
           {
            "colorbar": {
             "outlinewidth": 0,
             "ticks": ""
            },
            "type": "contourcarpet"
           }
          ],
          "heatmap": [
           {
            "colorbar": {
             "outlinewidth": 0,
             "ticks": ""
            },
            "colorscale": [
             [
              0,
              "#0d0887"
             ],
             [
              0.1111111111111111,
              "#46039f"
             ],
             [
              0.2222222222222222,
              "#7201a8"
             ],
             [
              0.3333333333333333,
              "#9c179e"
             ],
             [
              0.4444444444444444,
              "#bd3786"
             ],
             [
              0.5555555555555556,
              "#d8576b"
             ],
             [
              0.6666666666666666,
              "#ed7953"
             ],
             [
              0.7777777777777778,
              "#fb9f3a"
             ],
             [
              0.8888888888888888,
              "#fdca26"
             ],
             [
              1,
              "#f0f921"
             ]
            ],
            "type": "heatmap"
           }
          ],
          "heatmapgl": [
           {
            "colorbar": {
             "outlinewidth": 0,
             "ticks": ""
            },
            "colorscale": [
             [
              0,
              "#0d0887"
             ],
             [
              0.1111111111111111,
              "#46039f"
             ],
             [
              0.2222222222222222,
              "#7201a8"
             ],
             [
              0.3333333333333333,
              "#9c179e"
             ],
             [
              0.4444444444444444,
              "#bd3786"
             ],
             [
              0.5555555555555556,
              "#d8576b"
             ],
             [
              0.6666666666666666,
              "#ed7953"
             ],
             [
              0.7777777777777778,
              "#fb9f3a"
             ],
             [
              0.8888888888888888,
              "#fdca26"
             ],
             [
              1,
              "#f0f921"
             ]
            ],
            "type": "heatmapgl"
           }
          ],
          "histogram": [
           {
            "marker": {
             "pattern": {
              "fillmode": "overlay",
              "size": 10,
              "solidity": 0.2
             }
            },
            "type": "histogram"
           }
          ],
          "histogram2d": [
           {
            "colorbar": {
             "outlinewidth": 0,
             "ticks": ""
            },
            "colorscale": [
             [
              0,
              "#0d0887"
             ],
             [
              0.1111111111111111,
              "#46039f"
             ],
             [
              0.2222222222222222,
              "#7201a8"
             ],
             [
              0.3333333333333333,
              "#9c179e"
             ],
             [
              0.4444444444444444,
              "#bd3786"
             ],
             [
              0.5555555555555556,
              "#d8576b"
             ],
             [
              0.6666666666666666,
              "#ed7953"
             ],
             [
              0.7777777777777778,
              "#fb9f3a"
             ],
             [
              0.8888888888888888,
              "#fdca26"
             ],
             [
              1,
              "#f0f921"
             ]
            ],
            "type": "histogram2d"
           }
          ],
          "histogram2dcontour": [
           {
            "colorbar": {
             "outlinewidth": 0,
             "ticks": ""
            },
            "colorscale": [
             [
              0,
              "#0d0887"
             ],
             [
              0.1111111111111111,
              "#46039f"
             ],
             [
              0.2222222222222222,
              "#7201a8"
             ],
             [
              0.3333333333333333,
              "#9c179e"
             ],
             [
              0.4444444444444444,
              "#bd3786"
             ],
             [
              0.5555555555555556,
              "#d8576b"
             ],
             [
              0.6666666666666666,
              "#ed7953"
             ],
             [
              0.7777777777777778,
              "#fb9f3a"
             ],
             [
              0.8888888888888888,
              "#fdca26"
             ],
             [
              1,
              "#f0f921"
             ]
            ],
            "type": "histogram2dcontour"
           }
          ],
          "mesh3d": [
           {
            "colorbar": {
             "outlinewidth": 0,
             "ticks": ""
            },
            "type": "mesh3d"
           }
          ],
          "parcoords": [
           {
            "line": {
             "colorbar": {
              "outlinewidth": 0,
              "ticks": ""
             }
            },
            "type": "parcoords"
           }
          ],
          "pie": [
           {
            "automargin": true,
            "type": "pie"
           }
          ],
          "scatter": [
           {
            "fillpattern": {
             "fillmode": "overlay",
             "size": 10,
             "solidity": 0.2
            },
            "type": "scatter"
           }
          ],
          "scatter3d": [
           {
            "line": {
             "colorbar": {
              "outlinewidth": 0,
              "ticks": ""
             }
            },
            "marker": {
             "colorbar": {
              "outlinewidth": 0,
              "ticks": ""
             }
            },
            "type": "scatter3d"
           }
          ],
          "scattercarpet": [
           {
            "marker": {
             "colorbar": {
              "outlinewidth": 0,
              "ticks": ""
             }
            },
            "type": "scattercarpet"
           }
          ],
          "scattergeo": [
           {
            "marker": {
             "colorbar": {
              "outlinewidth": 0,
              "ticks": ""
             }
            },
            "type": "scattergeo"
           }
          ],
          "scattergl": [
           {
            "marker": {
             "colorbar": {
              "outlinewidth": 0,
              "ticks": ""
             }
            },
            "type": "scattergl"
           }
          ],
          "scattermapbox": [
           {
            "marker": {
             "colorbar": {
              "outlinewidth": 0,
              "ticks": ""
             }
            },
            "type": "scattermapbox"
           }
          ],
          "scatterpolar": [
           {
            "marker": {
             "colorbar": {
              "outlinewidth": 0,
              "ticks": ""
             }
            },
            "type": "scatterpolar"
           }
          ],
          "scatterpolargl": [
           {
            "marker": {
             "colorbar": {
              "outlinewidth": 0,
              "ticks": ""
             }
            },
            "type": "scatterpolargl"
           }
          ],
          "scatterternary": [
           {
            "marker": {
             "colorbar": {
              "outlinewidth": 0,
              "ticks": ""
             }
            },
            "type": "scatterternary"
           }
          ],
          "surface": [
           {
            "colorbar": {
             "outlinewidth": 0,
             "ticks": ""
            },
            "colorscale": [
             [
              0,
              "#0d0887"
             ],
             [
              0.1111111111111111,
              "#46039f"
             ],
             [
              0.2222222222222222,
              "#7201a8"
             ],
             [
              0.3333333333333333,
              "#9c179e"
             ],
             [
              0.4444444444444444,
              "#bd3786"
             ],
             [
              0.5555555555555556,
              "#d8576b"
             ],
             [
              0.6666666666666666,
              "#ed7953"
             ],
             [
              0.7777777777777778,
              "#fb9f3a"
             ],
             [
              0.8888888888888888,
              "#fdca26"
             ],
             [
              1,
              "#f0f921"
             ]
            ],
            "type": "surface"
           }
          ],
          "table": [
           {
            "cells": {
             "fill": {
              "color": "#EBF0F8"
             },
             "line": {
              "color": "white"
             }
            },
            "header": {
             "fill": {
              "color": "#C8D4E3"
             },
             "line": {
              "color": "white"
             }
            },
            "type": "table"
           }
          ]
         },
         "layout": {
          "annotationdefaults": {
           "arrowcolor": "#2a3f5f",
           "arrowhead": 0,
           "arrowwidth": 1
          },
          "autotypenumbers": "strict",
          "coloraxis": {
           "colorbar": {
            "outlinewidth": 0,
            "ticks": ""
           }
          },
          "colorscale": {
           "diverging": [
            [
             0,
             "#8e0152"
            ],
            [
             0.1,
             "#c51b7d"
            ],
            [
             0.2,
             "#de77ae"
            ],
            [
             0.3,
             "#f1b6da"
            ],
            [
             0.4,
             "#fde0ef"
            ],
            [
             0.5,
             "#f7f7f7"
            ],
            [
             0.6,
             "#e6f5d0"
            ],
            [
             0.7,
             "#b8e186"
            ],
            [
             0.8,
             "#7fbc41"
            ],
            [
             0.9,
             "#4d9221"
            ],
            [
             1,
             "#276419"
            ]
           ],
           "sequential": [
            [
             0,
             "#0d0887"
            ],
            [
             0.1111111111111111,
             "#46039f"
            ],
            [
             0.2222222222222222,
             "#7201a8"
            ],
            [
             0.3333333333333333,
             "#9c179e"
            ],
            [
             0.4444444444444444,
             "#bd3786"
            ],
            [
             0.5555555555555556,
             "#d8576b"
            ],
            [
             0.6666666666666666,
             "#ed7953"
            ],
            [
             0.7777777777777778,
             "#fb9f3a"
            ],
            [
             0.8888888888888888,
             "#fdca26"
            ],
            [
             1,
             "#f0f921"
            ]
           ],
           "sequentialminus": [
            [
             0,
             "#0d0887"
            ],
            [
             0.1111111111111111,
             "#46039f"
            ],
            [
             0.2222222222222222,
             "#7201a8"
            ],
            [
             0.3333333333333333,
             "#9c179e"
            ],
            [
             0.4444444444444444,
             "#bd3786"
            ],
            [
             0.5555555555555556,
             "#d8576b"
            ],
            [
             0.6666666666666666,
             "#ed7953"
            ],
            [
             0.7777777777777778,
             "#fb9f3a"
            ],
            [
             0.8888888888888888,
             "#fdca26"
            ],
            [
             1,
             "#f0f921"
            ]
           ]
          },
          "colorway": [
           "#636efa",
           "#EF553B",
           "#00cc96",
           "#ab63fa",
           "#FFA15A",
           "#19d3f3",
           "#FF6692",
           "#B6E880",
           "#FF97FF",
           "#FECB52"
          ],
          "font": {
           "color": "#2a3f5f"
          },
          "geo": {
           "bgcolor": "white",
           "lakecolor": "white",
           "landcolor": "#E5ECF6",
           "showlakes": true,
           "showland": true,
           "subunitcolor": "white"
          },
          "hoverlabel": {
           "align": "left"
          },
          "hovermode": "closest",
          "mapbox": {
           "style": "light"
          },
          "paper_bgcolor": "white",
          "plot_bgcolor": "#E5ECF6",
          "polar": {
           "angularaxis": {
            "gridcolor": "white",
            "linecolor": "white",
            "ticks": ""
           },
           "bgcolor": "#E5ECF6",
           "radialaxis": {
            "gridcolor": "white",
            "linecolor": "white",
            "ticks": ""
           }
          },
          "scene": {
           "xaxis": {
            "backgroundcolor": "#E5ECF6",
            "gridcolor": "white",
            "gridwidth": 2,
            "linecolor": "white",
            "showbackground": true,
            "ticks": "",
            "zerolinecolor": "white"
           },
           "yaxis": {
            "backgroundcolor": "#E5ECF6",
            "gridcolor": "white",
            "gridwidth": 2,
            "linecolor": "white",
            "showbackground": true,
            "ticks": "",
            "zerolinecolor": "white"
           },
           "zaxis": {
            "backgroundcolor": "#E5ECF6",
            "gridcolor": "white",
            "gridwidth": 2,
            "linecolor": "white",
            "showbackground": true,
            "ticks": "",
            "zerolinecolor": "white"
           }
          },
          "shapedefaults": {
           "line": {
            "color": "#2a3f5f"
           }
          },
          "ternary": {
           "aaxis": {
            "gridcolor": "white",
            "linecolor": "white",
            "ticks": ""
           },
           "baxis": {
            "gridcolor": "white",
            "linecolor": "white",
            "ticks": ""
           },
           "bgcolor": "#E5ECF6",
           "caxis": {
            "gridcolor": "white",
            "linecolor": "white",
            "ticks": ""
           }
          },
          "title": {
           "x": 0.05
          },
          "xaxis": {
           "automargin": true,
           "gridcolor": "white",
           "linecolor": "white",
           "ticks": "",
           "title": {
            "standoff": 15
           },
           "zerolinecolor": "white",
           "zerolinewidth": 2
          },
          "yaxis": {
           "automargin": true,
           "gridcolor": "white",
           "linecolor": "white",
           "ticks": "",
           "title": {
            "standoff": 15
           },
           "zerolinecolor": "white",
           "zerolinewidth": 2
          }
         }
        },
        "title": {
         "text": "Performance of Published Clips"
        }
       }
      }
     },
     "metadata": {},
     "output_type": "display_data"
    }
   ],
   "source": [
    "# Build sa visual for Published clips\n",
    "data_seed = {}\n",
    "with Session(mysql_engine) as session:\n",
    "    # for url in session.query(Clip_Tracker.url).where(Clip_Tracker.published == None).order_by(Clip_Tracker.view_count.desc()).all()[:2]:\n",
    "    for title, game_name, created_date, view_count in session.query(Clip_Tracker.title,Game_Meta.game_name, Clip_Tracker.created_at,  Clip_Tracker.view_count).select_from(join(Clip_Tracker, Game_Meta)).where(Clip_Tracker.published != None).order_by(Clip_Tracker.view_count.desc()).all():\n",
    "        if bool(data_seed.get(game_name)):\n",
    "            try:\n",
    "                data_seed[game_name]['x'].append(date(created_date.year, created_date.month, created_date.day))\n",
    "                data_seed[game_name]['y'].append(view_count)\n",
    "                data_seed[game_name]['text'].append(title)\n",
    "            except:\n",
    "                data_seed[game_name]['x'] = [created_date]\n",
    "                data_seed[game_name]['y'] = [view_count]\n",
    "        else:\n",
    "            data_seed[game_name] = {'x': [], 'y': [], 'text': []}\n",
    "            data_seed[game_name]['x'].append(date(created_date.year, created_date.month, created_date.day))\n",
    "            data_seed[game_name]['y'].append(view_count)\n",
    "            data_seed[game_name]['text'].append(title)\n",
    "\n",
    "data = []\n",
    "for key, value in data_seed.items():\n",
    "    data.append(go.Bar(x=value['x'], y = value['y'], text = value['text'], name=key))\n",
    "go.Figure(data, go.Layout(barmode='stack', title={'text': \"Performance of Published Clips\"}))\n",
    "    # print(session.query(distinct(Clip_Tracker.game_id), Game_Meta.game_name).select_from(join(Clip_Tracker, Game_Meta)).where(Clip_Tracker.published == None).order_by(Clip_Tracker.view_count.desc()).all())\n",
    "        # print(url[0])\n",
    "\n"
   ]
  },
  {
   "cell_type": "code",
   "execution_count": 6,
   "metadata": {},
   "outputs": [
    {
     "data": {
      "application/vnd.plotly.v1+json": {
       "config": {
        "plotlyServerURL": "https://plot.ly"
       },
       "data": [
        {
         "name": "Fully Published",
         "orientation": "h",
         "text": [
          "I mean...",
          "Corrosive Damage Can Stack",
          "Remember to roll forward ",
          "Iconic",
          "His weakness is the Butt",
          "The Round One is Brave!",
          "Coach gun turned out to be pretty good",
          "Pessimism vs Realism? (or Optimism?)",
          "When You're The Last One Left",
          "DIARRHEA EVERYWHERE!",
          "S U F F E R",
          "Laggy Revives ",
          "Aaaand Goodnight!",
          "Check your anger Bro",
          "The SaltWon",
          "Quick Mini Boss Takedown with the Sniper Rifle",
          "Heroes Don't Die",
          "A little Friendly Fire amongst Friends?",
          "You sold the blastling?!?",
          "PSA: Remember to heal yourself before reviving!",
          "I got a tree b, can't fight the tree!",
          "I am like a ninja",
          "Evening Clash with Triangle before we try PS5 game",
          "Clipping G O L D",
          "Rrrrrrrrrespect",
          "Quick stream: Overcooked before Remnant survivor",
          "Why you want the Devastator ",
          "For all the Marbles!",
          "making good choices",
          "We are definitely not Daredevils ",
          "The Emergence of the Sh!ttyWon",
          "Demon souls first play through",
          "First time using Storm Caller ability",
          "Sage Advise on Armor Investment from lmperialEmpire",
          "Poking and running away",
          "Square assumes direct control",
          "2000 Souls Gone",
          "Square doing square things",
          "A heroic Last Stand",
          "Go away! So needy...",
          "Sorry clash fans, Overcook pivot",
          "So many things that can kill me",
          "Defending myself from my own Summons",
          "So rude",
          "magic man",
          "For the SquareOne",
          "Rolling's Supposed to Save You!!!",
          "Enemies can do this now",
          "Demon souls first play through",
          "Barrel talk",
          "Co-Op: Sufficient contributions",
          "There you go...oh sh**",
          "Back to reality",
          "Horizon mystery mission?!",
          "Lessons in Melee needed",
          "Co-Op: Big ole ThickDSavy",
          "Dying is never convenient",
          "Irony",
          "SquareWon takeover: You know who I am",
          "Triangle takeover: we are done for the day",
          "THE RED DIARRHEA!!!!",
          "Clash Royale Evenings with The Triangle - TheRoundWonBot upgrade!",
          "Irony",
          "My must watch players",
          "You gotta blend s***",
          "Spell card strategy",
          "At your doorstep",
          "Weird people on horses",
          "Finally cleared Round 1 boss lol",
          "Hard work",
          "Gotta love the warrior bow",
          "I surprise myself sometimes...",
          "Opportunity",
          "All the marbles",
          "Death and destruction",
          "Co-Op: Did you not see my greatness?",
          "Horizon mystery mission?!",
          "Sorry clash fans, Overcook pivot",
          "Quick stream: Overcooked before Remnant survivor"
         ],
         "type": "bar",
         "x": [
          279,
          73,
          61,
          53,
          51,
          46,
          41,
          39,
          33,
          28,
          28,
          25,
          23,
          21,
          19,
          19,
          19,
          19,
          18,
          17,
          17,
          16,
          15,
          15,
          15,
          15,
          15,
          15,
          14,
          13,
          13,
          13,
          13,
          13,
          13,
          12,
          12,
          12,
          11,
          11,
          11,
          11,
          11,
          11,
          10,
          10,
          10,
          10,
          10,
          10,
          10,
          10,
          10,
          9,
          9,
          9,
          9,
          9,
          8,
          8,
          8,
          8,
          8,
          7,
          7,
          7,
          7,
          7,
          7,
          6,
          6,
          6,
          6,
          5,
          5,
          5,
          2,
          1,
          1
         ],
         "y": [
          "Demon's Souls",
          "Remnant: From the Ashes",
          "Remnant: From the Ashes",
          "Demon's Souls",
          "Remnant: From the Ashes",
          "Demon's Souls",
          "Remnant: From the Ashes",
          "Remnant: From the Ashes",
          "Remnant: From the Ashes",
          "Demon's Souls",
          "Demon's Souls",
          "Remnant: From the Ashes",
          "Remnant: From the Ashes",
          "Remnant: From the Ashes",
          "Horizon Forbidden West",
          "Remnant: From the Ashes",
          "Horizon Forbidden West",
          "Remnant: From the Ashes",
          "Horizon Forbidden West",
          "Remnant: From the Ashes",
          "Horizon Forbidden West",
          "Horizon Forbidden West",
          "Clash Royale",
          "Demon's Souls",
          "It Takes Two",
          "Overcooked! All You Can Eat",
          "Remnant: From the Ashes",
          "Overcooked! All You Can Eat",
          "Demon's Souls",
          "Remnant: From the Ashes",
          "It Takes Two",
          "Demon's Souls",
          "Remnant: From the Ashes",
          "Remnant: From the Ashes",
          "Horizon Forbidden West",
          "Demon's Souls",
          "Demon's Souls",
          "Demon's Souls",
          "Remnant: From the Ashes",
          "Horizon Forbidden West",
          "Overcooked! All You Can Eat",
          "Demon's Souls",
          "Remnant: From the Ashes",
          "Horizon Forbidden West",
          "Demon's Souls",
          "Demon's Souls",
          "Demon's Souls",
          "Horizon Forbidden West",
          "Demon's Souls",
          "Clash Royale",
          "Ghost of Tsushima",
          "Clash Royale",
          "Demon's Souls",
          "Horizon Forbidden West",
          "Remnant: From the Ashes",
          "Ghost of Tsushima",
          "Call of Duty: Black Ops 3",
          "It Takes Two",
          "Horizon Forbidden West",
          "Ghost of Tsushima",
          "Demon's Souls",
          "Clash Royale",
          "It Takes Two",
          "Clash Royale",
          "Overcooked! All You Can Eat",
          "Clash Royale",
          "Horizon Forbidden West",
          "Horizon Forbidden West",
          "Remnant: From the Ashes",
          "Horizon Forbidden West",
          "Horizon Forbidden West",
          "Horizon Forbidden West",
          "Demon's Souls",
          "Overcooked! All You Can Eat",
          "Horizon Forbidden West",
          "Ghost of Tsushima",
          "Horizon Forbidden West",
          "Overcooked! All You Can Eat",
          "Overcooked! All You Can Eat"
         ]
        },
        {
         "name": "Mobile Only",
         "orientation": "h",
         "text": [
          "He got scrrred",
          "Good thing we have 5 Dragon Hearts",
          "The guys are never gonna believe this",
          "Gunslinger build in Survivor",
          "TheRoundWon Rating: 11 out of 10",
          "Damn",
          "Spicy Square People",
          "Punched it to death",
          "Don't forget the basics"
         ],
         "type": "bar",
         "x": [
          45,
          25,
          15,
          11,
          9,
          7,
          6,
          5,
          5
         ],
         "y": [
          "Remnant: From the Ashes",
          "Remnant: From the Ashes",
          "Remnant: From the Ashes",
          "Remnant: From the Ashes",
          "Remnant: From the Ashes",
          "Horizon Forbidden West",
          "Overcooked! All You Can Eat",
          "Remnant: From the Ashes",
          "Remnant: From the Ashes"
         ]
        },
        {
         "name": "Desktop Only",
         "orientation": "h",
         "text": [
          "Metaphorical",
          "Focus",
          "Co-Op: Winning by accident",
          "Homie's got some legs",
          "Hope dies last"
         ],
         "type": "bar",
         "x": [
          8,
          7,
          4,
          4,
          4
         ],
         "y": [
          "It Takes Two",
          "It Takes Two",
          "Ghost of Tsushima",
          "Ghost of Tsushima",
          "Horizon Forbidden West"
         ]
        },
        {
         "name": "Not Published",
         "orientation": "h",
         "text": [
          "The Ent Takedown Strategies & Rewards",
          "Sorry clash fans, Overcook pivot",
          "Just chaos",
          "Why are you so difficult?",
          "The weight of your sins",
          "Mini Boss battle progress!",
          "SquareWon takeover: dropping the racoon",
          "phrasing",
          "The next 4 don’t need chocolate",
          "Set on fire",
          "The Mortar is not a defense tool",
          "Boycott the traps!",
          "Is she hiding?",
          "The best weapons for Raze (star boss)",
          "Always save the Princess",
          "Remember to kill all the skulls when fighting Raze!",
          "Fireball magic",
          "Co-Op: We can do it",
          "Tough boss",
          "Why we love Remnant Survivor",
          "I don’t wanna die",
          "Elixir management",
          "Did we win there?",
          "The counter deck",
          "Boss fight: Járn Fótr",
          "Son I love you",
          "Never drop your guard",
          "Spam & spacing",
          "I poop them",
          "Moment of zen",
          "Horizon camp raid",
          "The Triangle intervenes",
          "No evidence",
          "That works fine too",
          "Space units and baiting",
          "Rice not cooking",
          "Why I am back on Demon's Souls",
          "Garbage raspberries",
          "Can we beat round 10?",
          "SquareWon takeover: the lost goat",
          "Sorry clash fans, Overcook pivot",
          "She needs a jacket bro",
          "Choosing our setups for Wrangler (the rolling guy)",
          "You sold the blasting?!? Part 2",
          "Prepare to be impressed!",
          "Not the ideal outcome",
          "If you hit x enough times",
          "Damn x3",
          "One-shotting our Teammates",
          "Good and bad",
          "Give a guy a break",
          "Good Boy is basically Hax",
          "Legends play",
          "Remember to Hotkey Oilskin Tonic for the World Boss: The Ent",
          "Have fun",
          "2nd boss and no potions",
          "He needs to walk into traps!",
          "That hurt",
          "Beetle Find in Survivor",
          "Boop boop boop",
          "Oops",
          "Behold my fury",
          "SquareWon takeover: Magic",
          "I want the pig",
          "I mean...unimaginable skill",
          "Now you know. Oh wait.",
          "Sorry clash fans, Overcook pivot",
          "A demonstration of quality teamwork",
          "114",
          "Tips on fighting Dream Eater (but we still failed)",
          "Fukitty Fuk Fuk",
          "It's a Specter?!?",
          "Only in her dreams",
          "Double e Golem counter, pointers welcome",
          "Summon Cheesing the Storm Caller",
          "Never underestimate",
          "Special event !!!",
          "Horizon boss fight?",
          "I will teach it a lesson",
          "Horizon camp raid",
          "Oh, I just killed the horse",
          "Death by fireball",
          "Not a trained actor",
          "Hello big man",
          "How to override a Tallneck",
          "We smashed it!……?",
          "Just a little bit more",
          "That was stupid",
          "Caution! Corrosive waterfalls can kill!",
          "I need to farm",
          "Side quest shenanigans",
          "I should get survivor",
          "Apparently I was using Beam Rifle?",
          "How we try to Learn and Improve",
          "Hello...",
          "No ammo",
          "Surprise success",
          "Retribution",
          "Don't die",
          "I ruined your fancy pancy",
          "How to do better",
          "Last stand of the night (Round 7 it was!)",
          "We all got problems",
          "Surviving false advertising",
          "And they said chivalry was dead?",
          "It was fun while it lasted",
          "I surprise myself sometimes",
          "New plan",
          "Co-Op: Wohoo",
          "Light at the end of the tunnel",
          "Not as planned",
          "Piggy here we come",
          "Endless supply of eggs",
          "Optimism vs Realism (or Pessimism)?",
          "No comprendo",
          "TheSquareWon strikes again",
          "10 seconds chip away",
          "The worst",
          "We all can spam",
          "Same idea",
          "I am technically the fixer",
          "Useless Poison",
          "Just unsafe",
          "Gotta pay attention",
          "Took forever to go",
          "Predicting the Pekka",
          "I am doing chicken!",
          "The most disturbing scene in the game",
          "Perhaps some day Triangle",
          "Let me save!",
          "No we cannot do this",
          "If I lose this, it will be a disgrace",
          "Aaand lightning",
          "Less talking, more winning",
          "Clash Royale Quick Stream",
          "They call me The Navigator",
          "Unwritten rules",
          "Priorities",
          "Clean victory",
          "Demon souls first play through",
          "Disastrous",
          "It was a little cheese, but it worked?",
          "back from break! can we get master?!",
          "Game developers care about partners",
          "Valor surge fail",
          "Deck investment",
          "Workbench expert",
          "Need to finish before starting Elden Ring Quick stream: GoW",
          "back from break! can we get master?!",
          "Useless Pekka & Boom",
          "We got this!",
          "The most disturbing scene in the game",
          "That poison is weak!",
          "Boss fight: Hræzlyr",
          "Horizon boss fight?",
          "Contracting the teachings",
          "Horizon boss fight?",
          "Horizon boss fight?",
          "back from break! can we get master?!",
          "Atreus skills walkthrough",
          "Boss fight: Svartáljǫfurr",
          "Horizon boss fight?",
          "Kratos is more the knowing type",
          "It's probably a trap...",
          "Misplaced hope",
          "Got your tail",
          "How to not use the Zappies",
          "Simple f ups cost you the game",
          "Cheers to competitive free upgrades",
          "Horizon boss fight?",
          "Poop Canisters",
          "Losing the pan",
          "Exhibiting rage",
          "Evaluating our options",
          "Wonderbar",
          "Sacrifice for the win",
          "Feel the desperation",
          "Dumb move recovery",
          "One bad move can lose the match",
          "The waiting tactic",
          "Defense strategy",
          "Special event !!!",
          "Pure luck",
          "30 minutes with Triangle - can we get new challenger 3 today!?",
          "Distracting the enemy",
          "Horizon camp raid",
          "Bull fight",
          "Destroying the battle",
          "Unless I miss on purpose",
          "Go go go",
          "Gotta pay attention",
          "This is gonna hurt",
          "Doing it for the stream",
          "Good freezing",
          "Don’t panic",
          "Clash Royale Evening, can we get to New Challenger 3?!",
          "back from break! can we get master?!",
          "Before he Pekka’d me",
          "Predicting the Pekka",
          "Stealing rats",
          "Feedback",
          "These casuals…",
          "One last dish",
          "Prince Healer Spam Fun",
          "Disgraceful",
          "Not perfect enough",
          "Clash Royale Quick Stream",
          "Strategising ",
          "We are so good",
          "Writing on the wall",
          "Spicy little Square person",
          "Clash Royale Quick Stream",
          "Quick stream: Overcooked before Remnant survivor",
          "Clash Royale Quick Stream",
          "Sorry clash fans, Overcook pivot",
          "Clash Royale Quick Stream",
          "Clash Royale Evening, can we get to New Challenger 3?!",
          "Parallels of the hunting Rifle, Shotgun, sniper Rifle and Coach gun",
          "back from break! can we get master?!",
          "Clash Royale Evening, can we get to New Challenger 3?!",
          "Pretty Impressive level design",
          "Passed into the afterlife",
          "some Clash?",
          "Accidental Success",
          "Going going going",
          "back from break! can we get master?!",
          "PSA: watch out for the Mantis swarms and corrosion waterfalls!",
          "Clash Royale Evening, can we get to New Challenger 3?!",
          "Log action",
          "Fireball magic",
          "Horizon mystery mission?!",
          "More Remnant survivor with the A Team",
          "Took that loss for the Team",
          "Honeycomb!",
          "Lost dish",
          "Clash Royale Quick Stream",
          "And the downsides of Good Boy",
          "Clash With Triangle",
          "Clash With Triangle",
          "Hurray for Zappies ",
          "Legends play",
          "Need to finish before starting Elden Ring Quick stream: GoW",
          "Tactics, all about tactics!",
          "Not bad",
          "Clash Royale Evening, can we get to New Challenger 3?!",
          "She’s got edges"
         ],
         "type": "bar",
         "x": [
          5,
          5,
          5,
          5,
          5,
          5,
          5,
          5,
          5,
          5,
          5,
          5,
          5,
          5,
          5,
          5,
          5,
          5,
          5,
          5,
          5,
          4,
          4,
          4,
          4,
          4,
          4,
          4,
          4,
          4,
          4,
          4,
          4,
          4,
          3,
          3,
          3,
          3,
          3,
          3,
          3,
          3,
          3,
          3,
          3,
          3,
          3,
          3,
          3,
          3,
          3,
          3,
          3,
          3,
          3,
          3,
          3,
          3,
          3,
          3,
          3,
          3,
          3,
          3,
          3,
          3,
          3,
          3,
          3,
          3,
          3,
          3,
          3,
          3,
          3,
          3,
          3,
          3,
          3,
          3,
          3,
          3,
          3,
          3,
          3,
          3,
          3,
          3,
          3,
          3,
          3,
          3,
          3,
          3,
          3,
          3,
          3,
          3,
          3,
          3,
          3,
          3,
          3,
          3,
          3,
          3,
          3,
          3,
          3,
          3,
          3,
          3,
          3,
          3,
          2,
          2,
          2,
          2,
          2,
          2,
          2,
          2,
          2,
          2,
          2,
          2,
          2,
          2,
          2,
          2,
          2,
          2,
          2,
          2,
          2,
          2,
          2,
          2,
          2,
          2,
          2,
          2,
          2,
          2,
          2,
          2,
          2,
          2,
          2,
          2,
          2,
          2,
          2,
          2,
          2,
          2,
          2,
          2,
          2,
          2,
          2,
          2,
          2,
          2,
          2,
          2,
          2,
          2,
          2,
          2,
          2,
          2,
          2,
          2,
          2,
          2,
          2,
          2,
          2,
          2,
          2,
          2,
          2,
          2,
          2,
          2,
          2,
          2,
          2,
          2,
          2,
          2,
          2,
          2,
          1,
          1,
          1,
          1,
          1,
          1,
          1,
          1,
          1,
          1,
          1,
          1,
          1,
          1,
          1,
          1,
          1,
          1,
          1,
          1,
          1,
          1,
          1,
          1,
          1,
          1,
          1,
          1,
          1,
          1,
          1,
          1,
          1,
          1,
          1,
          1,
          1,
          1,
          1,
          1,
          1,
          1,
          1,
          1,
          1,
          1,
          1,
          1,
          1,
          1,
          1,
          1
         ],
         "y": [
          "Remnant: From the Ashes",
          "Overcooked! All You Can Eat",
          "Overcooked! All You Can Eat",
          "Horizon Forbidden West",
          "Ghost of Tsushima",
          "It Takes Two",
          "Horizon Forbidden West",
          "Call of Duty: Black Ops 3",
          "Overcooked! All You Can Eat",
          "Horizon Forbidden West",
          "Clash Royale",
          "Horizon Forbidden West",
          "Horizon Forbidden West",
          "Remnant: From the Ashes",
          "Clash Royale",
          "Remnant: From the Ashes",
          "Clash Royale",
          "Clash Royale",
          "Horizon Forbidden West",
          "Remnant: From the Ashes",
          "Horizon Forbidden West",
          "Clash Royale",
          "Clash Royale",
          "Clash Royale",
          "God of War",
          "God of War",
          "Demon's Souls",
          "Clash Royale",
          "Horizon Forbidden West",
          "Demon's Souls",
          "Horizon Forbidden West",
          "Horizon Forbidden West",
          "Demon's Souls",
          "Ghost of Tsushima",
          "Clash Royale",
          "Overcooked! All You Can Eat",
          "Demon's Souls",
          "Overcooked! All You Can Eat",
          "Remnant: From the Ashes",
          "Horizon Forbidden West",
          "Overcooked! All You Can Eat",
          "Horizon Forbidden West",
          "Remnant: From the Ashes",
          "Horizon Forbidden West",
          "Overcooked! All You Can Eat",
          "Horizon Forbidden West",
          "Horizon Forbidden West",
          "Clash Royale",
          "Remnant: From the Ashes",
          "Clash Royale",
          "Demon's Souls",
          "Remnant: From the Ashes",
          "Ghost of Tsushima",
          "Remnant: From the Ashes",
          "Ghost of Tsushima",
          "Horizon Forbidden West",
          "Horizon Forbidden West",
          "Horizon Forbidden West",
          "Remnant: From the Ashes",
          "Clash Royale",
          "Horizon Forbidden West",
          "Horizon Forbidden West",
          "Horizon Forbidden West",
          "Clash Royale",
          "Clash Royale",
          "Horizon Forbidden West",
          "Overcooked! All You Can Eat",
          "It Takes Two",
          "Clash Royale",
          "Remnant: From the Ashes",
          "Horizon Forbidden West",
          "Horizon Forbidden West",
          "Horizon Forbidden West",
          "Clash Royale",
          "Remnant: From the Ashes",
          "God of War",
          "Horizon Forbidden West",
          "Horizon Forbidden West",
          "Horizon Forbidden West",
          "Horizon Forbidden West",
          "Ghost of Tsushima",
          "Clash Royale",
          "Horizon Forbidden West",
          "Demon's Souls",
          "Horizon Forbidden West",
          "Overcooked! All You Can Eat",
          "Horizon Forbidden West",
          "Ghost of Tsushima",
          "Remnant: From the Ashes",
          "Horizon Forbidden West",
          "Horizon Forbidden West",
          "Horizon Forbidden West",
          "Remnant: From the Ashes",
          "Remnant: From the Ashes",
          "Horizon Forbidden West",
          "Horizon Forbidden West",
          "Remnant: From the Ashes",
          "Overcooked! All You Can Eat",
          "Horizon Forbidden West",
          "Clash Royale",
          "Clash Royale",
          "Remnant: From the Ashes",
          "Horizon Forbidden West",
          "Horizon Forbidden West",
          "It Takes Two",
          "Horizon Forbidden West",
          "Clash Royale",
          "Horizon Forbidden West",
          "Ghost of Tsushima",
          "Horizon Forbidden West",
          "Horizon Forbidden West",
          "Clash Royale",
          "Overcooked! All You Can Eat",
          "Remnant: From the Ashes",
          "God of War",
          "God of War",
          "Clash Royale",
          "It Takes Two",
          "Clash Royale",
          "Clash Royale",
          "God of War",
          "Clash Royale",
          "God of War",
          "Clash Royale",
          "Horizon Forbidden West",
          "Clash Royale",
          "Overcooked! All You Can Eat",
          "It Takes Two",
          "Clash Royale",
          "Horizon Forbidden West",
          "Clash Royale",
          "Clash Royale",
          "Clash Royale",
          "Clash Royale",
          "Clash Royale",
          "Horizon Forbidden West",
          "Overcooked! All You Can Eat",
          "Clash Royale",
          "Clash Royale",
          "Demon's Souls",
          "Clash Royale",
          "Ghost of Tsushima",
          "Clash Royale",
          "God of War",
          "Horizon Forbidden West",
          "Clash Royale",
          "Horizon Forbidden West",
          "God of War",
          "Clash Royale",
          "Clash Royale",
          "Clash Royale",
          "It Takes Two",
          "Clash Royale",
          "God of War",
          "Horizon Forbidden West",
          "Clash Royale",
          "Horizon Forbidden West",
          "Horizon Forbidden West",
          "Clash Royale",
          "God of War",
          "God of War",
          "Horizon Forbidden West",
          "God of War",
          "Demon's Souls",
          "Horizon Forbidden West",
          "Horizon Forbidden West",
          "Clash Royale",
          "Clash Royale",
          "God of War",
          "Horizon Forbidden West",
          "Horizon Forbidden West",
          "Overcooked! All You Can Eat",
          "It Takes Two",
          "It Takes Two",
          "Clash Royale",
          "Clash Royale",
          "Clash Royale",
          "Clash Royale",
          "Clash Royale",
          "Clash Royale",
          "Clash Royale",
          "Horizon Forbidden West",
          "It Takes Two",
          "Clash Royale",
          "Clash Royale",
          "Horizon Forbidden West",
          "It Takes Two",
          "Clash Royale",
          "Horizon Forbidden West",
          "Overcooked! All You Can Eat",
          "Clash Royale",
          "Clash Royale",
          "It Takes Two",
          "Clash Royale",
          "Clash Royale",
          "Clash Royale",
          "Clash Royale",
          "Clash Royale",
          "Clash Royale",
          "Overcooked! All You Can Eat",
          "Overcooked! All You Can Eat",
          "Overcooked! All You Can Eat",
          "Overcooked! All You Can Eat",
          "Clash Royale",
          "Clash Royale",
          "Overcooked! All You Can Eat",
          "Clash Royale",
          "Overcooked! All You Can Eat",
          "Overcooked! All You Can Eat",
          "Clash Royale",
          "Overcooked! All You Can Eat",
          "Clash Royale",
          "Overcooked! All You Can Eat",
          "Clash Royale",
          "Overcooked! All You Can Eat",
          "Clash Royale",
          "Clash Royale",
          "Remnant: From the Ashes",
          "Clash Royale",
          "Clash Royale",
          "It Takes Two",
          "Overcooked! All You Can Eat",
          "Clash Royale",
          "It Takes Two",
          "Overcooked! All You Can Eat",
          "Clash Royale",
          "Remnant: From the Ashes",
          "Clash Royale",
          "Clash Royale",
          "Clash Royale",
          "Horizon Forbidden West",
          "Remnant: From the Ashes",
          "Overcooked! All You Can Eat",
          "Overcooked! All You Can Eat",
          "Overcooked! All You Can Eat",
          "Clash Royale",
          "Remnant: From the Ashes",
          "Clash Royale",
          "Clash Royale",
          "Clash Royale",
          "Ghost of Tsushima",
          "God of War",
          "Ghost of Tsushima",
          "Overcooked! All You Can Eat",
          "Clash Royale",
          "Overcooked! All You Can Eat"
         ]
        }
       ],
       "layout": {
        "barmode": "stack",
        "template": {
         "data": {
          "bar": [
           {
            "error_x": {
             "color": "#2a3f5f"
            },
            "error_y": {
             "color": "#2a3f5f"
            },
            "marker": {
             "line": {
              "color": "#E5ECF6",
              "width": 0.5
             },
             "pattern": {
              "fillmode": "overlay",
              "size": 10,
              "solidity": 0.2
             }
            },
            "type": "bar"
           }
          ],
          "barpolar": [
           {
            "marker": {
             "line": {
              "color": "#E5ECF6",
              "width": 0.5
             },
             "pattern": {
              "fillmode": "overlay",
              "size": 10,
              "solidity": 0.2
             }
            },
            "type": "barpolar"
           }
          ],
          "carpet": [
           {
            "aaxis": {
             "endlinecolor": "#2a3f5f",
             "gridcolor": "white",
             "linecolor": "white",
             "minorgridcolor": "white",
             "startlinecolor": "#2a3f5f"
            },
            "baxis": {
             "endlinecolor": "#2a3f5f",
             "gridcolor": "white",
             "linecolor": "white",
             "minorgridcolor": "white",
             "startlinecolor": "#2a3f5f"
            },
            "type": "carpet"
           }
          ],
          "choropleth": [
           {
            "colorbar": {
             "outlinewidth": 0,
             "ticks": ""
            },
            "type": "choropleth"
           }
          ],
          "contour": [
           {
            "colorbar": {
             "outlinewidth": 0,
             "ticks": ""
            },
            "colorscale": [
             [
              0,
              "#0d0887"
             ],
             [
              0.1111111111111111,
              "#46039f"
             ],
             [
              0.2222222222222222,
              "#7201a8"
             ],
             [
              0.3333333333333333,
              "#9c179e"
             ],
             [
              0.4444444444444444,
              "#bd3786"
             ],
             [
              0.5555555555555556,
              "#d8576b"
             ],
             [
              0.6666666666666666,
              "#ed7953"
             ],
             [
              0.7777777777777778,
              "#fb9f3a"
             ],
             [
              0.8888888888888888,
              "#fdca26"
             ],
             [
              1,
              "#f0f921"
             ]
            ],
            "type": "contour"
           }
          ],
          "contourcarpet": [
           {
            "colorbar": {
             "outlinewidth": 0,
             "ticks": ""
            },
            "type": "contourcarpet"
           }
          ],
          "heatmap": [
           {
            "colorbar": {
             "outlinewidth": 0,
             "ticks": ""
            },
            "colorscale": [
             [
              0,
              "#0d0887"
             ],
             [
              0.1111111111111111,
              "#46039f"
             ],
             [
              0.2222222222222222,
              "#7201a8"
             ],
             [
              0.3333333333333333,
              "#9c179e"
             ],
             [
              0.4444444444444444,
              "#bd3786"
             ],
             [
              0.5555555555555556,
              "#d8576b"
             ],
             [
              0.6666666666666666,
              "#ed7953"
             ],
             [
              0.7777777777777778,
              "#fb9f3a"
             ],
             [
              0.8888888888888888,
              "#fdca26"
             ],
             [
              1,
              "#f0f921"
             ]
            ],
            "type": "heatmap"
           }
          ],
          "heatmapgl": [
           {
            "colorbar": {
             "outlinewidth": 0,
             "ticks": ""
            },
            "colorscale": [
             [
              0,
              "#0d0887"
             ],
             [
              0.1111111111111111,
              "#46039f"
             ],
             [
              0.2222222222222222,
              "#7201a8"
             ],
             [
              0.3333333333333333,
              "#9c179e"
             ],
             [
              0.4444444444444444,
              "#bd3786"
             ],
             [
              0.5555555555555556,
              "#d8576b"
             ],
             [
              0.6666666666666666,
              "#ed7953"
             ],
             [
              0.7777777777777778,
              "#fb9f3a"
             ],
             [
              0.8888888888888888,
              "#fdca26"
             ],
             [
              1,
              "#f0f921"
             ]
            ],
            "type": "heatmapgl"
           }
          ],
          "histogram": [
           {
            "marker": {
             "pattern": {
              "fillmode": "overlay",
              "size": 10,
              "solidity": 0.2
             }
            },
            "type": "histogram"
           }
          ],
          "histogram2d": [
           {
            "colorbar": {
             "outlinewidth": 0,
             "ticks": ""
            },
            "colorscale": [
             [
              0,
              "#0d0887"
             ],
             [
              0.1111111111111111,
              "#46039f"
             ],
             [
              0.2222222222222222,
              "#7201a8"
             ],
             [
              0.3333333333333333,
              "#9c179e"
             ],
             [
              0.4444444444444444,
              "#bd3786"
             ],
             [
              0.5555555555555556,
              "#d8576b"
             ],
             [
              0.6666666666666666,
              "#ed7953"
             ],
             [
              0.7777777777777778,
              "#fb9f3a"
             ],
             [
              0.8888888888888888,
              "#fdca26"
             ],
             [
              1,
              "#f0f921"
             ]
            ],
            "type": "histogram2d"
           }
          ],
          "histogram2dcontour": [
           {
            "colorbar": {
             "outlinewidth": 0,
             "ticks": ""
            },
            "colorscale": [
             [
              0,
              "#0d0887"
             ],
             [
              0.1111111111111111,
              "#46039f"
             ],
             [
              0.2222222222222222,
              "#7201a8"
             ],
             [
              0.3333333333333333,
              "#9c179e"
             ],
             [
              0.4444444444444444,
              "#bd3786"
             ],
             [
              0.5555555555555556,
              "#d8576b"
             ],
             [
              0.6666666666666666,
              "#ed7953"
             ],
             [
              0.7777777777777778,
              "#fb9f3a"
             ],
             [
              0.8888888888888888,
              "#fdca26"
             ],
             [
              1,
              "#f0f921"
             ]
            ],
            "type": "histogram2dcontour"
           }
          ],
          "mesh3d": [
           {
            "colorbar": {
             "outlinewidth": 0,
             "ticks": ""
            },
            "type": "mesh3d"
           }
          ],
          "parcoords": [
           {
            "line": {
             "colorbar": {
              "outlinewidth": 0,
              "ticks": ""
             }
            },
            "type": "parcoords"
           }
          ],
          "pie": [
           {
            "automargin": true,
            "type": "pie"
           }
          ],
          "scatter": [
           {
            "fillpattern": {
             "fillmode": "overlay",
             "size": 10,
             "solidity": 0.2
            },
            "type": "scatter"
           }
          ],
          "scatter3d": [
           {
            "line": {
             "colorbar": {
              "outlinewidth": 0,
              "ticks": ""
             }
            },
            "marker": {
             "colorbar": {
              "outlinewidth": 0,
              "ticks": ""
             }
            },
            "type": "scatter3d"
           }
          ],
          "scattercarpet": [
           {
            "marker": {
             "colorbar": {
              "outlinewidth": 0,
              "ticks": ""
             }
            },
            "type": "scattercarpet"
           }
          ],
          "scattergeo": [
           {
            "marker": {
             "colorbar": {
              "outlinewidth": 0,
              "ticks": ""
             }
            },
            "type": "scattergeo"
           }
          ],
          "scattergl": [
           {
            "marker": {
             "colorbar": {
              "outlinewidth": 0,
              "ticks": ""
             }
            },
            "type": "scattergl"
           }
          ],
          "scattermapbox": [
           {
            "marker": {
             "colorbar": {
              "outlinewidth": 0,
              "ticks": ""
             }
            },
            "type": "scattermapbox"
           }
          ],
          "scatterpolar": [
           {
            "marker": {
             "colorbar": {
              "outlinewidth": 0,
              "ticks": ""
             }
            },
            "type": "scatterpolar"
           }
          ],
          "scatterpolargl": [
           {
            "marker": {
             "colorbar": {
              "outlinewidth": 0,
              "ticks": ""
             }
            },
            "type": "scatterpolargl"
           }
          ],
          "scatterternary": [
           {
            "marker": {
             "colorbar": {
              "outlinewidth": 0,
              "ticks": ""
             }
            },
            "type": "scatterternary"
           }
          ],
          "surface": [
           {
            "colorbar": {
             "outlinewidth": 0,
             "ticks": ""
            },
            "colorscale": [
             [
              0,
              "#0d0887"
             ],
             [
              0.1111111111111111,
              "#46039f"
             ],
             [
              0.2222222222222222,
              "#7201a8"
             ],
             [
              0.3333333333333333,
              "#9c179e"
             ],
             [
              0.4444444444444444,
              "#bd3786"
             ],
             [
              0.5555555555555556,
              "#d8576b"
             ],
             [
              0.6666666666666666,
              "#ed7953"
             ],
             [
              0.7777777777777778,
              "#fb9f3a"
             ],
             [
              0.8888888888888888,
              "#fdca26"
             ],
             [
              1,
              "#f0f921"
             ]
            ],
            "type": "surface"
           }
          ],
          "table": [
           {
            "cells": {
             "fill": {
              "color": "#EBF0F8"
             },
             "line": {
              "color": "white"
             }
            },
            "header": {
             "fill": {
              "color": "#C8D4E3"
             },
             "line": {
              "color": "white"
             }
            },
            "type": "table"
           }
          ]
         },
         "layout": {
          "annotationdefaults": {
           "arrowcolor": "#2a3f5f",
           "arrowhead": 0,
           "arrowwidth": 1
          },
          "autotypenumbers": "strict",
          "coloraxis": {
           "colorbar": {
            "outlinewidth": 0,
            "ticks": ""
           }
          },
          "colorscale": {
           "diverging": [
            [
             0,
             "#8e0152"
            ],
            [
             0.1,
             "#c51b7d"
            ],
            [
             0.2,
             "#de77ae"
            ],
            [
             0.3,
             "#f1b6da"
            ],
            [
             0.4,
             "#fde0ef"
            ],
            [
             0.5,
             "#f7f7f7"
            ],
            [
             0.6,
             "#e6f5d0"
            ],
            [
             0.7,
             "#b8e186"
            ],
            [
             0.8,
             "#7fbc41"
            ],
            [
             0.9,
             "#4d9221"
            ],
            [
             1,
             "#276419"
            ]
           ],
           "sequential": [
            [
             0,
             "#0d0887"
            ],
            [
             0.1111111111111111,
             "#46039f"
            ],
            [
             0.2222222222222222,
             "#7201a8"
            ],
            [
             0.3333333333333333,
             "#9c179e"
            ],
            [
             0.4444444444444444,
             "#bd3786"
            ],
            [
             0.5555555555555556,
             "#d8576b"
            ],
            [
             0.6666666666666666,
             "#ed7953"
            ],
            [
             0.7777777777777778,
             "#fb9f3a"
            ],
            [
             0.8888888888888888,
             "#fdca26"
            ],
            [
             1,
             "#f0f921"
            ]
           ],
           "sequentialminus": [
            [
             0,
             "#0d0887"
            ],
            [
             0.1111111111111111,
             "#46039f"
            ],
            [
             0.2222222222222222,
             "#7201a8"
            ],
            [
             0.3333333333333333,
             "#9c179e"
            ],
            [
             0.4444444444444444,
             "#bd3786"
            ],
            [
             0.5555555555555556,
             "#d8576b"
            ],
            [
             0.6666666666666666,
             "#ed7953"
            ],
            [
             0.7777777777777778,
             "#fb9f3a"
            ],
            [
             0.8888888888888888,
             "#fdca26"
            ],
            [
             1,
             "#f0f921"
            ]
           ]
          },
          "colorway": [
           "#636efa",
           "#EF553B",
           "#00cc96",
           "#ab63fa",
           "#FFA15A",
           "#19d3f3",
           "#FF6692",
           "#B6E880",
           "#FF97FF",
           "#FECB52"
          ],
          "font": {
           "color": "#2a3f5f"
          },
          "geo": {
           "bgcolor": "white",
           "lakecolor": "white",
           "landcolor": "#E5ECF6",
           "showlakes": true,
           "showland": true,
           "subunitcolor": "white"
          },
          "hoverlabel": {
           "align": "left"
          },
          "hovermode": "closest",
          "mapbox": {
           "style": "light"
          },
          "paper_bgcolor": "white",
          "plot_bgcolor": "#E5ECF6",
          "polar": {
           "angularaxis": {
            "gridcolor": "white",
            "linecolor": "white",
            "ticks": ""
           },
           "bgcolor": "#E5ECF6",
           "radialaxis": {
            "gridcolor": "white",
            "linecolor": "white",
            "ticks": ""
           }
          },
          "scene": {
           "xaxis": {
            "backgroundcolor": "#E5ECF6",
            "gridcolor": "white",
            "gridwidth": 2,
            "linecolor": "white",
            "showbackground": true,
            "ticks": "",
            "zerolinecolor": "white"
           },
           "yaxis": {
            "backgroundcolor": "#E5ECF6",
            "gridcolor": "white",
            "gridwidth": 2,
            "linecolor": "white",
            "showbackground": true,
            "ticks": "",
            "zerolinecolor": "white"
           },
           "zaxis": {
            "backgroundcolor": "#E5ECF6",
            "gridcolor": "white",
            "gridwidth": 2,
            "linecolor": "white",
            "showbackground": true,
            "ticks": "",
            "zerolinecolor": "white"
           }
          },
          "shapedefaults": {
           "line": {
            "color": "#2a3f5f"
           }
          },
          "ternary": {
           "aaxis": {
            "gridcolor": "white",
            "linecolor": "white",
            "ticks": ""
           },
           "baxis": {
            "gridcolor": "white",
            "linecolor": "white",
            "ticks": ""
           },
           "bgcolor": "#E5ECF6",
           "caxis": {
            "gridcolor": "white",
            "linecolor": "white",
            "ticks": ""
           }
          },
          "title": {
           "x": 0.05
          },
          "xaxis": {
           "automargin": true,
           "gridcolor": "white",
           "linecolor": "white",
           "ticks": "",
           "title": {
            "standoff": 15
           },
           "zerolinecolor": "white",
           "zerolinewidth": 2
          },
          "yaxis": {
           "automargin": true,
           "gridcolor": "white",
           "linecolor": "white",
           "ticks": "",
           "title": {
            "standoff": 15
           },
           "zerolinecolor": "white",
           "zerolinewidth": 2
          }
         }
        },
        "title": {
         "text": "Performance By Game and Publishing Status"
        },
        "xaxis": {
         "title": {
          "text": "View Count"
         }
        },
        "yaxis": {
         "categoryorder": "total ascending",
         "title": {
          "text": "Game Title"
         }
        }
       }
      }
     },
     "metadata": {},
     "output_type": "display_data"
    }
   ],
   "source": [
    "# Build sa visual for un-published clips\n",
    "data_seed = {}\n",
    "category_mapper = {'m': \"Mobile Only\", 'f': \"Fully Published\", \"d\": 'Desktop Only'}\n",
    "with Session(mysql_engine) as session:\n",
    "    # for url in session.query(Clip_Tracker.url).where(Clip_Tracker.published == None).order_by(Clip_Tracker.view_count.desc()).all()[:2]:\n",
    "    for title, game_name, view_count, publishing_status, created_date in session.query(Clip_Tracker.title,Game_Meta.game_name, Clip_Tracker.view_count, Clip_Tracker.published, Clip_Tracker.created_at).select_from(join(Clip_Tracker, Game_Meta)).order_by(Clip_Tracker.view_count.desc()).all():\n",
    "        if isinstance(publishing_status, PublishingStatus):\n",
    "            publshing_status_name = category_mapper[publishing_status.name]\n",
    "        else:\n",
    "            if publishing_status != None:\n",
    "                print(publishing_status)\n",
    "            publshing_status_name = \"Not Published\"\n",
    "        if bool(data_seed.get(publshing_status_name)):\n",
    "            data_seed[publshing_status_name]['y'].append(game_name)\n",
    "            data_seed[publshing_status_name]['x'].append(view_count)\n",
    "            data_seed[publshing_status_name]['text'].append(title)\n",
    "        else:\n",
    "            data_seed[publshing_status_name] = {'x': [], 'y': [], 'text': []}\n",
    "            data_seed[publshing_status_name]['x'].append(view_count)\n",
    "            data_seed[publshing_status_name]['y'].append(game_name)\n",
    "            data_seed[publshing_status_name]['text'].append(title)\n",
    "\n",
    "\n",
    "    # print(session.query(distinct(Clip_Tracker.game_id), Game_Meta.game_name).select_from(join(Clip_Tracker, Game_Meta)).where(Clip_Tracker.published == None).order_by(Clip_Tracker.view_count.desc()).all())\n",
    "        # print(url[0])\n",
    "\n",
    "data = []\n",
    "\n",
    "odered_list = ['Fully Published', \"Mobile Only\", 'Desktop Only', \"Not Published\"]\n",
    "# for key, value in data_seed.items():\n",
    "for key in odered_list:\n",
    "    category_name = key\n",
    "    data.append(go.Bar(x=data_seed[key]['x'], y = data_seed[key]['y'], text = data_seed[key]['text'], name= category_name, orientation='h'))\n",
    "go.Figure(data, go.Layout(barmode='stack', title={'text': \"Performance By Game and Publishing Status\"}, xaxis = {'title': {'text': \"View Count\"}},yaxis={'categoryorder': 'total ascending', 'title': {'text': 'Game Title'}}))"
   ]
  },
  {
   "cell_type": "code",
   "execution_count": 7,
   "metadata": {},
   "outputs": [],
   "source": [
    "with Session(mysql_engine) as session:\n",
    "    color_dict = {game_name: int(view_count) for game_name, view_count in session.query(Game_Meta.game_name,  func.sum(Clip_Tracker.view_count)).select_from(join(Game_Meta, Clip_Tracker)).group_by(Clip_Tracker.game_id).all()}"
   ]
  },
  {
   "cell_type": "code",
   "execution_count": 8,
   "metadata": {},
   "outputs": [
    {
     "data": {
      "application/vnd.plotly.v1+json": {
       "config": {
        "plotlyServerURL": "https://plot.ly"
       },
       "data": [
        {
         "marker": {
          "color": [
           695
          ],
          "coloraxis": "coloraxis"
         },
         "orientation": "h",
         "showlegend": false,
         "type": "bar",
         "x": [
          14.1837
         ],
         "xaxis": "x",
         "y": [
          "Remnant: From the Ashes"
         ],
         "yaxis": "y"
        },
        {
         "marker": {
          "color": [
           695
          ],
          "coloraxis": "coloraxis"
         },
         "orientation": "h",
         "showlegend": false,
         "type": "bar",
         "x": [
          73
         ],
         "xaxis": "x2",
         "y": [
          "Remnant: From the Ashes"
         ],
         "yaxis": "y2"
        },
        {
         "marker": {
          "color": [
           695
          ],
          "coloraxis": "coloraxis"
         },
         "orientation": "h",
         "showlegend": false,
         "type": "bar",
         "x": [
          695
         ],
         "xaxis": "x3",
         "y": [
          "Remnant: From the Ashes"
         ],
         "yaxis": "y3"
        },
        {
         "marker": {
          "color": [
           695
          ],
          "coloraxis": "coloraxis"
         },
         "orientation": "h",
         "showlegend": false,
         "type": "bar",
         "x": [
          49
         ],
         "xaxis": "x4",
         "y": [
          "Remnant: From the Ashes"
         ],
         "yaxis": "y4"
        },
        {
         "marker": {
          "color": [
           612
          ],
          "coloraxis": "coloraxis"
         },
         "orientation": "h",
         "showlegend": false,
         "type": "bar",
         "x": [
          22.6667
         ],
         "xaxis": "x",
         "y": [
          "Demon's Souls"
         ],
         "yaxis": "y"
        },
        {
         "marker": {
          "color": [
           612
          ],
          "coloraxis": "coloraxis"
         },
         "orientation": "h",
         "showlegend": false,
         "type": "bar",
         "x": [
          279
         ],
         "xaxis": "x2",
         "y": [
          "Demon's Souls"
         ],
         "yaxis": "y2"
        },
        {
         "marker": {
          "color": [
           612
          ],
          "coloraxis": "coloraxis"
         },
         "orientation": "h",
         "showlegend": false,
         "type": "bar",
         "x": [
          612
         ],
         "xaxis": "x3",
         "y": [
          "Demon's Souls"
         ],
         "yaxis": "y3"
        },
        {
         "marker": {
          "color": [
           612
          ],
          "coloraxis": "coloraxis"
         },
         "orientation": "h",
         "showlegend": false,
         "type": "bar",
         "x": [
          27
         ],
         "xaxis": "x4",
         "y": [
          "Demon's Souls"
         ],
         "yaxis": "y4"
        },
        {
         "marker": {
          "color": [
           383
          ],
          "coloraxis": "coloraxis"
         },
         "orientation": "h",
         "showlegend": false,
         "type": "bar",
         "x": [
          4.7284
         ],
         "xaxis": "x",
         "y": [
          "Horizon Forbidden West"
         ],
         "yaxis": "y"
        },
        {
         "marker": {
          "color": [
           383
          ],
          "coloraxis": "coloraxis"
         },
         "orientation": "h",
         "showlegend": false,
         "type": "bar",
         "x": [
          19
         ],
         "xaxis": "x2",
         "y": [
          "Horizon Forbidden West"
         ],
         "yaxis": "y2"
        },
        {
         "marker": {
          "color": [
           383
          ],
          "coloraxis": "coloraxis"
         },
         "orientation": "h",
         "showlegend": false,
         "type": "bar",
         "x": [
          383
         ],
         "xaxis": "x3",
         "y": [
          "Horizon Forbidden West"
         ],
         "yaxis": "y3"
        },
        {
         "marker": {
          "color": [
           383
          ],
          "coloraxis": "coloraxis"
         },
         "orientation": "h",
         "showlegend": false,
         "type": "bar",
         "x": [
          81
         ],
         "xaxis": "x4",
         "y": [
          "Horizon Forbidden West"
         ],
         "yaxis": "y4"
        },
        {
         "marker": {
          "color": [
           233
          ],
          "coloraxis": "coloraxis"
         },
         "orientation": "h",
         "showlegend": false,
         "type": "bar",
         "x": [
          2.5889
         ],
         "xaxis": "x",
         "y": [
          "Clash Royale"
         ],
         "yaxis": "y"
        },
        {
         "marker": {
          "color": [
           233
          ],
          "coloraxis": "coloraxis"
         },
         "orientation": "h",
         "showlegend": false,
         "type": "bar",
         "x": [
          15
         ],
         "xaxis": "x2",
         "y": [
          "Clash Royale"
         ],
         "yaxis": "y2"
        },
        {
         "marker": {
          "color": [
           233
          ],
          "coloraxis": "coloraxis"
         },
         "orientation": "h",
         "showlegend": false,
         "type": "bar",
         "x": [
          233
         ],
         "xaxis": "x3",
         "y": [
          "Clash Royale"
         ],
         "yaxis": "y3"
        },
        {
         "marker": {
          "color": [
           233
          ],
          "coloraxis": "coloraxis"
         },
         "orientation": "h",
         "showlegend": false,
         "type": "bar",
         "x": [
          90
         ],
         "xaxis": "x4",
         "y": [
          "Clash Royale"
         ],
         "yaxis": "y4"
        },
        {
         "marker": {
          "color": [
           125
          ],
          "coloraxis": "coloraxis"
         },
         "orientation": "h",
         "showlegend": false,
         "type": "bar",
         "x": [
          3.125
         ],
         "xaxis": "x",
         "y": [
          "Overcooked! All You Can Eat"
         ],
         "yaxis": "y"
        },
        {
         "marker": {
          "color": [
           125
          ],
          "coloraxis": "coloraxis"
         },
         "orientation": "h",
         "showlegend": false,
         "type": "bar",
         "x": [
          15
         ],
         "xaxis": "x2",
         "y": [
          "Overcooked! All You Can Eat"
         ],
         "yaxis": "y2"
        },
        {
         "marker": {
          "color": [
           125
          ],
          "coloraxis": "coloraxis"
         },
         "orientation": "h",
         "showlegend": false,
         "type": "bar",
         "x": [
          125
         ],
         "xaxis": "x3",
         "y": [
          "Overcooked! All You Can Eat"
         ],
         "yaxis": "y3"
        },
        {
         "marker": {
          "color": [
           125
          ],
          "coloraxis": "coloraxis"
         },
         "orientation": "h",
         "showlegend": false,
         "type": "bar",
         "x": [
          40
         ],
         "xaxis": "x4",
         "y": [
          "Overcooked! All You Can Eat"
         ],
         "yaxis": "y4"
        },
        {
         "marker": {
          "color": [
           89
          ],
          "coloraxis": "coloraxis"
         },
         "orientation": "h",
         "showlegend": false,
         "type": "bar",
         "x": [
          4.6842
         ],
         "xaxis": "x",
         "y": [
          "It Takes Two"
         ],
         "yaxis": "y"
        },
        {
         "marker": {
          "color": [
           89
          ],
          "coloraxis": "coloraxis"
         },
         "orientation": "h",
         "showlegend": false,
         "type": "bar",
         "x": [
          15
         ],
         "xaxis": "x2",
         "y": [
          "It Takes Two"
         ],
         "yaxis": "y2"
        },
        {
         "marker": {
          "color": [
           89
          ],
          "coloraxis": "coloraxis"
         },
         "orientation": "h",
         "showlegend": false,
         "type": "bar",
         "x": [
          89
         ],
         "xaxis": "x3",
         "y": [
          "It Takes Two"
         ],
         "yaxis": "y3"
        },
        {
         "marker": {
          "color": [
           89
          ],
          "coloraxis": "coloraxis"
         },
         "orientation": "h",
         "showlegend": false,
         "type": "bar",
         "x": [
          19
         ],
         "xaxis": "x4",
         "y": [
          "It Takes Two"
         ],
         "yaxis": "y4"
        },
        {
         "marker": {
          "color": [
           68
          ],
          "coloraxis": "coloraxis"
         },
         "orientation": "h",
         "showlegend": false,
         "type": "bar",
         "x": [
          4.25
         ],
         "xaxis": "x",
         "y": [
          "Ghost of Tsushima"
         ],
         "yaxis": "y"
        },
        {
         "marker": {
          "color": [
           68
          ],
          "coloraxis": "coloraxis"
         },
         "orientation": "h",
         "showlegend": false,
         "type": "bar",
         "x": [
          10
         ],
         "xaxis": "x2",
         "y": [
          "Ghost of Tsushima"
         ],
         "yaxis": "y2"
        },
        {
         "marker": {
          "color": [
           68
          ],
          "coloraxis": "coloraxis"
         },
         "orientation": "h",
         "showlegend": false,
         "type": "bar",
         "x": [
          68
         ],
         "xaxis": "x3",
         "y": [
          "Ghost of Tsushima"
         ],
         "yaxis": "y3"
        },
        {
         "marker": {
          "color": [
           68
          ],
          "coloraxis": "coloraxis"
         },
         "orientation": "h",
         "showlegend": false,
         "type": "bar",
         "x": [
          16
         ],
         "xaxis": "x4",
         "y": [
          "Ghost of Tsushima"
         ],
         "yaxis": "y4"
        },
        {
         "marker": {
          "color": [
           34
          ],
          "coloraxis": "coloraxis"
         },
         "orientation": "h",
         "showlegend": false,
         "type": "bar",
         "x": [
          2.2667
         ],
         "xaxis": "x",
         "y": [
          "God of War"
         ],
         "yaxis": "y"
        },
        {
         "marker": {
          "color": [
           34
          ],
          "coloraxis": "coloraxis"
         },
         "orientation": "h",
         "showlegend": false,
         "type": "bar",
         "x": [
          4
         ],
         "xaxis": "x2",
         "y": [
          "God of War"
         ],
         "yaxis": "y2"
        },
        {
         "marker": {
          "color": [
           34
          ],
          "coloraxis": "coloraxis"
         },
         "orientation": "h",
         "showlegend": false,
         "type": "bar",
         "x": [
          34
         ],
         "xaxis": "x3",
         "y": [
          "God of War"
         ],
         "yaxis": "y3"
        },
        {
         "marker": {
          "color": [
           34
          ],
          "coloraxis": "coloraxis"
         },
         "orientation": "h",
         "showlegend": false,
         "type": "bar",
         "x": [
          15
         ],
         "xaxis": "x4",
         "y": [
          "God of War"
         ],
         "yaxis": "y4"
        },
        {
         "marker": {
          "color": [
           14
          ],
          "coloraxis": "coloraxis"
         },
         "orientation": "h",
         "showlegend": false,
         "type": "bar",
         "x": [
          7
         ],
         "xaxis": "x",
         "y": [
          "Call of Duty: Black Ops 3"
         ],
         "yaxis": "y"
        },
        {
         "marker": {
          "color": [
           14
          ],
          "coloraxis": "coloraxis"
         },
         "orientation": "h",
         "showlegend": false,
         "type": "bar",
         "x": [
          9
         ],
         "xaxis": "x2",
         "y": [
          "Call of Duty: Black Ops 3"
         ],
         "yaxis": "y2"
        },
        {
         "marker": {
          "color": [
           14
          ],
          "coloraxis": "coloraxis"
         },
         "orientation": "h",
         "showlegend": false,
         "type": "bar",
         "x": [
          14
         ],
         "xaxis": "x3",
         "y": [
          "Call of Duty: Black Ops 3"
         ],
         "yaxis": "y3"
        },
        {
         "marker": {
          "color": [
           14
          ],
          "coloraxis": "coloraxis"
         },
         "orientation": "h",
         "showlegend": false,
         "type": "bar",
         "x": [
          2
         ],
         "xaxis": "x4",
         "y": [
          "Call of Duty: Black Ops 3"
         ],
         "yaxis": "y4"
        }
       ],
       "layout": {
        "annotations": [
         {
          "font": {
           "size": 16
          },
          "showarrow": false,
          "text": "Average Views per Clip",
          "x": 0.10625,
          "xanchor": "center",
          "xref": "paper",
          "y": 1,
          "yanchor": "bottom",
          "yref": "paper"
         },
         {
          "font": {
           "size": 16
          },
          "showarrow": false,
          "text": "Max Views for Clip",
          "x": 0.36875,
          "xanchor": "center",
          "xref": "paper",
          "y": 1,
          "yanchor": "bottom",
          "yref": "paper"
         },
         {
          "font": {
           "size": 16
          },
          "showarrow": false,
          "text": "Total Views of Clips",
          "x": 0.6312500000000001,
          "xanchor": "center",
          "xref": "paper",
          "y": 1,
          "yanchor": "bottom",
          "yref": "paper"
         },
         {
          "font": {
           "size": 16
          },
          "showarrow": false,
          "text": "Number of Clips",
          "x": 0.89375,
          "xanchor": "center",
          "xref": "paper",
          "y": 1,
          "yanchor": "bottom",
          "yref": "paper"
         }
        ],
        "barmode": "group",
        "template": {
         "data": {
          "bar": [
           {
            "error_x": {
             "color": "#2a3f5f"
            },
            "error_y": {
             "color": "#2a3f5f"
            },
            "marker": {
             "line": {
              "color": "#E5ECF6",
              "width": 0.5
             },
             "pattern": {
              "fillmode": "overlay",
              "size": 10,
              "solidity": 0.2
             }
            },
            "type": "bar"
           }
          ],
          "barpolar": [
           {
            "marker": {
             "line": {
              "color": "#E5ECF6",
              "width": 0.5
             },
             "pattern": {
              "fillmode": "overlay",
              "size": 10,
              "solidity": 0.2
             }
            },
            "type": "barpolar"
           }
          ],
          "carpet": [
           {
            "aaxis": {
             "endlinecolor": "#2a3f5f",
             "gridcolor": "white",
             "linecolor": "white",
             "minorgridcolor": "white",
             "startlinecolor": "#2a3f5f"
            },
            "baxis": {
             "endlinecolor": "#2a3f5f",
             "gridcolor": "white",
             "linecolor": "white",
             "minorgridcolor": "white",
             "startlinecolor": "#2a3f5f"
            },
            "type": "carpet"
           }
          ],
          "choropleth": [
           {
            "colorbar": {
             "outlinewidth": 0,
             "ticks": ""
            },
            "type": "choropleth"
           }
          ],
          "contour": [
           {
            "colorbar": {
             "outlinewidth": 0,
             "ticks": ""
            },
            "colorscale": [
             [
              0,
              "#0d0887"
             ],
             [
              0.1111111111111111,
              "#46039f"
             ],
             [
              0.2222222222222222,
              "#7201a8"
             ],
             [
              0.3333333333333333,
              "#9c179e"
             ],
             [
              0.4444444444444444,
              "#bd3786"
             ],
             [
              0.5555555555555556,
              "#d8576b"
             ],
             [
              0.6666666666666666,
              "#ed7953"
             ],
             [
              0.7777777777777778,
              "#fb9f3a"
             ],
             [
              0.8888888888888888,
              "#fdca26"
             ],
             [
              1,
              "#f0f921"
             ]
            ],
            "type": "contour"
           }
          ],
          "contourcarpet": [
           {
            "colorbar": {
             "outlinewidth": 0,
             "ticks": ""
            },
            "type": "contourcarpet"
           }
          ],
          "heatmap": [
           {
            "colorbar": {
             "outlinewidth": 0,
             "ticks": ""
            },
            "colorscale": [
             [
              0,
              "#0d0887"
             ],
             [
              0.1111111111111111,
              "#46039f"
             ],
             [
              0.2222222222222222,
              "#7201a8"
             ],
             [
              0.3333333333333333,
              "#9c179e"
             ],
             [
              0.4444444444444444,
              "#bd3786"
             ],
             [
              0.5555555555555556,
              "#d8576b"
             ],
             [
              0.6666666666666666,
              "#ed7953"
             ],
             [
              0.7777777777777778,
              "#fb9f3a"
             ],
             [
              0.8888888888888888,
              "#fdca26"
             ],
             [
              1,
              "#f0f921"
             ]
            ],
            "type": "heatmap"
           }
          ],
          "heatmapgl": [
           {
            "colorbar": {
             "outlinewidth": 0,
             "ticks": ""
            },
            "colorscale": [
             [
              0,
              "#0d0887"
             ],
             [
              0.1111111111111111,
              "#46039f"
             ],
             [
              0.2222222222222222,
              "#7201a8"
             ],
             [
              0.3333333333333333,
              "#9c179e"
             ],
             [
              0.4444444444444444,
              "#bd3786"
             ],
             [
              0.5555555555555556,
              "#d8576b"
             ],
             [
              0.6666666666666666,
              "#ed7953"
             ],
             [
              0.7777777777777778,
              "#fb9f3a"
             ],
             [
              0.8888888888888888,
              "#fdca26"
             ],
             [
              1,
              "#f0f921"
             ]
            ],
            "type": "heatmapgl"
           }
          ],
          "histogram": [
           {
            "marker": {
             "pattern": {
              "fillmode": "overlay",
              "size": 10,
              "solidity": 0.2
             }
            },
            "type": "histogram"
           }
          ],
          "histogram2d": [
           {
            "colorbar": {
             "outlinewidth": 0,
             "ticks": ""
            },
            "colorscale": [
             [
              0,
              "#0d0887"
             ],
             [
              0.1111111111111111,
              "#46039f"
             ],
             [
              0.2222222222222222,
              "#7201a8"
             ],
             [
              0.3333333333333333,
              "#9c179e"
             ],
             [
              0.4444444444444444,
              "#bd3786"
             ],
             [
              0.5555555555555556,
              "#d8576b"
             ],
             [
              0.6666666666666666,
              "#ed7953"
             ],
             [
              0.7777777777777778,
              "#fb9f3a"
             ],
             [
              0.8888888888888888,
              "#fdca26"
             ],
             [
              1,
              "#f0f921"
             ]
            ],
            "type": "histogram2d"
           }
          ],
          "histogram2dcontour": [
           {
            "colorbar": {
             "outlinewidth": 0,
             "ticks": ""
            },
            "colorscale": [
             [
              0,
              "#0d0887"
             ],
             [
              0.1111111111111111,
              "#46039f"
             ],
             [
              0.2222222222222222,
              "#7201a8"
             ],
             [
              0.3333333333333333,
              "#9c179e"
             ],
             [
              0.4444444444444444,
              "#bd3786"
             ],
             [
              0.5555555555555556,
              "#d8576b"
             ],
             [
              0.6666666666666666,
              "#ed7953"
             ],
             [
              0.7777777777777778,
              "#fb9f3a"
             ],
             [
              0.8888888888888888,
              "#fdca26"
             ],
             [
              1,
              "#f0f921"
             ]
            ],
            "type": "histogram2dcontour"
           }
          ],
          "mesh3d": [
           {
            "colorbar": {
             "outlinewidth": 0,
             "ticks": ""
            },
            "type": "mesh3d"
           }
          ],
          "parcoords": [
           {
            "line": {
             "colorbar": {
              "outlinewidth": 0,
              "ticks": ""
             }
            },
            "type": "parcoords"
           }
          ],
          "pie": [
           {
            "automargin": true,
            "type": "pie"
           }
          ],
          "scatter": [
           {
            "fillpattern": {
             "fillmode": "overlay",
             "size": 10,
             "solidity": 0.2
            },
            "type": "scatter"
           }
          ],
          "scatter3d": [
           {
            "line": {
             "colorbar": {
              "outlinewidth": 0,
              "ticks": ""
             }
            },
            "marker": {
             "colorbar": {
              "outlinewidth": 0,
              "ticks": ""
             }
            },
            "type": "scatter3d"
           }
          ],
          "scattercarpet": [
           {
            "marker": {
             "colorbar": {
              "outlinewidth": 0,
              "ticks": ""
             }
            },
            "type": "scattercarpet"
           }
          ],
          "scattergeo": [
           {
            "marker": {
             "colorbar": {
              "outlinewidth": 0,
              "ticks": ""
             }
            },
            "type": "scattergeo"
           }
          ],
          "scattergl": [
           {
            "marker": {
             "colorbar": {
              "outlinewidth": 0,
              "ticks": ""
             }
            },
            "type": "scattergl"
           }
          ],
          "scattermapbox": [
           {
            "marker": {
             "colorbar": {
              "outlinewidth": 0,
              "ticks": ""
             }
            },
            "type": "scattermapbox"
           }
          ],
          "scatterpolar": [
           {
            "marker": {
             "colorbar": {
              "outlinewidth": 0,
              "ticks": ""
             }
            },
            "type": "scatterpolar"
           }
          ],
          "scatterpolargl": [
           {
            "marker": {
             "colorbar": {
              "outlinewidth": 0,
              "ticks": ""
             }
            },
            "type": "scatterpolargl"
           }
          ],
          "scatterternary": [
           {
            "marker": {
             "colorbar": {
              "outlinewidth": 0,
              "ticks": ""
             }
            },
            "type": "scatterternary"
           }
          ],
          "surface": [
           {
            "colorbar": {
             "outlinewidth": 0,
             "ticks": ""
            },
            "colorscale": [
             [
              0,
              "#0d0887"
             ],
             [
              0.1111111111111111,
              "#46039f"
             ],
             [
              0.2222222222222222,
              "#7201a8"
             ],
             [
              0.3333333333333333,
              "#9c179e"
             ],
             [
              0.4444444444444444,
              "#bd3786"
             ],
             [
              0.5555555555555556,
              "#d8576b"
             ],
             [
              0.6666666666666666,
              "#ed7953"
             ],
             [
              0.7777777777777778,
              "#fb9f3a"
             ],
             [
              0.8888888888888888,
              "#fdca26"
             ],
             [
              1,
              "#f0f921"
             ]
            ],
            "type": "surface"
           }
          ],
          "table": [
           {
            "cells": {
             "fill": {
              "color": "#EBF0F8"
             },
             "line": {
              "color": "white"
             }
            },
            "header": {
             "fill": {
              "color": "#C8D4E3"
             },
             "line": {
              "color": "white"
             }
            },
            "type": "table"
           }
          ]
         },
         "layout": {
          "annotationdefaults": {
           "arrowcolor": "#2a3f5f",
           "arrowhead": 0,
           "arrowwidth": 1
          },
          "autotypenumbers": "strict",
          "coloraxis": {
           "colorbar": {
            "outlinewidth": 0,
            "ticks": ""
           }
          },
          "colorscale": {
           "diverging": [
            [
             0,
             "#8e0152"
            ],
            [
             0.1,
             "#c51b7d"
            ],
            [
             0.2,
             "#de77ae"
            ],
            [
             0.3,
             "#f1b6da"
            ],
            [
             0.4,
             "#fde0ef"
            ],
            [
             0.5,
             "#f7f7f7"
            ],
            [
             0.6,
             "#e6f5d0"
            ],
            [
             0.7,
             "#b8e186"
            ],
            [
             0.8,
             "#7fbc41"
            ],
            [
             0.9,
             "#4d9221"
            ],
            [
             1,
             "#276419"
            ]
           ],
           "sequential": [
            [
             0,
             "#0d0887"
            ],
            [
             0.1111111111111111,
             "#46039f"
            ],
            [
             0.2222222222222222,
             "#7201a8"
            ],
            [
             0.3333333333333333,
             "#9c179e"
            ],
            [
             0.4444444444444444,
             "#bd3786"
            ],
            [
             0.5555555555555556,
             "#d8576b"
            ],
            [
             0.6666666666666666,
             "#ed7953"
            ],
            [
             0.7777777777777778,
             "#fb9f3a"
            ],
            [
             0.8888888888888888,
             "#fdca26"
            ],
            [
             1,
             "#f0f921"
            ]
           ],
           "sequentialminus": [
            [
             0,
             "#0d0887"
            ],
            [
             0.1111111111111111,
             "#46039f"
            ],
            [
             0.2222222222222222,
             "#7201a8"
            ],
            [
             0.3333333333333333,
             "#9c179e"
            ],
            [
             0.4444444444444444,
             "#bd3786"
            ],
            [
             0.5555555555555556,
             "#d8576b"
            ],
            [
             0.6666666666666666,
             "#ed7953"
            ],
            [
             0.7777777777777778,
             "#fb9f3a"
            ],
            [
             0.8888888888888888,
             "#fdca26"
            ],
            [
             1,
             "#f0f921"
            ]
           ]
          },
          "colorway": [
           "#636efa",
           "#EF553B",
           "#00cc96",
           "#ab63fa",
           "#FFA15A",
           "#19d3f3",
           "#FF6692",
           "#B6E880",
           "#FF97FF",
           "#FECB52"
          ],
          "font": {
           "color": "#2a3f5f"
          },
          "geo": {
           "bgcolor": "white",
           "lakecolor": "white",
           "landcolor": "#E5ECF6",
           "showlakes": true,
           "showland": true,
           "subunitcolor": "white"
          },
          "hoverlabel": {
           "align": "left"
          },
          "hovermode": "closest",
          "mapbox": {
           "style": "light"
          },
          "paper_bgcolor": "white",
          "plot_bgcolor": "#E5ECF6",
          "polar": {
           "angularaxis": {
            "gridcolor": "white",
            "linecolor": "white",
            "ticks": ""
           },
           "bgcolor": "#E5ECF6",
           "radialaxis": {
            "gridcolor": "white",
            "linecolor": "white",
            "ticks": ""
           }
          },
          "scene": {
           "xaxis": {
            "backgroundcolor": "#E5ECF6",
            "gridcolor": "white",
            "gridwidth": 2,
            "linecolor": "white",
            "showbackground": true,
            "ticks": "",
            "zerolinecolor": "white"
           },
           "yaxis": {
            "backgroundcolor": "#E5ECF6",
            "gridcolor": "white",
            "gridwidth": 2,
            "linecolor": "white",
            "showbackground": true,
            "ticks": "",
            "zerolinecolor": "white"
           },
           "zaxis": {
            "backgroundcolor": "#E5ECF6",
            "gridcolor": "white",
            "gridwidth": 2,
            "linecolor": "white",
            "showbackground": true,
            "ticks": "",
            "zerolinecolor": "white"
           }
          },
          "shapedefaults": {
           "line": {
            "color": "#2a3f5f"
           }
          },
          "ternary": {
           "aaxis": {
            "gridcolor": "white",
            "linecolor": "white",
            "ticks": ""
           },
           "baxis": {
            "gridcolor": "white",
            "linecolor": "white",
            "ticks": ""
           },
           "bgcolor": "#E5ECF6",
           "caxis": {
            "gridcolor": "white",
            "linecolor": "white",
            "ticks": ""
           }
          },
          "title": {
           "x": 0.05
          },
          "xaxis": {
           "automargin": true,
           "gridcolor": "white",
           "linecolor": "white",
           "ticks": "",
           "title": {
            "standoff": 15
           },
           "zerolinecolor": "white",
           "zerolinewidth": 2
          },
          "yaxis": {
           "automargin": true,
           "gridcolor": "white",
           "linecolor": "white",
           "ticks": "",
           "title": {
            "standoff": 15
           },
           "zerolinecolor": "white",
           "zerolinewidth": 2
          }
         }
        },
        "title": {
         "text": "Breaking each game by different statistics"
        },
        "xaxis": {
         "anchor": "y",
         "domain": [
          0,
          0.2125
         ]
        },
        "xaxis2": {
         "anchor": "y2",
         "domain": [
          0.2625,
          0.475
         ]
        },
        "xaxis3": {
         "anchor": "y3",
         "domain": [
          0.525,
          0.7375
         ]
        },
        "xaxis4": {
         "anchor": "y4",
         "domain": [
          0.7875,
          1
         ]
        },
        "yaxis": {
         "anchor": "x",
         "categoryorder": "category descending",
         "domain": [
          0,
          1
         ],
         "type": "category"
        },
        "yaxis2": {
         "anchor": "x2",
         "domain": [
          0,
          1
         ],
         "matches": "y",
         "showticklabels": false,
         "type": "category"
        },
        "yaxis3": {
         "anchor": "x3",
         "domain": [
          0,
          1
         ],
         "matches": "y",
         "showticklabels": false,
         "type": "category"
        },
        "yaxis4": {
         "anchor": "x4",
         "domain": [
          0,
          1
         ],
         "matches": "y",
         "showticklabels": false,
         "type": "category"
        }
       }
      }
     },
     "metadata": {},
     "output_type": "display_data"
    }
   ],
   "source": [
    "data = []\n",
    "\n",
    "fig = make_subplots(rows=1, cols = 4, subplot_titles = (\"Average Views per Clip\", \"Max Views for Clip\", \"Total Views of Clips\", \"Number of Clips\"), shared_yaxes=True)\n",
    "with Session(mysql_engine) as session:\n",
    "    # for title, game_name, view_count, publishing_status in session.query(Clip_Tracker.title,Game_Meta.game_name, Clip_Tracker.view_count, Clip_Tracker.published).select_from(join(Clip_Tracker, Game_Meta)).order_by(Clip_Tracker.view_count.desc()).all():\n",
    "    cnt = 0\n",
    "    for game_name, avg_cnt, max_cnt, sum_cnt, video_cnt in session.query(Game_Meta.game_name, func.avg(Clip_Tracker.view_count), func.max(Clip_Tracker.view_count), func.sum(Clip_Tracker.view_count), func.count(Clip_Tracker.title)).select_from(join(Game_Meta, Clip_Tracker)).group_by(Clip_Tracker.game_id).order_by(func.sum(Clip_Tracker.view_count).desc()).all():\n",
    "        fig.add_trace(go.Bar(x=[avg_cnt], y = [game_name], orientation='h', showlegend=False, marker= dict(color = [color_dict[game_name]], coloraxis='coloraxis')),row=1, col=1)\n",
    "        fig.add_trace(go.Bar(x=[max_cnt], y = [game_name], orientation='h', showlegend=False, marker= dict(color = [color_dict[game_name]], coloraxis='coloraxis')),row = 1, col=2)\n",
    "        fig.add_trace(go.Bar(x=[sum_cnt], y = [game_name], orientation='h', showlegend=False, marker= dict(color = [color_dict[game_name]], coloraxis='coloraxis')), row = 1, col=3)\n",
    "        fig.add_trace(go.Bar(x=[video_cnt], y = [game_name], orientation='h', showlegend=False, marker= dict(color = [color_dict[game_name]], coloraxis='coloraxis')), row=1,  col=4)\n",
    "        # # data.append(go.Bar(x=[avg_cnt], y = [game_name]))\n",
    "        cnt +=1\n",
    "fig.update_yaxes(type='category')\n",
    "fig.update_layout(barmode='group', yaxis={'categoryorder': 'category descending'}, title={'text': \"Breaking each game by different statistics\"})\n",
    "fig.show()\n",
    "        "
   ]
  },
  {
   "cell_type": "code",
   "execution_count": 13,
   "metadata": {},
   "outputs": [],
   "source": [
    "playlists = service.playlists().list(part='id,snippet,status', channelId=os.environ['YT_CHANNEL_ID']).execute()\n",
    "nextPage = playlists['nextPageToken']\n",
    "while nextPage != None:\n",
    "    seedPlaylist = service.playlists().list(part='id,snippet,status', channelId=os.environ['YT_CHANNEL_ID'], pageToken = nextPage).execute()\n",
    "    playlists['items'] = playlists['items'] + seedPlaylist['items']\n",
    "    if bool(seedPlaylist.get('nextPageToken')):\n",
    "        nextPage = seedPlaylist['nextPageToken']\n",
    "    else:\n",
    "        nextPage = None"
   ]
  },
  {
   "cell_type": "code",
   "execution_count": 28,
   "metadata": {},
   "outputs": [
    {
     "name": "stdout",
     "output_type": "stream",
     "text": [
      "client_secrets_desktop.json-youtubeAnalytics-v2-(['https://www.googleapis.com/auth/yt-analytics.readonly'],)\n",
      "['https://www.googleapis.com/auth/yt-analytics.readonly']\n",
      "Please visit this URL to authorize this application: https://accounts.google.com/o/oauth2/auth?response_type=code&client_id=161873373944-h9262f6bmguqaisp3m6o8244ainnai6k.apps.googleusercontent.com&redirect_uri=http%3A%2F%2Flocalhost%3A8080%2F&scope=https%3A%2F%2Fwww.googleapis.com%2Fauth%2Fyt-analytics.readonly&state=4CU0RZV5aKmKbcwdXJDJLAbxah9ELq&access_type=offline\n",
      "youtubeAnalytics service created successfully\n"
     ]
    }
   ],
   "source": [
    "SCOPES = ['https://www.googleapis.com/auth/yt-analytics.readonly']\n",
    "\n",
    "API_SERVICE_NAME = 'youtubeAnalytics'\n",
    "API_VERSION = 'v2'\n",
    "CLIENT_SECRETS_FILE = 'client_secrets_desktop.json'\n",
    "# def get_service():\n",
    "#   credentials = None\n",
    "\n",
    "#   pickle_file = f'token_{API_SERVICE_NAME}_{API_VERSION}.pickle'\n",
    "#   # print(pickle_file)\n",
    "\n",
    "#   if os.path.exists(pickle_file):\n",
    "#     with open(pickle_file, 'rb') as token:\n",
    "#         credentials = pickle.load(token)\n",
    "\n",
    "#   if not credentials or not credentials.valid:\n",
    "#     if credentials and credentials.expired and credentials.refresh_token:\n",
    "#         credentials.refresh(Request())\n",
    "#     else:\n",
    "#       flow = InstalledAppFlow.from_client_secrets_file(CLIENT_SECRETS_FILE, SCOPES)\n",
    "#       credentials = flow.run_console()\n",
    "#       with open(pickle_file, 'wb') as token:\n",
    "#           pickle.dump(cred, token)\n",
    "# return build(API_SERVICE_NAME, API_VERSION, credentials = credentials)\n",
    "\n",
    "def execute_api_request(client_library_function, **kwargs):\n",
    "  response = client_library_function(\n",
    "    **kwargs\n",
    "  ).execute()\n",
    "\n",
    "  return response\n",
    "youtubeAnalytics = Create_Service(CLIENT_SECRETS_FILE, API_SERVICE_NAME, API_VERSION, SCOPES)\n",
    "# if __name__ == '__main__':\n",
    "#   # Disable OAuthlib's HTTPs verification when running locally.\n",
    "#   # *DO NOT* leave this option enabled when running in production.\n",
    "#   os.environ['OAUTHLIB_INSECURE_TRANSPORT'] = '1'\n",
    "\n",
    "#   youtubeAnalytics = get_service()"
   ]
  },
  {
   "cell_type": "code",
   "execution_count": null,
   "metadata": {},
   "outputs": [],
   "source": []
  },
  {
   "cell_type": "code",
   "execution_count": 10,
   "metadata": {},
   "outputs": [],
   "source": [
    "video_metrics = execute_api_request(\n",
    "      youtubeAnalytics.reports().query,\n",
    "      ids='channel==MINE',\n",
    "      startDate='2022-03-01',\n",
    "      endDate='2022-07-12',\n",
    "      maxResults = 140,\n",
    "      metrics='estimatedMinutesWatched,views,likes,dislikes,subscribersGained,subscribersLost',\n",
    "      dimensions='video',\n",
    "      sort='-estimatedMinutesWatched'\n",
    "  )"
   ]
  },
  {
   "cell_type": "code",
   "execution_count": null,
   "metadata": {},
   "outputs": [],
   "source": []
  },
  {
   "cell_type": "code",
   "execution_count": 11,
   "metadata": {},
   "outputs": [],
   "source": [
    "video_seed = {'video_id': [], 'style': [],'game_name': [], 'title': [], 'creator': [], 'view_count': []}\n",
    "with Session(mysql_engine) as session:\n",
    "    for video_id, style, game_name,  title, creator,  view_count in session.query(Video_yt.id, Video_yt.style, Game_Meta.game_name, Clip_Tracker.title, Clip_Tracker.creator_name, Clip_Tracker.view_count ).select_from(join(join(Clip_Tracker, Game_Meta), Video_yt)).where(Clip_Tracker.published != None).all():\n",
    "        video_seed['video_id'].append(video_id)\n",
    "        video_seed['style'].append(style.name)\n",
    "        video_seed['game_name'].append(game_name)\n",
    "        video_seed['title'].append(title)\n",
    "        video_seed['creator'].append(creator)\n",
    "        video_seed['view_count'].append(view_count)\n"
   ]
  },
  {
   "cell_type": "code",
   "execution_count": 12,
   "metadata": {},
   "outputs": [],
   "source": [
    "clip_metrics_df = pd.DataFrame(video_metrics['rows'], columns=['video_id', 'estimatedMinutesWatched', 'views', 'likes', 'dislikes', 'subscribersGained', 'subscribersLost']).set_index('video_id').join(pd.DataFrame(video_seed).set_index('video_id'))"
   ]
  },
  {
   "cell_type": "code",
   "execution_count": null,
   "metadata": {},
   "outputs": [],
   "source": [
    "titles"
   ]
  },
  {
   "cell_type": "code",
   "execution_count": 13,
   "metadata": {},
   "outputs": [
    {
     "data": {
      "application/vnd.plotly.v1+json": {
       "config": {
        "plotlyServerURL": "https://plot.ly"
       },
       "data": [
        {
         "marker": {
          "color": [
           51
          ],
          "coloraxis": "coloraxis"
         },
         "name": "His weakness is the Butt",
         "orientation": "h",
         "text": [
          "His weakness is the Butt"
         ],
         "type": "bar",
         "x": [
          51
         ],
         "xaxis": "x",
         "y": [
          "Remnant: From the Ashes"
         ],
         "yaxis": "y"
        },
        {
         "marker": {
          "color": [
           51
          ],
          "coloraxis": "coloraxis"
         },
         "name": "His weakness is the Butt",
         "orientation": "h",
         "text": [
          "His weakness is the Butt"
         ],
         "type": "bar",
         "x": [
          511
         ],
         "xaxis": "x2",
         "y": [
          "Remnant: From the Ashes"
         ],
         "yaxis": "y2"
        },
        {
         "marker": {
          "color": [
           53
          ],
          "coloraxis": "coloraxis"
         },
         "name": "Iconic",
         "orientation": "h",
         "text": [
          "Iconic"
         ],
         "type": "bar",
         "x": [
          53
         ],
         "xaxis": "x",
         "y": [
          "Demon's Souls"
         ],
         "yaxis": "y"
        },
        {
         "marker": {
          "color": [
           53
          ],
          "coloraxis": "coloraxis"
         },
         "name": "Iconic",
         "orientation": "h",
         "text": [
          "Iconic"
         ],
         "type": "bar",
         "x": [
          871
         ],
         "xaxis": "x2",
         "y": [
          "Demon's Souls"
         ],
         "yaxis": "y2"
        },
        {
         "marker": {
          "color": [
           10
          ],
          "coloraxis": "coloraxis"
         },
         "name": "Enemies can do this now",
         "orientation": "h",
         "text": [
          "Enemies can do this now"
         ],
         "type": "bar",
         "x": [
          10
         ],
         "xaxis": "x",
         "y": [
          "Horizon Forbidden West"
         ],
         "yaxis": "y"
        },
        {
         "marker": {
          "color": [
           10
          ],
          "coloraxis": "coloraxis"
         },
         "name": "Enemies can do this now",
         "orientation": "h",
         "text": [
          "Enemies can do this now"
         ],
         "type": "bar",
         "x": [
          927
         ],
         "xaxis": "x2",
         "y": [
          "Horizon Forbidden West"
         ],
         "yaxis": "y2"
        },
        {
         "marker": {
          "color": [
           61
          ],
          "coloraxis": "coloraxis"
         },
         "name": "Remember to roll forward ",
         "orientation": "h",
         "text": [
          "Remember to roll forward "
         ],
         "type": "bar",
         "x": [
          61
         ],
         "xaxis": "x",
         "y": [
          "Remnant: From the Ashes"
         ],
         "yaxis": "y"
        },
        {
         "marker": {
          "color": [
           61
          ],
          "coloraxis": "coloraxis"
         },
         "name": "Remember to roll forward ",
         "orientation": "h",
         "text": [
          "Remember to roll forward "
         ],
         "type": "bar",
         "x": [
          596
         ],
         "xaxis": "x2",
         "y": [
          "Remnant: From the Ashes"
         ],
         "yaxis": "y2"
        },
        {
         "marker": {
          "color": [
           10
          ],
          "coloraxis": "coloraxis"
         },
         "name": "Back to reality",
         "orientation": "h",
         "text": [
          "Back to reality"
         ],
         "type": "bar",
         "x": [
          10
         ],
         "xaxis": "x",
         "y": [
          "Demon's Souls"
         ],
         "yaxis": "y"
        },
        {
         "marker": {
          "color": [
           10
          ],
          "coloraxis": "coloraxis"
         },
         "name": "Back to reality",
         "orientation": "h",
         "text": [
          "Back to reality"
         ],
         "type": "bar",
         "x": [
          782
         ],
         "xaxis": "x2",
         "y": [
          "Demon's Souls"
         ],
         "yaxis": "y2"
        },
        {
         "marker": {
          "color": [
           17
          ],
          "coloraxis": "coloraxis"
         },
         "name": "PSA: Remember to heal yourself before reviving!",
         "orientation": "h",
         "text": [
          "PSA: Remember to heal yourself before reviving!"
         ],
         "type": "bar",
         "x": [
          17
         ],
         "xaxis": "x",
         "y": [
          "Remnant: From the Ashes"
         ],
         "yaxis": "y"
        },
        {
         "marker": {
          "color": [
           17
          ],
          "coloraxis": "coloraxis"
         },
         "name": "PSA: Remember to heal yourself before reviving!",
         "orientation": "h",
         "text": [
          "PSA: Remember to heal yourself before reviving!"
         ],
         "type": "bar",
         "x": [
          474
         ],
         "xaxis": "x2",
         "y": [
          "Remnant: From the Ashes"
         ],
         "yaxis": "y2"
        },
        {
         "marker": {
          "color": [
           6
          ],
          "coloraxis": "coloraxis"
         },
         "name": "Gotta love the warrior bow",
         "orientation": "h",
         "text": [
          "Gotta love the warrior bow"
         ],
         "type": "bar",
         "x": [
          6
         ],
         "xaxis": "x",
         "y": [
          "Horizon Forbidden West"
         ],
         "yaxis": "y"
        },
        {
         "marker": {
          "color": [
           6
          ],
          "coloraxis": "coloraxis"
         },
         "name": "Gotta love the warrior bow",
         "orientation": "h",
         "text": [
          "Gotta love the warrior bow"
         ],
         "type": "bar",
         "x": [
          260
         ],
         "xaxis": "x2",
         "y": [
          "Horizon Forbidden West"
         ],
         "yaxis": "y2"
        },
        {
         "marker": {
          "color": [
           21
          ],
          "coloraxis": "coloraxis"
         },
         "name": "Check your anger Bro",
         "orientation": "h",
         "text": [
          "Check your anger Bro"
         ],
         "type": "bar",
         "x": [
          21
         ],
         "xaxis": "x",
         "y": [
          "Remnant: From the Ashes"
         ],
         "yaxis": "y"
        },
        {
         "marker": {
          "color": [
           21
          ],
          "coloraxis": "coloraxis"
         },
         "name": "Check your anger Bro",
         "orientation": "h",
         "text": [
          "Check your anger Bro"
         ],
         "type": "bar",
         "x": [
          331
         ],
         "xaxis": "x2",
         "y": [
          "Remnant: From the Ashes"
         ],
         "yaxis": "y2"
        },
        {
         "marker": {
          "color": [
           5
          ],
          "coloraxis": "coloraxis"
         },
         "name": "Death and destruction",
         "orientation": "h",
         "text": [
          "Death and destruction"
         ],
         "type": "bar",
         "x": [
          5
         ],
         "xaxis": "x",
         "y": [
          "Horizon Forbidden West"
         ],
         "yaxis": "y"
        },
        {
         "marker": {
          "color": [
           5
          ],
          "coloraxis": "coloraxis"
         },
         "name": "Death and destruction",
         "orientation": "h",
         "text": [
          "Death and destruction"
         ],
         "type": "bar",
         "x": [
          222
         ],
         "xaxis": "x2",
         "y": [
          "Horizon Forbidden West"
         ],
         "yaxis": "y2"
        },
        {
         "marker": {
          "color": [
           25
          ],
          "coloraxis": "coloraxis"
         },
         "name": "Laggy Revives ",
         "orientation": "h",
         "text": [
          "Laggy Revives "
         ],
         "type": "bar",
         "x": [
          25
         ],
         "xaxis": "x",
         "y": [
          "Remnant: From the Ashes"
         ],
         "yaxis": "y"
        },
        {
         "marker": {
          "color": [
           25
          ],
          "coloraxis": "coloraxis"
         },
         "name": "Laggy Revives ",
         "orientation": "h",
         "text": [
          "Laggy Revives "
         ],
         "type": "bar",
         "x": [
          250
         ],
         "xaxis": "x2",
         "y": [
          "Remnant: From the Ashes"
         ],
         "yaxis": "y2"
        },
        {
         "marker": {
          "color": [
           279
          ],
          "coloraxis": "coloraxis"
         },
         "name": "I mean...",
         "orientation": "h",
         "text": [
          "I mean..."
         ],
         "type": "bar",
         "x": [
          279
         ],
         "xaxis": "x",
         "y": [
          "Demon's Souls"
         ],
         "yaxis": "y"
        },
        {
         "marker": {
          "color": [
           279
          ],
          "coloraxis": "coloraxis"
         },
         "name": "I mean...",
         "orientation": "h",
         "text": [
          "I mean..."
         ],
         "type": "bar",
         "x": [
          231
         ],
         "xaxis": "x2",
         "y": [
          "Demon's Souls"
         ],
         "yaxis": "y2"
        },
        {
         "marker": {
          "color": [
           10
          ],
          "coloraxis": "coloraxis"
         },
         "name": "Demon souls first play through",
         "orientation": "h",
         "text": [
          "Demon souls first play through"
         ],
         "type": "bar",
         "x": [
          10
         ],
         "xaxis": "x",
         "y": [
          "Demon's Souls"
         ],
         "yaxis": "y"
        },
        {
         "marker": {
          "color": [
           10
          ],
          "coloraxis": "coloraxis"
         },
         "name": "Demon souls first play through",
         "orientation": "h",
         "text": [
          "Demon souls first play through"
         ],
         "type": "bar",
         "x": [
          206
         ],
         "xaxis": "x2",
         "y": [
          "Demon's Souls"
         ],
         "yaxis": "y2"
        },
        {
         "marker": {
          "color": [
           11
          ],
          "coloraxis": "coloraxis"
         },
         "name": "So many things that can kill me",
         "orientation": "h",
         "text": [
          "So many things that can kill me"
         ],
         "type": "bar",
         "x": [
          11
         ],
         "xaxis": "x",
         "y": [
          "Demon's Souls"
         ],
         "yaxis": "y"
        },
        {
         "marker": {
          "color": [
           11
          ],
          "coloraxis": "coloraxis"
         },
         "name": "So many things that can kill me",
         "orientation": "h",
         "text": [
          "So many things that can kill me"
         ],
         "type": "bar",
         "x": [
          152
         ],
         "xaxis": "x2",
         "y": [
          "Demon's Souls"
         ],
         "yaxis": "y2"
        },
        {
         "marker": {
          "color": [
           6
          ],
          "coloraxis": "coloraxis"
         },
         "name": "I surprise myself sometimes...",
         "orientation": "h",
         "text": [
          "I surprise myself sometimes..."
         ],
         "type": "bar",
         "x": [
          6
         ],
         "xaxis": "x",
         "y": [
          "Horizon Forbidden West"
         ],
         "yaxis": "y"
        },
        {
         "marker": {
          "color": [
           6
          ],
          "coloraxis": "coloraxis"
         },
         "name": "I surprise myself sometimes...",
         "orientation": "h",
         "text": [
          "I surprise myself sometimes..."
         ],
         "type": "bar",
         "x": [
          155
         ],
         "xaxis": "x2",
         "y": [
          "Horizon Forbidden West"
         ],
         "yaxis": "y2"
        },
        {
         "marker": {
          "color": [
           11
          ],
          "coloraxis": "coloraxis"
         },
         "name": "So rude",
         "orientation": "h",
         "text": [
          "So rude"
         ],
         "type": "bar",
         "x": [
          11
         ],
         "xaxis": "x",
         "y": [
          "Horizon Forbidden West"
         ],
         "yaxis": "y"
        },
        {
         "marker": {
          "color": [
           11
          ],
          "coloraxis": "coloraxis"
         },
         "name": "So rude",
         "orientation": "h",
         "text": [
          "So rude"
         ],
         "type": "bar",
         "x": [
          84
         ],
         "xaxis": "x2",
         "y": [
          "Horizon Forbidden West"
         ],
         "yaxis": "y2"
        },
        {
         "marker": {
          "color": [
           12
          ],
          "coloraxis": "coloraxis"
         },
         "name": "Square assumes direct control",
         "orientation": "h",
         "text": [
          "Square assumes direct control"
         ],
         "type": "bar",
         "x": [
          12
         ],
         "xaxis": "x",
         "y": [
          "Demon's Souls"
         ],
         "yaxis": "y"
        },
        {
         "marker": {
          "color": [
           12
          ],
          "coloraxis": "coloraxis"
         },
         "name": "Square assumes direct control",
         "orientation": "h",
         "text": [
          "Square assumes direct control"
         ],
         "type": "bar",
         "x": [
          88
         ],
         "xaxis": "x2",
         "y": [
          "Demon's Souls"
         ],
         "yaxis": "y2"
        },
        {
         "marker": {
          "color": [
           10
          ],
          "coloraxis": "coloraxis"
         },
         "name": "Co-Op: Sufficient contributions",
         "orientation": "h",
         "text": [
          "Co-Op: Sufficient contributions"
         ],
         "type": "bar",
         "x": [
          10
         ],
         "xaxis": "x",
         "y": [
          "Ghost of Tsushima"
         ],
         "yaxis": "y"
        },
        {
         "marker": {
          "color": [
           10
          ],
          "coloraxis": "coloraxis"
         },
         "name": "Co-Op: Sufficient contributions",
         "orientation": "h",
         "text": [
          "Co-Op: Sufficient contributions"
         ],
         "type": "bar",
         "x": [
          151
         ],
         "xaxis": "x2",
         "y": [
          "Ghost of Tsushima"
         ],
         "yaxis": "y2"
        },
        {
         "marker": {
          "color": [
           28
          ],
          "coloraxis": "coloraxis"
         },
         "name": "S U F F E R",
         "orientation": "h",
         "text": [
          "S U F F E R"
         ],
         "type": "bar",
         "x": [
          28
         ],
         "xaxis": "x",
         "y": [
          "Demon's Souls"
         ],
         "yaxis": "y"
        },
        {
         "marker": {
          "color": [
           28
          ],
          "coloraxis": "coloraxis"
         },
         "name": "S U F F E R",
         "orientation": "h",
         "text": [
          "S U F F E R"
         ],
         "type": "bar",
         "x": [
          64
         ],
         "xaxis": "x2",
         "y": [
          "Demon's Souls"
         ],
         "yaxis": "y2"
        },
        {
         "marker": {
          "color": [
           19
          ],
          "coloraxis": "coloraxis"
         },
         "name": "A little Friendly Fire amongst Friends?",
         "orientation": "h",
         "text": [
          "A little Friendly Fire amongst Friends?"
         ],
         "type": "bar",
         "x": [
          19
         ],
         "xaxis": "x",
         "y": [
          "Remnant: From the Ashes"
         ],
         "yaxis": "y"
        },
        {
         "marker": {
          "color": [
           19
          ],
          "coloraxis": "coloraxis"
         },
         "name": "A little Friendly Fire amongst Friends?",
         "orientation": "h",
         "text": [
          "A little Friendly Fire amongst Friends?"
         ],
         "type": "bar",
         "x": [
          93
         ],
         "xaxis": "x2",
         "y": [
          "Remnant: From the Ashes"
         ],
         "yaxis": "y2"
        },
        {
         "marker": {
          "color": [
           8
          ],
          "coloraxis": "coloraxis"
         },
         "name": "Irony",
         "orientation": "h",
         "text": [
          "Irony"
         ],
         "type": "bar",
         "x": [
          8
         ],
         "xaxis": "x",
         "y": [
          "It Takes Two"
         ],
         "yaxis": "y"
        },
        {
         "marker": {
          "color": [
           8
          ],
          "coloraxis": "coloraxis"
         },
         "name": "Irony",
         "orientation": "h",
         "text": [
          "Irony"
         ],
         "type": "bar",
         "x": [
          93
         ],
         "xaxis": "x2",
         "y": [
          "It Takes Two"
         ],
         "yaxis": "y2"
        },
        {
         "marker": {
          "color": [
           13
          ],
          "coloraxis": "coloraxis"
         },
         "name": "Poking and running away",
         "orientation": "h",
         "text": [
          "Poking and running away"
         ],
         "type": "bar",
         "x": [
          13
         ],
         "xaxis": "x",
         "y": [
          "Horizon Forbidden West"
         ],
         "yaxis": "y"
        },
        {
         "marker": {
          "color": [
           13
          ],
          "coloraxis": "coloraxis"
         },
         "name": "Poking and running away",
         "orientation": "h",
         "text": [
          "Poking and running away"
         ],
         "type": "bar",
         "x": [
          52
         ],
         "xaxis": "x2",
         "y": [
          "Horizon Forbidden West"
         ],
         "yaxis": "y2"
        },
        {
         "marker": {
          "color": [
           15
          ],
          "coloraxis": "coloraxis"
         },
         "name": "Why you want the Devastator ",
         "orientation": "h",
         "text": [
          "Why you want the Devastator "
         ],
         "type": "bar",
         "x": [
          15
         ],
         "xaxis": "x",
         "y": [
          "Remnant: From the Ashes"
         ],
         "yaxis": "y"
        },
        {
         "marker": {
          "color": [
           15
          ],
          "coloraxis": "coloraxis"
         },
         "name": "Why you want the Devastator ",
         "orientation": "h",
         "text": [
          "Why you want the Devastator "
         ],
         "type": "bar",
         "x": [
          111
         ],
         "xaxis": "x2",
         "y": [
          "Remnant: From the Ashes"
         ],
         "yaxis": "y2"
        },
        {
         "marker": {
          "color": [
           9
          ],
          "coloraxis": "coloraxis"
         },
         "name": "Co-Op: Big ole ThickDSavy",
         "orientation": "h",
         "text": [
          "Co-Op: Big ole ThickDSavy"
         ],
         "type": "bar",
         "x": [
          9
         ],
         "xaxis": "x",
         "y": [
          "Ghost of Tsushima"
         ],
         "yaxis": "y"
        },
        {
         "marker": {
          "color": [
           9
          ],
          "coloraxis": "coloraxis"
         },
         "name": "Co-Op: Big ole ThickDSavy",
         "orientation": "h",
         "text": [
          "Co-Op: Big ole ThickDSavy"
         ],
         "type": "bar",
         "x": [
          65
         ],
         "xaxis": "x2",
         "y": [
          "Ghost of Tsushima"
         ],
         "yaxis": "y2"
        },
        {
         "marker": {
          "color": [
           73
          ],
          "coloraxis": "coloraxis"
         },
         "name": "Corrosive Damage Can Stack",
         "orientation": "h",
         "text": [
          "Corrosive Damage Can Stack"
         ],
         "type": "bar",
         "x": [
          73
         ],
         "xaxis": "x",
         "y": [
          "Remnant: From the Ashes"
         ],
         "yaxis": "y"
        },
        {
         "marker": {
          "color": [
           73
          ],
          "coloraxis": "coloraxis"
         },
         "name": "Corrosive Damage Can Stack",
         "orientation": "h",
         "text": [
          "Corrosive Damage Can Stack"
         ],
         "type": "bar",
         "x": [
          95
         ],
         "xaxis": "x2",
         "y": [
          "Remnant: From the Ashes"
         ],
         "yaxis": "y2"
        },
        {
         "marker": {
          "color": [
           28
          ],
          "coloraxis": "coloraxis"
         },
         "name": "DIARRHEA EVERYWHERE!",
         "orientation": "h",
         "text": [
          "DIARRHEA EVERYWHERE!"
         ],
         "type": "bar",
         "x": [
          28
         ],
         "xaxis": "x",
         "y": [
          "Demon's Souls"
         ],
         "yaxis": "y"
        },
        {
         "marker": {
          "color": [
           28
          ],
          "coloraxis": "coloraxis"
         },
         "name": "DIARRHEA EVERYWHERE!",
         "orientation": "h",
         "text": [
          "DIARRHEA EVERYWHERE!"
         ],
         "type": "bar",
         "x": [
          82
         ],
         "xaxis": "x2",
         "y": [
          "Demon's Souls"
         ],
         "yaxis": "y2"
        },
        {
         "marker": {
          "color": [
           5
          ],
          "coloraxis": "coloraxis"
         },
         "name": "All the marbles",
         "orientation": "h",
         "text": [
          "All the marbles"
         ],
         "type": "bar",
         "x": [
          5
         ],
         "xaxis": "x",
         "y": [
          "Overcooked! All You Can Eat"
         ],
         "yaxis": "y"
        },
        {
         "marker": {
          "color": [
           5
          ],
          "coloraxis": "coloraxis"
         },
         "name": "All the marbles",
         "orientation": "h",
         "text": [
          "All the marbles"
         ],
         "type": "bar",
         "x": [
          99
         ],
         "xaxis": "x2",
         "y": [
          "Overcooked! All You Can Eat"
         ],
         "yaxis": "y2"
        },
        {
         "marker": {
          "color": [
           19
          ],
          "coloraxis": "coloraxis"
         },
         "name": "Quick Mini Boss Takedown with the Sniper Rifle",
         "orientation": "h",
         "text": [
          "Quick Mini Boss Takedown with the Sniper Rifle"
         ],
         "type": "bar",
         "x": [
          19
         ],
         "xaxis": "x",
         "y": [
          "Remnant: From the Ashes"
         ],
         "yaxis": "y"
        },
        {
         "marker": {
          "color": [
           19
          ],
          "coloraxis": "coloraxis"
         },
         "name": "Quick Mini Boss Takedown with the Sniper Rifle",
         "orientation": "h",
         "text": [
          "Quick Mini Boss Takedown with the Sniper Rifle"
         ],
         "type": "bar",
         "x": [
          90
         ],
         "xaxis": "x2",
         "y": [
          "Remnant: From the Ashes"
         ],
         "yaxis": "y2"
        },
        {
         "marker": {
          "color": [
           13
          ],
          "coloraxis": "coloraxis"
         },
         "name": "The Emergence of the Sh!ttyWon",
         "orientation": "h",
         "text": [
          "The Emergence of the Sh!ttyWon"
         ],
         "type": "bar",
         "x": [
          13
         ],
         "xaxis": "x",
         "y": [
          "It Takes Two"
         ],
         "yaxis": "y"
        },
        {
         "marker": {
          "color": [
           13
          ],
          "coloraxis": "coloraxis"
         },
         "name": "The Emergence of the Sh!ttyWon",
         "orientation": "h",
         "text": [
          "The Emergence of the Sh!ttyWon"
         ],
         "type": "bar",
         "x": [
          83
         ],
         "xaxis": "x2",
         "y": [
          "It Takes Two"
         ],
         "yaxis": "y2"
        },
        {
         "marker": {
          "color": [
           15
          ],
          "coloraxis": "coloraxis"
         },
         "name": "Clipping G O L D",
         "orientation": "h",
         "text": [
          "Clipping G O L D"
         ],
         "type": "bar",
         "x": [
          15
         ],
         "xaxis": "x",
         "y": [
          "Demon's Souls"
         ],
         "yaxis": "y"
        },
        {
         "marker": {
          "color": [
           15
          ],
          "coloraxis": "coloraxis"
         },
         "name": "Clipping G O L D",
         "orientation": "h",
         "text": [
          "Clipping G O L D"
         ],
         "type": "bar",
         "x": [
          55
         ],
         "xaxis": "x2",
         "y": [
          "Demon's Souls"
         ],
         "yaxis": "y2"
        },
        {
         "marker": {
          "color": [
           7
          ],
          "coloraxis": "coloraxis"
         },
         "name": "At your doorstep",
         "orientation": "h",
         "text": [
          "At your doorstep"
         ],
         "type": "bar",
         "x": [
          7
         ],
         "xaxis": "x",
         "y": [
          "Horizon Forbidden West"
         ],
         "yaxis": "y"
        },
        {
         "marker": {
          "color": [
           7
          ],
          "coloraxis": "coloraxis"
         },
         "name": "At your doorstep",
         "orientation": "h",
         "text": [
          "At your doorstep"
         ],
         "type": "bar",
         "x": [
          77
         ],
         "xaxis": "x2",
         "y": [
          "Horizon Forbidden West"
         ],
         "yaxis": "y2"
        },
        {
         "marker": {
          "color": [
           41
          ],
          "coloraxis": "coloraxis"
         },
         "name": "Coach gun turned out to be pretty good",
         "orientation": "h",
         "text": [
          "Coach gun turned out to be pretty good"
         ],
         "type": "bar",
         "x": [
          41
         ],
         "xaxis": "x",
         "y": [
          "Remnant: From the Ashes"
         ],
         "yaxis": "y"
        },
        {
         "marker": {
          "color": [
           41
          ],
          "coloraxis": "coloraxis"
         },
         "name": "Coach gun turned out to be pretty good",
         "orientation": "h",
         "text": [
          "Coach gun turned out to be pretty good"
         ],
         "type": "bar",
         "x": [
          63
         ],
         "xaxis": "x2",
         "y": [
          "Remnant: From the Ashes"
         ],
         "yaxis": "y2"
        },
        {
         "marker": {
          "color": [
           10
          ],
          "coloraxis": "coloraxis"
         },
         "name": "Barrel talk",
         "orientation": "h",
         "text": [
          "Barrel talk"
         ],
         "type": "bar",
         "x": [
          10
         ],
         "xaxis": "x",
         "y": [
          "Clash Royale"
         ],
         "yaxis": "y"
        },
        {
         "marker": {
          "color": [
           10
          ],
          "coloraxis": "coloraxis"
         },
         "name": "Barrel talk",
         "orientation": "h",
         "text": [
          "Barrel talk"
         ],
         "type": "bar",
         "x": [
          40
         ],
         "xaxis": "x2",
         "y": [
          "Clash Royale"
         ],
         "yaxis": "y2"
        },
        {
         "marker": {
          "color": [
           14
          ],
          "coloraxis": "coloraxis"
         },
         "name": "making good choices",
         "orientation": "h",
         "text": [
          "making good choices"
         ],
         "type": "bar",
         "x": [
          14
         ],
         "xaxis": "x",
         "y": [
          "Demon's Souls"
         ],
         "yaxis": "y"
        },
        {
         "marker": {
          "color": [
           14
          ],
          "coloraxis": "coloraxis"
         },
         "name": "making good choices",
         "orientation": "h",
         "text": [
          "making good choices"
         ],
         "type": "bar",
         "x": [
          48
         ],
         "xaxis": "x2",
         "y": [
          "Demon's Souls"
         ],
         "yaxis": "y2"
        },
        {
         "marker": {
          "color": [
           8
          ],
          "coloraxis": "coloraxis"
         },
         "name": "THE RED DIARRHEA!!!!",
         "orientation": "h",
         "text": [
          "THE RED DIARRHEA!!!!"
         ],
         "type": "bar",
         "x": [
          8
         ],
         "xaxis": "x",
         "y": [
          "Demon's Souls"
         ],
         "yaxis": "y"
        },
        {
         "marker": {
          "color": [
           8
          ],
          "coloraxis": "coloraxis"
         },
         "name": "THE RED DIARRHEA!!!!",
         "orientation": "h",
         "text": [
          "THE RED DIARRHEA!!!!"
         ],
         "type": "bar",
         "x": [
          47
         ],
         "xaxis": "x2",
         "y": [
          "Demon's Souls"
         ],
         "yaxis": "y2"
        },
        {
         "marker": {
          "color": [
           23
          ],
          "coloraxis": "coloraxis"
         },
         "name": "Aaaand Goodnight!",
         "orientation": "h",
         "text": [
          "Aaaand Goodnight!"
         ],
         "type": "bar",
         "x": [
          23
         ],
         "xaxis": "x",
         "y": [
          "Remnant: From the Ashes"
         ],
         "yaxis": "y"
        },
        {
         "marker": {
          "color": [
           23
          ],
          "coloraxis": "coloraxis"
         },
         "name": "Aaaand Goodnight!",
         "orientation": "h",
         "text": [
          "Aaaand Goodnight!"
         ],
         "type": "bar",
         "x": [
          44
         ],
         "xaxis": "x2",
         "y": [
          "Remnant: From the Ashes"
         ],
         "yaxis": "y2"
        },
        {
         "marker": {
          "color": [
           7
          ],
          "coloraxis": "coloraxis"
         },
         "name": "Weird people on horses",
         "orientation": "h",
         "text": [
          "Weird people on horses"
         ],
         "type": "bar",
         "x": [
          7
         ],
         "xaxis": "x",
         "y": [
          "Horizon Forbidden West"
         ],
         "yaxis": "y"
        },
        {
         "marker": {
          "color": [
           7
          ],
          "coloraxis": "coloraxis"
         },
         "name": "Weird people on horses",
         "orientation": "h",
         "text": [
          "Weird people on horses"
         ],
         "type": "bar",
         "x": [
          31
         ],
         "xaxis": "x2",
         "y": [
          "Horizon Forbidden West"
         ],
         "yaxis": "y2"
        },
        {
         "marker": {
          "color": [
           10
          ],
          "coloraxis": "coloraxis"
         },
         "name": "magic man",
         "orientation": "h",
         "text": [
          "magic man"
         ],
         "type": "bar",
         "x": [
          10
         ],
         "xaxis": "x",
         "y": [
          "Demon's Souls"
         ],
         "yaxis": "y"
        },
        {
         "marker": {
          "color": [
           10
          ],
          "coloraxis": "coloraxis"
         },
         "name": "magic man",
         "orientation": "h",
         "text": [
          "magic man"
         ],
         "type": "bar",
         "x": [
          17
         ],
         "xaxis": "x2",
         "y": [
          "Demon's Souls"
         ],
         "yaxis": "y2"
        },
        {
         "marker": {
          "color": [
           12
          ],
          "coloraxis": "coloraxis"
         },
         "name": "2000 Souls Gone",
         "orientation": "h",
         "text": [
          "2000 Souls Gone"
         ],
         "type": "bar",
         "x": [
          12
         ],
         "xaxis": "x",
         "y": [
          "Demon's Souls"
         ],
         "yaxis": "y"
        },
        {
         "marker": {
          "color": [
           12
          ],
          "coloraxis": "coloraxis"
         },
         "name": "2000 Souls Gone",
         "orientation": "h",
         "text": [
          "2000 Souls Gone"
         ],
         "type": "bar",
         "x": [
          25
         ],
         "xaxis": "x2",
         "y": [
          "Demon's Souls"
         ],
         "yaxis": "y2"
        },
        {
         "marker": {
          "color": [
           10
          ],
          "coloraxis": "coloraxis"
         },
         "name": "Demon souls first play through",
         "orientation": "h",
         "text": [
          "Demon souls first play through"
         ],
         "type": "bar",
         "x": [
          10
         ],
         "xaxis": "x",
         "y": [
          "Demon's Souls"
         ],
         "yaxis": "y"
        },
        {
         "marker": {
          "color": [
           10
          ],
          "coloraxis": "coloraxis"
         },
         "name": "Demon souls first play through",
         "orientation": "h",
         "text": [
          "Demon souls first play through"
         ],
         "type": "bar",
         "x": [
          27
         ],
         "xaxis": "x2",
         "y": [
          "Demon's Souls"
         ],
         "yaxis": "y2"
        },
        {
         "marker": {
          "color": [
           10
          ],
          "coloraxis": "coloraxis"
         },
         "name": "For the SquareOne",
         "orientation": "h",
         "text": [
          "For the SquareOne"
         ],
         "type": "bar",
         "x": [
          10
         ],
         "xaxis": "x",
         "y": [
          "Demon's Souls"
         ],
         "yaxis": "y"
        },
        {
         "marker": {
          "color": [
           10
          ],
          "coloraxis": "coloraxis"
         },
         "name": "For the SquareOne",
         "orientation": "h",
         "text": [
          "For the SquareOne"
         ],
         "type": "bar",
         "x": [
          30
         ],
         "xaxis": "x2",
         "y": [
          "Demon's Souls"
         ],
         "yaxis": "y2"
        },
        {
         "marker": {
          "color": [
           15
          ],
          "coloraxis": "coloraxis"
         },
         "name": "Evening Clash with Triangle before we try PS5 game",
         "orientation": "h",
         "text": [
          "Evening Clash with Triangle before we try PS5 game"
         ],
         "type": "bar",
         "x": [
          15
         ],
         "xaxis": "x",
         "y": [
          "Clash Royale"
         ],
         "yaxis": "y"
        },
        {
         "marker": {
          "color": [
           15
          ],
          "coloraxis": "coloraxis"
         },
         "name": "Evening Clash with Triangle before we try PS5 game",
         "orientation": "h",
         "text": [
          "Evening Clash with Triangle before we try PS5 game"
         ],
         "type": "bar",
         "x": [
          23
         ],
         "xaxis": "x2",
         "y": [
          "Clash Royale"
         ],
         "yaxis": "y2"
        },
        {
         "marker": {
          "color": [
           17
          ],
          "coloraxis": "coloraxis"
         },
         "name": "I got a tree b, can't fight the tree!",
         "orientation": "h",
         "text": [
          "I got a tree b, can't fight the tree!"
         ],
         "type": "bar",
         "x": [
          17
         ],
         "xaxis": "x",
         "y": [
          "Horizon Forbidden West"
         ],
         "yaxis": "y"
        },
        {
         "marker": {
          "color": [
           17
          ],
          "coloraxis": "coloraxis"
         },
         "name": "I got a tree b, can't fight the tree!",
         "orientation": "h",
         "text": [
          "I got a tree b, can't fight the tree!"
         ],
         "type": "bar",
         "x": [
          16
         ],
         "xaxis": "x2",
         "y": [
          "Horizon Forbidden West"
         ],
         "yaxis": "y2"
        },
        {
         "marker": {
          "color": [
           8
          ],
          "coloraxis": "coloraxis"
         },
         "name": "Irony",
         "orientation": "h",
         "text": [
          "Irony"
         ],
         "type": "bar",
         "x": [
          8
         ],
         "xaxis": "x",
         "y": [
          "It Takes Two"
         ],
         "yaxis": "y"
        },
        {
         "marker": {
          "color": [
           8
          ],
          "coloraxis": "coloraxis"
         },
         "name": "Irony",
         "orientation": "h",
         "text": [
          "Irony"
         ],
         "type": "bar",
         "x": [
          21
         ],
         "xaxis": "x2",
         "y": [
          "It Takes Two"
         ],
         "yaxis": "y2"
        },
        {
         "marker": {
          "color": [
           1
          ],
          "coloraxis": "coloraxis"
         },
         "name": "Quick stream: Overcooked before Remnant survivor",
         "orientation": "h",
         "text": [
          "Quick stream: Overcooked before Remnant survivor"
         ],
         "type": "bar",
         "x": [
          1
         ],
         "xaxis": "x",
         "y": [
          "Overcooked! All You Can Eat"
         ],
         "yaxis": "y"
        },
        {
         "marker": {
          "color": [
           1
          ],
          "coloraxis": "coloraxis"
         },
         "name": "Quick stream: Overcooked before Remnant survivor",
         "orientation": "h",
         "text": [
          "Quick stream: Overcooked before Remnant survivor"
         ],
         "type": "bar",
         "x": [
          25
         ],
         "xaxis": "x2",
         "y": [
          "Overcooked! All You Can Eat"
         ],
         "yaxis": "y2"
        },
        {
         "marker": {
          "color": [
           10
          ],
          "coloraxis": "coloraxis"
         },
         "name": "Rolling's Supposed to Save You!!!",
         "orientation": "h",
         "text": [
          "Rolling's Supposed to Save You!!!"
         ],
         "type": "bar",
         "x": [
          10
         ],
         "xaxis": "x",
         "y": [
          "Demon's Souls"
         ],
         "yaxis": "y"
        },
        {
         "marker": {
          "color": [
           10
          ],
          "coloraxis": "coloraxis"
         },
         "name": "Rolling's Supposed to Save You!!!",
         "orientation": "h",
         "text": [
          "Rolling's Supposed to Save You!!!"
         ],
         "type": "bar",
         "x": [
          8
         ],
         "xaxis": "x2",
         "y": [
          "Demon's Souls"
         ],
         "yaxis": "y2"
        },
        {
         "marker": {
          "color": [
           2
          ],
          "coloraxis": "coloraxis"
         },
         "name": "Horizon mystery mission?!",
         "orientation": "h",
         "text": [
          "Horizon mystery mission?!"
         ],
         "type": "bar",
         "x": [
          2
         ],
         "xaxis": "x",
         "y": [
          "Horizon Forbidden West"
         ],
         "yaxis": "y"
        },
        {
         "marker": {
          "color": [
           2
          ],
          "coloraxis": "coloraxis"
         },
         "name": "Horizon mystery mission?!",
         "orientation": "h",
         "text": [
          "Horizon mystery mission?!"
         ],
         "type": "bar",
         "x": [
          10
         ],
         "xaxis": "x2",
         "y": [
          "Horizon Forbidden West"
         ],
         "yaxis": "y2"
        },
        {
         "marker": {
          "color": [
           8
          ],
          "coloraxis": "coloraxis"
         },
         "name": "Clash Royale Evenings with The Triangle - TheRoundWonBot upgrade!",
         "orientation": "h",
         "text": [
          "Clash Royale Evenings with The Triangle - TheRoundWonBot upgrade!"
         ],
         "type": "bar",
         "x": [
          8
         ],
         "xaxis": "x",
         "y": [
          "Clash Royale"
         ],
         "yaxis": "y"
        },
        {
         "marker": {
          "color": [
           8
          ],
          "coloraxis": "coloraxis"
         },
         "name": "Clash Royale Evenings with The Triangle - TheRoundWonBot upgrade!",
         "orientation": "h",
         "text": [
          "Clash Royale Evenings with The Triangle - TheRoundWonBot upgrade!"
         ],
         "type": "bar",
         "x": [
          3
         ],
         "xaxis": "x2",
         "y": [
          "Clash Royale"
         ],
         "yaxis": "y2"
        },
        {
         "marker": {
          "color": [
           5
          ],
          "coloraxis": "coloraxis"
         },
         "name": "Co-Op: Did you not see my greatness?",
         "orientation": "h",
         "text": [
          "Co-Op: Did you not see my greatness?"
         ],
         "type": "bar",
         "x": [
          5
         ],
         "xaxis": "x",
         "y": [
          "Ghost of Tsushima"
         ],
         "yaxis": "y"
        },
        {
         "marker": {
          "color": [
           5
          ],
          "coloraxis": "coloraxis"
         },
         "name": "Co-Op: Did you not see my greatness?",
         "orientation": "h",
         "text": [
          "Co-Op: Did you not see my greatness?"
         ],
         "type": "bar",
         "x": [
          9
         ],
         "xaxis": "x2",
         "y": [
          "Ghost of Tsushima"
         ],
         "yaxis": "y2"
        },
        {
         "marker": {
          "color": [
           10
          ],
          "coloraxis": "coloraxis"
         },
         "name": "There you go...oh sh**",
         "orientation": "h",
         "text": [
          "There you go...oh sh**"
         ],
         "type": "bar",
         "x": [
          10
         ],
         "xaxis": "x",
         "y": [
          "Clash Royale"
         ],
         "yaxis": "y"
        },
        {
         "marker": {
          "color": [
           10
          ],
          "coloraxis": "coloraxis"
         },
         "name": "There you go...oh sh**",
         "orientation": "h",
         "text": [
          "There you go...oh sh**"
         ],
         "type": "bar",
         "x": [
          18
         ],
         "xaxis": "x2",
         "y": [
          "Clash Royale"
         ],
         "yaxis": "y2"
        },
        {
         "marker": {
          "color": [
           8
          ],
          "coloraxis": "coloraxis"
         },
         "name": "SquareWon takeover: You know who I am",
         "orientation": "h",
         "text": [
          "SquareWon takeover: You know who I am"
         ],
         "type": "bar",
         "x": [
          8
         ],
         "xaxis": "x",
         "y": [
          "Horizon Forbidden West"
         ],
         "yaxis": "y"
        },
        {
         "marker": {
          "color": [
           8
          ],
          "coloraxis": "coloraxis"
         },
         "name": "SquareWon takeover: You know who I am",
         "orientation": "h",
         "text": [
          "SquareWon takeover: You know who I am"
         ],
         "type": "bar",
         "x": [
          8
         ],
         "xaxis": "x2",
         "y": [
          "Horizon Forbidden West"
         ],
         "yaxis": "y2"
        },
        {
         "marker": {
          "color": [
           1
          ],
          "coloraxis": "coloraxis"
         },
         "name": "Sorry clash fans, Overcook pivot",
         "orientation": "h",
         "text": [
          "Sorry clash fans, Overcook pivot"
         ],
         "type": "bar",
         "x": [
          1
         ],
         "xaxis": "x",
         "y": [
          "Overcooked! All You Can Eat"
         ],
         "yaxis": "y"
        },
        {
         "marker": {
          "color": [
           1
          ],
          "coloraxis": "coloraxis"
         },
         "name": "Sorry clash fans, Overcook pivot",
         "orientation": "h",
         "text": [
          "Sorry clash fans, Overcook pivot"
         ],
         "type": "bar",
         "x": [
          13
         ],
         "xaxis": "x2",
         "y": [
          "Overcooked! All You Can Eat"
         ],
         "yaxis": "y2"
        },
        {
         "marker": {
          "color": [
           19
          ],
          "coloraxis": "coloraxis"
         },
         "name": "The SaltWon",
         "orientation": "h",
         "text": [
          "The SaltWon"
         ],
         "type": "bar",
         "x": [
          19
         ],
         "xaxis": "x",
         "y": [
          "Horizon Forbidden West"
         ],
         "yaxis": "y"
        },
        {
         "marker": {
          "color": [
           19
          ],
          "coloraxis": "coloraxis"
         },
         "name": "The SaltWon",
         "orientation": "h",
         "text": [
          "The SaltWon"
         ],
         "type": "bar",
         "x": [
          4
         ],
         "xaxis": "x2",
         "y": [
          "Horizon Forbidden West"
         ],
         "yaxis": "y2"
        },
        {
         "marker": {
          "color": [
           12
          ],
          "coloraxis": "coloraxis"
         },
         "name": "Square doing square things",
         "orientation": "h",
         "text": [
          "Square doing square things"
         ],
         "type": "bar",
         "x": [
          12
         ],
         "xaxis": "x",
         "y": [
          "Demon's Souls"
         ],
         "yaxis": "y"
        },
        {
         "marker": {
          "color": [
           12
          ],
          "coloraxis": "coloraxis"
         },
         "name": "Square doing square things",
         "orientation": "h",
         "text": [
          "Square doing square things"
         ],
         "type": "bar",
         "x": [
          3
         ],
         "xaxis": "x2",
         "y": [
          "Demon's Souls"
         ],
         "yaxis": "y2"
        },
        {
         "marker": {
          "color": [
           6
          ],
          "coloraxis": "coloraxis"
         },
         "name": "Spicy Square People",
         "orientation": "h",
         "text": [
          "Spicy Square People"
         ],
         "type": "bar",
         "x": [
          6
         ],
         "xaxis": "x",
         "y": [
          "Overcooked! All You Can Eat"
         ],
         "yaxis": "y"
        },
        {
         "marker": {
          "color": [
           6
          ],
          "coloraxis": "coloraxis"
         },
         "name": "Spicy Square People",
         "orientation": "h",
         "text": [
          "Spicy Square People"
         ],
         "type": "bar",
         "x": [
          5
         ],
         "xaxis": "x2",
         "y": [
          "Overcooked! All You Can Eat"
         ],
         "yaxis": "y2"
        },
        {
         "marker": {
          "color": [
           16
          ],
          "coloraxis": "coloraxis"
         },
         "name": "I am like a ninja",
         "orientation": "h",
         "text": [
          "I am like a ninja"
         ],
         "type": "bar",
         "x": [
          16
         ],
         "xaxis": "x",
         "y": [
          "Horizon Forbidden West"
         ],
         "yaxis": "y"
        },
        {
         "marker": {
          "color": [
           16
          ],
          "coloraxis": "coloraxis"
         },
         "name": "I am like a ninja",
         "orientation": "h",
         "text": [
          "I am like a ninja"
         ],
         "type": "bar",
         "x": [
          10
         ],
         "xaxis": "x2",
         "y": [
          "Horizon Forbidden West"
         ],
         "yaxis": "y2"
        },
        {
         "marker": {
          "color": [
           6
          ],
          "coloraxis": "coloraxis"
         },
         "name": "Hard work",
         "orientation": "h",
         "text": [
          "Hard work"
         ],
         "type": "bar",
         "x": [
          6
         ],
         "xaxis": "x",
         "y": [
          "Horizon Forbidden West"
         ],
         "yaxis": "y"
        },
        {
         "marker": {
          "color": [
           6
          ],
          "coloraxis": "coloraxis"
         },
         "name": "Hard work",
         "orientation": "h",
         "text": [
          "Hard work"
         ],
         "type": "bar",
         "x": [
          4
         ],
         "xaxis": "x2",
         "y": [
          "Horizon Forbidden West"
         ],
         "yaxis": "y2"
        },
        {
         "marker": {
          "color": [
           15
          ],
          "coloraxis": "coloraxis"
         },
         "name": "For all the Marbles!",
         "orientation": "h",
         "text": [
          "For all the Marbles!"
         ],
         "type": "bar",
         "x": [
          15
         ],
         "xaxis": "x",
         "y": [
          "Overcooked! All You Can Eat"
         ],
         "yaxis": "y"
        },
        {
         "marker": {
          "color": [
           15
          ],
          "coloraxis": "coloraxis"
         },
         "name": "For all the Marbles!",
         "orientation": "h",
         "text": [
          "For all the Marbles!"
         ],
         "type": "bar",
         "x": [
          5
         ],
         "xaxis": "x2",
         "y": [
          "Overcooked! All You Can Eat"
         ],
         "yaxis": "y2"
        },
        {
         "marker": {
          "color": [
           11
          ],
          "coloraxis": "coloraxis"
         },
         "name": "Go away! So needy...",
         "orientation": "h",
         "text": [
          "Go away! So needy..."
         ],
         "type": "bar",
         "x": [
          11
         ],
         "xaxis": "x",
         "y": [
          "Horizon Forbidden West"
         ],
         "yaxis": "y"
        },
        {
         "marker": {
          "color": [
           11
          ],
          "coloraxis": "coloraxis"
         },
         "name": "Go away! So needy...",
         "orientation": "h",
         "text": [
          "Go away! So needy..."
         ],
         "type": "bar",
         "x": [
          6
         ],
         "xaxis": "x2",
         "y": [
          "Horizon Forbidden West"
         ],
         "yaxis": "y2"
        },
        {
         "marker": {
          "color": [
           19
          ],
          "coloraxis": "coloraxis"
         },
         "name": "Heroes Don't Die",
         "orientation": "h",
         "text": [
          "Heroes Don't Die"
         ],
         "type": "bar",
         "x": [
          19
         ],
         "xaxis": "x",
         "y": [
          "Horizon Forbidden West"
         ],
         "yaxis": "y"
        },
        {
         "marker": {
          "color": [
           19
          ],
          "coloraxis": "coloraxis"
         },
         "name": "Heroes Don't Die",
         "orientation": "h",
         "text": [
          "Heroes Don't Die"
         ],
         "type": "bar",
         "x": [
          7
         ],
         "xaxis": "x2",
         "y": [
          "Horizon Forbidden West"
         ],
         "yaxis": "y2"
        },
        {
         "marker": {
          "color": [
           33
          ],
          "coloraxis": "coloraxis"
         },
         "name": "When You're The Last One Left",
         "orientation": "h",
         "text": [
          "When You're The Last One Left"
         ],
         "type": "bar",
         "x": [
          33
         ],
         "xaxis": "x",
         "y": [
          "Remnant: From the Ashes"
         ],
         "yaxis": "y"
        },
        {
         "marker": {
          "color": [
           33
          ],
          "coloraxis": "coloraxis"
         },
         "name": "When You're The Last One Left",
         "orientation": "h",
         "text": [
          "When You're The Last One Left"
         ],
         "type": "bar",
         "x": [
          1
         ],
         "xaxis": "x2",
         "y": [
          "Remnant: From the Ashes"
         ],
         "yaxis": "y2"
        },
        {
         "marker": {
          "color": [
           6
          ],
          "coloraxis": "coloraxis"
         },
         "name": "Opportunity",
         "orientation": "h",
         "text": [
          "Opportunity"
         ],
         "type": "bar",
         "x": [
          6
         ],
         "xaxis": "x",
         "y": [
          "Demon's Souls"
         ],
         "yaxis": "y"
        },
        {
         "marker": {
          "color": [
           6
          ],
          "coloraxis": "coloraxis"
         },
         "name": "Opportunity",
         "orientation": "h",
         "text": [
          "Opportunity"
         ],
         "type": "bar",
         "x": [
          2
         ],
         "xaxis": "x2",
         "y": [
          "Demon's Souls"
         ],
         "yaxis": "y2"
        },
        {
         "marker": {
          "color": [
           7
          ],
          "coloraxis": "coloraxis"
         },
         "name": "My must watch players",
         "orientation": "h",
         "text": [
          "My must watch players"
         ],
         "type": "bar",
         "x": [
          7
         ],
         "xaxis": "x",
         "y": [
          "Clash Royale"
         ],
         "yaxis": "y"
        },
        {
         "marker": {
          "color": [
           7
          ],
          "coloraxis": "coloraxis"
         },
         "name": "My must watch players",
         "orientation": "h",
         "text": [
          "My must watch players"
         ],
         "type": "bar",
         "x": [
          1
         ],
         "xaxis": "x2",
         "y": [
          "Clash Royale"
         ],
         "yaxis": "y2"
        },
        {
         "marker": {
          "color": [
           39
          ],
          "coloraxis": "coloraxis"
         },
         "name": "Pessimism vs Realism? (or Optimism?)",
         "orientation": "h",
         "text": [
          "Pessimism vs Realism? (or Optimism?)"
         ],
         "type": "bar",
         "x": [
          39
         ],
         "xaxis": "x",
         "y": [
          "Remnant: From the Ashes"
         ],
         "yaxis": "y"
        },
        {
         "marker": {
          "color": [
           39
          ],
          "coloraxis": "coloraxis"
         },
         "name": "Pessimism vs Realism? (or Optimism?)",
         "orientation": "h",
         "text": [
          "Pessimism vs Realism? (or Optimism?)"
         ],
         "type": "bar",
         "x": [
          1
         ],
         "xaxis": "x2",
         "y": [
          "Remnant: From the Ashes"
         ],
         "yaxis": "y2"
        },
        {
         "marker": {
          "color": [
           7
          ],
          "coloraxis": "coloraxis"
         },
         "name": "Spell card strategy",
         "orientation": "h",
         "text": [
          "Spell card strategy"
         ],
         "type": "bar",
         "x": [
          7
         ],
         "xaxis": "x",
         "y": [
          "Clash Royale"
         ],
         "yaxis": "y"
        },
        {
         "marker": {
          "color": [
           7
          ],
          "coloraxis": "coloraxis"
         },
         "name": "Spell card strategy",
         "orientation": "h",
         "text": [
          "Spell card strategy"
         ],
         "type": "bar",
         "x": [
          1
         ],
         "xaxis": "x2",
         "y": [
          "Clash Royale"
         ],
         "yaxis": "y2"
        }
       ],
       "layout": {
        "annotations": [
         {
          "font": {
           "size": 16
          },
          "showarrow": false,
          "text": "Twitch Views",
          "x": 0.225,
          "xanchor": "center",
          "xref": "paper",
          "y": 1,
          "yanchor": "bottom",
          "yref": "paper"
         },
         {
          "font": {
           "size": 16
          },
          "showarrow": false,
          "text": "Youtube Shorts Views",
          "x": 0.775,
          "xanchor": "center",
          "xref": "paper",
          "y": 1,
          "yanchor": "bottom",
          "yref": "paper"
         }
        ],
        "barmode": "stack",
        "coloraxis": {
         "showscale": false
        },
        "template": {
         "data": {
          "bar": [
           {
            "error_x": {
             "color": "#2a3f5f"
            },
            "error_y": {
             "color": "#2a3f5f"
            },
            "marker": {
             "line": {
              "color": "#E5ECF6",
              "width": 0.5
             },
             "pattern": {
              "fillmode": "overlay",
              "size": 10,
              "solidity": 0.2
             }
            },
            "type": "bar"
           }
          ],
          "barpolar": [
           {
            "marker": {
             "line": {
              "color": "#E5ECF6",
              "width": 0.5
             },
             "pattern": {
              "fillmode": "overlay",
              "size": 10,
              "solidity": 0.2
             }
            },
            "type": "barpolar"
           }
          ],
          "carpet": [
           {
            "aaxis": {
             "endlinecolor": "#2a3f5f",
             "gridcolor": "white",
             "linecolor": "white",
             "minorgridcolor": "white",
             "startlinecolor": "#2a3f5f"
            },
            "baxis": {
             "endlinecolor": "#2a3f5f",
             "gridcolor": "white",
             "linecolor": "white",
             "minorgridcolor": "white",
             "startlinecolor": "#2a3f5f"
            },
            "type": "carpet"
           }
          ],
          "choropleth": [
           {
            "colorbar": {
             "outlinewidth": 0,
             "ticks": ""
            },
            "type": "choropleth"
           }
          ],
          "contour": [
           {
            "colorbar": {
             "outlinewidth": 0,
             "ticks": ""
            },
            "colorscale": [
             [
              0,
              "#0d0887"
             ],
             [
              0.1111111111111111,
              "#46039f"
             ],
             [
              0.2222222222222222,
              "#7201a8"
             ],
             [
              0.3333333333333333,
              "#9c179e"
             ],
             [
              0.4444444444444444,
              "#bd3786"
             ],
             [
              0.5555555555555556,
              "#d8576b"
             ],
             [
              0.6666666666666666,
              "#ed7953"
             ],
             [
              0.7777777777777778,
              "#fb9f3a"
             ],
             [
              0.8888888888888888,
              "#fdca26"
             ],
             [
              1,
              "#f0f921"
             ]
            ],
            "type": "contour"
           }
          ],
          "contourcarpet": [
           {
            "colorbar": {
             "outlinewidth": 0,
             "ticks": ""
            },
            "type": "contourcarpet"
           }
          ],
          "heatmap": [
           {
            "colorbar": {
             "outlinewidth": 0,
             "ticks": ""
            },
            "colorscale": [
             [
              0,
              "#0d0887"
             ],
             [
              0.1111111111111111,
              "#46039f"
             ],
             [
              0.2222222222222222,
              "#7201a8"
             ],
             [
              0.3333333333333333,
              "#9c179e"
             ],
             [
              0.4444444444444444,
              "#bd3786"
             ],
             [
              0.5555555555555556,
              "#d8576b"
             ],
             [
              0.6666666666666666,
              "#ed7953"
             ],
             [
              0.7777777777777778,
              "#fb9f3a"
             ],
             [
              0.8888888888888888,
              "#fdca26"
             ],
             [
              1,
              "#f0f921"
             ]
            ],
            "type": "heatmap"
           }
          ],
          "heatmapgl": [
           {
            "colorbar": {
             "outlinewidth": 0,
             "ticks": ""
            },
            "colorscale": [
             [
              0,
              "#0d0887"
             ],
             [
              0.1111111111111111,
              "#46039f"
             ],
             [
              0.2222222222222222,
              "#7201a8"
             ],
             [
              0.3333333333333333,
              "#9c179e"
             ],
             [
              0.4444444444444444,
              "#bd3786"
             ],
             [
              0.5555555555555556,
              "#d8576b"
             ],
             [
              0.6666666666666666,
              "#ed7953"
             ],
             [
              0.7777777777777778,
              "#fb9f3a"
             ],
             [
              0.8888888888888888,
              "#fdca26"
             ],
             [
              1,
              "#f0f921"
             ]
            ],
            "type": "heatmapgl"
           }
          ],
          "histogram": [
           {
            "marker": {
             "pattern": {
              "fillmode": "overlay",
              "size": 10,
              "solidity": 0.2
             }
            },
            "type": "histogram"
           }
          ],
          "histogram2d": [
           {
            "colorbar": {
             "outlinewidth": 0,
             "ticks": ""
            },
            "colorscale": [
             [
              0,
              "#0d0887"
             ],
             [
              0.1111111111111111,
              "#46039f"
             ],
             [
              0.2222222222222222,
              "#7201a8"
             ],
             [
              0.3333333333333333,
              "#9c179e"
             ],
             [
              0.4444444444444444,
              "#bd3786"
             ],
             [
              0.5555555555555556,
              "#d8576b"
             ],
             [
              0.6666666666666666,
              "#ed7953"
             ],
             [
              0.7777777777777778,
              "#fb9f3a"
             ],
             [
              0.8888888888888888,
              "#fdca26"
             ],
             [
              1,
              "#f0f921"
             ]
            ],
            "type": "histogram2d"
           }
          ],
          "histogram2dcontour": [
           {
            "colorbar": {
             "outlinewidth": 0,
             "ticks": ""
            },
            "colorscale": [
             [
              0,
              "#0d0887"
             ],
             [
              0.1111111111111111,
              "#46039f"
             ],
             [
              0.2222222222222222,
              "#7201a8"
             ],
             [
              0.3333333333333333,
              "#9c179e"
             ],
             [
              0.4444444444444444,
              "#bd3786"
             ],
             [
              0.5555555555555556,
              "#d8576b"
             ],
             [
              0.6666666666666666,
              "#ed7953"
             ],
             [
              0.7777777777777778,
              "#fb9f3a"
             ],
             [
              0.8888888888888888,
              "#fdca26"
             ],
             [
              1,
              "#f0f921"
             ]
            ],
            "type": "histogram2dcontour"
           }
          ],
          "mesh3d": [
           {
            "colorbar": {
             "outlinewidth": 0,
             "ticks": ""
            },
            "type": "mesh3d"
           }
          ],
          "parcoords": [
           {
            "line": {
             "colorbar": {
              "outlinewidth": 0,
              "ticks": ""
             }
            },
            "type": "parcoords"
           }
          ],
          "pie": [
           {
            "automargin": true,
            "type": "pie"
           }
          ],
          "scatter": [
           {
            "fillpattern": {
             "fillmode": "overlay",
             "size": 10,
             "solidity": 0.2
            },
            "type": "scatter"
           }
          ],
          "scatter3d": [
           {
            "line": {
             "colorbar": {
              "outlinewidth": 0,
              "ticks": ""
             }
            },
            "marker": {
             "colorbar": {
              "outlinewidth": 0,
              "ticks": ""
             }
            },
            "type": "scatter3d"
           }
          ],
          "scattercarpet": [
           {
            "marker": {
             "colorbar": {
              "outlinewidth": 0,
              "ticks": ""
             }
            },
            "type": "scattercarpet"
           }
          ],
          "scattergeo": [
           {
            "marker": {
             "colorbar": {
              "outlinewidth": 0,
              "ticks": ""
             }
            },
            "type": "scattergeo"
           }
          ],
          "scattergl": [
           {
            "marker": {
             "colorbar": {
              "outlinewidth": 0,
              "ticks": ""
             }
            },
            "type": "scattergl"
           }
          ],
          "scattermapbox": [
           {
            "marker": {
             "colorbar": {
              "outlinewidth": 0,
              "ticks": ""
             }
            },
            "type": "scattermapbox"
           }
          ],
          "scatterpolar": [
           {
            "marker": {
             "colorbar": {
              "outlinewidth": 0,
              "ticks": ""
             }
            },
            "type": "scatterpolar"
           }
          ],
          "scatterpolargl": [
           {
            "marker": {
             "colorbar": {
              "outlinewidth": 0,
              "ticks": ""
             }
            },
            "type": "scatterpolargl"
           }
          ],
          "scatterternary": [
           {
            "marker": {
             "colorbar": {
              "outlinewidth": 0,
              "ticks": ""
             }
            },
            "type": "scatterternary"
           }
          ],
          "surface": [
           {
            "colorbar": {
             "outlinewidth": 0,
             "ticks": ""
            },
            "colorscale": [
             [
              0,
              "#0d0887"
             ],
             [
              0.1111111111111111,
              "#46039f"
             ],
             [
              0.2222222222222222,
              "#7201a8"
             ],
             [
              0.3333333333333333,
              "#9c179e"
             ],
             [
              0.4444444444444444,
              "#bd3786"
             ],
             [
              0.5555555555555556,
              "#d8576b"
             ],
             [
              0.6666666666666666,
              "#ed7953"
             ],
             [
              0.7777777777777778,
              "#fb9f3a"
             ],
             [
              0.8888888888888888,
              "#fdca26"
             ],
             [
              1,
              "#f0f921"
             ]
            ],
            "type": "surface"
           }
          ],
          "table": [
           {
            "cells": {
             "fill": {
              "color": "#EBF0F8"
             },
             "line": {
              "color": "white"
             }
            },
            "header": {
             "fill": {
              "color": "#C8D4E3"
             },
             "line": {
              "color": "white"
             }
            },
            "type": "table"
           }
          ]
         },
         "layout": {
          "annotationdefaults": {
           "arrowcolor": "#2a3f5f",
           "arrowhead": 0,
           "arrowwidth": 1
          },
          "autotypenumbers": "strict",
          "coloraxis": {
           "colorbar": {
            "outlinewidth": 0,
            "ticks": ""
           }
          },
          "colorscale": {
           "diverging": [
            [
             0,
             "#8e0152"
            ],
            [
             0.1,
             "#c51b7d"
            ],
            [
             0.2,
             "#de77ae"
            ],
            [
             0.3,
             "#f1b6da"
            ],
            [
             0.4,
             "#fde0ef"
            ],
            [
             0.5,
             "#f7f7f7"
            ],
            [
             0.6,
             "#e6f5d0"
            ],
            [
             0.7,
             "#b8e186"
            ],
            [
             0.8,
             "#7fbc41"
            ],
            [
             0.9,
             "#4d9221"
            ],
            [
             1,
             "#276419"
            ]
           ],
           "sequential": [
            [
             0,
             "#0d0887"
            ],
            [
             0.1111111111111111,
             "#46039f"
            ],
            [
             0.2222222222222222,
             "#7201a8"
            ],
            [
             0.3333333333333333,
             "#9c179e"
            ],
            [
             0.4444444444444444,
             "#bd3786"
            ],
            [
             0.5555555555555556,
             "#d8576b"
            ],
            [
             0.6666666666666666,
             "#ed7953"
            ],
            [
             0.7777777777777778,
             "#fb9f3a"
            ],
            [
             0.8888888888888888,
             "#fdca26"
            ],
            [
             1,
             "#f0f921"
            ]
           ],
           "sequentialminus": [
            [
             0,
             "#0d0887"
            ],
            [
             0.1111111111111111,
             "#46039f"
            ],
            [
             0.2222222222222222,
             "#7201a8"
            ],
            [
             0.3333333333333333,
             "#9c179e"
            ],
            [
             0.4444444444444444,
             "#bd3786"
            ],
            [
             0.5555555555555556,
             "#d8576b"
            ],
            [
             0.6666666666666666,
             "#ed7953"
            ],
            [
             0.7777777777777778,
             "#fb9f3a"
            ],
            [
             0.8888888888888888,
             "#fdca26"
            ],
            [
             1,
             "#f0f921"
            ]
           ]
          },
          "colorway": [
           "#636efa",
           "#EF553B",
           "#00cc96",
           "#ab63fa",
           "#FFA15A",
           "#19d3f3",
           "#FF6692",
           "#B6E880",
           "#FF97FF",
           "#FECB52"
          ],
          "font": {
           "color": "#2a3f5f"
          },
          "geo": {
           "bgcolor": "white",
           "lakecolor": "white",
           "landcolor": "#E5ECF6",
           "showlakes": true,
           "showland": true,
           "subunitcolor": "white"
          },
          "hoverlabel": {
           "align": "left"
          },
          "hovermode": "closest",
          "mapbox": {
           "style": "light"
          },
          "paper_bgcolor": "white",
          "plot_bgcolor": "#E5ECF6",
          "polar": {
           "angularaxis": {
            "gridcolor": "white",
            "linecolor": "white",
            "ticks": ""
           },
           "bgcolor": "#E5ECF6",
           "radialaxis": {
            "gridcolor": "white",
            "linecolor": "white",
            "ticks": ""
           }
          },
          "scene": {
           "xaxis": {
            "backgroundcolor": "#E5ECF6",
            "gridcolor": "white",
            "gridwidth": 2,
            "linecolor": "white",
            "showbackground": true,
            "ticks": "",
            "zerolinecolor": "white"
           },
           "yaxis": {
            "backgroundcolor": "#E5ECF6",
            "gridcolor": "white",
            "gridwidth": 2,
            "linecolor": "white",
            "showbackground": true,
            "ticks": "",
            "zerolinecolor": "white"
           },
           "zaxis": {
            "backgroundcolor": "#E5ECF6",
            "gridcolor": "white",
            "gridwidth": 2,
            "linecolor": "white",
            "showbackground": true,
            "ticks": "",
            "zerolinecolor": "white"
           }
          },
          "shapedefaults": {
           "line": {
            "color": "#2a3f5f"
           }
          },
          "ternary": {
           "aaxis": {
            "gridcolor": "white",
            "linecolor": "white",
            "ticks": ""
           },
           "baxis": {
            "gridcolor": "white",
            "linecolor": "white",
            "ticks": ""
           },
           "bgcolor": "#E5ECF6",
           "caxis": {
            "gridcolor": "white",
            "linecolor": "white",
            "ticks": ""
           }
          },
          "title": {
           "x": 0.05
          },
          "xaxis": {
           "automargin": true,
           "gridcolor": "white",
           "linecolor": "white",
           "ticks": "",
           "title": {
            "standoff": 15
           },
           "zerolinecolor": "white",
           "zerolinewidth": 2
          },
          "yaxis": {
           "automargin": true,
           "gridcolor": "white",
           "linecolor": "white",
           "ticks": "",
           "title": {
            "standoff": 15
           },
           "zerolinecolor": "white",
           "zerolinewidth": 2
          }
         }
        },
        "title": {
         "text": "Published Shorts vs Clips "
        },
        "xaxis": {
         "anchor": "y",
         "domain": [
          0,
          0.45
         ]
        },
        "xaxis2": {
         "anchor": "y2",
         "domain": [
          0.55,
          1
         ]
        },
        "yaxis": {
         "anchor": "x",
         "domain": [
          0,
          1
         ]
        },
        "yaxis2": {
         "anchor": "x2",
         "categoryorder": "total ascending",
         "domain": [
          0,
          1
         ],
         "matches": "y",
         "showticklabels": false
        }
       }
      }
     },
     "metadata": {},
     "output_type": "display_data"
    }
   ],
   "source": [
    "fig = make_subplots(rows=1, cols=2, subplot_titles = (\"Twitch Views\", \"Youtube Shorts Views\"), shared_yaxes=True)\n",
    "\n",
    "for ix in clip_metrics_df.loc[(clip_metrics_df['game_name'].notnull()) & (clip_metrics_df['style'] == 'm'), :].index:\n",
    "    fig.add_trace(go.Bar(x=[clip_metrics_df.loc[ix, 'view_count']], y= [clip_metrics_df.loc[ix, 'game_name']], name=clip_metrics_df.loc[ix, 'title'], text=[clip_metrics_df.loc[ix, 'title']], orientation='h', marker={'color': [clip_metrics_df.loc[ix, 'view_count']], 'coloraxis': 'coloraxis'}), row=1, col=1)\n",
    "    fig.add_trace(go.Bar(x=[clip_metrics_df.loc[ix, 'views']], y= [clip_metrics_df.loc[ix, 'game_name']], name=clip_metrics_df.loc[ix, 'title'], text=[clip_metrics_df.loc[ix, 'title']], orientation='h', marker={'color': [clip_metrics_df.loc[ix, 'view_count']], 'coloraxis': 'coloraxis'}), row=1, col=2)\n",
    "\n",
    "fig.update_layout(barmode='stack', title={'text': \"Published Shorts vs Clips \"}, yaxis2 = {'categoryorder': \"total ascending\"} )\n",
    "fig.update_coloraxes(showscale=False)\n",
    "fig.show()\n"
   ]
  },
  {
   "cell_type": "code",
   "execution_count": 14,
   "metadata": {},
   "outputs": [
    {
     "data": {
      "application/vnd.plotly.v1+json": {
       "config": {
        "plotlyServerURL": "https://plot.ly"
       },
       "data": [
        {
         "marker": {
          "color": [
           13
          ],
          "coloraxis": "coloraxis"
         },
         "name": "Poking and running away",
         "orientation": "h",
         "text": [
          "Poking and running away"
         ],
         "type": "bar",
         "x": [
          13
         ],
         "xaxis": "x",
         "y": [
          "Horizon Forbidden West"
         ],
         "yaxis": "y"
        },
        {
         "marker": {
          "color": [
           48
          ],
          "coloraxis": "coloraxis"
         },
         "name": "Poking and running away",
         "orientation": "h",
         "text": [
          "Poking and running away"
         ],
         "type": "bar",
         "x": [
          48
         ],
         "xaxis": "x2",
         "y": [
          "Horizon Forbidden West"
         ],
         "yaxis": "y2"
        },
        {
         "marker": {
          "color": [
           5
          ],
          "coloraxis": "coloraxis"
         },
         "name": "Co-Op: Did you not see my greatness?",
         "orientation": "h",
         "text": [
          "Co-Op: Did you not see my greatness?"
         ],
         "type": "bar",
         "x": [
          5
         ],
         "xaxis": "x",
         "y": [
          "Ghost of Tsushima"
         ],
         "yaxis": "y"
        },
        {
         "marker": {
          "color": [
           37
          ],
          "coloraxis": "coloraxis"
         },
         "name": "Co-Op: Did you not see my greatness?",
         "orientation": "h",
         "text": [
          "Co-Op: Did you not see my greatness?"
         ],
         "type": "bar",
         "x": [
          37
         ],
         "xaxis": "x2",
         "y": [
          "Ghost of Tsushima"
         ],
         "yaxis": "y2"
        },
        {
         "marker": {
          "color": [
           4
          ],
          "coloraxis": "coloraxis"
         },
         "name": "Hope dies last",
         "orientation": "h",
         "text": [
          "Hope dies last"
         ],
         "type": "bar",
         "x": [
          4
         ],
         "xaxis": "x",
         "y": [
          "Horizon Forbidden West"
         ],
         "yaxis": "y"
        },
        {
         "marker": {
          "color": [
           24
          ],
          "coloraxis": "coloraxis"
         },
         "name": "Hope dies last",
         "orientation": "h",
         "text": [
          "Hope dies last"
         ],
         "type": "bar",
         "x": [
          24
         ],
         "xaxis": "x2",
         "y": [
          "Horizon Forbidden West"
         ],
         "yaxis": "y2"
        },
        {
         "marker": {
          "color": [
           8
          ],
          "coloraxis": "coloraxis"
         },
         "name": "SquareWon takeover: You know who I am",
         "orientation": "h",
         "text": [
          "SquareWon takeover: You know who I am"
         ],
         "type": "bar",
         "x": [
          8
         ],
         "xaxis": "x",
         "y": [
          "Horizon Forbidden West"
         ],
         "yaxis": "y"
        },
        {
         "marker": {
          "color": [
           31
          ],
          "coloraxis": "coloraxis"
         },
         "name": "SquareWon takeover: You know who I am",
         "orientation": "h",
         "text": [
          "SquareWon takeover: You know who I am"
         ],
         "type": "bar",
         "x": [
          31
         ],
         "xaxis": "x2",
         "y": [
          "Horizon Forbidden West"
         ],
         "yaxis": "y2"
        },
        {
         "marker": {
          "color": [
           28
          ],
          "coloraxis": "coloraxis"
         },
         "name": "DIARRHEA EVERYWHERE!",
         "orientation": "h",
         "text": [
          "DIARRHEA EVERYWHERE!"
         ],
         "type": "bar",
         "x": [
          28
         ],
         "xaxis": "x",
         "y": [
          "Demon's Souls"
         ],
         "yaxis": "y"
        },
        {
         "marker": {
          "color": [
           27
          ],
          "coloraxis": "coloraxis"
         },
         "name": "DIARRHEA EVERYWHERE!",
         "orientation": "h",
         "text": [
          "DIARRHEA EVERYWHERE!"
         ],
         "type": "bar",
         "x": [
          27
         ],
         "xaxis": "x2",
         "y": [
          "Demon's Souls"
         ],
         "yaxis": "y2"
        },
        {
         "marker": {
          "color": [
           18
          ],
          "coloraxis": "coloraxis"
         },
         "name": "You sold the blastling?!?",
         "orientation": "h",
         "text": [
          "You sold the blastling?!?"
         ],
         "type": "bar",
         "x": [
          18
         ],
         "xaxis": "x",
         "y": [
          "Horizon Forbidden West"
         ],
         "yaxis": "y"
        },
        {
         "marker": {
          "color": [
           9
          ],
          "coloraxis": "coloraxis"
         },
         "name": "You sold the blastling?!?",
         "orientation": "h",
         "text": [
          "You sold the blastling?!?"
         ],
         "type": "bar",
         "x": [
          9
         ],
         "xaxis": "x2",
         "y": [
          "Horizon Forbidden West"
         ],
         "yaxis": "y2"
        },
        {
         "marker": {
          "color": [
           4
          ],
          "coloraxis": "coloraxis"
         },
         "name": "Co-Op: Winning by accident",
         "orientation": "h",
         "text": [
          "Co-Op: Winning by accident"
         ],
         "type": "bar",
         "x": [
          4
         ],
         "xaxis": "x",
         "y": [
          "Ghost of Tsushima"
         ],
         "yaxis": "y"
        },
        {
         "marker": {
          "color": [
           11
          ],
          "coloraxis": "coloraxis"
         },
         "name": "Co-Op: Winning by accident",
         "orientation": "h",
         "text": [
          "Co-Op: Winning by accident"
         ],
         "type": "bar",
         "x": [
          11
         ],
         "xaxis": "x2",
         "y": [
          "Ghost of Tsushima"
         ],
         "yaxis": "y2"
        },
        {
         "marker": {
          "color": [
           11
          ],
          "coloraxis": "coloraxis"
         },
         "name": "So many things that can kill me",
         "orientation": "h",
         "text": [
          "So many things that can kill me"
         ],
         "type": "bar",
         "x": [
          11
         ],
         "xaxis": "x",
         "y": [
          "Demon's Souls"
         ],
         "yaxis": "y"
        },
        {
         "marker": {
          "color": [
           10
          ],
          "coloraxis": "coloraxis"
         },
         "name": "So many things that can kill me",
         "orientation": "h",
         "text": [
          "So many things that can kill me"
         ],
         "type": "bar",
         "x": [
          10
         ],
         "xaxis": "x2",
         "y": [
          "Demon's Souls"
         ],
         "yaxis": "y2"
        },
        {
         "marker": {
          "color": [
           46
          ],
          "coloraxis": "coloraxis"
         },
         "name": "The Round One is Brave!",
         "orientation": "h",
         "text": [
          "The Round One is Brave!"
         ],
         "type": "bar",
         "x": [
          46
         ],
         "xaxis": "x",
         "y": [
          "Demon's Souls"
         ],
         "yaxis": "y"
        },
        {
         "marker": {
          "color": [
           10
          ],
          "coloraxis": "coloraxis"
         },
         "name": "The Round One is Brave!",
         "orientation": "h",
         "text": [
          "The Round One is Brave!"
         ],
         "type": "bar",
         "x": [
          10
         ],
         "xaxis": "x2",
         "y": [
          "Demon's Souls"
         ],
         "yaxis": "y2"
        },
        {
         "marker": {
          "color": [
           15
          ],
          "coloraxis": "coloraxis"
         },
         "name": "For all the Marbles!",
         "orientation": "h",
         "text": [
          "For all the Marbles!"
         ],
         "type": "bar",
         "x": [
          15
         ],
         "xaxis": "x",
         "y": [
          "Overcooked! All You Can Eat"
         ],
         "yaxis": "y"
        },
        {
         "marker": {
          "color": [
           7
          ],
          "coloraxis": "coloraxis"
         },
         "name": "For all the Marbles!",
         "orientation": "h",
         "text": [
          "For all the Marbles!"
         ],
         "type": "bar",
         "x": [
          7
         ],
         "xaxis": "x2",
         "y": [
          "Overcooked! All You Can Eat"
         ],
         "yaxis": "y2"
        },
        {
         "marker": {
          "color": [
           12
          ],
          "coloraxis": "coloraxis"
         },
         "name": "Square assumes direct control",
         "orientation": "h",
         "text": [
          "Square assumes direct control"
         ],
         "type": "bar",
         "x": [
          12
         ],
         "xaxis": "x",
         "y": [
          "Demon's Souls"
         ],
         "yaxis": "y"
        },
        {
         "marker": {
          "color": [
           11
          ],
          "coloraxis": "coloraxis"
         },
         "name": "Square assumes direct control",
         "orientation": "h",
         "text": [
          "Square assumes direct control"
         ],
         "type": "bar",
         "x": [
          11
         ],
         "xaxis": "x2",
         "y": [
          "Demon's Souls"
         ],
         "yaxis": "y2"
        },
        {
         "marker": {
          "color": [
           10
          ],
          "coloraxis": "coloraxis"
         },
         "name": "Back to reality",
         "orientation": "h",
         "text": [
          "Back to reality"
         ],
         "type": "bar",
         "x": [
          10
         ],
         "xaxis": "x",
         "y": [
          "Demon's Souls"
         ],
         "yaxis": "y"
        },
        {
         "marker": {
          "color": [
           15
          ],
          "coloraxis": "coloraxis"
         },
         "name": "Back to reality",
         "orientation": "h",
         "text": [
          "Back to reality"
         ],
         "type": "bar",
         "x": [
          15
         ],
         "xaxis": "x2",
         "y": [
          "Demon's Souls"
         ],
         "yaxis": "y2"
        },
        {
         "marker": {
          "color": [
           279
          ],
          "coloraxis": "coloraxis"
         },
         "name": "I mean...",
         "orientation": "h",
         "text": [
          "I mean..."
         ],
         "type": "bar",
         "x": [
          279
         ],
         "xaxis": "x",
         "y": [
          "Demon's Souls"
         ],
         "yaxis": "y"
        },
        {
         "marker": {
          "color": [
           20
          ],
          "coloraxis": "coloraxis"
         },
         "name": "I mean...",
         "orientation": "h",
         "text": [
          "I mean..."
         ],
         "type": "bar",
         "x": [
          20
         ],
         "xaxis": "x2",
         "y": [
          "Demon's Souls"
         ],
         "yaxis": "y2"
        },
        {
         "marker": {
          "color": [
           28
          ],
          "coloraxis": "coloraxis"
         },
         "name": "S U F F E R",
         "orientation": "h",
         "text": [
          "S U F F E R"
         ],
         "type": "bar",
         "x": [
          28
         ],
         "xaxis": "x",
         "y": [
          "Demon's Souls"
         ],
         "yaxis": "y"
        },
        {
         "marker": {
          "color": [
           10
          ],
          "coloraxis": "coloraxis"
         },
         "name": "S U F F E R",
         "orientation": "h",
         "text": [
          "S U F F E R"
         ],
         "type": "bar",
         "x": [
          10
         ],
         "xaxis": "x2",
         "y": [
          "Demon's Souls"
         ],
         "yaxis": "y2"
        },
        {
         "marker": {
          "color": [
           4
          ],
          "coloraxis": "coloraxis"
         },
         "name": "Homie's got some legs",
         "orientation": "h",
         "text": [
          "Homie's got some legs"
         ],
         "type": "bar",
         "x": [
          4
         ],
         "xaxis": "x",
         "y": [
          "Ghost of Tsushima"
         ],
         "yaxis": "y"
        },
        {
         "marker": {
          "color": [
           5
          ],
          "coloraxis": "coloraxis"
         },
         "name": "Homie's got some legs",
         "orientation": "h",
         "text": [
          "Homie's got some legs"
         ],
         "type": "bar",
         "x": [
          5
         ],
         "xaxis": "x2",
         "y": [
          "Ghost of Tsushima"
         ],
         "yaxis": "y2"
        },
        {
         "marker": {
          "color": [
           12
          ],
          "coloraxis": "coloraxis"
         },
         "name": "2000 Souls Gone",
         "orientation": "h",
         "text": [
          "2000 Souls Gone"
         ],
         "type": "bar",
         "x": [
          12
         ],
         "xaxis": "x",
         "y": [
          "Demon's Souls"
         ],
         "yaxis": "y"
        },
        {
         "marker": {
          "color": [
           5
          ],
          "coloraxis": "coloraxis"
         },
         "name": "2000 Souls Gone",
         "orientation": "h",
         "text": [
          "2000 Souls Gone"
         ],
         "type": "bar",
         "x": [
          5
         ],
         "xaxis": "x2",
         "y": [
          "Demon's Souls"
         ],
         "yaxis": "y2"
        },
        {
         "marker": {
          "color": [
           19
          ],
          "coloraxis": "coloraxis"
         },
         "name": "Heroes Don't Die",
         "orientation": "h",
         "text": [
          "Heroes Don't Die"
         ],
         "type": "bar",
         "x": [
          19
         ],
         "xaxis": "x",
         "y": [
          "Horizon Forbidden West"
         ],
         "yaxis": "y"
        },
        {
         "marker": {
          "color": [
           8
          ],
          "coloraxis": "coloraxis"
         },
         "name": "Heroes Don't Die",
         "orientation": "h",
         "text": [
          "Heroes Don't Die"
         ],
         "type": "bar",
         "x": [
          8
         ],
         "xaxis": "x2",
         "y": [
          "Horizon Forbidden West"
         ],
         "yaxis": "y2"
        },
        {
         "marker": {
          "color": [
           5
          ],
          "coloraxis": "coloraxis"
         },
         "name": "Death and destruction",
         "orientation": "h",
         "text": [
          "Death and destruction"
         ],
         "type": "bar",
         "x": [
          5
         ],
         "xaxis": "x",
         "y": [
          "Horizon Forbidden West"
         ],
         "yaxis": "y"
        },
        {
         "marker": {
          "color": [
           3
          ],
          "coloraxis": "coloraxis"
         },
         "name": "Death and destruction",
         "orientation": "h",
         "text": [
          "Death and destruction"
         ],
         "type": "bar",
         "x": [
          3
         ],
         "xaxis": "x2",
         "y": [
          "Horizon Forbidden West"
         ],
         "yaxis": "y2"
        },
        {
         "marker": {
          "color": [
           8
          ],
          "coloraxis": "coloraxis"
         },
         "name": "Metaphorical",
         "orientation": "h",
         "text": [
          "Metaphorical"
         ],
         "type": "bar",
         "x": [
          8
         ],
         "xaxis": "x",
         "y": [
          "It Takes Two"
         ],
         "yaxis": "y"
        },
        {
         "marker": {
          "color": [
           6
          ],
          "coloraxis": "coloraxis"
         },
         "name": "Metaphorical",
         "orientation": "h",
         "text": [
          "Metaphorical"
         ],
         "type": "bar",
         "x": [
          6
         ],
         "xaxis": "x2",
         "y": [
          "It Takes Two"
         ],
         "yaxis": "y2"
        },
        {
         "marker": {
          "color": [
           17
          ],
          "coloraxis": "coloraxis"
         },
         "name": "I got a tree b, can't fight the tree!",
         "orientation": "h",
         "text": [
          "I got a tree b, can't fight the tree!"
         ],
         "type": "bar",
         "x": [
          17
         ],
         "xaxis": "x",
         "y": [
          "Horizon Forbidden West"
         ],
         "yaxis": "y"
        },
        {
         "marker": {
          "color": [
           7
          ],
          "coloraxis": "coloraxis"
         },
         "name": "I got a tree b, can't fight the tree!",
         "orientation": "h",
         "text": [
          "I got a tree b, can't fight the tree!"
         ],
         "type": "bar",
         "x": [
          7
         ],
         "xaxis": "x2",
         "y": [
          "Horizon Forbidden West"
         ],
         "yaxis": "y2"
        },
        {
         "marker": {
          "color": [
           10
          ],
          "coloraxis": "coloraxis"
         },
         "name": "magic man",
         "orientation": "h",
         "text": [
          "magic man"
         ],
         "type": "bar",
         "x": [
          10
         ],
         "xaxis": "x",
         "y": [
          "Demon's Souls"
         ],
         "yaxis": "y"
        },
        {
         "marker": {
          "color": [
           6
          ],
          "coloraxis": "coloraxis"
         },
         "name": "magic man",
         "orientation": "h",
         "text": [
          "magic man"
         ],
         "type": "bar",
         "x": [
          6
         ],
         "xaxis": "x2",
         "y": [
          "Demon's Souls"
         ],
         "yaxis": "y2"
        },
        {
         "marker": {
          "color": [
           11
          ],
          "coloraxis": "coloraxis"
         },
         "name": "Go away! So needy...",
         "orientation": "h",
         "text": [
          "Go away! So needy..."
         ],
         "type": "bar",
         "x": [
          11
         ],
         "xaxis": "x",
         "y": [
          "Horizon Forbidden West"
         ],
         "yaxis": "y"
        },
        {
         "marker": {
          "color": [
           5
          ],
          "coloraxis": "coloraxis"
         },
         "name": "Go away! So needy...",
         "orientation": "h",
         "text": [
          "Go away! So needy..."
         ],
         "type": "bar",
         "x": [
          5
         ],
         "xaxis": "x2",
         "y": [
          "Horizon Forbidden West"
         ],
         "yaxis": "y2"
        },
        {
         "marker": {
          "color": [
           14
          ],
          "coloraxis": "coloraxis"
         },
         "name": "making good choices",
         "orientation": "h",
         "text": [
          "making good choices"
         ],
         "type": "bar",
         "x": [
          14
         ],
         "xaxis": "x",
         "y": [
          "Demon's Souls"
         ],
         "yaxis": "y"
        },
        {
         "marker": {
          "color": [
           6
          ],
          "coloraxis": "coloraxis"
         },
         "name": "making good choices",
         "orientation": "h",
         "text": [
          "making good choices"
         ],
         "type": "bar",
         "x": [
          6
         ],
         "xaxis": "x2",
         "y": [
          "Demon's Souls"
         ],
         "yaxis": "y2"
        },
        {
         "marker": {
          "color": [
           15
          ],
          "coloraxis": "coloraxis"
         },
         "name": "Clipping G O L D",
         "orientation": "h",
         "text": [
          "Clipping G O L D"
         ],
         "type": "bar",
         "x": [
          15
         ],
         "xaxis": "x",
         "y": [
          "Demon's Souls"
         ],
         "yaxis": "y"
        },
        {
         "marker": {
          "color": [
           8
          ],
          "coloraxis": "coloraxis"
         },
         "name": "Clipping G O L D",
         "orientation": "h",
         "text": [
          "Clipping G O L D"
         ],
         "type": "bar",
         "x": [
          8
         ],
         "xaxis": "x2",
         "y": [
          "Demon's Souls"
         ],
         "yaxis": "y2"
        },
        {
         "marker": {
          "color": [
           11
          ],
          "coloraxis": "coloraxis"
         },
         "name": "So rude",
         "orientation": "h",
         "text": [
          "So rude"
         ],
         "type": "bar",
         "x": [
          11
         ],
         "xaxis": "x",
         "y": [
          "Horizon Forbidden West"
         ],
         "yaxis": "y"
        },
        {
         "marker": {
          "color": [
           4
          ],
          "coloraxis": "coloraxis"
         },
         "name": "So rude",
         "orientation": "h",
         "text": [
          "So rude"
         ],
         "type": "bar",
         "x": [
          4
         ],
         "xaxis": "x2",
         "y": [
          "Horizon Forbidden West"
         ],
         "yaxis": "y2"
        },
        {
         "marker": {
          "color": [
           7
          ],
          "coloraxis": "coloraxis"
         },
         "name": "My must watch players",
         "orientation": "h",
         "text": [
          "My must watch players"
         ],
         "type": "bar",
         "x": [
          7
         ],
         "xaxis": "x",
         "y": [
          "Clash Royale"
         ],
         "yaxis": "y"
        },
        {
         "marker": {
          "color": [
           6
          ],
          "coloraxis": "coloraxis"
         },
         "name": "My must watch players",
         "orientation": "h",
         "text": [
          "My must watch players"
         ],
         "type": "bar",
         "x": [
          6
         ],
         "xaxis": "x2",
         "y": [
          "Clash Royale"
         ],
         "yaxis": "y2"
        },
        {
         "marker": {
          "color": [
           25
          ],
          "coloraxis": "coloraxis"
         },
         "name": "Laggy Revives ",
         "orientation": "h",
         "text": [
          "Laggy Revives "
         ],
         "type": "bar",
         "x": [
          25
         ],
         "xaxis": "x",
         "y": [
          "Remnant: From the Ashes"
         ],
         "yaxis": "y"
        },
        {
         "marker": {
          "color": [
           2
          ],
          "coloraxis": "coloraxis"
         },
         "name": "Laggy Revives ",
         "orientation": "h",
         "text": [
          "Laggy Revives "
         ],
         "type": "bar",
         "x": [
          2
         ],
         "xaxis": "x2",
         "y": [
          "Remnant: From the Ashes"
         ],
         "yaxis": "y2"
        },
        {
         "marker": {
          "color": [
           61
          ],
          "coloraxis": "coloraxis"
         },
         "name": "Remember to roll forward ",
         "orientation": "h",
         "text": [
          "Remember to roll forward "
         ],
         "type": "bar",
         "x": [
          61
         ],
         "xaxis": "x",
         "y": [
          "Remnant: From the Ashes"
         ],
         "yaxis": "y"
        },
        {
         "marker": {
          "color": [
           5
          ],
          "coloraxis": "coloraxis"
         },
         "name": "Remember to roll forward ",
         "orientation": "h",
         "text": [
          "Remember to roll forward "
         ],
         "type": "bar",
         "x": [
          5
         ],
         "xaxis": "x2",
         "y": [
          "Remnant: From the Ashes"
         ],
         "yaxis": "y2"
        },
        {
         "marker": {
          "color": [
           12
          ],
          "coloraxis": "coloraxis"
         },
         "name": "Square doing square things",
         "orientation": "h",
         "text": [
          "Square doing square things"
         ],
         "type": "bar",
         "x": [
          12
         ],
         "xaxis": "x",
         "y": [
          "Demon's Souls"
         ],
         "yaxis": "y"
        },
        {
         "marker": {
          "color": [
           4
          ],
          "coloraxis": "coloraxis"
         },
         "name": "Square doing square things",
         "orientation": "h",
         "text": [
          "Square doing square things"
         ],
         "type": "bar",
         "x": [
          4
         ],
         "xaxis": "x2",
         "y": [
          "Demon's Souls"
         ],
         "yaxis": "y2"
        },
        {
         "marker": {
          "color": [
           10
          ],
          "coloraxis": "coloraxis"
         },
         "name": "Enemies can do this now",
         "orientation": "h",
         "text": [
          "Enemies can do this now"
         ],
         "type": "bar",
         "x": [
          10
         ],
         "xaxis": "x",
         "y": [
          "Horizon Forbidden West"
         ],
         "yaxis": "y"
        },
        {
         "marker": {
          "color": [
           7
          ],
          "coloraxis": "coloraxis"
         },
         "name": "Enemies can do this now",
         "orientation": "h",
         "text": [
          "Enemies can do this now"
         ],
         "type": "bar",
         "x": [
          7
         ],
         "xaxis": "x2",
         "y": [
          "Horizon Forbidden West"
         ],
         "yaxis": "y2"
        },
        {
         "marker": {
          "color": [
           53
          ],
          "coloraxis": "coloraxis"
         },
         "name": "Iconic",
         "orientation": "h",
         "text": [
          "Iconic"
         ],
         "type": "bar",
         "x": [
          53
         ],
         "xaxis": "x",
         "y": [
          "Demon's Souls"
         ],
         "yaxis": "y"
        },
        {
         "marker": {
          "color": [
           6
          ],
          "coloraxis": "coloraxis"
         },
         "name": "Iconic",
         "orientation": "h",
         "text": [
          "Iconic"
         ],
         "type": "bar",
         "x": [
          6
         ],
         "xaxis": "x2",
         "y": [
          "Demon's Souls"
         ],
         "yaxis": "y2"
        },
        {
         "marker": {
          "color": [
           19
          ],
          "coloraxis": "coloraxis"
         },
         "name": "The SaltWon",
         "orientation": "h",
         "text": [
          "The SaltWon"
         ],
         "type": "bar",
         "x": [
          19
         ],
         "xaxis": "x",
         "y": [
          "Horizon Forbidden West"
         ],
         "yaxis": "y"
        },
        {
         "marker": {
          "color": [
           2
          ],
          "coloraxis": "coloraxis"
         },
         "name": "The SaltWon",
         "orientation": "h",
         "text": [
          "The SaltWon"
         ],
         "type": "bar",
         "x": [
          2
         ],
         "xaxis": "x2",
         "y": [
          "Horizon Forbidden West"
         ],
         "yaxis": "y2"
        },
        {
         "marker": {
          "color": [
           33
          ],
          "coloraxis": "coloraxis"
         },
         "name": "When You're The Last One Left",
         "orientation": "h",
         "text": [
          "When You're The Last One Left"
         ],
         "type": "bar",
         "x": [
          33
         ],
         "xaxis": "x",
         "y": [
          "Remnant: From the Ashes"
         ],
         "yaxis": "y"
        },
        {
         "marker": {
          "color": [
           3
          ],
          "coloraxis": "coloraxis"
         },
         "name": "When You're The Last One Left",
         "orientation": "h",
         "text": [
          "When You're The Last One Left"
         ],
         "type": "bar",
         "x": [
          3
         ],
         "xaxis": "x2",
         "y": [
          "Remnant: From the Ashes"
         ],
         "yaxis": "y2"
        },
        {
         "marker": {
          "color": [
           9
          ],
          "coloraxis": "coloraxis"
         },
         "name": "Co-Op: Big ole ThickDSavy",
         "orientation": "h",
         "text": [
          "Co-Op: Big ole ThickDSavy"
         ],
         "type": "bar",
         "x": [
          9
         ],
         "xaxis": "x",
         "y": [
          "Ghost of Tsushima"
         ],
         "yaxis": "y"
        },
        {
         "marker": {
          "color": [
           8
          ],
          "coloraxis": "coloraxis"
         },
         "name": "Co-Op: Big ole ThickDSavy",
         "orientation": "h",
         "text": [
          "Co-Op: Big ole ThickDSavy"
         ],
         "type": "bar",
         "x": [
          8
         ],
         "xaxis": "x2",
         "y": [
          "Ghost of Tsushima"
         ],
         "yaxis": "y2"
        },
        {
         "marker": {
          "color": [
           7
          ],
          "coloraxis": "coloraxis"
         },
         "name": "Spell card strategy",
         "orientation": "h",
         "text": [
          "Spell card strategy"
         ],
         "type": "bar",
         "x": [
          7
         ],
         "xaxis": "x",
         "y": [
          "Clash Royale"
         ],
         "yaxis": "y"
        },
        {
         "marker": {
          "color": [
           5
          ],
          "coloraxis": "coloraxis"
         },
         "name": "Spell card strategy",
         "orientation": "h",
         "text": [
          "Spell card strategy"
         ],
         "type": "bar",
         "x": [
          5
         ],
         "xaxis": "x2",
         "y": [
          "Clash Royale"
         ],
         "yaxis": "y2"
        },
        {
         "marker": {
          "color": [
           7
          ],
          "coloraxis": "coloraxis"
         },
         "name": "Focus",
         "orientation": "h",
         "text": [
          "Focus"
         ],
         "type": "bar",
         "x": [
          7
         ],
         "xaxis": "x",
         "y": [
          "It Takes Two"
         ],
         "yaxis": "y"
        },
        {
         "marker": {
          "color": [
           5
          ],
          "coloraxis": "coloraxis"
         },
         "name": "Focus",
         "orientation": "h",
         "text": [
          "Focus"
         ],
         "type": "bar",
         "x": [
          5
         ],
         "xaxis": "x2",
         "y": [
          "It Takes Two"
         ],
         "yaxis": "y2"
        },
        {
         "marker": {
          "color": [
           10
          ],
          "coloraxis": "coloraxis"
         },
         "name": "There you go...oh sh**",
         "orientation": "h",
         "text": [
          "There you go...oh sh**"
         ],
         "type": "bar",
         "x": [
          10
         ],
         "xaxis": "x",
         "y": [
          "Clash Royale"
         ],
         "yaxis": "y"
        },
        {
         "marker": {
          "color": [
           3
          ],
          "coloraxis": "coloraxis"
         },
         "name": "There you go...oh sh**",
         "orientation": "h",
         "text": [
          "There you go...oh sh**"
         ],
         "type": "bar",
         "x": [
          3
         ],
         "xaxis": "x2",
         "y": [
          "Clash Royale"
         ],
         "yaxis": "y2"
        },
        {
         "marker": {
          "color": [
           10
          ],
          "coloraxis": "coloraxis"
         },
         "name": "Rolling's Supposed to Save You!!!",
         "orientation": "h",
         "text": [
          "Rolling's Supposed to Save You!!!"
         ],
         "type": "bar",
         "x": [
          10
         ],
         "xaxis": "x",
         "y": [
          "Demon's Souls"
         ],
         "yaxis": "y"
        },
        {
         "marker": {
          "color": [
           2
          ],
          "coloraxis": "coloraxis"
         },
         "name": "Rolling's Supposed to Save You!!!",
         "orientation": "h",
         "text": [
          "Rolling's Supposed to Save You!!!"
         ],
         "type": "bar",
         "x": [
          2
         ],
         "xaxis": "x2",
         "y": [
          "Demon's Souls"
         ],
         "yaxis": "y2"
        },
        {
         "marker": {
          "color": [
           10
          ],
          "coloraxis": "coloraxis"
         },
         "name": "For the SquareOne",
         "orientation": "h",
         "text": [
          "For the SquareOne"
         ],
         "type": "bar",
         "x": [
          10
         ],
         "xaxis": "x",
         "y": [
          "Demon's Souls"
         ],
         "yaxis": "y"
        },
        {
         "marker": {
          "color": [
           4
          ],
          "coloraxis": "coloraxis"
         },
         "name": "For the SquareOne",
         "orientation": "h",
         "text": [
          "For the SquareOne"
         ],
         "type": "bar",
         "x": [
          4
         ],
         "xaxis": "x2",
         "y": [
          "Demon's Souls"
         ],
         "yaxis": "y2"
        },
        {
         "marker": {
          "color": [
           8
          ],
          "coloraxis": "coloraxis"
         },
         "name": "Irony",
         "orientation": "h",
         "text": [
          "Irony"
         ],
         "type": "bar",
         "x": [
          8
         ],
         "xaxis": "x",
         "y": [
          "It Takes Two"
         ],
         "yaxis": "y"
        },
        {
         "marker": {
          "color": [
           3
          ],
          "coloraxis": "coloraxis"
         },
         "name": "Irony",
         "orientation": "h",
         "text": [
          "Irony"
         ],
         "type": "bar",
         "x": [
          3
         ],
         "xaxis": "x2",
         "y": [
          "It Takes Two"
         ],
         "yaxis": "y2"
        },
        {
         "marker": {
          "color": [
           16
          ],
          "coloraxis": "coloraxis"
         },
         "name": "I am like a ninja",
         "orientation": "h",
         "text": [
          "I am like a ninja"
         ],
         "type": "bar",
         "x": [
          16
         ],
         "xaxis": "x",
         "y": [
          "Horizon Forbidden West"
         ],
         "yaxis": "y"
        },
        {
         "marker": {
          "color": [
           6
          ],
          "coloraxis": "coloraxis"
         },
         "name": "I am like a ninja",
         "orientation": "h",
         "text": [
          "I am like a ninja"
         ],
         "type": "bar",
         "x": [
          6
         ],
         "xaxis": "x2",
         "y": [
          "Horizon Forbidden West"
         ],
         "yaxis": "y2"
        },
        {
         "marker": {
          "color": [
           6
          ],
          "coloraxis": "coloraxis"
         },
         "name": "I surprise myself sometimes...",
         "orientation": "h",
         "text": [
          "I surprise myself sometimes..."
         ],
         "type": "bar",
         "x": [
          6
         ],
         "xaxis": "x",
         "y": [
          "Horizon Forbidden West"
         ],
         "yaxis": "y"
        },
        {
         "marker": {
          "color": [
           1
          ],
          "coloraxis": "coloraxis"
         },
         "name": "I surprise myself sometimes...",
         "orientation": "h",
         "text": [
          "I surprise myself sometimes..."
         ],
         "type": "bar",
         "x": [
          1
         ],
         "xaxis": "x2",
         "y": [
          "Horizon Forbidden West"
         ],
         "yaxis": "y2"
        },
        {
         "marker": {
          "color": [
           6
          ],
          "coloraxis": "coloraxis"
         },
         "name": "Opportunity",
         "orientation": "h",
         "text": [
          "Opportunity"
         ],
         "type": "bar",
         "x": [
          6
         ],
         "xaxis": "x",
         "y": [
          "Demon's Souls"
         ],
         "yaxis": "y"
        },
        {
         "marker": {
          "color": [
           1
          ],
          "coloraxis": "coloraxis"
         },
         "name": "Opportunity",
         "orientation": "h",
         "text": [
          "Opportunity"
         ],
         "type": "bar",
         "x": [
          1
         ],
         "xaxis": "x2",
         "y": [
          "Demon's Souls"
         ],
         "yaxis": "y2"
        },
        {
         "marker": {
          "color": [
           15
          ],
          "coloraxis": "coloraxis"
         },
         "name": "Evening Clash with Triangle before we try PS5 game",
         "orientation": "h",
         "text": [
          "Evening Clash with Triangle before we try PS5 game"
         ],
         "type": "bar",
         "x": [
          15
         ],
         "xaxis": "x",
         "y": [
          "Clash Royale"
         ],
         "yaxis": "y"
        },
        {
         "marker": {
          "color": [
           3
          ],
          "coloraxis": "coloraxis"
         },
         "name": "Evening Clash with Triangle before we try PS5 game",
         "orientation": "h",
         "text": [
          "Evening Clash with Triangle before we try PS5 game"
         ],
         "type": "bar",
         "x": [
          3
         ],
         "xaxis": "x2",
         "y": [
          "Clash Royale"
         ],
         "yaxis": "y2"
        },
        {
         "marker": {
          "color": [
           8
          ],
          "coloraxis": "coloraxis"
         },
         "name": "Irony",
         "orientation": "h",
         "text": [
          "Irony"
         ],
         "type": "bar",
         "x": [
          8
         ],
         "xaxis": "x",
         "y": [
          "It Takes Two"
         ],
         "yaxis": "y"
        },
        {
         "marker": {
          "color": [
           6
          ],
          "coloraxis": "coloraxis"
         },
         "name": "Irony",
         "orientation": "h",
         "text": [
          "Irony"
         ],
         "type": "bar",
         "x": [
          6
         ],
         "xaxis": "x2",
         "y": [
          "It Takes Two"
         ],
         "yaxis": "y2"
        },
        {
         "marker": {
          "color": [
           21
          ],
          "coloraxis": "coloraxis"
         },
         "name": "Check your anger Bro",
         "orientation": "h",
         "text": [
          "Check your anger Bro"
         ],
         "type": "bar",
         "x": [
          21
         ],
         "xaxis": "x",
         "y": [
          "Remnant: From the Ashes"
         ],
         "yaxis": "y"
        },
        {
         "marker": {
          "color": [
           2
          ],
          "coloraxis": "coloraxis"
         },
         "name": "Check your anger Bro",
         "orientation": "h",
         "text": [
          "Check your anger Bro"
         ],
         "type": "bar",
         "x": [
          2
         ],
         "xaxis": "x2",
         "y": [
          "Remnant: From the Ashes"
         ],
         "yaxis": "y2"
        },
        {
         "marker": {
          "color": [
           5
          ],
          "coloraxis": "coloraxis"
         },
         "name": "All the marbles",
         "orientation": "h",
         "text": [
          "All the marbles"
         ],
         "type": "bar",
         "x": [
          5
         ],
         "xaxis": "x",
         "y": [
          "Overcooked! All You Can Eat"
         ],
         "yaxis": "y"
        },
        {
         "marker": {
          "color": [
           1
          ],
          "coloraxis": "coloraxis"
         },
         "name": "All the marbles",
         "orientation": "h",
         "text": [
          "All the marbles"
         ],
         "type": "bar",
         "x": [
          1
         ],
         "xaxis": "x2",
         "y": [
          "Overcooked! All You Can Eat"
         ],
         "yaxis": "y2"
        },
        {
         "marker": {
          "color": [
           13
          ],
          "coloraxis": "coloraxis"
         },
         "name": "The Emergence of the Sh!ttyWon",
         "orientation": "h",
         "text": [
          "The Emergence of the Sh!ttyWon"
         ],
         "type": "bar",
         "x": [
          13
         ],
         "xaxis": "x",
         "y": [
          "It Takes Two"
         ],
         "yaxis": "y"
        },
        {
         "marker": {
          "color": [
           1
          ],
          "coloraxis": "coloraxis"
         },
         "name": "The Emergence of the Sh!ttyWon",
         "orientation": "h",
         "text": [
          "The Emergence of the Sh!ttyWon"
         ],
         "type": "bar",
         "x": [
          1
         ],
         "xaxis": "x2",
         "y": [
          "It Takes Two"
         ],
         "yaxis": "y2"
        },
        {
         "marker": {
          "color": [
           8
          ],
          "coloraxis": "coloraxis"
         },
         "name": "THE RED DIARRHEA!!!!",
         "orientation": "h",
         "text": [
          "THE RED DIARRHEA!!!!"
         ],
         "type": "bar",
         "x": [
          8
         ],
         "xaxis": "x",
         "y": [
          "Demon's Souls"
         ],
         "yaxis": "y"
        },
        {
         "marker": {
          "color": [
           4
          ],
          "coloraxis": "coloraxis"
         },
         "name": "THE RED DIARRHEA!!!!",
         "orientation": "h",
         "text": [
          "THE RED DIARRHEA!!!!"
         ],
         "type": "bar",
         "x": [
          4
         ],
         "xaxis": "x2",
         "y": [
          "Demon's Souls"
         ],
         "yaxis": "y2"
        },
        {
         "marker": {
          "color": [
           10
          ],
          "coloraxis": "coloraxis"
         },
         "name": "Co-Op: Sufficient contributions",
         "orientation": "h",
         "text": [
          "Co-Op: Sufficient contributions"
         ],
         "type": "bar",
         "x": [
          10
         ],
         "xaxis": "x",
         "y": [
          "Ghost of Tsushima"
         ],
         "yaxis": "y"
        },
        {
         "marker": {
          "color": [
           1
          ],
          "coloraxis": "coloraxis"
         },
         "name": "Co-Op: Sufficient contributions",
         "orientation": "h",
         "text": [
          "Co-Op: Sufficient contributions"
         ],
         "type": "bar",
         "x": [
          1
         ],
         "xaxis": "x2",
         "y": [
          "Ghost of Tsushima"
         ],
         "yaxis": "y2"
        },
        {
         "marker": {
          "color": [
           10
          ],
          "coloraxis": "coloraxis"
         },
         "name": "Barrel talk",
         "orientation": "h",
         "text": [
          "Barrel talk"
         ],
         "type": "bar",
         "x": [
          10
         ],
         "xaxis": "x",
         "y": [
          "Clash Royale"
         ],
         "yaxis": "y"
        },
        {
         "marker": {
          "color": [
           6
          ],
          "coloraxis": "coloraxis"
         },
         "name": "Barrel talk",
         "orientation": "h",
         "text": [
          "Barrel talk"
         ],
         "type": "bar",
         "x": [
          6
         ],
         "xaxis": "x2",
         "y": [
          "Clash Royale"
         ],
         "yaxis": "y2"
        },
        {
         "marker": {
          "color": [
           1
          ],
          "coloraxis": "coloraxis"
         },
         "name": "Sorry clash fans, Overcook pivot",
         "orientation": "h",
         "text": [
          "Sorry clash fans, Overcook pivot"
         ],
         "type": "bar",
         "x": [
          1
         ],
         "xaxis": "x",
         "y": [
          "Overcooked! All You Can Eat"
         ],
         "yaxis": "y"
        },
        {
         "marker": {
          "color": [
           3
          ],
          "coloraxis": "coloraxis"
         },
         "name": "Sorry clash fans, Overcook pivot",
         "orientation": "h",
         "text": [
          "Sorry clash fans, Overcook pivot"
         ],
         "type": "bar",
         "x": [
          3
         ],
         "xaxis": "x2",
         "y": [
          "Overcooked! All You Can Eat"
         ],
         "yaxis": "y2"
        },
        {
         "marker": {
          "color": [
           73
          ],
          "coloraxis": "coloraxis"
         },
         "name": "Corrosive Damage Can Stack",
         "orientation": "h",
         "text": [
          "Corrosive Damage Can Stack"
         ],
         "type": "bar",
         "x": [
          73
         ],
         "xaxis": "x",
         "y": [
          "Remnant: From the Ashes"
         ],
         "yaxis": "y"
        },
        {
         "marker": {
          "color": [
           1
          ],
          "coloraxis": "coloraxis"
         },
         "name": "Corrosive Damage Can Stack",
         "orientation": "h",
         "text": [
          "Corrosive Damage Can Stack"
         ],
         "type": "bar",
         "x": [
          1
         ],
         "xaxis": "x2",
         "y": [
          "Remnant: From the Ashes"
         ],
         "yaxis": "y2"
        },
        {
         "marker": {
          "color": [
           15
          ],
          "coloraxis": "coloraxis"
         },
         "name": "Rrrrrrrrrespect",
         "orientation": "h",
         "text": [
          "Rrrrrrrrrespect"
         ],
         "type": "bar",
         "x": [
          15
         ],
         "xaxis": "x",
         "y": [
          "It Takes Two"
         ],
         "yaxis": "y"
        },
        {
         "marker": {
          "color": [
           4
          ],
          "coloraxis": "coloraxis"
         },
         "name": "Rrrrrrrrrespect",
         "orientation": "h",
         "text": [
          "Rrrrrrrrrespect"
         ],
         "type": "bar",
         "x": [
          4
         ],
         "xaxis": "x2",
         "y": [
          "It Takes Two"
         ],
         "yaxis": "y2"
        },
        {
         "marker": {
          "color": [
           41
          ],
          "coloraxis": "coloraxis"
         },
         "name": "Coach gun turned out to be pretty good",
         "orientation": "h",
         "text": [
          "Coach gun turned out to be pretty good"
         ],
         "type": "bar",
         "x": [
          41
         ],
         "xaxis": "x",
         "y": [
          "Remnant: From the Ashes"
         ],
         "yaxis": "y"
        },
        {
         "marker": {
          "color": [
           1
          ],
          "coloraxis": "coloraxis"
         },
         "name": "Coach gun turned out to be pretty good",
         "orientation": "h",
         "text": [
          "Coach gun turned out to be pretty good"
         ],
         "type": "bar",
         "x": [
          1
         ],
         "xaxis": "x2",
         "y": [
          "Remnant: From the Ashes"
         ],
         "yaxis": "y2"
        },
        {
         "marker": {
          "color": [
           10
          ],
          "coloraxis": "coloraxis"
         },
         "name": "Demon souls first play through",
         "orientation": "h",
         "text": [
          "Demon souls first play through"
         ],
         "type": "bar",
         "x": [
          10
         ],
         "xaxis": "x",
         "y": [
          "Demon's Souls"
         ],
         "yaxis": "y"
        },
        {
         "marker": {
          "color": [
           1
          ],
          "coloraxis": "coloraxis"
         },
         "name": "Demon souls first play through",
         "orientation": "h",
         "text": [
          "Demon souls first play through"
         ],
         "type": "bar",
         "x": [
          1
         ],
         "xaxis": "x2",
         "y": [
          "Demon's Souls"
         ],
         "yaxis": "y2"
        },
        {
         "marker": {
          "color": [
           19
          ],
          "coloraxis": "coloraxis"
         },
         "name": "Quick Mini Boss Takedown with the Sniper Rifle",
         "orientation": "h",
         "text": [
          "Quick Mini Boss Takedown with the Sniper Rifle"
         ],
         "type": "bar",
         "x": [
          19
         ],
         "xaxis": "x",
         "y": [
          "Remnant: From the Ashes"
         ],
         "yaxis": "y"
        },
        {
         "marker": {
          "color": [
           1
          ],
          "coloraxis": "coloraxis"
         },
         "name": "Quick Mini Boss Takedown with the Sniper Rifle",
         "orientation": "h",
         "text": [
          "Quick Mini Boss Takedown with the Sniper Rifle"
         ],
         "type": "bar",
         "x": [
          1
         ],
         "xaxis": "x2",
         "y": [
          "Remnant: From the Ashes"
         ],
         "yaxis": "y2"
        },
        {
         "marker": {
          "color": [
           51
          ],
          "coloraxis": "coloraxis"
         },
         "name": "His weakness is the Butt",
         "orientation": "h",
         "text": [
          "His weakness is the Butt"
         ],
         "type": "bar",
         "x": [
          51
         ],
         "xaxis": "x",
         "y": [
          "Remnant: From the Ashes"
         ],
         "yaxis": "y"
        },
        {
         "marker": {
          "color": [
           3
          ],
          "coloraxis": "coloraxis"
         },
         "name": "His weakness is the Butt",
         "orientation": "h",
         "text": [
          "His weakness is the Butt"
         ],
         "type": "bar",
         "x": [
          3
         ],
         "xaxis": "x2",
         "y": [
          "Remnant: From the Ashes"
         ],
         "yaxis": "y2"
        },
        {
         "marker": {
          "color": [
           8
          ],
          "coloraxis": "coloraxis"
         },
         "name": "Clash Royale Evenings with The Triangle - TheRoundWonBot upgrade!",
         "orientation": "h",
         "text": [
          "Clash Royale Evenings with The Triangle - TheRoundWonBot upgrade!"
         ],
         "type": "bar",
         "x": [
          8
         ],
         "xaxis": "x",
         "y": [
          "Clash Royale"
         ],
         "yaxis": "y"
        },
        {
         "marker": {
          "color": [
           1
          ],
          "coloraxis": "coloraxis"
         },
         "name": "Clash Royale Evenings with The Triangle - TheRoundWonBot upgrade!",
         "orientation": "h",
         "text": [
          "Clash Royale Evenings with The Triangle - TheRoundWonBot upgrade!"
         ],
         "type": "bar",
         "x": [
          1
         ],
         "xaxis": "x2",
         "y": [
          "Clash Royale"
         ],
         "yaxis": "y2"
        },
        {
         "marker": {
          "color": [
           19
          ],
          "coloraxis": "coloraxis"
         },
         "name": "A little Friendly Fire amongst Friends?",
         "orientation": "h",
         "text": [
          "A little Friendly Fire amongst Friends?"
         ],
         "type": "bar",
         "x": [
          19
         ],
         "xaxis": "x",
         "y": [
          "Remnant: From the Ashes"
         ],
         "yaxis": "y"
        },
        {
         "marker": {
          "color": [
           1
          ],
          "coloraxis": "coloraxis"
         },
         "name": "A little Friendly Fire amongst Friends?",
         "orientation": "h",
         "text": [
          "A little Friendly Fire amongst Friends?"
         ],
         "type": "bar",
         "x": [
          1
         ],
         "xaxis": "x2",
         "y": [
          "Remnant: From the Ashes"
         ],
         "yaxis": "y2"
        },
        {
         "marker": {
          "color": [
           6
          ],
          "coloraxis": "coloraxis"
         },
         "name": "Hard work",
         "orientation": "h",
         "text": [
          "Hard work"
         ],
         "type": "bar",
         "x": [
          6
         ],
         "xaxis": "x",
         "y": [
          "Horizon Forbidden West"
         ],
         "yaxis": "y"
        },
        {
         "marker": {
          "color": [
           2
          ],
          "coloraxis": "coloraxis"
         },
         "name": "Hard work",
         "orientation": "h",
         "text": [
          "Hard work"
         ],
         "type": "bar",
         "x": [
          2
         ],
         "xaxis": "x2",
         "y": [
          "Horizon Forbidden West"
         ],
         "yaxis": "y2"
        },
        {
         "marker": {
          "color": [
           7
          ],
          "coloraxis": "coloraxis"
         },
         "name": "Weird people on horses",
         "orientation": "h",
         "text": [
          "Weird people on horses"
         ],
         "type": "bar",
         "x": [
          7
         ],
         "xaxis": "x",
         "y": [
          "Horizon Forbidden West"
         ],
         "yaxis": "y"
        },
        {
         "marker": {
          "color": [
           2
          ],
          "coloraxis": "coloraxis"
         },
         "name": "Weird people on horses",
         "orientation": "h",
         "text": [
          "Weird people on horses"
         ],
         "type": "bar",
         "x": [
          2
         ],
         "xaxis": "x2",
         "y": [
          "Horizon Forbidden West"
         ],
         "yaxis": "y2"
        },
        {
         "marker": {
          "color": [
           1
          ],
          "coloraxis": "coloraxis"
         },
         "name": "Quick stream: Overcooked before Remnant survivor",
         "orientation": "h",
         "text": [
          "Quick stream: Overcooked before Remnant survivor"
         ],
         "type": "bar",
         "x": [
          1
         ],
         "xaxis": "x",
         "y": [
          "Overcooked! All You Can Eat"
         ],
         "yaxis": "y"
        },
        {
         "marker": {
          "color": [
           0
          ],
          "coloraxis": "coloraxis"
         },
         "name": "Quick stream: Overcooked before Remnant survivor",
         "orientation": "h",
         "text": [
          "Quick stream: Overcooked before Remnant survivor"
         ],
         "type": "bar",
         "x": [
          0
         ],
         "xaxis": "x2",
         "y": [
          "Overcooked! All You Can Eat"
         ],
         "yaxis": "y2"
        }
       ],
       "layout": {
        "annotations": [
         {
          "font": {
           "size": 16
          },
          "showarrow": false,
          "text": "Twitch Views",
          "x": 0.225,
          "xanchor": "center",
          "xref": "paper",
          "y": 1,
          "yanchor": "bottom",
          "yref": "paper"
         },
         {
          "font": {
           "size": 16
          },
          "showarrow": false,
          "text": "Youtube Full Screen Views",
          "x": 0.775,
          "xanchor": "center",
          "xref": "paper",
          "y": 1,
          "yanchor": "bottom",
          "yref": "paper"
         }
        ],
        "barmode": "stack",
        "coloraxis": {
         "showscale": false
        },
        "template": {
         "data": {
          "bar": [
           {
            "error_x": {
             "color": "#2a3f5f"
            },
            "error_y": {
             "color": "#2a3f5f"
            },
            "marker": {
             "line": {
              "color": "#E5ECF6",
              "width": 0.5
             },
             "pattern": {
              "fillmode": "overlay",
              "size": 10,
              "solidity": 0.2
             }
            },
            "type": "bar"
           }
          ],
          "barpolar": [
           {
            "marker": {
             "line": {
              "color": "#E5ECF6",
              "width": 0.5
             },
             "pattern": {
              "fillmode": "overlay",
              "size": 10,
              "solidity": 0.2
             }
            },
            "type": "barpolar"
           }
          ],
          "carpet": [
           {
            "aaxis": {
             "endlinecolor": "#2a3f5f",
             "gridcolor": "white",
             "linecolor": "white",
             "minorgridcolor": "white",
             "startlinecolor": "#2a3f5f"
            },
            "baxis": {
             "endlinecolor": "#2a3f5f",
             "gridcolor": "white",
             "linecolor": "white",
             "minorgridcolor": "white",
             "startlinecolor": "#2a3f5f"
            },
            "type": "carpet"
           }
          ],
          "choropleth": [
           {
            "colorbar": {
             "outlinewidth": 0,
             "ticks": ""
            },
            "type": "choropleth"
           }
          ],
          "contour": [
           {
            "colorbar": {
             "outlinewidth": 0,
             "ticks": ""
            },
            "colorscale": [
             [
              0,
              "#0d0887"
             ],
             [
              0.1111111111111111,
              "#46039f"
             ],
             [
              0.2222222222222222,
              "#7201a8"
             ],
             [
              0.3333333333333333,
              "#9c179e"
             ],
             [
              0.4444444444444444,
              "#bd3786"
             ],
             [
              0.5555555555555556,
              "#d8576b"
             ],
             [
              0.6666666666666666,
              "#ed7953"
             ],
             [
              0.7777777777777778,
              "#fb9f3a"
             ],
             [
              0.8888888888888888,
              "#fdca26"
             ],
             [
              1,
              "#f0f921"
             ]
            ],
            "type": "contour"
           }
          ],
          "contourcarpet": [
           {
            "colorbar": {
             "outlinewidth": 0,
             "ticks": ""
            },
            "type": "contourcarpet"
           }
          ],
          "heatmap": [
           {
            "colorbar": {
             "outlinewidth": 0,
             "ticks": ""
            },
            "colorscale": [
             [
              0,
              "#0d0887"
             ],
             [
              0.1111111111111111,
              "#46039f"
             ],
             [
              0.2222222222222222,
              "#7201a8"
             ],
             [
              0.3333333333333333,
              "#9c179e"
             ],
             [
              0.4444444444444444,
              "#bd3786"
             ],
             [
              0.5555555555555556,
              "#d8576b"
             ],
             [
              0.6666666666666666,
              "#ed7953"
             ],
             [
              0.7777777777777778,
              "#fb9f3a"
             ],
             [
              0.8888888888888888,
              "#fdca26"
             ],
             [
              1,
              "#f0f921"
             ]
            ],
            "type": "heatmap"
           }
          ],
          "heatmapgl": [
           {
            "colorbar": {
             "outlinewidth": 0,
             "ticks": ""
            },
            "colorscale": [
             [
              0,
              "#0d0887"
             ],
             [
              0.1111111111111111,
              "#46039f"
             ],
             [
              0.2222222222222222,
              "#7201a8"
             ],
             [
              0.3333333333333333,
              "#9c179e"
             ],
             [
              0.4444444444444444,
              "#bd3786"
             ],
             [
              0.5555555555555556,
              "#d8576b"
             ],
             [
              0.6666666666666666,
              "#ed7953"
             ],
             [
              0.7777777777777778,
              "#fb9f3a"
             ],
             [
              0.8888888888888888,
              "#fdca26"
             ],
             [
              1,
              "#f0f921"
             ]
            ],
            "type": "heatmapgl"
           }
          ],
          "histogram": [
           {
            "marker": {
             "pattern": {
              "fillmode": "overlay",
              "size": 10,
              "solidity": 0.2
             }
            },
            "type": "histogram"
           }
          ],
          "histogram2d": [
           {
            "colorbar": {
             "outlinewidth": 0,
             "ticks": ""
            },
            "colorscale": [
             [
              0,
              "#0d0887"
             ],
             [
              0.1111111111111111,
              "#46039f"
             ],
             [
              0.2222222222222222,
              "#7201a8"
             ],
             [
              0.3333333333333333,
              "#9c179e"
             ],
             [
              0.4444444444444444,
              "#bd3786"
             ],
             [
              0.5555555555555556,
              "#d8576b"
             ],
             [
              0.6666666666666666,
              "#ed7953"
             ],
             [
              0.7777777777777778,
              "#fb9f3a"
             ],
             [
              0.8888888888888888,
              "#fdca26"
             ],
             [
              1,
              "#f0f921"
             ]
            ],
            "type": "histogram2d"
           }
          ],
          "histogram2dcontour": [
           {
            "colorbar": {
             "outlinewidth": 0,
             "ticks": ""
            },
            "colorscale": [
             [
              0,
              "#0d0887"
             ],
             [
              0.1111111111111111,
              "#46039f"
             ],
             [
              0.2222222222222222,
              "#7201a8"
             ],
             [
              0.3333333333333333,
              "#9c179e"
             ],
             [
              0.4444444444444444,
              "#bd3786"
             ],
             [
              0.5555555555555556,
              "#d8576b"
             ],
             [
              0.6666666666666666,
              "#ed7953"
             ],
             [
              0.7777777777777778,
              "#fb9f3a"
             ],
             [
              0.8888888888888888,
              "#fdca26"
             ],
             [
              1,
              "#f0f921"
             ]
            ],
            "type": "histogram2dcontour"
           }
          ],
          "mesh3d": [
           {
            "colorbar": {
             "outlinewidth": 0,
             "ticks": ""
            },
            "type": "mesh3d"
           }
          ],
          "parcoords": [
           {
            "line": {
             "colorbar": {
              "outlinewidth": 0,
              "ticks": ""
             }
            },
            "type": "parcoords"
           }
          ],
          "pie": [
           {
            "automargin": true,
            "type": "pie"
           }
          ],
          "scatter": [
           {
            "fillpattern": {
             "fillmode": "overlay",
             "size": 10,
             "solidity": 0.2
            },
            "type": "scatter"
           }
          ],
          "scatter3d": [
           {
            "line": {
             "colorbar": {
              "outlinewidth": 0,
              "ticks": ""
             }
            },
            "marker": {
             "colorbar": {
              "outlinewidth": 0,
              "ticks": ""
             }
            },
            "type": "scatter3d"
           }
          ],
          "scattercarpet": [
           {
            "marker": {
             "colorbar": {
              "outlinewidth": 0,
              "ticks": ""
             }
            },
            "type": "scattercarpet"
           }
          ],
          "scattergeo": [
           {
            "marker": {
             "colorbar": {
              "outlinewidth": 0,
              "ticks": ""
             }
            },
            "type": "scattergeo"
           }
          ],
          "scattergl": [
           {
            "marker": {
             "colorbar": {
              "outlinewidth": 0,
              "ticks": ""
             }
            },
            "type": "scattergl"
           }
          ],
          "scattermapbox": [
           {
            "marker": {
             "colorbar": {
              "outlinewidth": 0,
              "ticks": ""
             }
            },
            "type": "scattermapbox"
           }
          ],
          "scatterpolar": [
           {
            "marker": {
             "colorbar": {
              "outlinewidth": 0,
              "ticks": ""
             }
            },
            "type": "scatterpolar"
           }
          ],
          "scatterpolargl": [
           {
            "marker": {
             "colorbar": {
              "outlinewidth": 0,
              "ticks": ""
             }
            },
            "type": "scatterpolargl"
           }
          ],
          "scatterternary": [
           {
            "marker": {
             "colorbar": {
              "outlinewidth": 0,
              "ticks": ""
             }
            },
            "type": "scatterternary"
           }
          ],
          "surface": [
           {
            "colorbar": {
             "outlinewidth": 0,
             "ticks": ""
            },
            "colorscale": [
             [
              0,
              "#0d0887"
             ],
             [
              0.1111111111111111,
              "#46039f"
             ],
             [
              0.2222222222222222,
              "#7201a8"
             ],
             [
              0.3333333333333333,
              "#9c179e"
             ],
             [
              0.4444444444444444,
              "#bd3786"
             ],
             [
              0.5555555555555556,
              "#d8576b"
             ],
             [
              0.6666666666666666,
              "#ed7953"
             ],
             [
              0.7777777777777778,
              "#fb9f3a"
             ],
             [
              0.8888888888888888,
              "#fdca26"
             ],
             [
              1,
              "#f0f921"
             ]
            ],
            "type": "surface"
           }
          ],
          "table": [
           {
            "cells": {
             "fill": {
              "color": "#EBF0F8"
             },
             "line": {
              "color": "white"
             }
            },
            "header": {
             "fill": {
              "color": "#C8D4E3"
             },
             "line": {
              "color": "white"
             }
            },
            "type": "table"
           }
          ]
         },
         "layout": {
          "annotationdefaults": {
           "arrowcolor": "#2a3f5f",
           "arrowhead": 0,
           "arrowwidth": 1
          },
          "autotypenumbers": "strict",
          "coloraxis": {
           "colorbar": {
            "outlinewidth": 0,
            "ticks": ""
           }
          },
          "colorscale": {
           "diverging": [
            [
             0,
             "#8e0152"
            ],
            [
             0.1,
             "#c51b7d"
            ],
            [
             0.2,
             "#de77ae"
            ],
            [
             0.3,
             "#f1b6da"
            ],
            [
             0.4,
             "#fde0ef"
            ],
            [
             0.5,
             "#f7f7f7"
            ],
            [
             0.6,
             "#e6f5d0"
            ],
            [
             0.7,
             "#b8e186"
            ],
            [
             0.8,
             "#7fbc41"
            ],
            [
             0.9,
             "#4d9221"
            ],
            [
             1,
             "#276419"
            ]
           ],
           "sequential": [
            [
             0,
             "#0d0887"
            ],
            [
             0.1111111111111111,
             "#46039f"
            ],
            [
             0.2222222222222222,
             "#7201a8"
            ],
            [
             0.3333333333333333,
             "#9c179e"
            ],
            [
             0.4444444444444444,
             "#bd3786"
            ],
            [
             0.5555555555555556,
             "#d8576b"
            ],
            [
             0.6666666666666666,
             "#ed7953"
            ],
            [
             0.7777777777777778,
             "#fb9f3a"
            ],
            [
             0.8888888888888888,
             "#fdca26"
            ],
            [
             1,
             "#f0f921"
            ]
           ],
           "sequentialminus": [
            [
             0,
             "#0d0887"
            ],
            [
             0.1111111111111111,
             "#46039f"
            ],
            [
             0.2222222222222222,
             "#7201a8"
            ],
            [
             0.3333333333333333,
             "#9c179e"
            ],
            [
             0.4444444444444444,
             "#bd3786"
            ],
            [
             0.5555555555555556,
             "#d8576b"
            ],
            [
             0.6666666666666666,
             "#ed7953"
            ],
            [
             0.7777777777777778,
             "#fb9f3a"
            ],
            [
             0.8888888888888888,
             "#fdca26"
            ],
            [
             1,
             "#f0f921"
            ]
           ]
          },
          "colorway": [
           "#636efa",
           "#EF553B",
           "#00cc96",
           "#ab63fa",
           "#FFA15A",
           "#19d3f3",
           "#FF6692",
           "#B6E880",
           "#FF97FF",
           "#FECB52"
          ],
          "font": {
           "color": "#2a3f5f"
          },
          "geo": {
           "bgcolor": "white",
           "lakecolor": "white",
           "landcolor": "#E5ECF6",
           "showlakes": true,
           "showland": true,
           "subunitcolor": "white"
          },
          "hoverlabel": {
           "align": "left"
          },
          "hovermode": "closest",
          "mapbox": {
           "style": "light"
          },
          "paper_bgcolor": "white",
          "plot_bgcolor": "#E5ECF6",
          "polar": {
           "angularaxis": {
            "gridcolor": "white",
            "linecolor": "white",
            "ticks": ""
           },
           "bgcolor": "#E5ECF6",
           "radialaxis": {
            "gridcolor": "white",
            "linecolor": "white",
            "ticks": ""
           }
          },
          "scene": {
           "xaxis": {
            "backgroundcolor": "#E5ECF6",
            "gridcolor": "white",
            "gridwidth": 2,
            "linecolor": "white",
            "showbackground": true,
            "ticks": "",
            "zerolinecolor": "white"
           },
           "yaxis": {
            "backgroundcolor": "#E5ECF6",
            "gridcolor": "white",
            "gridwidth": 2,
            "linecolor": "white",
            "showbackground": true,
            "ticks": "",
            "zerolinecolor": "white"
           },
           "zaxis": {
            "backgroundcolor": "#E5ECF6",
            "gridcolor": "white",
            "gridwidth": 2,
            "linecolor": "white",
            "showbackground": true,
            "ticks": "",
            "zerolinecolor": "white"
           }
          },
          "shapedefaults": {
           "line": {
            "color": "#2a3f5f"
           }
          },
          "ternary": {
           "aaxis": {
            "gridcolor": "white",
            "linecolor": "white",
            "ticks": ""
           },
           "baxis": {
            "gridcolor": "white",
            "linecolor": "white",
            "ticks": ""
           },
           "bgcolor": "#E5ECF6",
           "caxis": {
            "gridcolor": "white",
            "linecolor": "white",
            "ticks": ""
           }
          },
          "title": {
           "x": 0.05
          },
          "xaxis": {
           "automargin": true,
           "gridcolor": "white",
           "linecolor": "white",
           "ticks": "",
           "title": {
            "standoff": 15
           },
           "zerolinecolor": "white",
           "zerolinewidth": 2
          },
          "yaxis": {
           "automargin": true,
           "gridcolor": "white",
           "linecolor": "white",
           "ticks": "",
           "title": {
            "standoff": 15
           },
           "zerolinecolor": "white",
           "zerolinewidth": 2
          }
         }
        },
        "title": {
         "text": "Published Full Screens vs Clips "
        },
        "xaxis": {
         "anchor": "y",
         "domain": [
          0,
          0.45
         ]
        },
        "xaxis2": {
         "anchor": "y2",
         "domain": [
          0.55,
          1
         ]
        },
        "yaxis": {
         "anchor": "x",
         "domain": [
          0,
          1
         ]
        },
        "yaxis2": {
         "anchor": "x2",
         "domain": [
          0,
          1
         ],
         "matches": "y",
         "showticklabels": false
        }
       }
      }
     },
     "metadata": {},
     "output_type": "display_data"
    }
   ],
   "source": [
    "fig = make_subplots(rows=1, cols=2, subplot_titles = (\"Twitch Views\", \"Youtube Full Screen Views\"), shared_yaxes=True)\n",
    "\n",
    "for ix in clip_metrics_df.loc[(clip_metrics_df['game_name'].notnull()) & (clip_metrics_df['style'] == 'f'), :].index:\n",
    "    fig.add_trace(go.Bar(x=[clip_metrics_df.loc[ix, 'view_count']], y= [clip_metrics_df.loc[ix, 'game_name']], name=clip_metrics_df.loc[ix, 'title'], text=[clip_metrics_df.loc[ix, 'title']], orientation='h', marker={'color': [clip_metrics_df.loc[ix, 'view_count']], 'coloraxis': 'coloraxis'}), row=1, col=1)\n",
    "    fig.add_trace(go.Bar(x=[clip_metrics_df.loc[ix, 'views']], y= [clip_metrics_df.loc[ix, 'game_name']], name=clip_metrics_df.loc[ix, 'title'], text=[clip_metrics_df.loc[ix, 'title']], orientation='h', marker={'color': [clip_metrics_df.loc[ix, 'views']], 'coloraxis': 'coloraxis'}), row=1, col=2)\n",
    "\n",
    "fig.update_layout(barmode='stack', title={'text': \"Published Full Screens vs Clips \"})\n",
    "fig.update_coloraxes(showscale=False)\n",
    "fig.show()\n"
   ]
  },
  {
   "cell_type": "code",
   "execution_count": 15,
   "metadata": {},
   "outputs": [],
   "source": [
    "with Session(mysql_engine) as session:\n",
    "    games = {game_id: game_name for game_id, game_name in session.query(Game_Meta.game_id,func.max(Game_Meta.game_name)).select_from(join(Game_Meta,Clip_Tracker)).group_by(Game_Meta.game_id).all()}"
   ]
  },
  {
   "cell_type": "code",
   "execution_count": 16,
   "metadata": {},
   "outputs": [],
   "source": [
    "clip_metrics_df['likes_ratio'] = (clip_metrics_df['likes']/(clip_metrics_df['likes'] + clip_metrics_df['dislikes'])).fillna(0)"
   ]
  },
  {
   "cell_type": "code",
   "execution_count": 17,
   "metadata": {},
   "outputs": [],
   "source": [
    "color_sample = px.colors.sequential.Plasma_r\n",
    "creators = {creator: color_sample.pop() for i, creator in enumerate(clip_metrics_df['creator'].unique())}"
   ]
  },
  {
   "cell_type": "code",
   "execution_count": 20,
   "metadata": {},
   "outputs": [],
   "source": [
    "game_sub = clip_metrics_df.loc[clip_metrics_df['game_name'] == \"Demon's Souls\"]"
   ]
  },
  {
   "cell_type": "code",
   "execution_count": 27,
   "metadata": {},
   "outputs": [
    {
     "data": {
      "text/html": [
       "<div>\n",
       "<style scoped>\n",
       "    .dataframe tbody tr th:only-of-type {\n",
       "        vertical-align: middle;\n",
       "    }\n",
       "\n",
       "    .dataframe tbody tr th {\n",
       "        vertical-align: top;\n",
       "    }\n",
       "\n",
       "    .dataframe thead th {\n",
       "        text-align: right;\n",
       "    }\n",
       "</style>\n",
       "<table border=\"1\" class=\"dataframe\">\n",
       "  <thead>\n",
       "    <tr style=\"text-align: right;\">\n",
       "      <th></th>\n",
       "      <th>estimatedMinutesWatched</th>\n",
       "      <th>views</th>\n",
       "      <th>likes</th>\n",
       "      <th>dislikes</th>\n",
       "      <th>subscribersGained</th>\n",
       "      <th>subscribersLost</th>\n",
       "      <th>style</th>\n",
       "      <th>game_name</th>\n",
       "      <th>title</th>\n",
       "      <th>creator</th>\n",
       "      <th>view_count</th>\n",
       "      <th>likes_ratio</th>\n",
       "    </tr>\n",
       "    <tr>\n",
       "      <th>video_id</th>\n",
       "      <th></th>\n",
       "      <th></th>\n",
       "      <th></th>\n",
       "      <th></th>\n",
       "      <th></th>\n",
       "      <th></th>\n",
       "      <th></th>\n",
       "      <th></th>\n",
       "      <th></th>\n",
       "      <th></th>\n",
       "      <th></th>\n",
       "      <th></th>\n",
       "    </tr>\n",
       "  </thead>\n",
       "  <tbody>\n",
       "    <tr>\n",
       "      <th>fuIgHicjm0k</th>\n",
       "      <td>233</td>\n",
       "      <td>871</td>\n",
       "      <td>34</td>\n",
       "      <td>2</td>\n",
       "      <td>3</td>\n",
       "      <td>0</td>\n",
       "      <td>m</td>\n",
       "      <td>Demon's Souls</td>\n",
       "      <td>Iconic</td>\n",
       "      <td>FeedMeACat</td>\n",
       "      <td>53.0</td>\n",
       "      <td>0.944444</td>\n",
       "    </tr>\n",
       "    <tr>\n",
       "      <th>NFDigvjBh2A</th>\n",
       "      <td>165</td>\n",
       "      <td>782</td>\n",
       "      <td>16</td>\n",
       "      <td>5</td>\n",
       "      <td>0</td>\n",
       "      <td>0</td>\n",
       "      <td>m</td>\n",
       "      <td>Demon's Souls</td>\n",
       "      <td>Back to reality</td>\n",
       "      <td>TheRoundWon</td>\n",
       "      <td>10.0</td>\n",
       "      <td>0.761905</td>\n",
       "    </tr>\n",
       "    <tr>\n",
       "      <th>t9ATj-GOmlE</th>\n",
       "      <td>51</td>\n",
       "      <td>231</td>\n",
       "      <td>3</td>\n",
       "      <td>1</td>\n",
       "      <td>1</td>\n",
       "      <td>0</td>\n",
       "      <td>m</td>\n",
       "      <td>Demon's Souls</td>\n",
       "      <td>I mean...</td>\n",
       "      <td>FeedMeACat</td>\n",
       "      <td>279.0</td>\n",
       "      <td>0.750000</td>\n",
       "    </tr>\n",
       "    <tr>\n",
       "      <th>GoalsdzIu4I</th>\n",
       "      <td>51</td>\n",
       "      <td>206</td>\n",
       "      <td>6</td>\n",
       "      <td>0</td>\n",
       "      <td>0</td>\n",
       "      <td>0</td>\n",
       "      <td>m</td>\n",
       "      <td>Demon's Souls</td>\n",
       "      <td>Demon souls first play through</td>\n",
       "      <td>FeedMeACat</td>\n",
       "      <td>10.0</td>\n",
       "      <td>1.000000</td>\n",
       "    </tr>\n",
       "    <tr>\n",
       "      <th>yZZzufr9DzM</th>\n",
       "      <td>48</td>\n",
       "      <td>152</td>\n",
       "      <td>6</td>\n",
       "      <td>3</td>\n",
       "      <td>0</td>\n",
       "      <td>0</td>\n",
       "      <td>m</td>\n",
       "      <td>Demon's Souls</td>\n",
       "      <td>So many things that can kill me</td>\n",
       "      <td>TheRoundWon</td>\n",
       "      <td>11.0</td>\n",
       "      <td>0.666667</td>\n",
       "    </tr>\n",
       "    <tr>\n",
       "      <th>NDgBaV-oLYg</th>\n",
       "      <td>35</td>\n",
       "      <td>88</td>\n",
       "      <td>2</td>\n",
       "      <td>0</td>\n",
       "      <td>0</td>\n",
       "      <td>0</td>\n",
       "      <td>m</td>\n",
       "      <td>Demon's Souls</td>\n",
       "      <td>Square assumes direct control</td>\n",
       "      <td>FeedMeACat</td>\n",
       "      <td>12.0</td>\n",
       "      <td>1.000000</td>\n",
       "    </tr>\n",
       "    <tr>\n",
       "      <th>wIl1UMjjTKY</th>\n",
       "      <td>32</td>\n",
       "      <td>64</td>\n",
       "      <td>0</td>\n",
       "      <td>0</td>\n",
       "      <td>0</td>\n",
       "      <td>0</td>\n",
       "      <td>m</td>\n",
       "      <td>Demon's Souls</td>\n",
       "      <td>S U F F E R</td>\n",
       "      <td>FeedMeACat</td>\n",
       "      <td>28.0</td>\n",
       "      <td>0.000000</td>\n",
       "    </tr>\n",
       "    <tr>\n",
       "      <th>HdXbbc9_Pm8</th>\n",
       "      <td>18</td>\n",
       "      <td>82</td>\n",
       "      <td>3</td>\n",
       "      <td>0</td>\n",
       "      <td>0</td>\n",
       "      <td>0</td>\n",
       "      <td>m</td>\n",
       "      <td>Demon's Souls</td>\n",
       "      <td>DIARRHEA EVERYWHERE!</td>\n",
       "      <td>PraetorJoe</td>\n",
       "      <td>28.0</td>\n",
       "      <td>1.000000</td>\n",
       "    </tr>\n",
       "    <tr>\n",
       "      <th>fuUuUHOxabg</th>\n",
       "      <td>15</td>\n",
       "      <td>55</td>\n",
       "      <td>0</td>\n",
       "      <td>0</td>\n",
       "      <td>0</td>\n",
       "      <td>0</td>\n",
       "      <td>m</td>\n",
       "      <td>Demon's Souls</td>\n",
       "      <td>Clipping G O L D</td>\n",
       "      <td>PraetorJoe</td>\n",
       "      <td>15.0</td>\n",
       "      <td>0.000000</td>\n",
       "    </tr>\n",
       "    <tr>\n",
       "      <th>J94JNxnN1Ic</th>\n",
       "      <td>9</td>\n",
       "      <td>48</td>\n",
       "      <td>2</td>\n",
       "      <td>0</td>\n",
       "      <td>0</td>\n",
       "      <td>0</td>\n",
       "      <td>m</td>\n",
       "      <td>Demon's Souls</td>\n",
       "      <td>making good choices</td>\n",
       "      <td>FeedMeACat</td>\n",
       "      <td>14.0</td>\n",
       "      <td>1.000000</td>\n",
       "    </tr>\n",
       "    <tr>\n",
       "      <th>CHrjflVZydE</th>\n",
       "      <td>9</td>\n",
       "      <td>47</td>\n",
       "      <td>0</td>\n",
       "      <td>0</td>\n",
       "      <td>0</td>\n",
       "      <td>0</td>\n",
       "      <td>m</td>\n",
       "      <td>Demon's Souls</td>\n",
       "      <td>THE RED DIARRHEA!!!!</td>\n",
       "      <td>PraetorJoe</td>\n",
       "      <td>8.0</td>\n",
       "      <td>0.000000</td>\n",
       "    </tr>\n",
       "    <tr>\n",
       "      <th>TkUuBAmV0z0</th>\n",
       "      <td>9</td>\n",
       "      <td>27</td>\n",
       "      <td>1</td>\n",
       "      <td>0</td>\n",
       "      <td>0</td>\n",
       "      <td>0</td>\n",
       "      <td>f</td>\n",
       "      <td>Demon's Souls</td>\n",
       "      <td>DIARRHEA EVERYWHERE!</td>\n",
       "      <td>PraetorJoe</td>\n",
       "      <td>28.0</td>\n",
       "      <td>1.000000</td>\n",
       "    </tr>\n",
       "    <tr>\n",
       "      <th>A3IPKxpQ0rg</th>\n",
       "      <td>6</td>\n",
       "      <td>17</td>\n",
       "      <td>0</td>\n",
       "      <td>0</td>\n",
       "      <td>0</td>\n",
       "      <td>0</td>\n",
       "      <td>m</td>\n",
       "      <td>Demon's Souls</td>\n",
       "      <td>magic man</td>\n",
       "      <td>FeedMeACat</td>\n",
       "      <td>10.0</td>\n",
       "      <td>0.000000</td>\n",
       "    </tr>\n",
       "    <tr>\n",
       "      <th>Us3KSnvAeDg</th>\n",
       "      <td>6</td>\n",
       "      <td>25</td>\n",
       "      <td>2</td>\n",
       "      <td>0</td>\n",
       "      <td>0</td>\n",
       "      <td>0</td>\n",
       "      <td>m</td>\n",
       "      <td>Demon's Souls</td>\n",
       "      <td>2000 Souls Gone</td>\n",
       "      <td>PraetorJoe</td>\n",
       "      <td>12.0</td>\n",
       "      <td>1.000000</td>\n",
       "    </tr>\n",
       "    <tr>\n",
       "      <th>HArfSIvYDH8</th>\n",
       "      <td>6</td>\n",
       "      <td>27</td>\n",
       "      <td>0</td>\n",
       "      <td>0</td>\n",
       "      <td>0</td>\n",
       "      <td>0</td>\n",
       "      <td>m</td>\n",
       "      <td>Demon's Souls</td>\n",
       "      <td>Demon souls first play through</td>\n",
       "      <td>FeedMeACat</td>\n",
       "      <td>10.0</td>\n",
       "      <td>0.000000</td>\n",
       "    </tr>\n",
       "    <tr>\n",
       "      <th>0OeKagNWGiY</th>\n",
       "      <td>6</td>\n",
       "      <td>30</td>\n",
       "      <td>0</td>\n",
       "      <td>0</td>\n",
       "      <td>0</td>\n",
       "      <td>0</td>\n",
       "      <td>m</td>\n",
       "      <td>Demon's Souls</td>\n",
       "      <td>For the SquareOne</td>\n",
       "      <td>PraetorJoe</td>\n",
       "      <td>10.0</td>\n",
       "      <td>0.000000</td>\n",
       "    </tr>\n",
       "    <tr>\n",
       "      <th>PX2w5v4sFok</th>\n",
       "      <td>5</td>\n",
       "      <td>10</td>\n",
       "      <td>0</td>\n",
       "      <td>0</td>\n",
       "      <td>0</td>\n",
       "      <td>0</td>\n",
       "      <td>f</td>\n",
       "      <td>Demon's Souls</td>\n",
       "      <td>So many things that can kill me</td>\n",
       "      <td>TheRoundWon</td>\n",
       "      <td>11.0</td>\n",
       "      <td>0.000000</td>\n",
       "    </tr>\n",
       "    <tr>\n",
       "      <th>Mci805nPzSU</th>\n",
       "      <td>4</td>\n",
       "      <td>10</td>\n",
       "      <td>0</td>\n",
       "      <td>0</td>\n",
       "      <td>0</td>\n",
       "      <td>0</td>\n",
       "      <td>f</td>\n",
       "      <td>Demon's Souls</td>\n",
       "      <td>The Round One is Brave!</td>\n",
       "      <td>PraetorJoe</td>\n",
       "      <td>46.0</td>\n",
       "      <td>0.000000</td>\n",
       "    </tr>\n",
       "    <tr>\n",
       "      <th>cb-qkCtBO24</th>\n",
       "      <td>4</td>\n",
       "      <td>11</td>\n",
       "      <td>0</td>\n",
       "      <td>0</td>\n",
       "      <td>0</td>\n",
       "      <td>0</td>\n",
       "      <td>f</td>\n",
       "      <td>Demon's Souls</td>\n",
       "      <td>Square assumes direct control</td>\n",
       "      <td>FeedMeACat</td>\n",
       "      <td>12.0</td>\n",
       "      <td>0.000000</td>\n",
       "    </tr>\n",
       "    <tr>\n",
       "      <th>c8JbBzjG__s</th>\n",
       "      <td>4</td>\n",
       "      <td>15</td>\n",
       "      <td>3</td>\n",
       "      <td>0</td>\n",
       "      <td>1</td>\n",
       "      <td>0</td>\n",
       "      <td>f</td>\n",
       "      <td>Demon's Souls</td>\n",
       "      <td>Back to reality</td>\n",
       "      <td>TheRoundWon</td>\n",
       "      <td>10.0</td>\n",
       "      <td>1.000000</td>\n",
       "    </tr>\n",
       "    <tr>\n",
       "      <th>ycX8ps5Fuds</th>\n",
       "      <td>4</td>\n",
       "      <td>8</td>\n",
       "      <td>1</td>\n",
       "      <td>0</td>\n",
       "      <td>0</td>\n",
       "      <td>0</td>\n",
       "      <td>m</td>\n",
       "      <td>Demon's Souls</td>\n",
       "      <td>Rolling's Supposed to Save You!!!</td>\n",
       "      <td>PraetorJoe</td>\n",
       "      <td>10.0</td>\n",
       "      <td>1.000000</td>\n",
       "    </tr>\n",
       "    <tr>\n",
       "      <th>Ene3KibtrVo</th>\n",
       "      <td>3</td>\n",
       "      <td>20</td>\n",
       "      <td>1</td>\n",
       "      <td>0</td>\n",
       "      <td>0</td>\n",
       "      <td>0</td>\n",
       "      <td>f</td>\n",
       "      <td>Demon's Souls</td>\n",
       "      <td>I mean...</td>\n",
       "      <td>FeedMeACat</td>\n",
       "      <td>279.0</td>\n",
       "      <td>1.000000</td>\n",
       "    </tr>\n",
       "    <tr>\n",
       "      <th>GqlU2JNWtWI</th>\n",
       "      <td>3</td>\n",
       "      <td>10</td>\n",
       "      <td>0</td>\n",
       "      <td>0</td>\n",
       "      <td>0</td>\n",
       "      <td>0</td>\n",
       "      <td>f</td>\n",
       "      <td>Demon's Souls</td>\n",
       "      <td>S U F F E R</td>\n",
       "      <td>FeedMeACat</td>\n",
       "      <td>28.0</td>\n",
       "      <td>0.000000</td>\n",
       "    </tr>\n",
       "    <tr>\n",
       "      <th>Xn9Ho7uncho</th>\n",
       "      <td>3</td>\n",
       "      <td>5</td>\n",
       "      <td>0</td>\n",
       "      <td>0</td>\n",
       "      <td>0</td>\n",
       "      <td>0</td>\n",
       "      <td>f</td>\n",
       "      <td>Demon's Souls</td>\n",
       "      <td>2000 Souls Gone</td>\n",
       "      <td>PraetorJoe</td>\n",
       "      <td>12.0</td>\n",
       "      <td>0.000000</td>\n",
       "    </tr>\n",
       "    <tr>\n",
       "      <th>87KugyYlCkE</th>\n",
       "      <td>2</td>\n",
       "      <td>6</td>\n",
       "      <td>0</td>\n",
       "      <td>0</td>\n",
       "      <td>0</td>\n",
       "      <td>0</td>\n",
       "      <td>f</td>\n",
       "      <td>Demon's Souls</td>\n",
       "      <td>magic man</td>\n",
       "      <td>FeedMeACat</td>\n",
       "      <td>10.0</td>\n",
       "      <td>0.000000</td>\n",
       "    </tr>\n",
       "    <tr>\n",
       "      <th>b6wR4L6mPU0</th>\n",
       "      <td>2</td>\n",
       "      <td>6</td>\n",
       "      <td>0</td>\n",
       "      <td>0</td>\n",
       "      <td>0</td>\n",
       "      <td>0</td>\n",
       "      <td>f</td>\n",
       "      <td>Demon's Souls</td>\n",
       "      <td>making good choices</td>\n",
       "      <td>FeedMeACat</td>\n",
       "      <td>14.0</td>\n",
       "      <td>0.000000</td>\n",
       "    </tr>\n",
       "    <tr>\n",
       "      <th>wvah9pbFVuU</th>\n",
       "      <td>2</td>\n",
       "      <td>8</td>\n",
       "      <td>0</td>\n",
       "      <td>0</td>\n",
       "      <td>0</td>\n",
       "      <td>0</td>\n",
       "      <td>f</td>\n",
       "      <td>Demon's Souls</td>\n",
       "      <td>Clipping G O L D</td>\n",
       "      <td>PraetorJoe</td>\n",
       "      <td>15.0</td>\n",
       "      <td>0.000000</td>\n",
       "    </tr>\n",
       "    <tr>\n",
       "      <th>HFzB1NjWbGI</th>\n",
       "      <td>1</td>\n",
       "      <td>4</td>\n",
       "      <td>0</td>\n",
       "      <td>0</td>\n",
       "      <td>0</td>\n",
       "      <td>0</td>\n",
       "      <td>f</td>\n",
       "      <td>Demon's Souls</td>\n",
       "      <td>Square doing square things</td>\n",
       "      <td>FeedMeACat</td>\n",
       "      <td>12.0</td>\n",
       "      <td>0.000000</td>\n",
       "    </tr>\n",
       "    <tr>\n",
       "      <th>EbE9sPpUI3U</th>\n",
       "      <td>1</td>\n",
       "      <td>6</td>\n",
       "      <td>0</td>\n",
       "      <td>0</td>\n",
       "      <td>0</td>\n",
       "      <td>0</td>\n",
       "      <td>f</td>\n",
       "      <td>Demon's Souls</td>\n",
       "      <td>Iconic</td>\n",
       "      <td>FeedMeACat</td>\n",
       "      <td>53.0</td>\n",
       "      <td>0.000000</td>\n",
       "    </tr>\n",
       "    <tr>\n",
       "      <th>SGItGM-YB-U</th>\n",
       "      <td>1</td>\n",
       "      <td>3</td>\n",
       "      <td>0</td>\n",
       "      <td>0</td>\n",
       "      <td>0</td>\n",
       "      <td>0</td>\n",
       "      <td>m</td>\n",
       "      <td>Demon's Souls</td>\n",
       "      <td>Square doing square things</td>\n",
       "      <td>FeedMeACat</td>\n",
       "      <td>12.0</td>\n",
       "      <td>0.000000</td>\n",
       "    </tr>\n",
       "    <tr>\n",
       "      <th>SU-b2F8rSfQ</th>\n",
       "      <td>1</td>\n",
       "      <td>2</td>\n",
       "      <td>0</td>\n",
       "      <td>0</td>\n",
       "      <td>0</td>\n",
       "      <td>0</td>\n",
       "      <td>f</td>\n",
       "      <td>Demon's Souls</td>\n",
       "      <td>Rolling's Supposed to Save You!!!</td>\n",
       "      <td>PraetorJoe</td>\n",
       "      <td>10.0</td>\n",
       "      <td>0.000000</td>\n",
       "    </tr>\n",
       "    <tr>\n",
       "      <th>np79opSQ4mo</th>\n",
       "      <td>1</td>\n",
       "      <td>4</td>\n",
       "      <td>0</td>\n",
       "      <td>0</td>\n",
       "      <td>0</td>\n",
       "      <td>0</td>\n",
       "      <td>f</td>\n",
       "      <td>Demon's Souls</td>\n",
       "      <td>For the SquareOne</td>\n",
       "      <td>PraetorJoe</td>\n",
       "      <td>10.0</td>\n",
       "      <td>0.000000</td>\n",
       "    </tr>\n",
       "    <tr>\n",
       "      <th>BjgS7TNSKBM</th>\n",
       "      <td>1</td>\n",
       "      <td>1</td>\n",
       "      <td>0</td>\n",
       "      <td>0</td>\n",
       "      <td>0</td>\n",
       "      <td>0</td>\n",
       "      <td>f</td>\n",
       "      <td>Demon's Souls</td>\n",
       "      <td>Opportunity</td>\n",
       "      <td>TheRoundWon</td>\n",
       "      <td>6.0</td>\n",
       "      <td>0.000000</td>\n",
       "    </tr>\n",
       "    <tr>\n",
       "      <th>G8oVJL6wz7k</th>\n",
       "      <td>0</td>\n",
       "      <td>4</td>\n",
       "      <td>0</td>\n",
       "      <td>0</td>\n",
       "      <td>0</td>\n",
       "      <td>0</td>\n",
       "      <td>f</td>\n",
       "      <td>Demon's Souls</td>\n",
       "      <td>THE RED DIARRHEA!!!!</td>\n",
       "      <td>PraetorJoe</td>\n",
       "      <td>8.0</td>\n",
       "      <td>0.000000</td>\n",
       "    </tr>\n",
       "    <tr>\n",
       "      <th>4owtbEze5L0</th>\n",
       "      <td>0</td>\n",
       "      <td>1</td>\n",
       "      <td>0</td>\n",
       "      <td>0</td>\n",
       "      <td>0</td>\n",
       "      <td>0</td>\n",
       "      <td>f</td>\n",
       "      <td>Demon's Souls</td>\n",
       "      <td>Demon souls first play through</td>\n",
       "      <td>FeedMeACat</td>\n",
       "      <td>10.0</td>\n",
       "      <td>0.000000</td>\n",
       "    </tr>\n",
       "    <tr>\n",
       "      <th>AcEOh-az9lk</th>\n",
       "      <td>0</td>\n",
       "      <td>2</td>\n",
       "      <td>0</td>\n",
       "      <td>0</td>\n",
       "      <td>0</td>\n",
       "      <td>0</td>\n",
       "      <td>m</td>\n",
       "      <td>Demon's Souls</td>\n",
       "      <td>Opportunity</td>\n",
       "      <td>TheRoundWon</td>\n",
       "      <td>6.0</td>\n",
       "      <td>0.000000</td>\n",
       "    </tr>\n",
       "  </tbody>\n",
       "</table>\n",
       "</div>"
      ],
      "text/plain": [
       "             estimatedMinutesWatched  views  likes  dislikes  \\\n",
       "video_id                                                       \n",
       "fuIgHicjm0k                      233    871     34         2   \n",
       "NFDigvjBh2A                      165    782     16         5   \n",
       "t9ATj-GOmlE                       51    231      3         1   \n",
       "GoalsdzIu4I                       51    206      6         0   \n",
       "yZZzufr9DzM                       48    152      6         3   \n",
       "NDgBaV-oLYg                       35     88      2         0   \n",
       "wIl1UMjjTKY                       32     64      0         0   \n",
       "HdXbbc9_Pm8                       18     82      3         0   \n",
       "fuUuUHOxabg                       15     55      0         0   \n",
       "J94JNxnN1Ic                        9     48      2         0   \n",
       "CHrjflVZydE                        9     47      0         0   \n",
       "TkUuBAmV0z0                        9     27      1         0   \n",
       "A3IPKxpQ0rg                        6     17      0         0   \n",
       "Us3KSnvAeDg                        6     25      2         0   \n",
       "HArfSIvYDH8                        6     27      0         0   \n",
       "0OeKagNWGiY                        6     30      0         0   \n",
       "PX2w5v4sFok                        5     10      0         0   \n",
       "Mci805nPzSU                        4     10      0         0   \n",
       "cb-qkCtBO24                        4     11      0         0   \n",
       "c8JbBzjG__s                        4     15      3         0   \n",
       "ycX8ps5Fuds                        4      8      1         0   \n",
       "Ene3KibtrVo                        3     20      1         0   \n",
       "GqlU2JNWtWI                        3     10      0         0   \n",
       "Xn9Ho7uncho                        3      5      0         0   \n",
       "87KugyYlCkE                        2      6      0         0   \n",
       "b6wR4L6mPU0                        2      6      0         0   \n",
       "wvah9pbFVuU                        2      8      0         0   \n",
       "HFzB1NjWbGI                        1      4      0         0   \n",
       "EbE9sPpUI3U                        1      6      0         0   \n",
       "SGItGM-YB-U                        1      3      0         0   \n",
       "SU-b2F8rSfQ                        1      2      0         0   \n",
       "np79opSQ4mo                        1      4      0         0   \n",
       "BjgS7TNSKBM                        1      1      0         0   \n",
       "G8oVJL6wz7k                        0      4      0         0   \n",
       "4owtbEze5L0                        0      1      0         0   \n",
       "AcEOh-az9lk                        0      2      0         0   \n",
       "\n",
       "             subscribersGained  subscribersLost style      game_name  \\\n",
       "video_id                                                               \n",
       "fuIgHicjm0k                  3                0     m  Demon's Souls   \n",
       "NFDigvjBh2A                  0                0     m  Demon's Souls   \n",
       "t9ATj-GOmlE                  1                0     m  Demon's Souls   \n",
       "GoalsdzIu4I                  0                0     m  Demon's Souls   \n",
       "yZZzufr9DzM                  0                0     m  Demon's Souls   \n",
       "NDgBaV-oLYg                  0                0     m  Demon's Souls   \n",
       "wIl1UMjjTKY                  0                0     m  Demon's Souls   \n",
       "HdXbbc9_Pm8                  0                0     m  Demon's Souls   \n",
       "fuUuUHOxabg                  0                0     m  Demon's Souls   \n",
       "J94JNxnN1Ic                  0                0     m  Demon's Souls   \n",
       "CHrjflVZydE                  0                0     m  Demon's Souls   \n",
       "TkUuBAmV0z0                  0                0     f  Demon's Souls   \n",
       "A3IPKxpQ0rg                  0                0     m  Demon's Souls   \n",
       "Us3KSnvAeDg                  0                0     m  Demon's Souls   \n",
       "HArfSIvYDH8                  0                0     m  Demon's Souls   \n",
       "0OeKagNWGiY                  0                0     m  Demon's Souls   \n",
       "PX2w5v4sFok                  0                0     f  Demon's Souls   \n",
       "Mci805nPzSU                  0                0     f  Demon's Souls   \n",
       "cb-qkCtBO24                  0                0     f  Demon's Souls   \n",
       "c8JbBzjG__s                  1                0     f  Demon's Souls   \n",
       "ycX8ps5Fuds                  0                0     m  Demon's Souls   \n",
       "Ene3KibtrVo                  0                0     f  Demon's Souls   \n",
       "GqlU2JNWtWI                  0                0     f  Demon's Souls   \n",
       "Xn9Ho7uncho                  0                0     f  Demon's Souls   \n",
       "87KugyYlCkE                  0                0     f  Demon's Souls   \n",
       "b6wR4L6mPU0                  0                0     f  Demon's Souls   \n",
       "wvah9pbFVuU                  0                0     f  Demon's Souls   \n",
       "HFzB1NjWbGI                  0                0     f  Demon's Souls   \n",
       "EbE9sPpUI3U                  0                0     f  Demon's Souls   \n",
       "SGItGM-YB-U                  0                0     m  Demon's Souls   \n",
       "SU-b2F8rSfQ                  0                0     f  Demon's Souls   \n",
       "np79opSQ4mo                  0                0     f  Demon's Souls   \n",
       "BjgS7TNSKBM                  0                0     f  Demon's Souls   \n",
       "G8oVJL6wz7k                  0                0     f  Demon's Souls   \n",
       "4owtbEze5L0                  0                0     f  Demon's Souls   \n",
       "AcEOh-az9lk                  0                0     m  Demon's Souls   \n",
       "\n",
       "                                         title      creator  view_count  \\\n",
       "video_id                                                                  \n",
       "fuIgHicjm0k                             Iconic   FeedMeACat        53.0   \n",
       "NFDigvjBh2A                    Back to reality  TheRoundWon        10.0   \n",
       "t9ATj-GOmlE                          I mean...   FeedMeACat       279.0   \n",
       "GoalsdzIu4I     Demon souls first play through   FeedMeACat        10.0   \n",
       "yZZzufr9DzM    So many things that can kill me  TheRoundWon        11.0   \n",
       "NDgBaV-oLYg      Square assumes direct control   FeedMeACat        12.0   \n",
       "wIl1UMjjTKY                        S U F F E R   FeedMeACat        28.0   \n",
       "HdXbbc9_Pm8               DIARRHEA EVERYWHERE!   PraetorJoe        28.0   \n",
       "fuUuUHOxabg                   Clipping G O L D   PraetorJoe        15.0   \n",
       "J94JNxnN1Ic                making good choices   FeedMeACat        14.0   \n",
       "CHrjflVZydE               THE RED DIARRHEA!!!!   PraetorJoe         8.0   \n",
       "TkUuBAmV0z0               DIARRHEA EVERYWHERE!   PraetorJoe        28.0   \n",
       "A3IPKxpQ0rg                          magic man   FeedMeACat        10.0   \n",
       "Us3KSnvAeDg                    2000 Souls Gone   PraetorJoe        12.0   \n",
       "HArfSIvYDH8     Demon souls first play through   FeedMeACat        10.0   \n",
       "0OeKagNWGiY                  For the SquareOne   PraetorJoe        10.0   \n",
       "PX2w5v4sFok    So many things that can kill me  TheRoundWon        11.0   \n",
       "Mci805nPzSU            The Round One is Brave!   PraetorJoe        46.0   \n",
       "cb-qkCtBO24      Square assumes direct control   FeedMeACat        12.0   \n",
       "c8JbBzjG__s                    Back to reality  TheRoundWon        10.0   \n",
       "ycX8ps5Fuds  Rolling's Supposed to Save You!!!   PraetorJoe        10.0   \n",
       "Ene3KibtrVo                          I mean...   FeedMeACat       279.0   \n",
       "GqlU2JNWtWI                        S U F F E R   FeedMeACat        28.0   \n",
       "Xn9Ho7uncho                    2000 Souls Gone   PraetorJoe        12.0   \n",
       "87KugyYlCkE                          magic man   FeedMeACat        10.0   \n",
       "b6wR4L6mPU0                making good choices   FeedMeACat        14.0   \n",
       "wvah9pbFVuU                   Clipping G O L D   PraetorJoe        15.0   \n",
       "HFzB1NjWbGI         Square doing square things   FeedMeACat        12.0   \n",
       "EbE9sPpUI3U                             Iconic   FeedMeACat        53.0   \n",
       "SGItGM-YB-U         Square doing square things   FeedMeACat        12.0   \n",
       "SU-b2F8rSfQ  Rolling's Supposed to Save You!!!   PraetorJoe        10.0   \n",
       "np79opSQ4mo                  For the SquareOne   PraetorJoe        10.0   \n",
       "BjgS7TNSKBM                        Opportunity  TheRoundWon         6.0   \n",
       "G8oVJL6wz7k               THE RED DIARRHEA!!!!   PraetorJoe         8.0   \n",
       "4owtbEze5L0     Demon souls first play through   FeedMeACat        10.0   \n",
       "AcEOh-az9lk                        Opportunity  TheRoundWon         6.0   \n",
       "\n",
       "             likes_ratio  \n",
       "video_id                  \n",
       "fuIgHicjm0k     0.944444  \n",
       "NFDigvjBh2A     0.761905  \n",
       "t9ATj-GOmlE     0.750000  \n",
       "GoalsdzIu4I     1.000000  \n",
       "yZZzufr9DzM     0.666667  \n",
       "NDgBaV-oLYg     1.000000  \n",
       "wIl1UMjjTKY     0.000000  \n",
       "HdXbbc9_Pm8     1.000000  \n",
       "fuUuUHOxabg     0.000000  \n",
       "J94JNxnN1Ic     1.000000  \n",
       "CHrjflVZydE     0.000000  \n",
       "TkUuBAmV0z0     1.000000  \n",
       "A3IPKxpQ0rg     0.000000  \n",
       "Us3KSnvAeDg     1.000000  \n",
       "HArfSIvYDH8     0.000000  \n",
       "0OeKagNWGiY     0.000000  \n",
       "PX2w5v4sFok     0.000000  \n",
       "Mci805nPzSU     0.000000  \n",
       "cb-qkCtBO24     0.000000  \n",
       "c8JbBzjG__s     1.000000  \n",
       "ycX8ps5Fuds     1.000000  \n",
       "Ene3KibtrVo     1.000000  \n",
       "GqlU2JNWtWI     0.000000  \n",
       "Xn9Ho7uncho     0.000000  \n",
       "87KugyYlCkE     0.000000  \n",
       "b6wR4L6mPU0     0.000000  \n",
       "wvah9pbFVuU     0.000000  \n",
       "HFzB1NjWbGI     0.000000  \n",
       "EbE9sPpUI3U     0.000000  \n",
       "SGItGM-YB-U     0.000000  \n",
       "SU-b2F8rSfQ     0.000000  \n",
       "np79opSQ4mo     0.000000  \n",
       "BjgS7TNSKBM     0.000000  \n",
       "G8oVJL6wz7k     0.000000  \n",
       "4owtbEze5L0     0.000000  \n",
       "AcEOh-az9lk     0.000000  "
      ]
     },
     "execution_count": 27,
     "metadata": {},
     "output_type": "execute_result"
    }
   ],
   "source": [
    "game_sub"
   ]
  },
  {
   "cell_type": "code",
   "execution_count": 23,
   "metadata": {},
   "outputs": [
    {
     "data": {
      "text/plain": [
       "{'TheRoundWon': '#0d0887',\n",
       " 'FeedMeACat': '#46039f',\n",
       " 'PraetorJoe': '#7201a8',\n",
       " 'thesquarewon': '#9c179e',\n",
       " 'skinnyman2121': '#bd3786',\n",
       " nan: '#d8576b'}"
      ]
     },
     "execution_count": 23,
     "metadata": {},
     "output_type": "execute_result"
    }
   ],
   "source": [
    "creators"
   ]
  },
  {
   "cell_type": "code",
   "execution_count": 26,
   "metadata": {},
   "outputs": [
    {
     "data": {
      "text/html": [
       "\n",
       "        <iframe\n",
       "            width=\"100%\"\n",
       "            height=\"650\"\n",
       "            src=\"http://127.0.0.1:8050/\"\n",
       "            frameborder=\"0\"\n",
       "            allowfullscreen\n",
       "            \n",
       "        ></iframe>\n",
       "        "
      ],
      "text/plain": [
       "<IPython.lib.display.IFrame at 0x7f93df583e20>"
      ]
     },
     "metadata": {},
     "output_type": "display_data"
    }
   ],
   "source": [
    "external_stylesheets = ['https://codepen.io/chriddyp/pen/bWLwgP.css']\n",
    "\n",
    "app = JupyterDash(__name__, external_stylesheets=external_stylesheets)\n",
    "\n",
    "# Create server variable with Flask server object for use with gunicorn\n",
    "server = app.server\n",
    "\n",
    "app.layout = html.Div([\n",
    "    html.Div([html.Label(\"Pick a Game to See Activity\"),\n",
    "    dcc.Dropdown(\n",
    "                id='crossfilter-xaxis-column',\n",
    "                options=[{'label': value, 'value': value} for key, value in games.items()],\n",
    "                value=\"Demon's Souls\"\n",
    "            ),\n",
    "\n",
    "    html.Div([dcc.Graph(id='graph')], style={'display': 'inline-block', 'padding': '0 20'})], \n",
    "    style = {'display': 'inline-block',  'margin': 'auto' }),\n",
    "    \n",
    "    \n",
    "\n",
    "\n",
    "]\n",
    ")\n",
    "\n",
    "@app.callback(\n",
    "    dash.dependencies.Output('graph', 'figure'),\n",
    "    [dash.dependencies.Input(\"crossfilter-xaxis-column\", \"value\")]\n",
    ")\n",
    "def update_figure(value):\n",
    "    fig = make_subplots(rows=1, cols=4, shared_yaxes=True, horizontal_spacing=0.07)\n",
    "    game_sub = clip_metrics_df.loc[clip_metrics_df['game_name'] == value]\n",
    "    mobile_sub = game_sub.loc[game_sub['style'] == 'm']\n",
    "    full_sub = game_sub.loc[game_sub['style'] == 'f']\n",
    "    # creators = mobile_sub['creator'].unique()\n",
    "    for creator, value in creators.items():\n",
    "        fig.add_trace(go.Bar(x=game_sub.loc[game_sub.creator == creator, 'view_count'].values, y=game_sub.loc[game_sub.creator == creator,'title'].values, orientation='h', name=creator, legendgroup=creator, marker={'color': [value]}), row=1, col=1)\n",
    "        fig.add_trace(go.Bar(x=mobile_sub.loc[mobile_sub.creator == creator, 'views'].values, y=mobile_sub.loc[mobile_sub.creator == creator, 'title'].values, orientation='h', name='Shorts', legendgroup = creator, showlegend=False, marker={'color': [value]} ), row=1, col=2)\n",
    "        fig.add_trace(go.Bar(x=full_sub.loc[full_sub.creator == creator, 'views'].values, y=full_sub.loc[full_sub.creator == creator, 'title'].values, orientation='h', name='Full Screen',  legendgroup = creator, showlegend=False, marker={'color': [value]} ), row=1, col=2)\n",
    "        fig.add_trace(go.Scatter(x=mobile_sub.loc[mobile_sub.creator == creator,'likes_ratio'].values, y=mobile_sub.loc[mobile_sub.creator == creator,'title'].values, mode='markers', name=\"Shorts\", legendgroup = creator, showlegend=False, marker={'color': [value], 'size': mobile_sub.loc[mobile_sub.creator == creator,'likes'].values}), row=1, col=3)\n",
    "        # fig.add_trace(go.Scatter(x=full_sub.loc[full_sub.creator == creator,'likes_ratio'].values, y=full_sub.loc[mobile_sub.creator == creator,'title'].values, mode='markers', name=\"Full Screen\", legendgroup = creator, showlegend=False, marker={'color': [value], 'size': mobile_sub.loc[mobile_sub.creator == creator,'likes'].values}), row=1, col=3)\n",
    "        \n",
    "        fig.add_trace(go.Bar(x=full_sub.loc[full_sub.creator == creator, 'likes_ratio'].values, y=full_sub.loc[full_sub.creator == creator,'title'].values, orientation='h', name=creator, legendgroup = creator, showlegend=False, marker={'color': [value]} ), row=1, col=4)\n",
    "    fig.update_layout(xaxis2 = {'range':[0,1], 'tickformat': \".0%\"}, xaxis4={'range':[0,1], 'tickformat': \".0%\"}, width=1000, height=1000, barmode='stack' )\n",
    "    return fig\n",
    "\n",
    "    # html.Div([html.Div([html.H1(\"Like Monitoring by Name\")],  {'width': '49%', 'display': 'inline-block', 'margin': '10px', 'float': 'right'}),\n",
    "        #     html.H1(\"Like Monitoring by Name\"),\n",
    "        #     dcc.Dropdown(\n",
    "        #         id='crossfilter-xaxis-column',\n",
    "        #         options=[{'label': value, 'value': value} for key, value in games.items()],\n",
    "        #         value=\"Demon's Souls\"\n",
    "        #     )\n",
    "        # ], style = {'width': '49%', 'display': 'inline-block', 'margin': '10px', 'float': 'right'})\n",
    "        # # ])\n",
    "        # # ])\n",
    "\n",
    "app.run_server(mode='inline')"
   ]
  },
  {
   "cell_type": "code",
   "execution_count": null,
   "metadata": {},
   "outputs": [],
   "source": [
    "def completeThumbnails(playlist, default_mode = 'default'):\n",
    "    default = playlist['snippet']['thumbnails'][default_mode]\n",
    "    checks = ['default', 'medium', 'high', 'standard']\n",
    "    for chck in checks:\n",
    "        if not bool(playlist['snippet']['thumbnails'].get(chck)):\n",
    "            playlist['snippet']['thumbnails'][chck] = default\n",
    "    return playlist"
   ]
  },
  {
   "cell_type": "code",
   "execution_count": null,
   "metadata": {},
   "outputs": [],
   "source": [
    "playlists = service.playlists().list(part='id,snippet,status', channelId=os.environ['YT_CHANNEL_ID']).execute()\n",
    "nextPage = playlists['nextPageToken']\n",
    "while nextPage != None:\n",
    "    seedPlaylist = service.playlists().list(part='id,snippet,status', channelId=os.environ['YT_CHANNEL_ID'], pageToken = nextPage).execute()\n",
    "    playlists['items'] = playlists['items'] + seedPlaylist['items']\n",
    "    if bool(seedPlaylist.get('nextPageToken')):\n",
    "        nextPage = seedPlaylist['nextPageToken']\n",
    "    else:\n",
    "        nextPage = None\n",
    "\n",
    "mapped_as_full_counts = {}\n",
    "mapped_full_vids = {}\n",
    "with Session(engine) as session:\n",
    "    for title in session.query(Clip_Tracker.title).where(Clip_Tracker.published == PublishingStatus.f).order_by(Clip_Tracker.view_count.desc()).all():\n",
    "        mapped_full_vids[title[0]] = []\n",
    "        mapped_as_full_counts[title[0]] = 0\n",
    "shorts_pattern = f\"[sS]hort\" # check for YT short videos\n",
    "with Session(engine) as session: # initialize session to sql using context manager\n",
    "    for playlist in playlists['items']: # loop through the differen playlists\n",
    "        playlist = completeThumbnails(playlist)\n",
    "        for key, thumbnail in playlist['snippet']['thumbnails'].items(): # first ensure that thumbnails are mapped in thumbnail table\n",
    "            if not bool(session.query(Thumbnails.id).where(Thumbnails.asset == thumbnail['url']).first()):\n",
    "                session.add(Thumbnails(asset=thumbnail['url'], width = thumbnail['width'], height=thumbnail['height']))\n",
    "                session.commit()\n",
    "            # map the thumbnail table ids to the playlist dictionary\n",
    "            playlist['snippet']['thumbnails'][key]['id'] = session.query(Thumbnails.id).where(Thumbnails.asset == thumbnail['url']).first()[0]\n",
    "\n",
    "        # if the playlist id is not in the table, add it\n",
    "        if not bool(session.query(PlayList_yt).where(PlayList_yt.id == playlist['id']).first()):\n",
    "            session.add(PlayList_yt(id=playlist['id'], title=playlist['snippet']['title'], \n",
    "            tb_default = playlist['snippet']['thumbnails']['default']['id'], \n",
    "            tb_medium = playlist['snippet']['thumbnails']['medium']['id'],\n",
    "            tb_high = playlist['snippet']['thumbnails']['high']['id'], \n",
    "            tb_standard = playlist['snippet']['thumbnails']['standard']['id']\n",
    "            ))\n",
    "            session.commit()\n",
    "\n",
    "        # else, update the table with the current values if it's already in the table - this is to capture if thumbnails or titles have changed\n",
    "        else:\n",
    "            session.execute(\n",
    "                update(PlayList_yt).where(PlayList_yt.id == playlist['id']).values(dict(title=playlist['snippet']['title'], \n",
    "            tb_default = playlist['snippet']['thumbnails']['default']['id'], \n",
    "            tb_medium = playlist['snippet']['thumbnails']['medium']['id'],\n",
    "            tb_high = playlist['snippet']['thumbnails']['high']['id'], \n",
    "            tb_standard = playlist['snippet']['thumbnails']['standard']['id']))\n",
    "            )\n",
    "            session.commit()\n",
    "        if \"Shorts\" in playlist['snippet']['title']:\n",
    "            style = VideoStyle.m\n",
    "        else:\n",
    "            style = VideoStyle.f\n",
    "        # next find all the videos in each playlist\n",
    "        playlist_Items = service.playlistItems().list(part=\"id,snippet\", playlistId=playlist['id']).execute()\n",
    "            \n",
    "        nextPage = playlist_Items['nextPageToken']\n",
    "        while nextPage != None:\n",
    "            seed_list = service.playlistItems().list(part=\"id,snippet\", playlistId=playlist['id'], pageToken = nextPage).execute()\n",
    "            nextPage = seed_list['nextPageToken']\n",
    "            playlist_Items['items'] = playlist_Items['items'] + seed_list['items']\n",
    "        for video in playlist_Items['items']:\n",
    "            try:\n",
    "                video = completeThumbnails(video)\n",
    "                title = video['snippet']['title']\n",
    "                description = video['snippet']['description']\n",
    "                    # check whether the title or description have the word \"short\" in it\n",
    "                # combine the tags into a  single string due to datatype limitations in database - leave as array if your database can store arrays\n",
    "                tags = \" | \".join(service.videos().list(part='snippet,contentDetails', id=video['snippet']['resourceId']['videoId']).execute()['items'][0]['snippet']['tags'])\n",
    "                \n",
    "\n",
    "                # to capture titles with title conventon used in yt_videoupload.py\n",
    "                title_components = title.split(\"|\")\n",
    "                if len(title_components) > 1:\n",
    "                    titleName = title_components[-1].strip()\n",
    "                \n",
    "                else: # incase title does not follow current convention\n",
    "                    titleName = title\n",
    "                \n",
    "                try:\n",
    "                    mapped_as_full_counts[titleName] += 1\n",
    "                    mapped_full_vids[titleName].append(style)\n",
    "                except:\n",
    "                    pass\n",
    "\n",
    "            \n",
    "                # find clip and original filename in clips database\n",
    "                for clip_id, filename in session.query(Clip_Tracker.id, Clip_Tracker.video_name).where(Clip_Tracker.title == titleName).all():\n",
    "\n",
    "                    if not bool(clip_id):\n",
    "                        print(title)\n",
    "                    else:\n",
    "                        # loop through the thumbnail images to ensure they are in the thumbnail database\n",
    "                        for key, thumbnail in video['snippet']['thumbnails'].items():\n",
    "                            if not bool(session.query(Thumbnails.id).where(Thumbnails.asset == thumbnail['url']).first()):\n",
    "                                session.add(Thumbnails(asset=thumbnail['url'], width = thumbnail['width'], height=thumbnail['height']))\n",
    "                                session.commit()\n",
    "                            video['snippet']['thumbnails'][key]['id'] = session.query(Thumbnails.id).where(Thumbnails.asset == thumbnail['url']).first()[0]\n",
    "                        # VideoID is not in the Video_yt table - add it!    \n",
    "                        if not bool(session.query(Video_yt).where(Video_yt.id == video['snippet']['resourceId']['videoId']).first()):\n",
    "                            session.add( Video_yt(id = video['snippet']['resourceId']['videoId'], \n",
    "                            clip_id=clip_id, \n",
    "                            title = title,\n",
    "                            filename = filename,\n",
    "                            style = style,\n",
    "                            description = description,\n",
    "                            tb_default = video['snippet']['thumbnails']['default']['id'], \n",
    "                            tb_medium = video['snippet']['thumbnails']['medium']['id'],\n",
    "                            tb_high = video['snippet']['thumbnails']['high']['id'], \n",
    "                            tb_standard = video['snippet']['thumbnails']['standard']['id'],\n",
    "                            tags = tags\n",
    "                            \n",
    "                            )\n",
    "                            )\n",
    "                            session.commit()\n",
    "                        # If it's already in there, update our record of current descriptiption / thumbnails.\n",
    "                        else:\n",
    "                            if style == VideoStyle.m:\n",
    "                                print(video)\n",
    "                            session.execute(\n",
    "                                update(Video_yt).where(Video_yt.id == video['snippet']['resourceId']['videoId']).values(\n",
    "                                    dict(\n",
    "                                        clip_id=clip_id, \n",
    "                                        title = title,\n",
    "                                        filename = filename,\n",
    "                                        style = style,\n",
    "                                        description = description,\n",
    "                                        tb_default = video['snippet']['thumbnails']['default']['id'], \n",
    "                                        tb_medium = video['snippet']['thumbnails']['medium']['id'],\n",
    "                                        tb_high = video['snippet']['thumbnails']['high']['id'], \n",
    "                                        tb_standard = video['snippet']['thumbnails']['standard']['id'],\n",
    "                                        tags = tags\n",
    "                                    )\n",
    "                                )\n",
    "                                )\n",
    "                            session.commit()\n",
    "                        if not bool(session.query(yt_vid_pl_mapper).where(yt_vid_pl_mapper.c.yt_video_id == video['snippet']['resourceId']['videoId']).where(yt_vid_pl_mapper.c.yt_playlist_id ==playlist['id']).first()):\n",
    "                            session.execute(insert(yt_vid_pl_mapper).values({\"yt_playlist_id\": playlist['id'], 'yt_video_id': video['snippet']['resourceId']['videoId']}))\n",
    "            except Exception as e:\n",
    "                print(\"failed\", e)"
   ]
  },
  {
   "cell_type": "code",
   "execution_count": null,
   "metadata": {},
   "outputs": [],
   "source": [
    "playlist_Items['items'][0]['snippet']"
   ]
  },
  {
   "cell_type": "code",
   "execution_count": null,
   "metadata": {},
   "outputs": [],
   "source": [
    "with Session(engine)as session:\n",
    "    for clip_id, game_title, clip_creator, console, clip_title, video_name, clip_url, publishing_status in session.query(Clip_Tracker.id, Game_Meta.game_name, Clip_Tracker.creator_name, Game_Meta.platform, Clip_Tracker.title, Clip_Tracker.video_name, Clip_Tracker.url, Clip_Tracker.published).select_from(join(Game_Meta,Clip_Tracker)).where(and_(Clip_Tracker.published != PublishingStatus.f,  Clip_Tracker.published != None, Clip_Tracker.mobiles_videos_processed == True)).order_by(Clip_Tracker.view_count.desc()).all():\n",
    "        print(clip_id)"
   ]
  },
  {
   "cell_type": "code",
   "execution_count": null,
   "metadata": {},
   "outputs": [],
   "source": [
    "playlists = service.playlists().list(part='id,snippet,status', channelId=os.environ['YT_CHANNEL_ID']).execute()\n",
    "nextPage = playlists['nextPageToken']\n",
    "while nextPage != None:\n",
    "    seedPlaylist = service.playlists().list(part='id,snippet,status', channelId=os.environ['YT_CHANNEL_ID'], pageToken = nextPage).execute()\n",
    "    playlists['items'] = playlists['items'] + seedPlaylist['items']\n",
    "    if bool(seedPlaylist.get('nextPageToken')):\n",
    "        nextPage = seedPlaylist['nextPageToken']\n",
    "    else:\n",
    "        nextPage = None\n",
    "all_items = {}\n",
    "for playlist in playlists['items']: \n",
    "    playlist_Items = service.playlistItems().list(part=\"id,snippet\", playlistId=playlist['id']).execute()\n",
    "    all_items[playlist['id']] = {'playlist_items': None, \"videos\": []}\n",
    "    all_items[playlist['id']]['playlist_items'] = playlist_Items\n",
    "    if bool(playlist_Items.get('nextPageToken')):\n",
    "        nextPage = playlist_Items['nextPageToken']\n",
    "    else:\n",
    "        nextPage = None\n",
    "    while nextPage != None:\n",
    "        seed_list = service.playlistItems().list(part=\"id,snippet\", playlistId=playlist['id'], pageToken = nextPage).execute()\n",
    "        if bool(seed_list.get('nextPageToken')):\n",
    "            nextPage = seed_list['nextPageToken']\n",
    "        else:\n",
    "            nextPage = None\n",
    "        playlist_Items['items'] = playlist_Items['items'] + seed_list['items']\n",
    "        for video in playlist_Items['items']:\n",
    "            all_items[playlist['id']]['videos'].append(service.videos().list(part='snippet,contentDetails', id=video['snippet']['resourceId']['videoId']).execute())"
   ]
  },
  {
   "cell_type": "code",
   "execution_count": null,
   "metadata": {},
   "outputs": [],
   "source": [
    "for key, value in all_items.items():\n",
    "    for value2 in value['videos']:\n",
    "        if bool(value2['items']):\n",
    "            if value2['items'][0]['kind'] != 'youtube#video':\n",
    "                # if bool()\n",
    "                print(value2)"
   ]
  },
  {
   "cell_type": "code",
   "execution_count": null,
   "metadata": {},
   "outputs": [],
   "source": [
    "value2['items']"
   ]
  },
  {
   "cell_type": "code",
   "execution_count": null,
   "metadata": {},
   "outputs": [],
   "source": [
    "with Session(engine) as session:\n",
    "    print(session.query(Video_yt.title, Video_yt.))"
   ]
  },
  {
   "cell_type": "code",
   "execution_count": null,
   "metadata": {},
   "outputs": [],
   "source": [
    "playlist_Items['items']"
   ]
  },
  {
   "cell_type": "code",
   "execution_count": null,
   "metadata": {},
   "outputs": [],
   "source": [
    "with Session(engine) as session:\n",
    "    for clip_id in session.query(Clip_Tracker.id).where(Clip_Tracker.published == PublishingStatus.f).all():\n",
    "        rows = session.query(Video_yt.title, Video_yt.style).where(Video_yt.clip_id == clip_id[0]).all()\n",
    "        if len(rows) < 2 and bool(rows):\n",
    "            session.query(Clip_Tracker).where(Clip_Tracker.id == clip_id[0]).update(values = {'published': invers_mapper[rows[0][1]]})\n",
    "            session.commit()\n",
    "\n",
    "            print(rows[0])"
   ]
  },
  {
   "cell_type": "code",
   "execution_count": null,
   "metadata": {},
   "outputs": [],
   "source": [
    "rows[0]"
   ]
  }
 ],
 "metadata": {
  "interpreter": {
   "hash": "5bd830a4a01eed425dbc1d3357b25e6afb16c0ded1e32522946a1679eb0b6729"
  },
  "kernelspec": {
   "display_name": "Python 3.8.8 ('twitch-youtube': venv)",
   "language": "python",
   "name": "python3"
  },
  "language_info": {
   "codemirror_mode": {
    "name": "ipython",
    "version": 3
   },
   "file_extension": ".py",
   "mimetype": "text/x-python",
   "name": "python",
   "nbconvert_exporter": "python",
   "pygments_lexer": "ipython3",
   "version": "3.8.8"
  },
  "orig_nbformat": 4
 },
 "nbformat": 4,
 "nbformat_minor": 2
}
