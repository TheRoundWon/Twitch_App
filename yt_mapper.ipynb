{
 "cells": [
  {
   "cell_type": "code",
   "execution_count": 1,
   "metadata": {},
   "outputs": [],
   "source": [
    "#Import necessary documents\n",
    "import argparse\n",
    "import http.client\n",
    "# import httplib2\n",
    "import os\n",
    "import random\n",
    "import time\n",
    "import datetime\n",
    "from datetime import datetime, timedelta\n",
    "from Google import *\n",
    "import os\n",
    "from dotenv import load_dotenv\n",
    "from sqlalchemy import *\n",
    "import datetime\n",
    "import re\n",
    "from StreamMaster import *\n",
    "from _utils import *\n",
    "# Connecting to a rasberry pi sql data base, mysql was in this instance\n",
    "\n",
    "clips_folder = os.environ['CLIPS_FOLDER']\n",
    "mobile_folder = os.environ['MOBILE_FOLDER']\n",
    "ml_folder = os.environ['ML_FOLDER']\n",
    "assets = os.environ['ASSETS']\n",
    "\n",
    "CLIENT_SECRET_FILE = 'client_secrets.json'\n",
    "API_NAME = 'youtube'\n",
    "API_VERSION = 'v3'\n",
    "# recommend pulling as much access as possible since the Create_Service function will create a pickle token of your authentication allow single authentication for extended period.\n",
    "SCOPES = [\"https://www.googleapis.com/auth/youtube.upload\", 'https://www.googleapis.com/auth/youtube']\n"
   ]
  },
  {
   "cell_type": "code",
   "execution_count": 2,
   "metadata": {},
   "outputs": [
    {
     "name": "stdout",
     "output_type": "stream",
     "text": [
      "client_secrets.json-youtube-v3-(['https://www.googleapis.com/auth/youtube.upload', 'https://www.googleapis.com/auth/youtube'],)\n",
      "['https://www.googleapis.com/auth/youtube.upload', 'https://www.googleapis.com/auth/youtube']\n",
      "youtube service created successfully\n"
     ]
    }
   ],
   "source": [
    "service = Create_Service(CLIENT_SECRET_FILE, API_NAME, API_VERSION, SCOPES)\n",
    "\n",
    "def completeThumbnails(playlist, default_mode = 'default'):\n",
    "    default = playlist['snippet']['thumbnails'][default_mode]\n",
    "    checks = ['default', 'medium', 'high', 'standard']\n",
    "    for chck in checks:\n",
    "        if not bool(playlist['snippet']['thumbnails'].get(chck)):\n",
    "            playlist['snippet']['thumbnails'][chck] = default\n",
    "    return playlist"
   ]
  },
  {
   "cell_type": "code",
   "execution_count": 2,
   "metadata": {},
   "outputs": [],
   "source": [
    "# Key Connection Variables\n",
    "sql_engine = create_engine(f\"mysql+mysqlconnector://{os.environ['USER_NAME']}:{os.environ['PASSWORD']}@{os.environ['PI']}/{os.environ['MAIN_DB']}\" ) # Rasberry Pi engine\n",
    "# lite_engine = create_engine(f\"sqlite:///punk-records.db\" )\n",
    "\n",
    "twitch = Twitch(os.environ['TWITCH_APP_ID'], os.environ['TWITCH_APP_SECRET'])"
   ]
  },
  {
   "cell_type": "code",
   "execution_count": 13,
   "metadata": {},
   "outputs": [
    {
     "ename": "TypeError",
     "evalue": "cannot unpack non-iterable NoneType object",
     "output_type": "error",
     "traceback": [
      "\u001b[0;31m---------------------------------------------------------------------------\u001b[0m",
      "\u001b[0;31mTypeError\u001b[0m                                 Traceback (most recent call last)",
      "Cell \u001b[0;32mIn[13], line 17\u001b[0m\n\u001b[1;32m     15\u001b[0m title_files \u001b[39m=\u001b[39m []\n\u001b[1;32m     16\u001b[0m \u001b[39mwith\u001b[39;00m Session(sql_engine) \u001b[39mas\u001b[39;00m session:\n\u001b[0;32m---> 17\u001b[0m     vid_id, strt, end \u001b[39m=\u001b[39m session\u001b[39m.\u001b[39mquery(TwitchVideos\u001b[39m.\u001b[39mid, strtString, endString)\u001b[39m.\u001b[39mwhere(strtString\u001b[39m.\u001b[39milike(\u001b[39m'\u001b[39m\u001b[39m%\u001b[39m\u001b[39mBrudvaak\u001b[39m\u001b[39m%\u001b[39m\u001b[39m'\u001b[39m))\u001b[39m.\u001b[39mwhere(endString\u001b[39m.\u001b[39milike(\u001b[39m'\u001b[39m\u001b[39m%F\u001b[39;00m\u001b[39mriday Frenzy\u001b[39m\u001b[39m'\u001b[39m))\u001b[39m.\u001b[39mfirst()\n",
      "\u001b[0;31mTypeError\u001b[0m: cannot unpack non-iterable NoneType object"
     ]
    }
   ],
   "source": [
    "strtString = func.substring_index(TwitchVideos.title, \"|\", 1)\n",
    "endString = func.substring_index(TwitchVideos.title, \"|\", -1)\n",
    "input_highlights = os.environ['IN_PROCESS_HIGHLIGHTS']\n",
    "output_highlights = os.environ['PROCESSED_HIGHLIGHTS']\n",
    "midString = func.trim(func.substring(\n",
    "    TwitchVideos.title,\n",
    "    func.length(strtString)+2,\n",
    "    func.length(TwitchVideos.title) - func.length(strtString) - func.length(endString)-2\n",
    "))\n",
    "\n",
    "highlightMode = func.substring_index(midString, ' ', 1)\n",
    "highlightModeIx = func.substring_index(midString, ' ', -1)\n",
    "\n",
    "\n",
    "title_files = []\n",
    "with Session(sql_engine) as session:\n",
    "    vid_id, strt, end = session.query(TwitchVideos.id, strtString, endString).where(strtString.ilike('%Brudvaak%')).where(endString.ilike('%Friday Frenzy')).first()\n",
    "    # session.query(TwitchVideos).where(TwitchVideos.id == vid_id).delete()\n",
    "    # session.commit()"
   ]
  },
  {
   "cell_type": "code",
   "execution_count": 11,
   "metadata": {},
   "outputs": [
    {
     "data": {
      "text/plain": [
       "'1794266158'"
      ]
     },
     "execution_count": 11,
     "metadata": {},
     "output_type": "execute_result"
    }
   ],
   "source": [
    "vid_id"
   ]
  },
  {
   "cell_type": "code",
   "execution_count": null,
   "metadata": {},
   "outputs": [],
   "source": [
    "def check_processed_highlights()"
   ]
  },
  {
   "cell_type": "code",
   "execution_count": null,
   "metadata": {},
   "outputs": [],
   "source": [
    "strtString = func.substring_index(TwitchVideos.title, \"|\", 1)\n",
    "endString = func.substring_index(TwitchVideos.title, \"|\", -1)\n",
    "input_highlights = os.environ['IN_PROCESS_HIGHLIGHTS']\n",
    "output_highlights = os.environ['PROCESSED_HIGHLIGHTS']\n",
    "midString = func.trim(func.substring(\n",
    "    TwitchVideos.title,\n",
    "    func.length(strtString)+2,\n",
    "    func.length(TwitchVideos.title) - func.length(strtString) - func.length(endString)-2\n",
    "))\n",
    "\n",
    "highlightMode = func.substring_index(midString, ' ', 1)\n",
    "highlightModeIx = func.substring_index(midString, ' ', -1)\n",
    "\n",
    "modes = ['MISSION', 'BOSS', 'FAIL', 'BLOOPER']\n",
    "# clear_tempfiles()\n",
    "with Session(sql_engine) as session:\n",
    "    titles = [ix[0]for ix in session.query(func.distinct(endString)).where(TwitchVideos.video_type == TwitchVideoStyle.HIGHLIGHT).all()]\n",
    "with Session(sql_engine) as session:\n",
    "    for title in titles:\n",
    "        clear_tempfiles()\n",
    "        title_files = []\n",
    "        a1 = ffmpeg.input(\"title_holder.mp4\").audio\n",
    "        ffmpeg.concat(add_transition(create_title(title, 'title_holder.mp4')), a1, v=1, a=1).output(f\"tmp_folder/{title}_ts.mp4\", enc_time_base='1/60').run()\n",
    "        title_files.append(f\"'/Users/avikchowdhury/Programming/Twitch_App/tmp_folder/{title}_ts.mp4'\")\n",
    "        for mode in modes:\n",
    "            if bool(session.query(strtString, TwitchVideos.video_name, endString).where(TwitchVideos.video_type == TwitchVideoStyle.HIGHLIGHT).order_by(endString, highlightModeIx).where(highlightMode == mode).where(endString == title).all()):\n",
    "                ffmpeg.concat(add_transition(create_title(mode+ \" Highlights\", 'title_holder.mp4')), a1, v=1, a=1).output(f\"tmp_folder/{mode}_ts.mp4\", enc_time_base='1/60').run()\n",
    "                title_files.append(f\"'/Users/avikchowdhury/Programming/Twitch_App/tmp_folder/{mode}_ts.mp4'\")\n",
    "                for bossName, fil, end in  session.query(strtString, TwitchVideos.video_name, endString).where(TwitchVideos.video_type == TwitchVideoStyle.HIGHLIGHT).order_by(endString, highlightModeIx).where(highlightMode == mode).where(endString == title).all():\n",
    "                    a1 = ffmpeg.input(\"title_holder.mp4\").audio\n",
    "                    ffmpeg.concat(add_transition(create_title(bossName, 'title_holder.mp4')), a1, v=1, a=1).output(f\"tmp_folder/{bossName}_ts.mp4\", enc_time_base='1/60').run()\n",
    "                    title_files.append(f\"'/Users/avikchowdhury/Programming/Twitch_App/tmp_folder/{bossName}_ts.mp4'\")\n",
    "                    title_files.append(f\"'{os.path.join(input_highlights, fil)}'\")\n",
    "        with open('concat.txt', 'w') as f:\n",
    "            f.writelines([('file %s\\n' % input_path) for input_path in title_files])\n",
    "        ffmpeg.input('concat.txt', format='concat', safe=0).output(os.path.join(output_highlights, f'{title}.mp4'), c='copy', r=60).run()\n"
   ]
  },
  {
   "cell_type": "code",
   "execution_count": null,
   "metadata": {},
   "outputs": [],
   "source": []
  }
 ],
 "metadata": {
  "kernelspec": {
   "display_name": "base",
   "language": "python",
   "name": "python3"
  },
  "language_info": {
   "codemirror_mode": {
    "name": "ipython",
    "version": 3
   },
   "file_extension": ".py",
   "mimetype": "text/x-python",
   "name": "python",
   "nbconvert_exporter": "python",
   "pygments_lexer": "ipython3",
   "version": "3.9.7"
  },
  "orig_nbformat": 4
 },
 "nbformat": 4,
 "nbformat_minor": 2
}
